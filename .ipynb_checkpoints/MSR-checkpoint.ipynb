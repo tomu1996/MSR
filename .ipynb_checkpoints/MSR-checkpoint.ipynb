{
 "cells": [
  {
   "cell_type": "code",
   "execution_count": 1,
   "metadata": {},
   "outputs": [],
   "source": [
    "import pandas as pd\n",
    "import numpy as np\n",
    "from collections import Counter\n",
    "from sklearn.feature_extraction.text import TfidfVectorizer\n",
    "from sklearn.feature_extraction import DictVectorizer\n",
    "from sklearn.feature_extraction.text import CountVectorizer\n",
    "from sklearn.feature_extraction.text import TfidfTransformer"
   ]
  },
  {
   "cell_type": "code",
   "execution_count": 2,
   "metadata": {},
   "outputs": [
    {
     "name": "stdout",
     "output_type": "stream",
     "text": [
      "<class 'pandas.core.frame.DataFrame'>\n",
      "RangeIndex: 200 entries, 0 to 199\n",
      "Data columns (total 24 columns):\n",
      " #   Column          Non-Null Count  Dtype  \n",
      "---  ------          --------------  -----  \n",
      " 0   Cites           200 non-null    int64  \n",
      " 1   Authors         200 non-null    object \n",
      " 2   Title           200 non-null    object \n",
      " 3   Year            200 non-null    int64  \n",
      " 4   Source          183 non-null    object \n",
      " 5   Publisher       200 non-null    object \n",
      " 6   ArticleURL      200 non-null    object \n",
      " 7   CitesURL        200 non-null    object \n",
      " 8   GSRank          200 non-null    int64  \n",
      " 9   QueryDate       200 non-null    object \n",
      " 10  Type            37 non-null     object \n",
      " 11  DOI             0 non-null      float64\n",
      " 12  ISSN            0 non-null      float64\n",
      " 13  CitationURL     0 non-null      float64\n",
      " 14  Volume          0 non-null      float64\n",
      " 15  Issue           0 non-null      float64\n",
      " 16  StartPage       0 non-null      float64\n",
      " 17  EndPage         0 non-null      float64\n",
      " 18  ECC             200 non-null    int64  \n",
      " 19  CitesPerYear    200 non-null    float64\n",
      " 20  CitesPerAuthor  200 non-null    int64  \n",
      " 21  AuthorCount     200 non-null    int64  \n",
      " 22  Age             200 non-null    int64  \n",
      " 23  Abstract        200 non-null    object \n",
      "dtypes: float64(8), int64(7), object(9)\n",
      "memory usage: 37.6+ KB\n"
     ]
    }
   ],
   "source": [
    "data = pd.read_csv('data/PoPCites2.csv')\n",
    "#data = pd.read_csv('data/PoPCites2.csv',usecols = '')\n",
    "data.info()"
   ]
  },
  {
   "cell_type": "code",
   "execution_count": 3,
   "metadata": {},
   "outputs": [],
   "source": [
    "#Funktionen\n",
    "def Count(data,count):\n",
    "    cnt = Counter()\n",
    "    for item in data: \n",
    "        cnt[item] += 1\n",
    "    return cnt.most_common(count)\n",
    "\n",
    "def CountWords(data,count):\n",
    "    cnt = Counter()\n",
    "    #Pandas.Series durchlaufen um die Title zu bekommen\n",
    "    for index, value in data.items():\n",
    "        words = value.split(' ')\n",
    "        #Title in Wörter teilen\n",
    "        for word in words:\n",
    "            #Aussortieren der Stopwords\n",
    "            if not word in stopwords:\n",
    "                #Für bestimmte Begriffe\n",
    "                #for word in wordlist:\n",
    "                cnt[word] += 1\n",
    "    return cnt.most_common(count)\n",
    "\n",
    "def CountToTfidf(counts):\n",
    "    transformer = TfidfTransformer(smooth_idf=False)\n",
    "    \n",
    "    #Gewichtet die CountMatrix\n",
    "    tfidf = transformer.fit_transform(counts)\n",
    "\n",
    "    #Gibt Array zurück\n",
    "    return tfidf.toarray()\n",
    "\n",
    "\n",
    "def TfidfVector(data):\n",
    "    vectorizer = TfidfVectorizer()\n",
    "    X = vectorizer.fit_transform(data)\n",
    "    print(vectorizer.get_feature_names())\n",
    "    print(X.toarray())\n",
    "    \n",
    "def CountVector(data):\n",
    "    vectorizer = CountVectorizer()\n",
    "    X = vectorizer.fit_transform(data)\n",
    "    print(vectorizer.get_feature_names())\n",
    "    return X.toarray()\n",
    "    \n",
    "def TitleFilteredByYear(data,year):\n",
    "    databyyear = data['Title'].loc[data['Year'] == year]\n",
    "    return databyyear\n",
    "\n",
    "def CountWordsByYear(data,year):\n",
    "    #d = Pandas.Series\n",
    "    d = TitleFilteredByYear(data,year)\n",
    "    l = CountWords(d,30)\n",
    "    #Gibt List zurück\n",
    "    return l\n",
    "    \n",
    "    \n",
    "    \n",
    "    \n"
   ]
  },
  {
   "cell_type": "code",
   "execution_count": 4,
   "metadata": {},
   "outputs": [],
   "source": [
    "#Variablen erstellen\n",
    "title = data['Title']\n",
    "publisher = data['Publisher']\n",
    "year = data['Year']\n",
    "\n",
    "wordlist = [\n",
    "    'DevOps',\n",
    "    'engineering',\n",
    "    'Software',\n",
    "    'Engineering',\n",
    "    'software'\n",
    "    \n",
    "]\n",
    "stopwords =[\n",
    "    'this',\n",
    "    'is ',\n",
    "    'none',\n",
    "    'in',\n",
    "    'of',\n",
    "    'A',\n",
    "    'a',\n",
    "    'and',\n",
    "    'for',\n",
    "    'with',\n",
    "    'on',\n",
    "    'the',\n",
    "    'to',\n",
    "    'an'\n",
    "]\n"
   ]
  },
  {
   "cell_type": "code",
   "execution_count": 5,
   "metadata": {},
   "outputs": [],
   "source": [
    "#Zählen der Publisher\n",
    "lst = Count(publisher,10)\n",
    "#lst\n",
    "\n",
    "#for x in data:\n",
    " #   print(x)"
   ]
  },
  {
   "cell_type": "code",
   "execution_count": 6,
   "metadata": {},
   "outputs": [
    {
     "name": "stdout",
     "output_type": "stream",
     "text": [
      "[54, 52, 11, 7, 6, 5, 4, 4, 4, 4, 4, 4, 3, 3, 3, 3, 3, 3, 3, 3, 3, 3, 3, 3, 2, 2, 2, 2, 2, 2]\n"
     ]
    },
    {
     "data": {
      "text/plain": [
       "[('software', 54),\n",
       " ('engineering', 52),\n",
       " ('Software', 11),\n",
       " ('engineering:', 7),\n",
       " ('systematic', 6),\n",
       " ('analysis', 5),\n",
       " ('Engineering', 4),\n",
       " ('from', 4),\n",
       " ('research', 4),\n",
       " ('study', 4),\n",
       " ('Teaching', 4),\n",
       " ('data', 4),\n",
       " ('methods', 3),\n",
       " ('empirical', 3),\n",
       " ('challenges', 3),\n",
       " ('industry', 3),\n",
       " ('experience', 3),\n",
       " ('Applying', 3),\n",
       " ('using', 3),\n",
       " ('education', 3),\n",
       " ('mapping', 3),\n",
       " ('course', 3),\n",
       " ('de', 3),\n",
       " ('based', 3),\n",
       " ('use', 2),\n",
       " ('directions', 2),\n",
       " ('What', 2),\n",
       " ('capstone', 2),\n",
       " ('The', 2),\n",
       " ('case', 2)]"
      ]
     },
     "execution_count": 6,
     "metadata": {},
     "output_type": "execute_result"
    }
   ],
   "source": [
    "l1 = CountWordsByYear(data,2017)\n",
    "a = []\n",
    "for letter, count in l1:\n",
    "    a.append(count)\n",
    "print(a)\n",
    "l1"
   ]
  },
  {
   "cell_type": "code",
   "execution_count": 7,
   "metadata": {},
   "outputs": [
    {
     "data": {
      "text/plain": [
       "[('software', 70),\n",
       " ('engineering', 56),\n",
       " ('research', 10),\n",
       " ('engineering:', 10),\n",
       " ('Software', 9),\n",
       " ('The', 6),\n",
       " ('learning', 6),\n",
       " ('using', 6),\n",
       " ('systematic', 5),\n",
       " ('study', 5),\n",
       " ('Engineering', 5),\n",
       " ('search-based', 5),\n",
       " ('from', 5),\n",
       " ('data', 5),\n",
       " ('continuous', 5),\n",
       " ('On', 4),\n",
       " ('based', 4),\n",
       " ('mapping', 4),\n",
       " ('An', 4),\n",
       " ('knowledge', 4),\n",
       " ('project', 4),\n",
       " ('tools', 3),\n",
       " ('education', 3),\n",
       " ('experience', 3),\n",
       " ('approaches', 3),\n",
       " ('Towards', 3),\n",
       " ('model', 3),\n",
       " ('practice', 3),\n",
       " ('empirical', 3),\n",
       " ('What', 3)]"
      ]
     },
     "execution_count": 7,
     "metadata": {},
     "output_type": "execute_result"
    }
   ],
   "source": [
    "l2 = CountWordsByYear(data,2018)\n",
    "l2"
   ]
  },
  {
   "cell_type": "code",
   "execution_count": 8,
   "metadata": {},
   "outputs": [
    {
     "data": {
      "text/plain": [
       "[('software', 40),\n",
       " ('engineering', 36),\n",
       " ('study', 9),\n",
       " ('Software', 8),\n",
       " ('systematic', 8),\n",
       " ('mapping', 6),\n",
       " ('engineering:', 5),\n",
       " ('literature', 4),\n",
       " ('case', 3),\n",
       " ('analysis', 3),\n",
       " ('studies', 3),\n",
       " ('education', 3),\n",
       " ('practices', 3),\n",
       " ('empirical', 3),\n",
       " ('design', 3),\n",
       " ('from', 3),\n",
       " ('machine', 2),\n",
       " ('systems', 2),\n",
       " ('industrial', 2),\n",
       " ('Sethesaurus:', 2),\n",
       " ('Wordnet', 2),\n",
       " ('progression', 2),\n",
       " ('model', 2),\n",
       " ('goals,', 2),\n",
       " ('challenges,', 2),\n",
       " ('start-ups', 2),\n",
       " ('Engineering', 2),\n",
       " ('reviews', 2),\n",
       " ('Cerse-catalog', 2),\n",
       " ('research', 2)]"
      ]
     },
     "execution_count": 8,
     "metadata": {},
     "output_type": "execute_result"
    }
   ],
   "source": [
    "l3 = CountWordsByYear(data,2019)\n",
    "l3"
   ]
  },
  {
   "cell_type": "code",
   "execution_count": 9,
   "metadata": {},
   "outputs": [
    {
     "data": {
      "text/plain": [
       "[('software', 9),\n",
       " ('engineering', 8),\n",
       " ('Software', 8),\n",
       " ('Engineering', 7),\n",
       " ('events', 6),\n",
       " ('systematic', 3),\n",
       " ('review', 2),\n",
       " ('Research', 2),\n",
       " ('Modeling', 2),\n",
       " ('literature', 2),\n",
       " ('reviews', 2),\n",
       " ('Sampling', 1),\n",
       " ('research:', 1),\n",
       " ('critical', 1),\n",
       " ('guidelines', 1),\n",
       " ('practical', 1),\n",
       " ('guide', 1),\n",
       " ('conducting', 1),\n",
       " ('eye', 1),\n",
       " ('tracking', 1),\n",
       " ('studies', 1),\n",
       " ('Action', 1),\n",
       " ('When', 1),\n",
       " ('update', 1),\n",
       " ('Sustainability', 1),\n",
       " ('Education:', 1),\n",
       " ('case', 1),\n",
       " ('general', 1),\n",
       " ('professional', 1),\n",
       " ('competencies', 1)]"
      ]
     },
     "execution_count": 9,
     "metadata": {},
     "output_type": "execute_result"
    }
   ],
   "source": [
    "l4 = CountWordsByYear(data,2020)\n",
    "l4"
   ]
  },
  {
   "cell_type": "code",
   "execution_count": null,
   "metadata": {},
   "outputs": [],
   "source": [
    "\n"
   ]
  },
  {
   "cell_type": "code",
   "execution_count": null,
   "metadata": {},
   "outputs": [],
   "source": [
    "\n",
    "\n"
   ]
  },
  {
   "cell_type": "code",
   "execution_count": 10,
   "metadata": {},
   "outputs": [],
   "source": [
    "#data2018 = TitleFilteredByYear(data,2018)\n",
    "#data['Cites'].plot.bar()"
   ]
  },
  {
   "cell_type": "code",
   "execution_count": 11,
   "metadata": {},
   "outputs": [],
   "source": [
    "#TfidfVector(data)\n"
   ]
  },
  {
   "cell_type": "code",
   "execution_count": 12,
   "metadata": {},
   "outputs": [],
   "source": [
    "#data2018"
   ]
  },
  {
   "cell_type": "code",
   "execution_count": null,
   "metadata": {},
   "outputs": [],
   "source": []
  }
 ],
 "metadata": {
  "kernelspec": {
   "display_name": "Python 3",
   "language": "python",
   "name": "python3"
  },
  "language_info": {
   "codemirror_mode": {
    "name": "ipython",
    "version": 3
   },
   "file_extension": ".py",
   "mimetype": "text/x-python",
   "name": "python",
   "nbconvert_exporter": "python",
   "pygments_lexer": "ipython3",
   "version": "3.8.5"
  }
 },
 "nbformat": 4,
 "nbformat_minor": 4
}
