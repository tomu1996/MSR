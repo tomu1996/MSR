{
 "cells": [
  {
   "cell_type": "code",
   "execution_count": 1,
   "metadata": {},
   "outputs": [],
   "source": [
    "import requests\n",
    "from tenacity import (retry,\n",
    "                      wait_fixed,\n",
    "                      retry_if_exception_type,\n",
    "                      stop_after_attempt)\n",
    "\n",
    "\n",
    "\n",
    "def GetApiDataPaper(id,timeout,include_unknown_references=False):\n",
    "    API_URL = 'https://api.semanticscholar.org/v1'\n",
    "    data = {}\n",
    "    \n",
    "    url = '{}/{}/{}'.format(API_URL, 'paper',id)\n",
    "    if include_unknown_references:\n",
    "        url += '?include_unknown_references=true'\n",
    "    r = requests.get(url, timeout=timeout)\n",
    "\n",
    "    if r.status_code == 200:\n",
    "        data = r.json()\n",
    "        if len(data) == 1 and 'error' in data:\n",
    "            data = {}\n",
    "    elif r.status_code == 429:\n",
    "        raise ConnectionRefusedError('HTTP status 429 Too Many Requests.')\n",
    "\n",
    "    return data\n",
    "\n",
    "def GetApiDataURL(id,timeout,include_unknown_references=False):\n",
    "    API_URL = 'https://api.semanticscholar.org/v1'\n",
    "    data = {}\n",
    "\n",
    "    url = '{}/{}/{}'.format(API_URL, 'paper', \"URL:\"+id)\n",
    "    if include_unknown_references:\n",
    "        url += '?include_unknown_references=true'\n",
    "    r = requests.get(url, timeout=timeout)\n",
    "\n",
    "    if r.status_code == 200:\n",
    "        data = r.json()\n",
    "        if len(data) == 1 and 'error' in data:\n",
    "            data = {}\n",
    "    elif r.status_code == 429:\n",
    "        raise ConnectionRefusedError('HTTP status 429 Too Many Requests.')\n",
    "\n",
    "    return data\n",
    "\n",
    "def GetApiDataAuthor(id,timeout,include_unknown_references=False):\n",
    "    API_URL = 'https://api.semanticscholar.org/v1'\n",
    "    data = {}\n",
    "    \n",
    "    url = '{}/{}/{}'.format(API_URL, 'author',id)\n",
    "    if include_unknown_references:\n",
    "        url += '?include_unknown_references=true'\n",
    "    r = requests.get(url, timeout=timeout)\n",
    "\n",
    "    if r.status_code == 200:\n",
    "        data = r.json()\n",
    "        if len(data) == 1 and 'error' in data:\n",
    "            data = {}\n",
    "    elif r.status_code == 429:\n",
    "        raise ConnectionRefusedError('HTTP status 429 Too Many Requests.')\n",
    "\n",
    "    return data"
   ]
  },
  {
   "cell_type": "code",
   "execution_count": 2,
   "metadata": {},
   "outputs": [],
   "source": [
    "#Liste wegschreiben\n",
    "def WriteDataToFile(file,data):\n",
    "    with open(file, 'w') as temp_file:\n",
    "        for item in data:\n",
    "            temp_file.write(\"%s\\n\" % item)"
   ]
  },
  {
   "cell_type": "code",
   "execution_count": 3,
   "metadata": {},
   "outputs": [],
   "source": [
    "#Liste aus Datei lesen\n",
    "def ReadDataFromFile(file):\n",
    "    file = open(file, 'r')\n",
    "    print(type(file.read()))\n",
    "    print(file.read())"
   ]
  },
  {
   "cell_type": "code",
   "execution_count": 4,
   "metadata": {},
   "outputs": [
    {
     "data": {
      "text/plain": [
       "dict_keys(['abstract', 'arxivId', 'authors', 'citationVelocity', 'citations', 'corpusId', 'doi', 'fieldsOfStudy', 'influentialCitationCount', 'isOpenAccess', 'isPublisherLicensed', 'numCitedBy', 'numCiting', 'paperId', 'references', 'title', 'topics', 'url', 'venue', 'year'])"
      ]
     },
     "execution_count": 4,
     "metadata": {},
     "output_type": "execute_result"
    }
   ],
   "source": [
    "testdata = GetApiDataURL(\"https://www.semanticscholar.org/paper/Software-Engineering-Economics-Boehm/72910077a29caf411dbb03148997c72b47e65ab0\",5)\n",
    "testdata.keys()"
   ]
  },
  {
   "cell_type": "code",
   "execution_count": 5,
   "metadata": {},
   "outputs": [],
   "source": [
    "#List\n",
    "paperlist = []\n",
    "\n",
    "paperlist.append(\"https://www.semanticscholar.org/paper/Software-Engineering-Economics-Boehm/72910077a29caf411dbb03148997c72b47e65ab0\") #X\n",
    "paperlist.append(\"https://iluvwww.semanticscholar.org/paper/Software-Engineering%3A-A-Practitioner's-Approach-Pressman/81dbfc1bc890368979399874e47e0529ddceaece\") #X\n",
    "paperlist.append(\"https://www.semanticscholar.org/paper/Cognitive-Biases-in-Software-Engineering%3A-A-Mapping-Mohanani-Salman/819f36c0ddae12132d60ebc5cc0a19f7db8668b1\")\n",
    "paperlist.append(\"https://www.semanticscholar.org/paper/Software-Engineering-for-Machine-Learning%3A-A-Case-Amershi-Begel/f70b2f20be241f445a61f33c4b8e76e554760340\")\n"
   ]
  },
  {
   "cell_type": "code",
   "execution_count": 6,
   "metadata": {},
   "outputs": [
    {
     "name": "stdout",
     "output_type": "stream",
     "text": [
      "<class 'dict'>\n",
      "<class 'dict'>\n",
      "<class 'dict'>\n",
      "<class 'dict'>\n"
     ]
    }
   ],
   "source": [
    "import json\n",
    "#Daten holen\n",
    "jsonlist = []\n",
    "for x in paperlist:\n",
    "    apijson = GetApiDataURL(x,2)\n",
    "    print(type(apijson))\n",
    "    jsonlist.append(apijson)\n",
    "    for jsondata in jsonlist:\n",
    "        json.dump(jsondata,open('./data/article-save.json','w'))\n",
    "\n",
    "referencelist = []"
   ]
  },
  {
   "cell_type": "code",
   "execution_count": 7,
   "metadata": {},
   "outputs": [],
   "source": [
    "#for json in jsonlist:\n",
    "#    for reference in json['references']:\n",
    "#        for topic in GetApiDataURL(reference['url'],5)['topics']:\n",
    "#            if (topic['topic'] == 'Software engineering'):\n",
    "#                referencelist.append(reference['url'])\n",
    "        \n",
    "#print(len(referencelist))\n",
    "#referencelist\n",
    "\n",
    "#listpath = \"./data/list.txt\"\n",
    "\n",
    "#WriteDataToFile(listpath,referencelist)\n",
    "#ReadDataFromFile(listpath)\n"
   ]
  },
  {
   "cell_type": "code",
   "execution_count": null,
   "metadata": {},
   "outputs": [],
   "source": []
  },
  {
   "cell_type": "code",
   "execution_count": null,
   "metadata": {},
   "outputs": [],
   "source": []
  },
  {
   "cell_type": "code",
   "execution_count": null,
   "metadata": {},
   "outputs": [],
   "source": []
  }
 ],
 "metadata": {
  "kernelspec": {
   "display_name": "Python 3",
   "language": "python",
   "name": "python3"
  },
  "language_info": {
   "codemirror_mode": {
    "name": "ipython",
    "version": 3
   },
   "file_extension": ".py",
   "mimetype": "text/x-python",
   "name": "python",
   "nbconvert_exporter": "python",
   "pygments_lexer": "ipython3",
   "version": "3.8.5"
  }
 },
 "nbformat": 4,
 "nbformat_minor": 4
}
