{
 "cells": [
  {
   "cell_type": "code",
   "execution_count": 1,
   "metadata": {},
   "outputs": [],
   "source": [
    "import requests\n",
    "from tenacity import (retry,\n",
    "                      wait_fixed,\n",
    "                      retry_if_exception_type,\n",
    "                      stop_after_attempt)\n",
    "\n",
    "\n",
    "\n",
    "def GetApiDataPaper(id,timeout,include_unknown_references=False):\n",
    "    API_URL = 'https://api.semanticscholar.org/v1'\n",
    "    data = {}\n",
    "    #method_types = ['paper', 'author']\n",
    "    #if method not in method_types:\n",
    "    #    raise ValueError(\n",
    "    #        'Invalid method type. Expected one of: {}'.format(method_types))\n",
    "\n",
    "    url = '{}/{}/{}'.format(API_URL, 'paper',id)\n",
    "    if include_unknown_references:\n",
    "        url += '?include_unknown_references=true'\n",
    "    r = requests.get(url, timeout=timeout)\n",
    "\n",
    "    if r.status_code == 200:\n",
    "        data = r.json()\n",
    "        if len(data) == 1 and 'error' in data:\n",
    "            data = {}\n",
    "    elif r.status_code == 429:\n",
    "        raise ConnectionRefusedError('HTTP status 429 Too Many Requests.')\n",
    "\n",
    "    return data\n",
    "\n",
    "def GetApiDataURL(id,timeout,include_unknown_references=False):\n",
    "    API_URL = 'https://api.semanticscholar.org/v1'\n",
    "    data = {}\n",
    "    #method_types = ['paper', 'author']\n",
    "    #if method not in method_types:\n",
    "    #    raise ValueError(\n",
    "    #        'Invalid method type. Expected one of: {}'.format(method_types))\n",
    "\n",
    "    url = '{}/{}/{}'.format(API_URL, 'paper', \"URL:\"+id)\n",
    "    if include_unknown_references:\n",
    "        url += '?include_unknown_references=true'\n",
    "    r = requests.get(url, timeout=timeout)\n",
    "\n",
    "    if r.status_code == 200:\n",
    "        data = r.json()\n",
    "        if len(data) == 1 and 'error' in data:\n",
    "            data = {}\n",
    "    elif r.status_code == 429:\n",
    "        raise ConnectionRefusedError('HTTP status 429 Too Many Requests.')\n",
    "\n",
    "    return data\n",
    "\n",
    "def GetApiDataAuthor(id,timeout,include_unknown_references=False):\n",
    "    API_URL = 'https://api.semanticscholar.org/v1'\n",
    "    data = {}\n",
    "    \n",
    "    url = '{}/{}/{}'.format(API_URL, 'author',id)\n",
    "    if include_unknown_references:\n",
    "        url += '?include_unknown_references=true'\n",
    "    r = requests.get(url, timeout=timeout)\n",
    "\n",
    "    if r.status_code == 200:\n",
    "        data = r.json()\n",
    "        if len(data) == 1 and 'error' in data:\n",
    "            data = {}\n",
    "    elif r.status_code == 429:\n",
    "        raise ConnectionRefusedError('HTTP status 429 Too Many Requests.')\n",
    "\n",
    "    return data\n",
    "\n"
   ]
  },
  {
   "cell_type": "code",
   "execution_count": 2,
   "metadata": {},
   "outputs": [
    {
     "data": {
      "text/plain": [
       "dict_keys(['abstract', 'arxivId', 'authors', 'citationVelocity', 'citations', 'corpusId', 'doi', 'fieldsOfStudy', 'influentialCitationCount', 'isOpenAccess', 'isPublisherLicensed', 'numCitedBy', 'numCiting', 'paperId', 'references', 'title', 'topics', 'url', 'venue', 'year'])"
      ]
     },
     "execution_count": 2,
     "metadata": {},
     "output_type": "execute_result"
    }
   ],
   "source": [
    "testdata = GetApiDataURL(\"https://www.semanticscholar.org/paper/Software-Engineering-Economics-Boehm/72910077a29caf411dbb03148997c72b47e65ab0\",1)\n",
    "testdata.keys()"
   ]
  },
  {
   "cell_type": "code",
   "execution_count": 3,
   "metadata": {},
   "outputs": [],
   "source": [
    "#List\n",
    "paperlist = []\n",
    "\n",
    "paperlist.append(\"https://www.semanticscholar.org/paper/Software-Engineering-Economics-Boehm/72910077a29caf411dbb03148997c72b47e65ab0\")\n",
    "paperlist.append(\"https://iluvwww.semanticscholar.org/paper/Software-Engineering%3A-A-Practitioner's-Approach-Pressman/81dbfc1bc890368979399874e47e0529ddceaece\")\n",
    "paperlist.append(\"https://www.semanticscholar.org/paper/Cognitive-Biases-in-Software-Engineering%3A-A-Mapping-Mohanani-Salman/819f36c0ddae12132d60ebc5cc0a19f7db8668b1\")\n",
    "paperlist.append(\"https://www.semanticscholar.org/paper/Software-Engineering-for-Machine-Learning%3A-A-Case-Amershi-Begel/f70b2f20be241f445a61f33c4b8e76e554760340\")\n"
   ]
  },
  {
   "cell_type": "code",
   "execution_count": 4,
   "metadata": {},
   "outputs": [],
   "source": [
    "#Daten holen\n",
    "jsonlist = []\n",
    "for x in paperlist:\n",
    "    apijson = GetApiDataURL(x,2)\n",
    "    jsonlist.append(apijson)\n",
    "\n"
   ]
  },
  {
   "cell_type": "code",
   "execution_count": 5,
   "metadata": {},
   "outputs": [
    {
     "name": "stdout",
     "output_type": "stream",
     "text": [
      "True\n",
      "False\n",
      "True\n",
      "False\n"
     ]
    }
   ],
   "source": [
    "for json in jsonlist:\n",
    "    iscorrecttopic = False\n",
    "    for topic in json['topics']:\n",
    "        if (topic['topic'] == 'Software engineering'):\n",
    "            iscorrecttopic = True\n",
    "    print(iscorrecttopic)\n"
   ]
  },
  {
   "cell_type": "code",
   "execution_count": 6,
   "metadata": {},
   "outputs": [],
   "source": [
    "#GetApiDataAuthor(\"1719124\",2)"
   ]
  }
 ],
 "metadata": {
  "kernelspec": {
   "display_name": "Python 3",
   "language": "python",
   "name": "python3"
  },
  "language_info": {
   "codemirror_mode": {
    "name": "ipython",
    "version": 3
   },
   "file_extension": ".py",
   "mimetype": "text/x-python",
   "name": "python",
   "nbconvert_exporter": "python",
   "pygments_lexer": "ipython3",
   "version": "3.8.5"
  }
 },
 "nbformat": 4,
 "nbformat_minor": 4
}
