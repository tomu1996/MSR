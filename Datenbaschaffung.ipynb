{
 "cells": [
  {
   "cell_type": "code",
   "execution_count": 1,
   "metadata": {},
   "outputs": [],
   "source": [
    "#import semanticscholar as sch\n",
    "import requests\n",
    "from tenacity import (retry,\n",
    "                      wait_fixed,\n",
    "                      retry_if_exception_type,\n",
    "                      stop_after_attempt)\n",
    "\n",
    "#paper = sch.paper('10.1093/mind/lix.236.433', timeout=2)\n",
    "#paper.keys()\n",
    "\n",
    "#paper['abstract']\n",
    "\n",
    "def GetApiData(id,timeout,include_unknown_references=False):\n",
    "    API_URL = 'https://api.semanticscholar.org/v1'\n",
    "    data = {}\n",
    "    #method_types = ['paper', 'author']\n",
    "    #if method not in method_types:\n",
    "    #    raise ValueError(\n",
    "    #        'Invalid method type. Expected one of: {}'.format(method_types))\n",
    "\n",
    "    url = '{}/{}/{}'.format(API_URL, 'paper', \"URL:\"+id)\n",
    "    if include_unknown_references:\n",
    "        url += '?include_unknown_references=true'\n",
    "    r = requests.get(url, timeout=timeout)\n",
    "\n",
    "    if r.status_code == 200:\n",
    "        data = r.json()\n",
    "        if len(data) == 1 and 'error' in data:\n",
    "            data = {}\n",
    "    elif r.status_code == 429:\n",
    "        raise ConnectionRefusedError('HTTP status 429 Too Many Requests.')\n",
    "\n",
    "    return data\n",
    "\n"
   ]
  },
  {
   "cell_type": "code",
   "execution_count": 2,
   "metadata": {},
   "outputs": [],
   "source": [
    "#paper = sch.paper('10.1093/mind/lix.236.433', timeout=2)\n",
    "#paper.keys()\n",
    "\n",
    "#paper['abstract']"
   ]
  },
  {
   "cell_type": "code",
   "execution_count": 3,
   "metadata": {},
   "outputs": [
    {
     "data": {
      "text/plain": [
       "'One source of software project challenges and failures is the systematic errors introduced by human cognitive biases. Although extensively explored in cognitive psychology, investigations concerning cognitive biases have only recently gained popularity in software engineering research. This paper therefore systematically maps, aggregates and synthesizes the literature on cognitive biases in software engineering to generate a comprehensive body of knowledge, understand state-of-the-art research and provide guidelines for future research and practise. Focusing on bias antecedents, effects and mitigation techniques, we identified 65 articles (published between 1990 and 2016), which investigate 37 cognitive biases. Despite strong and increasing interest, the results reveal a scarcity of research on mitigation techniques and poor theoretical foundations in understanding and interpreting cognitive biases. Although bias-related research has generated many new insights in the software engineering community, specific bias mitigation techniques are still needed for software professionals to overcome the deleterious effects of cognitive biases on their work.'"
      ]
     },
     "execution_count": 3,
     "metadata": {},
     "output_type": "execute_result"
    }
   ],
   "source": [
    "#paperid = \"https://www.semanticscholar.org/paper/Software-Engineering-Economics-Boehm/72910077a29caf411dbb03148997c72b47e65ab0\"\n",
    "#paperid = \"https://iluvwww.semanticscholar.org/paper/Software-Engineering%3A-A-Practitioner's-Approach-Pressman/81dbfc1bc890368979399874e47e0529ddceaece\"\n",
    "paperid = \"https://www.semanticscholar.org/paper/Cognitive-Biases-in-Software-Engineering%3A-A-Mapping-Mohanani-Salman/819f36c0ddae12132d60ebc5cc0a19f7db8668b1\"\n",
    "data = GetApiData(paperid,2)\n",
    "data['abstract']"
   ]
  }
 ],
 "metadata": {
  "kernelspec": {
   "display_name": "Python 3",
   "language": "python",
   "name": "python3"
  },
  "language_info": {
   "codemirror_mode": {
    "name": "ipython",
    "version": 3
   },
   "file_extension": ".py",
   "mimetype": "text/x-python",
   "name": "python",
   "nbconvert_exporter": "python",
   "pygments_lexer": "ipython3",
   "version": "3.8.5"
  }
 },
 "nbformat": 4,
 "nbformat_minor": 4
}
