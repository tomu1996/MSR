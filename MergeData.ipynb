{
 "cells": [
  {
   "cell_type": "markdown",
   "metadata": {},
   "source": [
    "# MergeData"
   ]
  },
  {
   "cell_type": "markdown",
   "metadata": {},
   "source": [
    "## Bibliotheken importieren"
   ]
  },
  {
   "cell_type": "code",
   "execution_count": 1,
   "metadata": {},
   "outputs": [],
   "source": [
    "import pandas as pd"
   ]
  },
  {
   "cell_type": "markdown",
   "metadata": {},
   "source": [
    "## Verbinden der beiden Exporte"
   ]
  },
  {
   "cell_type": "code",
   "execution_count": 2,
   "metadata": {},
   "outputs": [
    {
     "data": {
      "text/plain": [
       "Document Title                 2292\n",
       "Authors                        2113\n",
       "Author Affiliations            2056\n",
       "Publication Title              2292\n",
       "Date Added To Xplore           1993\n",
       "Publication Year               2292\n",
       "Volume                         2292\n",
       "Issue                          2292\n",
       "Start Page                     2292\n",
       "End Page                       2289\n",
       "Abstract                       2276\n",
       "ISSN                           2292\n",
       "ISBNs                             0\n",
       "DOI                            2292\n",
       "Funding Information             538\n",
       "PDF Link                       2292\n",
       "Author Keywords                1979\n",
       "IEEE Terms                     2002\n",
       "INSPEC Controlled Terms        1515\n",
       "INSPEC Non-Controlled Terms    1515\n",
       "Mesh_Terms                        0\n",
       "Article Citation Count         1586\n",
       "Patent Citation Count            90\n",
       "Reference Count                1643\n",
       "License                         287\n",
       "Online Date                    2292\n",
       "Issue Date                        0\n",
       "Meeting Date                      0\n",
       "Publisher                      2292\n",
       "Document Identifier            2292\n",
       "dtype: int64"
      ]
     },
     "execution_count": 2,
     "metadata": {},
     "output_type": "execute_result"
    }
   ],
   "source": [
    "#Merge Data\n",
    "export1 = pd.read_csv('./data/export1.csv')\n",
    "export2 = pd.read_csv('./data/export2.csv')\n",
    "data = pd.concat([export1,export2])\n",
    "\n",
    "data.count()"
   ]
  },
  {
   "cell_type": "code",
   "execution_count": 3,
   "metadata": {},
   "outputs": [],
   "source": [
    "data.drop_duplicates([\"Abstract\"],inplace=True)"
   ]
  },
  {
   "cell_type": "code",
   "execution_count": 4,
   "metadata": {},
   "outputs": [
    {
     "data": {
      "text/plain": [
       "Document Title                 2165\n",
       "Authors                        2094\n",
       "Author Affiliations            2051\n",
       "Publication Title              2165\n",
       "Date Added To Xplore           1867\n",
       "Publication Year               2165\n",
       "Volume                         2165\n",
       "Issue                          2165\n",
       "Start Page                     2165\n",
       "End Page                       2163\n",
       "Abstract                       2164\n",
       "ISSN                           2165\n",
       "ISBNs                             0\n",
       "DOI                            2165\n",
       "Funding Information             538\n",
       "PDF Link                       2165\n",
       "Author Keywords                1976\n",
       "IEEE Terms                     1993\n",
       "INSPEC Controlled Terms        1513\n",
       "INSPEC Non-Controlled Terms    1513\n",
       "Mesh_Terms                        0\n",
       "Article Citation Count         1578\n",
       "Patent Citation Count            90\n",
       "Reference Count                1636\n",
       "License                         287\n",
       "Online Date                    2165\n",
       "Issue Date                        0\n",
       "Meeting Date                      0\n",
       "Publisher                      2165\n",
       "Document Identifier            2165\n",
       "dtype: int64"
      ]
     },
     "execution_count": 4,
     "metadata": {},
     "output_type": "execute_result"
    }
   ],
   "source": [
    "data.count()"
   ]
  },
  {
   "cell_type": "markdown",
   "metadata": {},
   "source": [
    "## Index reseten da bisher beide einzeln übernommen werden"
   ]
  },
  {
   "cell_type": "code",
   "execution_count": 5,
   "metadata": {},
   "outputs": [],
   "source": [
    "data.reset_index(inplace=True)"
   ]
  },
  {
   "cell_type": "markdown",
   "metadata": {},
   "source": [
    "## Daten in die data.csv zurückschreiben"
   ]
  },
  {
   "cell_type": "code",
   "execution_count": 6,
   "metadata": {},
   "outputs": [],
   "source": [
    "#Write into CSV File\n",
    "data.to_csv('./data/data.csv')"
   ]
  }
 ],
 "metadata": {
  "kernelspec": {
   "display_name": "Python 3",
   "language": "python",
   "name": "python3"
  },
  "language_info": {
   "codemirror_mode": {
    "name": "ipython",
    "version": 3
   },
   "file_extension": ".py",
   "mimetype": "text/x-python",
   "name": "python",
   "nbconvert_exporter": "python",
   "pygments_lexer": "ipython3",
   "version": "3.8.5"
  }
 },
 "nbformat": 4,
 "nbformat_minor": 4
}
