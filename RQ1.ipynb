{
 "cells": [
  {
   "cell_type": "markdown",
   "metadata": {},
   "source": [
    "# RQ1: Which technologies have been investigated in the last decade?"
   ]
  },
  {
   "cell_type": "markdown",
   "metadata": {},
   "source": [
    "## Module importieren"
   ]
  },
  {
   "cell_type": "code",
   "execution_count": 1,
   "metadata": {},
   "outputs": [],
   "source": [
    "import pandas as pd\n",
    "import numpy as np\n",
    "from collections import Counter\n",
    "import spacy\n",
    "from sklearn.feature_extraction.text import CountVectorizer\n",
    "from sklearn.metrics.pairwise import cosine_similarity\n",
    "from spacy.symbols import NOUN\n",
    "from spacy.matcher import Matcher\n",
    "from spacy.util import filter_spans"
   ]
  },
  {
   "cell_type": "markdown",
   "metadata": {},
   "source": [
    "## Daten einlesen\n",
    "In diesem Block werden die Daten in eine Pandas DataFrame geladen. Anschließend werden die Spalten zur besseren Übersichtlichkeit umbenannt."
   ]
  },
  {
   "cell_type": "code",
   "execution_count": 2,
   "metadata": {},
   "outputs": [
    {
     "data": {
      "text/html": [
       "<div>\n",
       "<style scoped>\n",
       "    .dataframe tbody tr th:only-of-type {\n",
       "        vertical-align: middle;\n",
       "    }\n",
       "\n",
       "    .dataframe tbody tr th {\n",
       "        vertical-align: top;\n",
       "    }\n",
       "\n",
       "    .dataframe thead th {\n",
       "        text-align: right;\n",
       "    }\n",
       "</style>\n",
       "<table border=\"1\" class=\"dataframe\">\n",
       "  <thead>\n",
       "    <tr style=\"text-align: right;\">\n",
       "      <th></th>\n",
       "      <th>title</th>\n",
       "      <th>year</th>\n",
       "      <th>abstract</th>\n",
       "    </tr>\n",
       "    <tr>\n",
       "      <th>index</th>\n",
       "      <th></th>\n",
       "      <th></th>\n",
       "      <th></th>\n",
       "    </tr>\n",
       "  </thead>\n",
       "  <tbody>\n",
       "    <tr>\n",
       "      <th>0</th>\n",
       "      <td>Is an Athletic Approach the Future of Software...</td>\n",
       "      <td>2016</td>\n",
       "      <td>Traditional software engineering education app...</td>\n",
       "    </tr>\n",
       "    <tr>\n",
       "      <th>1</th>\n",
       "      <td>What Do We Know about Knowledge Management? Pr...</td>\n",
       "      <td>2009</td>\n",
       "      <td>There have been many claims about knowledge ma...</td>\n",
       "    </tr>\n",
       "    <tr>\n",
       "      <th>2</th>\n",
       "      <td>Global Software Engineering: An Industry Persp...</td>\n",
       "      <td>2016</td>\n",
       "      <td>Professional software products and IT systems ...</td>\n",
       "    </tr>\n",
       "    <tr>\n",
       "      <th>3</th>\n",
       "      <td>Advancing Software Engineering Professional Ed...</td>\n",
       "      <td>2011</td>\n",
       "      <td>The paper mentions that a reference curriculum...</td>\n",
       "    </tr>\n",
       "    <tr>\n",
       "      <th>4</th>\n",
       "      <td>Improving the State of Automotive Software Eng...</td>\n",
       "      <td>2017</td>\n",
       "      <td>The automotive industry is fundamentally chang...</td>\n",
       "    </tr>\n",
       "  </tbody>\n",
       "</table>\n",
       "</div>"
      ],
      "text/plain": [
       "                                                   title  year  \\\n",
       "index                                                            \n",
       "0      Is an Athletic Approach the Future of Software...  2016   \n",
       "1      What Do We Know about Knowledge Management? Pr...  2009   \n",
       "2      Global Software Engineering: An Industry Persp...  2016   \n",
       "3      Advancing Software Engineering Professional Ed...  2011   \n",
       "4      Improving the State of Automotive Software Eng...  2017   \n",
       "\n",
       "                                                abstract  \n",
       "index                                                     \n",
       "0      Traditional software engineering education app...  \n",
       "1      There have been many claims about knowledge ma...  \n",
       "2      Professional software products and IT systems ...  \n",
       "3      The paper mentions that a reference curriculum...  \n",
       "4      The automotive industry is fundamentally chang...  "
      ]
     },
     "execution_count": 2,
     "metadata": {},
     "output_type": "execute_result"
    }
   ],
   "source": [
    "#Datene einlesen\n",
    "data = pd.read_csv('./data/data.csv',usecols = ['Unnamed: 0','Document Title','Abstract','Publication Year'])\n",
    "data.columns = ['index','title','year','abstract']\n",
    "data.index = data['index']\n",
    "\n",
    "data.drop([\"index\"], axis = 1, inplace = True)\n",
    "\n",
    "data.head()"
   ]
  },
  {
   "cell_type": "markdown",
   "metadata": {},
   "source": [
    "## Funktion für die TermDokumentenMatrix"
   ]
  },
  {
   "cell_type": "code",
   "execution_count": 3,
   "metadata": {},
   "outputs": [],
   "source": [
    "def CreateTermDocMatrix(column):\n",
    "        \n",
    "    count_vectorizer = CountVectorizer(stop_words='english',ngram_range = (1,2),dtype=np.int32)\n",
    "    sparse_matrix = count_vectorizer.fit_transform(data[column].values.astype('U'))\n",
    "\n",
    "    doc_term_matrix = sparse_matrix.todense()\n",
    "    df = pd.DataFrame(doc_term_matrix, columns=count_vectorizer.get_feature_names(), dtype=np.int32)\n",
    "    df['year'] = data['year']\n",
    "    returndf = df.groupby('year').sum().transpose().astype('int32')\n",
    "    return returndf"
   ]
  },
  {
   "cell_type": "code",
   "execution_count": 4,
   "metadata": {},
   "outputs": [],
   "source": [
    "def ShowWord(data,word):\n",
    "    d = data.loc[word]\n",
    "    d.plot.bar()"
   ]
  },
  {
   "cell_type": "code",
   "execution_count": 5,
   "metadata": {},
   "outputs": [],
   "source": [
    "def SpaltenEntf(data):\n",
    "    y = []\n",
    "    for item in data.columns:\n",
    "        y = data.columns\n",
    "\n",
    "\n",
    "    for index in range(len(y)):\n",
    "        x = y[index]\n",
    "        if x in stopwords or x.isnumeric():\n",
    "            del data[y[index]]\n",
    "    return data"
   ]
  },
  {
   "cell_type": "markdown",
   "metadata": {},
   "source": [
    "## Erstellen der TermDokumentenmatrix"
   ]
  },
  {
   "cell_type": "code",
   "execution_count": 6,
   "metadata": {},
   "outputs": [],
   "source": [
    "def Retokenize(text):\n",
    "    # Verarbeite den Text\n",
    "    if type(text) is str:\n",
    "        doc = nlp(text)\n",
    "\n",
    "\n",
    "    matches = matcher(doc)\n",
    "    sp  = [doc[match[1]:match[2]] for match in matches] \n",
    "\n",
    "    filtered = filter_spans(sp)\n",
    "    with doc.retokenize() as retokenizer:\n",
    "        for s in filtered:\n",
    "            retokenizer.merge(s, attrs = {\"POS\": \"NOUN\"})\n",
    "    [(token.pos_, token.text) for token in doc]\n",
    "        \n",
    "    #Returns spacy doc\n",
    "    return doc\n",
    "                \n",
    "        "
   ]
  },
  {
   "cell_type": "code",
   "execution_count": 7,
   "metadata": {},
   "outputs": [],
   "source": [
    "from matplotlib import pyplot as plt\n",
    "years = []\n",
    "\n",
    "#Balkendiagramm\n",
    "#plt.bar(range(len(years)),anzah)\n",
    "\n",
    "#Titel\n",
    "#plt.title(\"Toller Plot\")\n",
    "#plt.ylabel(\"# of awards\")\n",
    "\n",
    "#plt.xticks(range(len(years)),years)\n",
    "#plt.show()"
   ]
  },
  {
   "cell_type": "markdown",
   "metadata": {},
   "source": []
  },
  {
   "cell_type": "code",
   "execution_count": null,
   "metadata": {},
   "outputs": [],
   "source": []
  },
  {
   "cell_type": "markdown",
   "metadata": {},
   "source": [
    "## NLP Model laden"
   ]
  },
  {
   "cell_type": "code",
   "execution_count": 8,
   "metadata": {},
   "outputs": [],
   "source": [
    "nlp = spacy.load(\"en_core_web_sm\")"
   ]
  },
  {
   "cell_type": "code",
   "execution_count": null,
   "metadata": {},
   "outputs": [],
   "source": []
  },
  {
   "cell_type": "markdown",
   "metadata": {},
   "source": [
    "## Counter und Matcher initialisieren"
   ]
  },
  {
   "cell_type": "code",
   "execution_count": 9,
   "metadata": {},
   "outputs": [],
   "source": [
    "matcher = Matcher(nlp.vocab)\n",
    "words = Counter()\n",
    "words_chunk = Counter()"
   ]
  },
  {
   "cell_type": "markdown",
   "metadata": {},
   "source": [
    "## Pattern festlegen und dem Matcher hinzufügen"
   ]
  },
  {
   "cell_type": "code",
   "execution_count": 10,
   "metadata": {},
   "outputs": [],
   "source": [
    "pattern_test = [{'POS': 'NOUN'},\n",
    "                {'POS': 'NOUN'}]\n",
    "\n",
    "pattern_exmaple = [{'POS': 'ADJ', 'OP': '?'},\n",
    "                   {'OP': '+', 'POS': 'NOUN'},\n",
    "                   {'POS': 'NOUN', 'OP': '?'}]"
   ]
  },
  {
   "cell_type": "code",
   "execution_count": 11,
   "metadata": {},
   "outputs": [],
   "source": [
    "matcher.add(\"match_test\", [pattern_test])\n",
    "matcher.add(\"match_example\", [pattern_exmaple])"
   ]
  },
  {
   "cell_type": "markdown",
   "metadata": {},
   "source": [
    "\n"
   ]
  },
  {
   "cell_type": "code",
   "execution_count": 12,
   "metadata": {},
   "outputs": [],
   "source": [
    "for columns in data.itertuples():\n",
    "    text = columns[3] #1 = title 2 = year 3 = abstract\n",
    "    # Verarbeite den Text\n",
    "    if type(text) is str:\n",
    "            doc = nlp(text)\n",
    "    \n",
    "    matches = matcher(doc)\n",
    "    sp  = [doc[match[1]:match[2]] for match in matches]\n",
    "    filtered = filter_spans(sp)\n",
    "    with doc.retokenize() as retokenizer:\n",
    "        for s in filtered:\n",
    "            retokenizer.merge(s, attrs = {\"POS\": \"NOUN\"})\n",
    "    [(token.pos_, token.text) for token in doc]\n",
    "\n",
    "    for token in doc:\n",
    "        # Greife auf den Text, die Wortart und die Dependenzrelation des Tokens zu\n",
    "        token_text = token.text\n",
    "        token_pos = token.pos_\n",
    "        token_dep = token.dep_\n",
    "        token_ent = token.ent_type_\n",
    "\n",
    "        if token.pos == NOUN:\n",
    "            if not token.is_stop:\n",
    "                words[token_text] += 1\n",
    "                                          "
   ]
  },
  {
   "cell_type": "markdown",
   "metadata": {},
   "source": [
    "## Wörter darstellen"
   ]
  },
  {
   "cell_type": "code",
   "execution_count": 13,
   "metadata": {},
   "outputs": [
    {
     "data": {
      "text/plain": [
       "[('paper', 712),\n",
       " ('approach', 634),\n",
       " ('developers', 580),\n",
       " ('results', 458),\n",
       " ('software', 365),\n",
       " ('code', 317),\n",
       " ('article', 314),\n",
       " ('percent', 279),\n",
       " ('system', 267),\n",
       " ('model', 266),\n",
       " ('time', 259),\n",
       " ('%', 256),\n",
       " ('techniques', 241),\n",
       " ('data', 235),\n",
       " ('systems', 234),\n",
       " ('state', 208),\n",
       " ('set', 207),\n",
       " ('software engineering', 198),\n",
       " ('number', 193),\n",
       " ('performance', 192),\n",
       " ('study', 188),\n",
       " ('analysis', 185),\n",
       " ('tools', 185),\n",
       " ('work', 181),\n",
       " ('problem', 177),\n",
       " ('effectiveness', 171),\n",
       " ('framework', 171),\n",
       " ('models', 171),\n",
       " ('development', 169),\n",
       " ('terms', 169),\n",
       " ('method', 167),\n",
       " ('researchers', 163),\n",
       " ('approaches', 162),\n",
       " ('projects', 161),\n",
       " ('users', 160),\n",
       " ('use', 158),\n",
       " ('quality', 153),\n",
       " ('process', 152),\n",
       " ('practitioners', 151),\n",
       " ('application', 149),\n",
       " ('applications', 148),\n",
       " ('technique', 148),\n",
       " ('tool', 147),\n",
       " ('context', 144),\n",
       " ('research', 143),\n",
       " ('challenges', 138),\n",
       " ('requirements', 138),\n",
       " ('methods', 132),\n",
       " ('order', 130),\n",
       " ('issue', 129),\n",
       " ('programs', 128),\n",
       " ('testing', 127),\n",
       " ('knowledge', 126),\n",
       " ('findings', 126),\n",
       " ('information', 125),\n",
       " ('changes', 124),\n",
       " ('design', 123),\n",
       " ('practice', 119),\n",
       " ('experiments', 118),\n",
       " ('software development', 118),\n",
       " ('bugs', 118),\n",
       " ('source code', 117),\n",
       " ('impact', 116),\n",
       " ('project', 115),\n",
       " ('test cases', 113),\n",
       " ('evaluation', 109),\n",
       " ('apps', 108),\n",
       " ('cost', 106),\n",
       " ('program', 106),\n",
       " ('software systems', 105),\n",
       " ('test', 105),\n",
       " ('Web', 102),\n",
       " ('architecture', 100),\n",
       " ('problems', 97),\n",
       " ('features', 96),\n",
       " ('faults', 92),\n",
       " ('benefits', 90),\n",
       " ('need', 90),\n",
       " ('end', 87),\n",
       " ('years', 87),\n",
       " ('example', 87),\n",
       " ('service', 87),\n",
       " ('complexity', 86),\n",
       " ('addition', 85),\n",
       " ('practices', 84),\n",
       " ('way', 84),\n",
       " ('defects', 84),\n",
       " ('column', 83),\n",
       " ('literature', 83),\n",
       " ('algorithms', 83),\n",
       " ('implementation', 83),\n",
       " ('case study', 83),\n",
       " ('level', 83),\n",
       " ('companies', 81),\n",
       " ('authors', 80),\n",
       " ('metrics', 80),\n",
       " ('components', 79),\n",
       " ('algorithm', 79),\n",
       " ('patterns', 79),\n",
       " ('tests', 79)]"
      ]
     },
     "execution_count": 13,
     "metadata": {},
     "output_type": "execute_result"
    }
   ],
   "source": [
    "words.most_common(100)"
   ]
  },
  {
   "cell_type": "markdown",
   "metadata": {},
   "source": [
    "## Liste erstellen"
   ]
  },
  {
   "cell_type": "code",
   "execution_count": 14,
   "metadata": {},
   "outputs": [],
   "source": [
    "l = list(words.most_common(30))\n",
    "wordlist = []\n",
    "for x in l:\n",
    "    wordlist.append(x[0])\n"
   ]
  },
  {
   "cell_type": "code",
   "execution_count": 15,
   "metadata": {},
   "outputs": [],
   "source": [
    "words = pd.Series(wordlist,dtype=str)"
   ]
  },
  {
   "cell_type": "code",
   "execution_count": 16,
   "metadata": {},
   "outputs": [],
   "source": [
    "abstract = CreateTermDocMatrix('abstract')"
   ]
  },
  {
   "cell_type": "code",
   "execution_count": 17,
   "metadata": {},
   "outputs": [],
   "source": [
    "b = abstract[abstract.index.isin(words)]"
   ]
  },
  {
   "cell_type": "code",
   "execution_count": 18,
   "metadata": {},
   "outputs": [
    {
     "data": {
      "text/html": [
       "<div>\n",
       "<style scoped>\n",
       "    .dataframe tbody tr th:only-of-type {\n",
       "        vertical-align: middle;\n",
       "    }\n",
       "\n",
       "    .dataframe tbody tr th {\n",
       "        vertical-align: top;\n",
       "    }\n",
       "\n",
       "    .dataframe thead th {\n",
       "        text-align: right;\n",
       "    }\n",
       "</style>\n",
       "<table border=\"1\" class=\"dataframe\">\n",
       "  <thead>\n",
       "    <tr style=\"text-align: right;\">\n",
       "      <th>year</th>\n",
       "      <th>2009</th>\n",
       "      <th>2010</th>\n",
       "      <th>2011</th>\n",
       "      <th>2012</th>\n",
       "      <th>2013</th>\n",
       "      <th>2014</th>\n",
       "      <th>2015</th>\n",
       "      <th>2016</th>\n",
       "      <th>2017</th>\n",
       "      <th>2018</th>\n",
       "      <th>2019</th>\n",
       "      <th>2020</th>\n",
       "      <th>2021</th>\n",
       "    </tr>\n",
       "  </thead>\n",
       "  <tbody>\n",
       "    <tr>\n",
       "      <th>analysis</th>\n",
       "      <td>36</td>\n",
       "      <td>32</td>\n",
       "      <td>22</td>\n",
       "      <td>36</td>\n",
       "      <td>54</td>\n",
       "      <td>31</td>\n",
       "      <td>52</td>\n",
       "      <td>51</td>\n",
       "      <td>53</td>\n",
       "      <td>49</td>\n",
       "      <td>102</td>\n",
       "      <td>130</td>\n",
       "      <td>61</td>\n",
       "    </tr>\n",
       "    <tr>\n",
       "      <th>approach</th>\n",
       "      <td>36</td>\n",
       "      <td>35</td>\n",
       "      <td>31</td>\n",
       "      <td>68</td>\n",
       "      <td>87</td>\n",
       "      <td>68</td>\n",
       "      <td>75</td>\n",
       "      <td>75</td>\n",
       "      <td>85</td>\n",
       "      <td>82</td>\n",
       "      <td>111</td>\n",
       "      <td>181</td>\n",
       "      <td>60</td>\n",
       "    </tr>\n",
       "    <tr>\n",
       "      <th>article</th>\n",
       "      <td>22</td>\n",
       "      <td>7</td>\n",
       "      <td>12</td>\n",
       "      <td>13</td>\n",
       "      <td>8</td>\n",
       "      <td>13</td>\n",
       "      <td>37</td>\n",
       "      <td>36</td>\n",
       "      <td>23</td>\n",
       "      <td>90</td>\n",
       "      <td>27</td>\n",
       "      <td>21</td>\n",
       "      <td>8</td>\n",
       "    </tr>\n",
       "    <tr>\n",
       "      <th>code</th>\n",
       "      <td>40</td>\n",
       "      <td>31</td>\n",
       "      <td>34</td>\n",
       "      <td>58</td>\n",
       "      <td>60</td>\n",
       "      <td>65</td>\n",
       "      <td>90</td>\n",
       "      <td>62</td>\n",
       "      <td>79</td>\n",
       "      <td>87</td>\n",
       "      <td>168</td>\n",
       "      <td>275</td>\n",
       "      <td>167</td>\n",
       "    </tr>\n",
       "    <tr>\n",
       "      <th>data</th>\n",
       "      <td>36</td>\n",
       "      <td>28</td>\n",
       "      <td>17</td>\n",
       "      <td>36</td>\n",
       "      <td>91</td>\n",
       "      <td>38</td>\n",
       "      <td>48</td>\n",
       "      <td>87</td>\n",
       "      <td>56</td>\n",
       "      <td>60</td>\n",
       "      <td>92</td>\n",
       "      <td>113</td>\n",
       "      <td>57</td>\n",
       "    </tr>\n",
       "  </tbody>\n",
       "</table>\n",
       "</div>"
      ],
      "text/plain": [
       "year      2009  2010  2011  2012  2013  2014  2015  2016  2017  2018  2019  \\\n",
       "analysis    36    32    22    36    54    31    52    51    53    49   102   \n",
       "approach    36    35    31    68    87    68    75    75    85    82   111   \n",
       "article     22     7    12    13     8    13    37    36    23    90    27   \n",
       "code        40    31    34    58    60    65    90    62    79    87   168   \n",
       "data        36    28    17    36    91    38    48    87    56    60    92   \n",
       "\n",
       "year      2020  2021  \n",
       "analysis   130    61  \n",
       "approach   181    60  \n",
       "article     21     8  \n",
       "code       275   167  \n",
       "data       113    57  "
      ]
     },
     "execution_count": 18,
     "metadata": {},
     "output_type": "execute_result"
    }
   ],
   "source": [
    "b.head()"
   ]
  },
  {
   "cell_type": "markdown",
   "metadata": {},
   "source": [
    "## Balkendiagramm erstellen"
   ]
  },
  {
   "cell_type": "code",
   "execution_count": 19,
   "metadata": {},
   "outputs": [
    {
     "data": {
      "text/html": [
       "\n",
       "<div id=\"altair-viz-08af5449290a43a3a5008ac22893e487\"></div>\n",
       "<script type=\"text/javascript\">\n",
       "  (function(spec, embedOpt){\n",
       "    let outputDiv = document.currentScript.previousElementSibling;\n",
       "    if (outputDiv.id !== \"altair-viz-08af5449290a43a3a5008ac22893e487\") {\n",
       "      outputDiv = document.getElementById(\"altair-viz-08af5449290a43a3a5008ac22893e487\");\n",
       "    }\n",
       "    const paths = {\n",
       "      \"vega\": \"https://cdn.jsdelivr.net/npm//vega@5?noext\",\n",
       "      \"vega-lib\": \"https://cdn.jsdelivr.net/npm//vega-lib?noext\",\n",
       "      \"vega-lite\": \"https://cdn.jsdelivr.net/npm//vega-lite@4.8.1?noext\",\n",
       "      \"vega-embed\": \"https://cdn.jsdelivr.net/npm//vega-embed@6?noext\",\n",
       "    };\n",
       "\n",
       "    function loadScript(lib) {\n",
       "      return new Promise(function(resolve, reject) {\n",
       "        var s = document.createElement('script');\n",
       "        s.src = paths[lib];\n",
       "        s.async = true;\n",
       "        s.onload = () => resolve(paths[lib]);\n",
       "        s.onerror = () => reject(`Error loading script: ${paths[lib]}`);\n",
       "        document.getElementsByTagName(\"head\")[0].appendChild(s);\n",
       "      });\n",
       "    }\n",
       "\n",
       "    function showError(err) {\n",
       "      outputDiv.innerHTML = `<div class=\"error\" style=\"color:red;\">${err}</div>`;\n",
       "      throw err;\n",
       "    }\n",
       "\n",
       "    function displayChart(vegaEmbed) {\n",
       "      vegaEmbed(outputDiv, spec, embedOpt)\n",
       "        .catch(err => showError(`Javascript Error: ${err.message}<br>This usually means there's a typo in your chart specification. See the javascript console for the full traceback.`));\n",
       "    }\n",
       "\n",
       "    if(typeof define === \"function\" && define.amd) {\n",
       "      requirejs.config({paths});\n",
       "      require([\"vega-embed\"], displayChart, err => showError(`Error loading script: ${err.message}`));\n",
       "    } else if (typeof vegaEmbed === \"function\") {\n",
       "      displayChart(vegaEmbed);\n",
       "    } else {\n",
       "      loadScript(\"vega\")\n",
       "        .then(() => loadScript(\"vega-lite\"))\n",
       "        .then(() => loadScript(\"vega-embed\"))\n",
       "        .catch(showError)\n",
       "        .then(() => displayChart(vegaEmbed));\n",
       "    }\n",
       "  })({\"config\": {\"view\": {\"continuousWidth\": 400, \"continuousHeight\": 300}}, \"data\": {\"name\": \"data-4d4008df6f41dece0a229a1d62f1081a\"}, \"mark\": \"bar\", \"encoding\": {\"x\": {\"type\": \"nominal\", \"field\": \"Technologies\"}, \"y\": {\"type\": \"quantitative\", \"field\": \"Anzahl\"}}, \"$schema\": \"https://vega.github.io/schema/vega-lite/v4.8.1.json\", \"datasets\": {\"data-4d4008df6f41dece0a229a1d62f1081a\": [{\"Technologies\": \"analysis\", \"Anzahl\": 130}, {\"Technologies\": \"approach\", \"Anzahl\": 181}, {\"Technologies\": \"article\", \"Anzahl\": 21}, {\"Technologies\": \"code\", \"Anzahl\": 275}, {\"Technologies\": \"data\", \"Anzahl\": 113}, {\"Technologies\": \"developers\", \"Anzahl\": 176}, {\"Technologies\": \"development\", \"Anzahl\": 85}, {\"Technologies\": \"effectiveness\", \"Anzahl\": 37}, {\"Technologies\": \"framework\", \"Anzahl\": 43}, {\"Technologies\": \"model\", \"Anzahl\": 112}, {\"Technologies\": \"models\", \"Anzahl\": 108}, {\"Technologies\": \"number\", \"Anzahl\": 50}, {\"Technologies\": \"paper\", \"Anzahl\": 118}, {\"Technologies\": \"percent\", \"Anzahl\": 36}, {\"Technologies\": \"performance\", \"Anzahl\": 75}, {\"Technologies\": \"problem\", \"Anzahl\": 43}, {\"Technologies\": \"results\", \"Anzahl\": 142}, {\"Technologies\": \"set\", \"Anzahl\": 55}, {\"Technologies\": \"software\", \"Anzahl\": 397}, {\"Technologies\": \"software engineering\", \"Anzahl\": 58}, {\"Technologies\": \"state\", \"Anzahl\": 63}, {\"Technologies\": \"study\", \"Anzahl\": 125}, {\"Technologies\": \"systems\", \"Anzahl\": 134}, {\"Technologies\": \"techniques\", \"Anzahl\": 118}, {\"Technologies\": \"terms\", \"Anzahl\": 46}, {\"Technologies\": \"time\", \"Anzahl\": 84}, {\"Technologies\": \"tools\", \"Anzahl\": 66}, {\"Technologies\": \"work\", \"Anzahl\": 68}]}}, {\"mode\": \"vega-lite\"});\n",
       "</script>"
      ],
      "text/plain": [
       "alt.Chart(...)"
      ]
     },
     "execution_count": 19,
     "metadata": {},
     "output_type": "execute_result"
    }
   ],
   "source": [
    "import altair as alt\n",
    "import pandas as pd\n",
    "\n",
    "source = pd.DataFrame({'Technologies': b.index,\n",
    "                       'Anzahl': b[2020]})\n",
    "\n",
    "\n",
    "\n",
    "alt.Chart(source).mark_bar().encode(\n",
    "    x='Technologies',\n",
    "    y='Anzahl'\n",
    ")\n"
   ]
  },
  {
   "cell_type": "code",
   "execution_count": 20,
   "metadata": {},
   "outputs": [
    {
     "name": "stdout",
     "output_type": "stream",
     "text": [
      "[[1.         0.97457953 0.9660127  0.96074184 0.95607819 0.96129787\n",
      "  0.93543892 0.97223078 0.92371024 0.93716621 0.90585318 0.84859095\n",
      "  0.83467648]\n",
      " [0.97457953 1.         0.97296525 0.97234678 0.97737679 0.97511477\n",
      "  0.94352211 0.96673778 0.93148743 0.93175637 0.93300216 0.8918113\n",
      "  0.86573226]\n",
      " [0.9660127  0.97296525 1.         0.96849395 0.9679746  0.97581826\n",
      "  0.94528654 0.94939307 0.93695    0.91986847 0.91971676 0.88733471\n",
      "  0.87624028]\n",
      " [0.96074184 0.97234678 0.96849395 1.         0.98395503 0.98192556\n",
      "  0.97245839 0.97116567 0.96376705 0.95702659 0.95695472 0.92790086\n",
      "  0.90242476]\n",
      " [0.95607819 0.97737679 0.9679746  0.98395503 1.         0.98344257\n",
      "  0.96935088 0.97980445 0.96472856 0.95095363 0.95598283 0.92427778\n",
      "  0.89509642]\n",
      " [0.96129787 0.97511477 0.97581826 0.98192556 0.98344257 1.\n",
      "  0.98066979 0.97613089 0.97901272 0.95839582 0.9631255  0.9380985\n",
      "  0.91451139]\n",
      " [0.93543892 0.94352211 0.94528654 0.97245839 0.96935088 0.98066979\n",
      "  1.         0.97107916 0.98289202 0.97365355 0.97709448 0.96128975\n",
      "  0.93631744]\n",
      " [0.97223078 0.96673778 0.94939307 0.97116567 0.97980445 0.97613089\n",
      "  0.97107916 1.         0.96392462 0.97274468 0.94945305 0.9033659\n",
      "  0.87976515]\n",
      " [0.92371024 0.93148743 0.93695    0.96376705 0.96472856 0.97901272\n",
      "  0.98289202 0.96392462 1.         0.96309256 0.97600039 0.96182163\n",
      "  0.941302  ]\n",
      " [0.93716621 0.93175637 0.91986847 0.95702659 0.95095363 0.95839582\n",
      "  0.97365355 0.97274468 0.96309256 1.         0.9482724  0.9118376\n",
      "  0.89312059]\n",
      " [0.90585318 0.93300216 0.91971676 0.95695472 0.95598283 0.9631255\n",
      "  0.97709448 0.94945305 0.97600039 0.9482724  1.         0.98350807\n",
      "  0.97008513]\n",
      " [0.84859095 0.8918113  0.88733471 0.92790086 0.92427778 0.9380985\n",
      "  0.96128975 0.9033659  0.96182163 0.9118376  0.98350807 1.\n",
      "  0.98184382]\n",
      " [0.83467648 0.86573226 0.87624028 0.90242476 0.89509642 0.91451139\n",
      "  0.93631744 0.87976515 0.941302   0.89312059 0.97008513 0.98184382\n",
      "  1.        ]]\n"
     ]
    }
   ],
   "source": [
    "print(cosine_similarity(b.transpose()))"
   ]
  }
 ],
 "metadata": {
  "kernelspec": {
   "display_name": "Python 3",
   "language": "python",
   "name": "python3"
  },
  "language_info": {
   "codemirror_mode": {
    "name": "ipython",
    "version": 3
   },
   "file_extension": ".py",
   "mimetype": "text/x-python",
   "name": "python",
   "nbconvert_exporter": "python",
   "pygments_lexer": "ipython3",
   "version": "3.8.5"
  }
 },
 "nbformat": 4,
 "nbformat_minor": 4
}
