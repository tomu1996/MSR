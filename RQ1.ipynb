{
 "cells": [
  {
   "cell_type": "code",
   "execution_count": 1,
   "metadata": {},
   "outputs": [],
   "source": [
    "import pandas as pd\n",
    "import numpy as np\n",
    "from collections import Counter\n",
    "import spacy\n",
    "from sklearn.feature_extraction.text import CountVectorizer\n",
    "from sklearn.metrics.pairwise import cosine_similarity"
   ]
  },
  {
   "cell_type": "code",
   "execution_count": 2,
   "metadata": {},
   "outputs": [],
   "source": [
    "# RQ1: Which technologies have been investigated in the last decade?"
   ]
  },
  {
   "cell_type": "code",
   "execution_count": 3,
   "metadata": {},
   "outputs": [
    {
     "data": {
      "text/html": [
       "<div>\n",
       "<style scoped>\n",
       "    .dataframe tbody tr th:only-of-type {\n",
       "        vertical-align: middle;\n",
       "    }\n",
       "\n",
       "    .dataframe tbody tr th {\n",
       "        vertical-align: top;\n",
       "    }\n",
       "\n",
       "    .dataframe thead th {\n",
       "        text-align: right;\n",
       "    }\n",
       "</style>\n",
       "<table border=\"1\" class=\"dataframe\">\n",
       "  <thead>\n",
       "    <tr style=\"text-align: right;\">\n",
       "      <th></th>\n",
       "      <th>Document Title</th>\n",
       "      <th>Publication Year</th>\n",
       "      <th>Abstract</th>\n",
       "    </tr>\n",
       "  </thead>\n",
       "  <tbody>\n",
       "    <tr>\n",
       "      <th>0</th>\n",
       "      <td>What Do We Know about Knowledge Management? Pr...</td>\n",
       "      <td>2009</td>\n",
       "      <td>There have been many claims about knowledge ma...</td>\n",
       "    </tr>\n",
       "    <tr>\n",
       "      <th>1</th>\n",
       "      <td>Research on National and International Softwar...</td>\n",
       "      <td>2009</td>\n",
       "      <td>The article analyzed the basic life cycle mode...</td>\n",
       "    </tr>\n",
       "    <tr>\n",
       "      <th>2</th>\n",
       "      <td>Advancing Software Engineering Professional Ed...</td>\n",
       "      <td>2011</td>\n",
       "      <td>The paper mentions that a reference curriculum...</td>\n",
       "    </tr>\n",
       "    <tr>\n",
       "      <th>3</th>\n",
       "      <td>Putting Human Aspects of Software Engineering ...</td>\n",
       "      <td>2010</td>\n",
       "      <td>Although people-related issues are central fac...</td>\n",
       "    </tr>\n",
       "    <tr>\n",
       "      <th>4</th>\n",
       "      <td>Where's the Theory for Software Engineering?</td>\n",
       "      <td>2012</td>\n",
       "      <td>Darwin's theory of natural selection, Maxwell'...</td>\n",
       "    </tr>\n",
       "  </tbody>\n",
       "</table>\n",
       "</div>"
      ],
      "text/plain": [
       "                                      Document Title  Publication Year  \\\n",
       "0  What Do We Know about Knowledge Management? Pr...              2009   \n",
       "1  Research on National and International Softwar...              2009   \n",
       "2  Advancing Software Engineering Professional Ed...              2011   \n",
       "3  Putting Human Aspects of Software Engineering ...              2010   \n",
       "4       Where's the Theory for Software Engineering?              2012   \n",
       "\n",
       "                                            Abstract  \n",
       "0  There have been many claims about knowledge ma...  \n",
       "1  The article analyzed the basic life cycle mode...  \n",
       "2  The paper mentions that a reference curriculum...  \n",
       "3  Although people-related issues are central fac...  \n",
       "4  Darwin's theory of natural selection, Maxwell'...  "
      ]
     },
     "execution_count": 3,
     "metadata": {},
     "output_type": "execute_result"
    }
   ],
   "source": [
    "#Datene einlesen\n",
    "#data = pd.read_csv('./data/data.csv')\n",
    "#data.drop([\"Unnamed: 0\"], axis = 1, inplace = True)\n",
    "\n",
    "data = pd.read_csv('./data/export1.csv',dtype={'Abstract': str}, usecols = ['Document Title','Abstract','Publication Year'])\n",
    "data.head()"
   ]
  },
  {
   "cell_type": "code",
   "execution_count": null,
   "metadata": {},
   "outputs": [],
   "source": []
  },
  {
   "cell_type": "code",
   "execution_count": 4,
   "metadata": {},
   "outputs": [
    {
     "data": {
      "text/plain": [
       "Index(['Document Title', 'Publication Year', 'Abstract'], dtype='object')"
      ]
     },
     "execution_count": 4,
     "metadata": {},
     "output_type": "execute_result"
    }
   ],
   "source": [
    "data.columns"
   ]
  },
  {
   "cell_type": "code",
   "execution_count": 5,
   "metadata": {},
   "outputs": [
    {
     "data": {
      "text/plain": [
       "Document Title      1946\n",
       "Publication Year    1946\n",
       "Abstract            1933\n",
       "dtype: int64"
      ]
     },
     "execution_count": 5,
     "metadata": {},
     "output_type": "execute_result"
    }
   ],
   "source": [
    "data.count()"
   ]
  },
  {
   "cell_type": "code",
   "execution_count": null,
   "metadata": {},
   "outputs": [],
   "source": []
  },
  {
   "cell_type": "code",
   "execution_count": 6,
   "metadata": {},
   "outputs": [],
   "source": [
    "def CreateTermDocMatrix(column):\n",
    "        \n",
    "    count_vectorizer = CountVectorizer(stop_words='english',ngram_range = (1,2),dtype=np.int32)\n",
    "    sparse_matrix = count_vectorizer.fit_transform(data[column].values.astype('U'))\n",
    "\n",
    "    doc_term_matrix = sparse_matrix.todense()\n",
    "    df = pd.DataFrame(doc_term_matrix, columns=count_vectorizer.get_feature_names(), dtype=np.int32)\n",
    "    df['PublishingYear'] = data['Publication Year']\n",
    "    returndf = df.groupby('PublishingYear').sum().transpose().astype('int32')\n",
    "    return returndf"
   ]
  },
  {
   "cell_type": "code",
   "execution_count": 7,
   "metadata": {},
   "outputs": [],
   "source": [
    "def ShowWord(data,word):\n",
    "    d = data.loc[word]\n",
    "    d.plot.bar()"
   ]
  },
  {
   "cell_type": "code",
   "execution_count": 8,
   "metadata": {},
   "outputs": [],
   "source": [
    "def SpaltenEntf(data):\n",
    "    y = []\n",
    "    for item in data.columns:\n",
    "        y = data.columns\n",
    "\n",
    "\n",
    "    for index in range(len(y)):\n",
    "        x = y[index]\n",
    "        if x in stopwords or x.isnumeric():\n",
    "            del data[y[index]]\n",
    "    return data"
   ]
  },
  {
   "cell_type": "code",
   "execution_count": 9,
   "metadata": {},
   "outputs": [],
   "source": [
    "#Untersuchung Abstract\n",
    "#abstract = CreateTermDocMatrix('Abstract')"
   ]
  },
  {
   "cell_type": "code",
   "execution_count": 10,
   "metadata": {},
   "outputs": [],
   "source": [
    "#b = abstract.loc[abstract[2011] > 20] "
   ]
  },
  {
   "cell_type": "code",
   "execution_count": 11,
   "metadata": {},
   "outputs": [],
   "source": [
    "#b.plot.bar()\n",
    "#print(b)"
   ]
  },
  {
   "cell_type": "code",
   "execution_count": 12,
   "metadata": {},
   "outputs": [],
   "source": [
    "from collections import Counter\n",
    "#cnt = Counter()\n",
    "\n",
    "#for abstract in data['Abstract']:\n",
    "#    if type(abstract) is str:\n",
    "#        wordlist = abstract.split(' ')\n",
    "#        for word in wordlist:\n",
    "#            cnt[word] += 1\n",
    "        \n",
    "#cnt.most_common(30)"
   ]
  },
  {
   "cell_type": "code",
   "execution_count": null,
   "metadata": {},
   "outputs": [],
   "source": []
  },
  {
   "cell_type": "code",
   "execution_count": 13,
   "metadata": {},
   "outputs": [],
   "source": [
    "#for abstract in data.itertuples():\n",
    "#    print(abstract[1])\n",
    "#    print(abstract[2])\n",
    "#    print(abstract[3])"
   ]
  },
  {
   "cell_type": "code",
   "execution_count": null,
   "metadata": {},
   "outputs": [],
   "source": []
  },
  {
   "cell_type": "code",
   "execution_count": 14,
   "metadata": {},
   "outputs": [],
   "source": [
    "data = pd.read_csv('./data/data.csv',usecols = ['Document Title','Abstract','Publication Year'])\n",
    "data.columns = ['title','abstract','year']"
   ]
  },
  {
   "cell_type": "code",
   "execution_count": 15,
   "metadata": {},
   "outputs": [],
   "source": [
    "#Untersuchung Title\n",
    "#title = CreateTermDocMatrix('title')\n",
    "\n",
    "#print(title)\n",
    "#title = SpaltenEntf(title)\n",
    "#print(title)\n",
    "\n",
    "#b = title.loc[title[2017] > 5] \n",
    "\n",
    "#b.plot.bar()\n",
    "#print(b)\n",
    "#b.shape"
   ]
  },
  {
   "cell_type": "code",
   "execution_count": 16,
   "metadata": {},
   "outputs": [],
   "source": [
    "#Einzelnes Wort anzeigen\n",
    "#abstract = CreateTermDocMatrix('Abstract')\n",
    "#ShowWord(abstract,'software')"
   ]
  },
  {
   "cell_type": "code",
   "execution_count": 17,
   "metadata": {},
   "outputs": [
    {
     "data": {
      "text/plain": [
       "[('Research', 112),\n",
       " ('Study', 98),\n",
       " ('cover', 77),\n",
       " ('Approach', 73),\n",
       " ('Web', 56),\n",
       " ('Implementation', 40),\n",
       " ('Design', 33),\n",
       " ('Case', 30),\n",
       " ('Performance', 30),\n",
       " ('Application', 30),\n",
       " ('Information', 29),\n",
       " ('Introduction', 28),\n",
       " ('Notice', 26),\n",
       " ('Prediction', 25),\n",
       " ('Challenges', 24),\n",
       " ('Editors', 22),\n",
       " ('Test', 22),\n",
       " ('Decision', 22),\n",
       " ('Evidence', 20),\n",
       " ('Networks', 20),\n",
       " ('Internet', 20),\n",
       " ('Time', 19),\n",
       " ('Testing', 19),\n",
       " ('Effect', 19),\n",
       " ('Projects', 19),\n",
       " ('authors', 18),\n",
       " ('Survey', 17),\n",
       " ('Requirements', 16),\n",
       " ('Bug', 16),\n",
       " ('Editorial', 16),\n",
       " ('Defect', 16),\n",
       " ('Theory', 15),\n",
       " ('Problems', 14),\n",
       " ('Retraction', 14),\n",
       " ('Component', 13),\n",
       " ('Analysis', 13),\n",
       " ('advertisement', 13),\n",
       " ('Execution', 13),\n",
       " ('Impact', 12),\n",
       " ('Evaluation', 12),\n",
       " ('Processing', 12),\n",
       " ('Modeling', 12),\n",
       " ('Cases', 12),\n",
       " ('Lessons', 12),\n",
       " ('Experiments', 11),\n",
       " ('End', 11),\n",
       " ('Features', 11),\n",
       " ('Years', 11),\n",
       " ('Self', 10),\n",
       " ('Lines', 10)]"
      ]
     },
     "execution_count": 17,
     "metadata": {},
     "output_type": "execute_result"
    }
   ],
   "source": [
    "import spacy\n",
    "from spacy.symbols import NOUN\n",
    "from collections import Counter\n",
    "\n",
    "\n",
    "nlp = spacy.load(\"en_core_web_sm\")\n",
    "\n",
    "cnt = Counter()\n",
    "tokenlist = []\n",
    "\n",
    "for columns in data.itertuples():\n",
    "\n",
    "    abstract = columns[1] #1 = title 2 = year 3 = abstract\n",
    "    #print(type(abstract))\n",
    "    # Verarbeite den Text\n",
    "    if type(abstract) is str:\n",
    "        doc = nlp(abstract)\n",
    "        \n",
    "        for token in doc:\n",
    "            # Greife auf den Text, die Wortart und die Dependenzrelation des Tokens zu\n",
    "            token_text = token.text\n",
    "            token_pos = token.pos_\n",
    "            token_dep = token.dep_\n",
    "            token_ent = token.ent_type_\n",
    "\n",
    "            if token.pos == NOUN:\n",
    "                #print(f\"{token_text}: {token_ent}\")\n",
    "                cnt[token_text] += 1\n",
    "                tokenlist.append([token_text,columns[2],token_ent])\n",
    "\n",
    "\n",
    "                # Dies dient nur zur Formatierung\n",
    "        #        print(f\"{token_text:<12}{token_pos:<10}{token_dep:<10}\")\n",
    " \n",
    "#cnt.most_common(50)\n",
    "#tokenlist"
   ]
  }
 ],
 "metadata": {
  "kernelspec": {
   "display_name": "Python 3",
   "language": "python",
   "name": "python3"
  },
  "language_info": {
   "codemirror_mode": {
    "name": "ipython",
    "version": 3
   },
   "file_extension": ".py",
   "mimetype": "text/x-python",
   "name": "python",
   "nbconvert_exporter": "python",
   "pygments_lexer": "ipython3",
   "version": "3.8.5"
  }
 },
 "nbformat": 4,
 "nbformat_minor": 4
}
