{
 "cells": [
  {
   "cell_type": "markdown",
   "metadata": {},
   "source": [
    "# RQ1: Which technologies have been investigated in the last decade?"
   ]
  },
  {
   "cell_type": "markdown",
   "metadata": {},
   "source": [
    "## Module importieren"
   ]
  },
  {
   "cell_type": "code",
   "execution_count": 1,
   "metadata": {},
   "outputs": [],
   "source": [
    "import pandas as pd\n",
    "import altair as alt\n",
    "import numpy as np\n",
    "from collections import Counter\n",
    "import spacy\n",
    "from sklearn.feature_extraction.text import CountVectorizer\n",
    "from sklearn.feature_extraction.text import TfidfTransformer\n",
    "from sklearn.metrics.pairwise import cosine_similarity\n",
    "from spacy.symbols import NOUN,X,VERB,ADJ,SYM,NUM,ADV,ADP,CCONJ\n",
    "from spacy.matcher import Matcher\n",
    "from spacy.util import filter_spans"
   ]
  },
  {
   "cell_type": "markdown",
   "metadata": {},
   "source": [
    "## Daten einlesen\n",
    "In diesem Block werden die Daten in eine Pandas DataFrame geladen. Anschließend werden die Spalten zur besseren Übersichtlichkeit umbenannt."
   ]
  },
  {
   "cell_type": "code",
   "execution_count": 2,
   "metadata": {},
   "outputs": [],
   "source": [
    "#Datene einlesen\n",
    "data = pd.read_csv('./data/data.csv',usecols = ['Unnamed: 0','Document Title','Abstract','Publication Year'])\n",
    "data.columns = ['index','title','year','abstract']\n",
    "data.index = data['index']\n",
    "\n",
    "data.drop([\"index\"], axis = 1, inplace = True)\n"
   ]
  },
  {
   "cell_type": "markdown",
   "metadata": {},
   "source": [
    "## NLP Model laden"
   ]
  },
  {
   "cell_type": "code",
   "execution_count": 3,
   "metadata": {},
   "outputs": [],
   "source": [
    "nlp = spacy.load(\"en_core_web_sm\")"
   ]
  },
  {
   "cell_type": "markdown",
   "metadata": {},
   "source": [
    "## Matcher initialisieren"
   ]
  },
  {
   "cell_type": "code",
   "execution_count": 4,
   "metadata": {},
   "outputs": [],
   "source": [
    "matcher = Matcher(nlp.vocab)"
   ]
  },
  {
   "cell_type": "markdown",
   "metadata": {},
   "source": [
    "## Counter initialisieren"
   ]
  },
  {
   "cell_type": "code",
   "execution_count": 5,
   "metadata": {},
   "outputs": [],
   "source": [
    "cnt = Counter()"
   ]
  },
  {
   "cell_type": "markdown",
   "metadata": {},
   "source": [
    "## Pattern festlegen und dem Matcher hinzufügen"
   ]
  },
  {
   "cell_type": "code",
   "execution_count": 6,
   "metadata": {},
   "outputs": [],
   "source": [
    "pattern_noun_propn = [{'POS': 'PROPN', 'OP': '?'},\n",
    "                      {'POS': 'NOUN'},\n",
    "                      {'POS': 'PROPN', 'OP': '?'}]"
   ]
  },
  {
   "cell_type": "code",
   "execution_count": 7,
   "metadata": {},
   "outputs": [],
   "source": [
    "pattern_nouns = [{'POS': 'NOUN'},\n",
    "                 {'POS': 'NOUN'}]"
   ]
  },
  {
   "cell_type": "code",
   "execution_count": 8,
   "metadata": {},
   "outputs": [],
   "source": [
    "pattern_propn = [{'POS': 'PROPN'},\n",
    "                 {'POS': 'PROPN'}]"
   ]
  },
  {
   "cell_type": "code",
   "execution_count": 9,
   "metadata": {},
   "outputs": [],
   "source": [
    "pattern_adj_noun = [{'POS': 'ADJ'},\n",
    "                    {'POS': 'NOUN'}]"
   ]
  },
  {
   "cell_type": "code",
   "execution_count": 10,
   "metadata": {},
   "outputs": [],
   "source": [
    "pattern_verb_verb = [{'POS': 'VERB'},\n",
    "                    {'POS': 'VERB'}]"
   ]
  },
  {
   "cell_type": "code",
   "execution_count": 11,
   "metadata": {},
   "outputs": [],
   "source": [
    "pattern_adv_noun = [{'POS': 'ADV'},\n",
    "                    {'POS': 'NOUN'}]"
   ]
  },
  {
   "cell_type": "code",
   "execution_count": 12,
   "metadata": {},
   "outputs": [],
   "source": [
    "pattern_verb_noun = [{'POS': 'VERB', 'OP': '?'},\n",
    "                      {'POS': 'NOUN'},\n",
    "                      {'POS': 'VERB', 'OP': '?'}]"
   ]
  },
  {
   "cell_type": "markdown",
   "metadata": {},
   "source": [
    "## Pattern dem Matcher hinzufügen"
   ]
  },
  {
   "cell_type": "code",
   "execution_count": 13,
   "metadata": {},
   "outputs": [],
   "source": [
    "matcher.add(\"match_propn\", [pattern_propn])\n",
    "matcher.add(\"match_noun_propn\", [pattern_noun_propn])\n",
    "matcher.add(\"match_nouns\", [pattern_nouns])\n",
    "matcher.add(\"match_adj_noun\", [pattern_adj_noun])\n",
    "matcher.add(\"match_verb_verb\", [pattern_verb_verb])\n",
    "matcher.add(\"match_adv_noun\", [pattern_adv_noun])\n",
    "matcher.add(\"match_verb_noun\", [pattern_verb_noun])"
   ]
  },
  {
   "cell_type": "markdown",
   "metadata": {},
   "source": [
    "## Funktion für die TermDokumentenMatrix"
   ]
  },
  {
   "cell_type": "code",
   "execution_count": 14,
   "metadata": {},
   "outputs": [],
   "source": [
    "def CreateTermDocMatrix(column):\n",
    "        \n",
    "    #stop_words='english',ngram_range = (1,2),preprocessor = my_preprocessor, \n",
    "    count_vectorizer = CountVectorizer(preprocessor = my_preprocessor,  tokenizer = Retokenize,dtype=np.int32)\n",
    "    sparse_matrix = count_vectorizer.fit_transform(data[column].values.astype('U'))\n",
    "\n",
    "    doc_term_matrix = sparse_matrix.todense()\n",
    "    df = pd.DataFrame(doc_term_matrix, columns=count_vectorizer.get_feature_names(), dtype=np.int32)\n",
    "    df['year'] = data['year']\n",
    "    returndf = df.groupby('year').sum().transpose().astype('int32')\n",
    "    return returndf"
   ]
  },
  {
   "cell_type": "markdown",
   "metadata": {},
   "source": [
    "## Retokenizer\n",
    "Verschmitzt einzeln Wörter zu ganzen Begriffen"
   ]
  },
  {
   "cell_type": "code",
   "execution_count": 16,
   "metadata": {},
   "outputs": [],
   "source": [
    "def Retokenize(text):\n",
    "    doc = nlp(text)\n",
    "\n",
    "    matches = matcher(doc)\n",
    "    sp  = [doc[match[1]:match[2]] for match in matches] \n",
    "\n",
    "    filtered = filter_spans(sp)\n",
    "    with doc.retokenize() as retokenizer:\n",
    "        for s in filtered:\n",
    "            retokenizer.merge(s, attrs = {\"POS\": \"NOUN\"})\n",
    "    return [(token.text) for token in doc]"
   ]
  },
  {
   "cell_type": "markdown",
   "metadata": {},
   "source": [
    "## PreProcessor \n",
    "Filtert ungewünschte Wörter und zeichen raus"
   ]
  },
  {
   "cell_type": "code",
   "execution_count": 17,
   "metadata": {},
   "outputs": [],
   "source": [
    "def my_preprocessor(text):\n",
    "    result = ''\n",
    "    doc = nlp(str(text))\n",
    "    \n",
    "    for token in doc:   \n",
    "        if not token.is_digit:\n",
    "            if not token.is_punct:\n",
    "                if not token.like_num:\n",
    "                    if not token.is_stop:\n",
    "                        if not token.is_space:\n",
    "                            if token.pos != X:\n",
    "                                if token.pos != VERB:\n",
    "                                    if token.pos != ADJ:\n",
    "                                        if token.pos != ADV:\n",
    "                                            if token.pos != ADP:\n",
    "                                                if token.pos != SYM:\n",
    "                                                    if token.pos != NUM:\n",
    "                                                        if token.pos != CCONJ:\n",
    "                                                            cnt[token.lemma_] += 1\n",
    "                                                            result += token.lemma_\n",
    "        if len(result) != 0:\n",
    "            if result[-1] != ' ':\n",
    "                result += ' '\n",
    "    return result"
   ]
  },
  {
   "cell_type": "markdown",
   "metadata": {},
   "source": [
    "## Term Dokumenten Matrix erstellen"
   ]
  },
  {
   "cell_type": "code",
   "execution_count": 18,
   "metadata": {},
   "outputs": [],
   "source": [
    "abstract = CreateTermDocMatrix('abstract')"
   ]
  },
  {
   "cell_type": "code",
   "execution_count": 19,
   "metadata": {},
   "outputs": [],
   "source": [
    "tfidf =TfidfTransformer()"
   ]
  },
  {
   "cell_type": "code",
   "execution_count": 20,
   "metadata": {},
   "outputs": [
    {
     "data": {
      "text/plain": [
       "<13x38601 sparse matrix of type '<class 'numpy.float64'>'\n",
       "\twith 48138 stored elements in Compressed Sparse Row format>"
      ]
     },
     "execution_count": 20,
     "metadata": {},
     "output_type": "execute_result"
    }
   ],
   "source": [
    "tfidf.fit_transform(abstract.transpose())"
   ]
  },
  {
   "cell_type": "code",
   "execution_count": 21,
   "metadata": {},
   "outputs": [
    {
     "name": "stdout",
     "output_type": "stream",
     "text": [
      "<class 'numpy.ndarray'>\n"
     ]
    }
   ],
   "source": [
    "print(type(tfidf.idf_))"
   ]
  },
  {
   "cell_type": "markdown",
   "metadata": {},
   "source": [
    "## Top 15 Themen"
   ]
  },
  {
   "cell_type": "code",
   "execution_count": 22,
   "metadata": {},
   "outputs": [],
   "source": [
    "stopwords = ['software engineering', 'system','software development','result','software','despite','one','Software Engineering','metric','up','software developer','software engineer','paper approach','approach','code', 'state art','software system','engineering','`','c','million','bn','bug bug']"
   ]
  },
  {
   "cell_type": "code",
   "execution_count": 23,
   "metadata": {},
   "outputs": [],
   "source": [
    "anzahl_top_topics = 15"
   ]
  },
  {
   "cell_type": "code",
   "execution_count": 24,
   "metadata": {},
   "outputs": [],
   "source": [
    "data_words = abstract.drop(stopwords, axis = 0)\n",
    "#data_words = abstract"
   ]
  },
  {
   "cell_type": "code",
   "execution_count": null,
   "metadata": {},
   "outputs": [],
   "source": []
  },
  {
   "cell_type": "code",
   "execution_count": 25,
   "metadata": {},
   "outputs": [
    {
     "name": "stdout",
     "output_type": "stream",
     "text": [
      "case study               9\n",
      "software architecture    7\n",
      "OO                       6\n",
      "code review              5\n",
      "source software          5\n",
      "IEEE Software            4\n",
      "backend process          4\n",
      "coverage datum           4\n",
      "development practice     4\n",
      "end user                 4\n",
      "language engineering     4\n",
      "metamodel                4\n",
      "metric change            4\n",
      "paper software           4\n",
      "proneness                4\n",
      "Name: 2009, dtype: int32\n",
      "--------------------------------------------\n",
      "product line             10\n",
      "software product          9\n",
      "software architecture     8\n",
      "exception handling        7\n",
      "case study                5\n",
      "process modeling          5\n",
      "software quality          5\n",
      "test case                 5\n",
      "bug report                4\n",
      "development               4\n",
      "program behavior          4\n",
      "program input             4\n",
      "security mechanism        4\n",
      "test suite                4\n",
      "MOGA class                3\n",
      "Name: 2010, dtype: int32\n",
      "--------------------------------------------\n",
      "case study               6\n",
      "programming language     5\n",
      "IEEE Software            4\n",
      "absorption factor        4\n",
      "consistency rule         4\n",
      "software architecture    4\n",
      "software component       4\n",
      "source software          4\n",
      "web application          4\n",
      "π                        4\n",
      "Mutation Testing         3\n",
      "S architecture           3\n",
      "UML model                3\n",
      "approach software        3\n",
      "attack surface           3\n",
      "Name: 2011, dtype: int32\n",
      "--------------------------------------------\n",
      "test case            11\n",
      "case study            9\n",
      "software asset        6\n",
      "application           5\n",
      "oracle problem        5\n",
      "product line          5\n",
      "refactoring tool      5\n",
      "test suite            5\n",
      "IEEE Software         4\n",
      "business rule         4\n",
      "effort estimation     4\n",
      "line code             4\n",
      "software project      4\n",
      "violation bug         4\n",
      "Domain Specific       3\n",
      "Name: 2012, dtype: int32\n",
      "--------------------------------------------\n",
      "test case            18\n",
      "IEEE Software        15\n",
      "Forrest Shull         9\n",
      "source code           7\n",
      "web                   7\n",
      "Editor Chief          6\n",
      "IR technique          6\n",
      "software project      6\n",
      "traceability link     6\n",
      "NLP technique         5\n",
      "Software editor       5\n",
      "case study            5\n",
      "chief Forrest         5\n",
      "defect prediction     5\n",
      "editor chief          5\n",
      "Name: 2013, dtype: int32\n",
      "--------------------------------------------\n",
      "IEEE Software              9\n",
      "programming language       9\n",
      "software project           9\n",
      "SPAG C                     7\n",
      "product line               7\n",
      "podcast author             6\n",
      "software product           6\n",
      "source code                6\n",
      "test case                  6\n",
      "test suite                 6\n",
      "business process           5\n",
      "code clone                 5\n",
      "code quality               5\n",
      "consistency maintenance    5\n",
      "energy problem             5\n",
      "Name: 2014, dtype: int32\n",
      "--------------------------------------------\n",
      "test suite                      14\n",
      "source code                      8\n",
      "software process                 7\n",
      "article issue                    6\n",
      "cohesion                         6\n",
      "test case                        6\n",
      "approach test                    5\n",
      "development team                 5\n",
      "slice cohesion                   5\n",
      "web                              5\n",
      "web application                  5\n",
      "Booch Computing                  4\n",
      "Engineering Radio                4\n",
      "Huang recording Requirements     4\n",
      "cloud api                        4\n",
      "Name: 2015, dtype: int32\n",
      "--------------------------------------------\n",
      "test case             20\n",
      "Engineering            9\n",
      "Future Software        7\n",
      "ad library             7\n",
      "software architect     7\n",
      "software project       7\n",
      "podcast author         6\n",
      "test script            6\n",
      "IEEE Software          5\n",
      "column                 5\n",
      "defect prediction      5\n",
      "development team       5\n",
      "exception handling     5\n",
      "fault detection        5\n",
      "issue                  5\n",
      "Name: 2016, dtype: int32\n",
      "--------------------------------------------\n",
      "business value          8\n",
      "software project        8\n",
      "App Store               7\n",
      "aggregation scheme      7\n",
      "case study              7\n",
      "Engineering             6\n",
      "model transformation    6\n",
      "source project          6\n",
      "Stack Overflow          5\n",
      "analysis tool           5\n",
      "article issue           5\n",
      "code review             5\n",
      "defect prediction       5\n",
      "process                 5\n",
      "source code             5\n",
      "Name: 2017, dtype: int32\n",
      "--------------------------------------------\n",
      "theme issue                17\n",
      "article theme              15\n",
      "issue software             13\n",
      "engineering anniversary    11\n",
      "anniversary                 9\n",
      "article issue               8\n",
      "source code                 8\n",
      "case study                  7\n",
      "program comprehension       7\n",
      "release engineering         6\n",
      "Actionable Analytics        5\n",
      "Windows Linux               5\n",
      "adaptive software           5\n",
      "language query              5\n",
      "requirement engineering     5\n",
      "Name: 2018, dtype: int32\n",
      "--------------------------------------------\n",
      "source code           20\n",
      "defect prediction     17\n",
      "test suite            14\n",
      "fault localization    11\n",
      "test case             10\n",
      "bug report             8\n",
      "prediction model       8\n",
      "thousand               8\n",
      "build breakage         7\n",
      "case study             7\n",
      "user review            7\n",
      "Stack Overflow         6\n",
      "client package         6\n",
      "developer              6\n",
      "development method     6\n",
      "Name: 2019, dtype: int32\n",
      "--------------------------------------------\n",
      "test case               32\n",
      "test suite              19\n",
      "case study              17\n",
      "source code             16\n",
      "bug report              14\n",
      "defect prediction       14\n",
      "code change             13\n",
      "code review             11\n",
      "Stack Overflow          10\n",
      "design pattern           9\n",
      "Android app              8\n",
      "JIT defect               8\n",
      "defect model             8\n",
      "programming language     8\n",
      "source project           8\n",
      "Name: 2020, dtype: int32\n",
      "--------------------------------------------\n",
      "Stack Overflow        17\n",
      "source code           13\n",
      "test case             12\n",
      "code snippet           9\n",
      "metamodel              9\n",
      "task process           9\n",
      "case study             8\n",
      "source project         8\n",
      "test suite             8\n",
      "feature importance     7\n",
      "process                7\n",
      "software project       7\n",
      "algorithm              6\n",
      "code clone             6\n",
      "defect model           6\n",
      "Name: 2021, dtype: int32\n",
      "--------------------------------------------\n"
     ]
    }
   ],
   "source": [
    "for year in range(2009, 2022,1):\n",
    "    d = data_words[year].nlargest(anzahl_top_topics)\n",
    "    print(d)\n",
    "    print('--------------------------------------------')\n",
    "    \n",
    "\n",
    "\n",
    "\n",
    "   \n"
   ]
  },
  {
   "cell_type": "markdown",
   "metadata": {},
   "source": [
    "## Balkendiagramme erstellen"
   ]
  },
  {
   "cell_type": "markdown",
   "metadata": {},
   "source": [
    "### Balkendiagramm 2009"
   ]
  },
  {
   "cell_type": "code",
   "execution_count": 26,
   "metadata": {},
   "outputs": [
    {
     "data": {
      "text/html": [
       "\n",
       "<div id=\"altair-viz-f49c68c98d9a4cbd835408da0dfeefae\"></div>\n",
       "<script type=\"text/javascript\">\n",
       "  (function(spec, embedOpt){\n",
       "    let outputDiv = document.currentScript.previousElementSibling;\n",
       "    if (outputDiv.id !== \"altair-viz-f49c68c98d9a4cbd835408da0dfeefae\") {\n",
       "      outputDiv = document.getElementById(\"altair-viz-f49c68c98d9a4cbd835408da0dfeefae\");\n",
       "    }\n",
       "    const paths = {\n",
       "      \"vega\": \"https://cdn.jsdelivr.net/npm//vega@5?noext\",\n",
       "      \"vega-lib\": \"https://cdn.jsdelivr.net/npm//vega-lib?noext\",\n",
       "      \"vega-lite\": \"https://cdn.jsdelivr.net/npm//vega-lite@4.8.1?noext\",\n",
       "      \"vega-embed\": \"https://cdn.jsdelivr.net/npm//vega-embed@6?noext\",\n",
       "    };\n",
       "\n",
       "    function loadScript(lib) {\n",
       "      return new Promise(function(resolve, reject) {\n",
       "        var s = document.createElement('script');\n",
       "        s.src = paths[lib];\n",
       "        s.async = true;\n",
       "        s.onload = () => resolve(paths[lib]);\n",
       "        s.onerror = () => reject(`Error loading script: ${paths[lib]}`);\n",
       "        document.getElementsByTagName(\"head\")[0].appendChild(s);\n",
       "      });\n",
       "    }\n",
       "\n",
       "    function showError(err) {\n",
       "      outputDiv.innerHTML = `<div class=\"error\" style=\"color:red;\">${err}</div>`;\n",
       "      throw err;\n",
       "    }\n",
       "\n",
       "    function displayChart(vegaEmbed) {\n",
       "      vegaEmbed(outputDiv, spec, embedOpt)\n",
       "        .catch(err => showError(`Javascript Error: ${err.message}<br>This usually means there's a typo in your chart specification. See the javascript console for the full traceback.`));\n",
       "    }\n",
       "\n",
       "    if(typeof define === \"function\" && define.amd) {\n",
       "      requirejs.config({paths});\n",
       "      require([\"vega-embed\"], displayChart, err => showError(`Error loading script: ${err.message}`));\n",
       "    } else if (typeof vegaEmbed === \"function\") {\n",
       "      displayChart(vegaEmbed);\n",
       "    } else {\n",
       "      loadScript(\"vega\")\n",
       "        .then(() => loadScript(\"vega-lite\"))\n",
       "        .then(() => loadScript(\"vega-embed\"))\n",
       "        .catch(showError)\n",
       "        .then(() => displayChart(vegaEmbed));\n",
       "    }\n",
       "  })({\"config\": {\"view\": {\"continuousWidth\": 400, \"continuousHeight\": 300}}, \"data\": {\"name\": \"data-b4fab456084276b34f1d123aee15209e\"}, \"mark\": \"bar\", \"encoding\": {\"x\": {\"type\": \"ordinal\", \"field\": \"Technologies\"}, \"y\": {\"type\": \"quantitative\", \"field\": \"Anzahl\"}}, \"title\": \"Technologien 2009\", \"$schema\": \"https://vega.github.io/schema/vega-lite/v4.8.1.json\", \"datasets\": {\"data-b4fab456084276b34f1d123aee15209e\": [{\"Technologies\": \"case study\", \"Anzahl\": 9}, {\"Technologies\": \"software architecture\", \"Anzahl\": 7}, {\"Technologies\": \"OO\", \"Anzahl\": 6}, {\"Technologies\": \"source software\", \"Anzahl\": 5}, {\"Technologies\": \"code review\", \"Anzahl\": 5}, {\"Technologies\": \"proneness\", \"Anzahl\": 4}, {\"Technologies\": \"paper software\", \"Anzahl\": 4}, {\"Technologies\": \"metric change\", \"Anzahl\": 4}, {\"Technologies\": \"metamodel\", \"Anzahl\": 4}, {\"Technologies\": \"language engineering\", \"Anzahl\": 4}, {\"Technologies\": \"end user\", \"Anzahl\": 4}, {\"Technologies\": \"development practice\", \"Anzahl\": 4}, {\"Technologies\": \"coverage datum\", \"Anzahl\": 4}, {\"Technologies\": \"backend process\", \"Anzahl\": 4}, {\"Technologies\": \"IEEE Software\", \"Anzahl\": 4}]}}, {\"mode\": \"vega-lite\"});\n",
       "</script>"
      ],
      "text/plain": [
       "alt.Chart(...)"
      ]
     },
     "execution_count": 26,
     "metadata": {},
     "output_type": "execute_result"
    }
   ],
   "source": [
    "year = 2009\n",
    "d = data_words[year].nlargest(anzahl_top_topics).sort_values(ascending=False)\n",
    "source = pd.DataFrame({'Technologies': d.index,\n",
    "                            'Anzahl': d})\n",
    "alt.Chart(source).mark_bar().encode(\n",
    "        x='Technologies:O',\n",
    "        y='Anzahl:Q'\n",
    "    ).properties(\n",
    "    title=f'Technologien {year}')"
   ]
  },
  {
   "cell_type": "markdown",
   "metadata": {},
   "source": [
    "### Balkendiagramm 2010"
   ]
  },
  {
   "cell_type": "code",
   "execution_count": 27,
   "metadata": {},
   "outputs": [
    {
     "data": {
      "text/html": [
       "\n",
       "<div id=\"altair-viz-d664812c0e37471997954798adcd8866\"></div>\n",
       "<script type=\"text/javascript\">\n",
       "  (function(spec, embedOpt){\n",
       "    let outputDiv = document.currentScript.previousElementSibling;\n",
       "    if (outputDiv.id !== \"altair-viz-d664812c0e37471997954798adcd8866\") {\n",
       "      outputDiv = document.getElementById(\"altair-viz-d664812c0e37471997954798adcd8866\");\n",
       "    }\n",
       "    const paths = {\n",
       "      \"vega\": \"https://cdn.jsdelivr.net/npm//vega@5?noext\",\n",
       "      \"vega-lib\": \"https://cdn.jsdelivr.net/npm//vega-lib?noext\",\n",
       "      \"vega-lite\": \"https://cdn.jsdelivr.net/npm//vega-lite@4.8.1?noext\",\n",
       "      \"vega-embed\": \"https://cdn.jsdelivr.net/npm//vega-embed@6?noext\",\n",
       "    };\n",
       "\n",
       "    function loadScript(lib) {\n",
       "      return new Promise(function(resolve, reject) {\n",
       "        var s = document.createElement('script');\n",
       "        s.src = paths[lib];\n",
       "        s.async = true;\n",
       "        s.onload = () => resolve(paths[lib]);\n",
       "        s.onerror = () => reject(`Error loading script: ${paths[lib]}`);\n",
       "        document.getElementsByTagName(\"head\")[0].appendChild(s);\n",
       "      });\n",
       "    }\n",
       "\n",
       "    function showError(err) {\n",
       "      outputDiv.innerHTML = `<div class=\"error\" style=\"color:red;\">${err}</div>`;\n",
       "      throw err;\n",
       "    }\n",
       "\n",
       "    function displayChart(vegaEmbed) {\n",
       "      vegaEmbed(outputDiv, spec, embedOpt)\n",
       "        .catch(err => showError(`Javascript Error: ${err.message}<br>This usually means there's a typo in your chart specification. See the javascript console for the full traceback.`));\n",
       "    }\n",
       "\n",
       "    if(typeof define === \"function\" && define.amd) {\n",
       "      requirejs.config({paths});\n",
       "      require([\"vega-embed\"], displayChart, err => showError(`Error loading script: ${err.message}`));\n",
       "    } else if (typeof vegaEmbed === \"function\") {\n",
       "      displayChart(vegaEmbed);\n",
       "    } else {\n",
       "      loadScript(\"vega\")\n",
       "        .then(() => loadScript(\"vega-lite\"))\n",
       "        .then(() => loadScript(\"vega-embed\"))\n",
       "        .catch(showError)\n",
       "        .then(() => displayChart(vegaEmbed));\n",
       "    }\n",
       "  })({\"config\": {\"view\": {\"continuousWidth\": 400, \"continuousHeight\": 300}}, \"data\": {\"name\": \"data-4d46dea20e8f9a62a7c571950b4bc5c4\"}, \"mark\": \"bar\", \"encoding\": {\"x\": {\"type\": \"ordinal\", \"field\": \"Technologies\"}, \"y\": {\"type\": \"quantitative\", \"field\": \"Anzahl\"}}, \"title\": \"Technologien 2010\", \"$schema\": \"https://vega.github.io/schema/vega-lite/v4.8.1.json\", \"datasets\": {\"data-4d46dea20e8f9a62a7c571950b4bc5c4\": [{\"Technologies\": \"product line\", \"Anzahl\": 10}, {\"Technologies\": \"software product\", \"Anzahl\": 9}, {\"Technologies\": \"software architecture\", \"Anzahl\": 8}, {\"Technologies\": \"exception handling\", \"Anzahl\": 7}, {\"Technologies\": \"test case\", \"Anzahl\": 5}, {\"Technologies\": \"software quality\", \"Anzahl\": 5}, {\"Technologies\": \"process modeling\", \"Anzahl\": 5}, {\"Technologies\": \"case study\", \"Anzahl\": 5}, {\"Technologies\": \"test suite\", \"Anzahl\": 4}, {\"Technologies\": \"security mechanism\", \"Anzahl\": 4}, {\"Technologies\": \"program input\", \"Anzahl\": 4}, {\"Technologies\": \"program behavior\", \"Anzahl\": 4}, {\"Technologies\": \"development\", \"Anzahl\": 4}, {\"Technologies\": \"bug report\", \"Anzahl\": 4}, {\"Technologies\": \"MOGA class\", \"Anzahl\": 3}]}}, {\"mode\": \"vega-lite\"});\n",
       "</script>"
      ],
      "text/plain": [
       "alt.Chart(...)"
      ]
     },
     "execution_count": 27,
     "metadata": {},
     "output_type": "execute_result"
    }
   ],
   "source": [
    "year = 2010\n",
    "d = data_words[year].nlargest(anzahl_top_topics).sort_values(ascending=False)\n",
    "source = pd.DataFrame({'Technologies': d.index,\n",
    "                            'Anzahl': d})\n",
    "alt.Chart(source).mark_bar().encode(\n",
    "        x='Technologies:O',\n",
    "        y='Anzahl:Q'\n",
    "    ).properties(\n",
    "    title=f'Technologien {year}')"
   ]
  },
  {
   "cell_type": "markdown",
   "metadata": {},
   "source": [
    "## Balkendiagramm 2011"
   ]
  },
  {
   "cell_type": "code",
   "execution_count": 28,
   "metadata": {},
   "outputs": [
    {
     "data": {
      "text/html": [
       "\n",
       "<div id=\"altair-viz-7e7a6c56addd46899d6db3ca9ddf2fb3\"></div>\n",
       "<script type=\"text/javascript\">\n",
       "  (function(spec, embedOpt){\n",
       "    let outputDiv = document.currentScript.previousElementSibling;\n",
       "    if (outputDiv.id !== \"altair-viz-7e7a6c56addd46899d6db3ca9ddf2fb3\") {\n",
       "      outputDiv = document.getElementById(\"altair-viz-7e7a6c56addd46899d6db3ca9ddf2fb3\");\n",
       "    }\n",
       "    const paths = {\n",
       "      \"vega\": \"https://cdn.jsdelivr.net/npm//vega@5?noext\",\n",
       "      \"vega-lib\": \"https://cdn.jsdelivr.net/npm//vega-lib?noext\",\n",
       "      \"vega-lite\": \"https://cdn.jsdelivr.net/npm//vega-lite@4.8.1?noext\",\n",
       "      \"vega-embed\": \"https://cdn.jsdelivr.net/npm//vega-embed@6?noext\",\n",
       "    };\n",
       "\n",
       "    function loadScript(lib) {\n",
       "      return new Promise(function(resolve, reject) {\n",
       "        var s = document.createElement('script');\n",
       "        s.src = paths[lib];\n",
       "        s.async = true;\n",
       "        s.onload = () => resolve(paths[lib]);\n",
       "        s.onerror = () => reject(`Error loading script: ${paths[lib]}`);\n",
       "        document.getElementsByTagName(\"head\")[0].appendChild(s);\n",
       "      });\n",
       "    }\n",
       "\n",
       "    function showError(err) {\n",
       "      outputDiv.innerHTML = `<div class=\"error\" style=\"color:red;\">${err}</div>`;\n",
       "      throw err;\n",
       "    }\n",
       "\n",
       "    function displayChart(vegaEmbed) {\n",
       "      vegaEmbed(outputDiv, spec, embedOpt)\n",
       "        .catch(err => showError(`Javascript Error: ${err.message}<br>This usually means there's a typo in your chart specification. See the javascript console for the full traceback.`));\n",
       "    }\n",
       "\n",
       "    if(typeof define === \"function\" && define.amd) {\n",
       "      requirejs.config({paths});\n",
       "      require([\"vega-embed\"], displayChart, err => showError(`Error loading script: ${err.message}`));\n",
       "    } else if (typeof vegaEmbed === \"function\") {\n",
       "      displayChart(vegaEmbed);\n",
       "    } else {\n",
       "      loadScript(\"vega\")\n",
       "        .then(() => loadScript(\"vega-lite\"))\n",
       "        .then(() => loadScript(\"vega-embed\"))\n",
       "        .catch(showError)\n",
       "        .then(() => displayChart(vegaEmbed));\n",
       "    }\n",
       "  })({\"config\": {\"view\": {\"continuousWidth\": 400, \"continuousHeight\": 300}}, \"data\": {\"name\": \"data-985bd8fa09875161ae15f8e8136fe4fb\"}, \"mark\": \"bar\", \"encoding\": {\"x\": {\"type\": \"ordinal\", \"field\": \"Technologies\"}, \"y\": {\"type\": \"quantitative\", \"field\": \"Anzahl\"}}, \"title\": \"Technologien 2011\", \"$schema\": \"https://vega.github.io/schema/vega-lite/v4.8.1.json\", \"datasets\": {\"data-985bd8fa09875161ae15f8e8136fe4fb\": [{\"Technologies\": \"case study\", \"Anzahl\": 6}, {\"Technologies\": \"programming language\", \"Anzahl\": 5}, {\"Technologies\": \"\\u03c0\", \"Anzahl\": 4}, {\"Technologies\": \"web application\", \"Anzahl\": 4}, {\"Technologies\": \"source software\", \"Anzahl\": 4}, {\"Technologies\": \"software component\", \"Anzahl\": 4}, {\"Technologies\": \"software architecture\", \"Anzahl\": 4}, {\"Technologies\": \"consistency rule\", \"Anzahl\": 4}, {\"Technologies\": \"absorption factor\", \"Anzahl\": 4}, {\"Technologies\": \"IEEE Software\", \"Anzahl\": 4}, {\"Technologies\": \"attack surface\", \"Anzahl\": 3}, {\"Technologies\": \"approach software\", \"Anzahl\": 3}, {\"Technologies\": \"UML model\", \"Anzahl\": 3}, {\"Technologies\": \"S architecture\", \"Anzahl\": 3}, {\"Technologies\": \"Mutation Testing\", \"Anzahl\": 3}]}}, {\"mode\": \"vega-lite\"});\n",
       "</script>"
      ],
      "text/plain": [
       "alt.Chart(...)"
      ]
     },
     "execution_count": 28,
     "metadata": {},
     "output_type": "execute_result"
    }
   ],
   "source": [
    "year = 2011\n",
    "d = data_words[year].nlargest(anzahl_top_topics).sort_values(ascending=False)\n",
    "source = pd.DataFrame({'Technologies': d.index,\n",
    "                            'Anzahl': d})\n",
    "alt.Chart(source).mark_bar().encode(\n",
    "        x='Technologies:O',\n",
    "        y='Anzahl:Q'\n",
    "    ).properties(\n",
    "    title=f'Technologien {year}')"
   ]
  },
  {
   "cell_type": "markdown",
   "metadata": {},
   "source": [
    "### Balkendiagramm 2012"
   ]
  },
  {
   "cell_type": "code",
   "execution_count": 29,
   "metadata": {},
   "outputs": [
    {
     "data": {
      "text/html": [
       "\n",
       "<div id=\"altair-viz-fbf39378bcca48b49d67716844e53322\"></div>\n",
       "<script type=\"text/javascript\">\n",
       "  (function(spec, embedOpt){\n",
       "    let outputDiv = document.currentScript.previousElementSibling;\n",
       "    if (outputDiv.id !== \"altair-viz-fbf39378bcca48b49d67716844e53322\") {\n",
       "      outputDiv = document.getElementById(\"altair-viz-fbf39378bcca48b49d67716844e53322\");\n",
       "    }\n",
       "    const paths = {\n",
       "      \"vega\": \"https://cdn.jsdelivr.net/npm//vega@5?noext\",\n",
       "      \"vega-lib\": \"https://cdn.jsdelivr.net/npm//vega-lib?noext\",\n",
       "      \"vega-lite\": \"https://cdn.jsdelivr.net/npm//vega-lite@4.8.1?noext\",\n",
       "      \"vega-embed\": \"https://cdn.jsdelivr.net/npm//vega-embed@6?noext\",\n",
       "    };\n",
       "\n",
       "    function loadScript(lib) {\n",
       "      return new Promise(function(resolve, reject) {\n",
       "        var s = document.createElement('script');\n",
       "        s.src = paths[lib];\n",
       "        s.async = true;\n",
       "        s.onload = () => resolve(paths[lib]);\n",
       "        s.onerror = () => reject(`Error loading script: ${paths[lib]}`);\n",
       "        document.getElementsByTagName(\"head\")[0].appendChild(s);\n",
       "      });\n",
       "    }\n",
       "\n",
       "    function showError(err) {\n",
       "      outputDiv.innerHTML = `<div class=\"error\" style=\"color:red;\">${err}</div>`;\n",
       "      throw err;\n",
       "    }\n",
       "\n",
       "    function displayChart(vegaEmbed) {\n",
       "      vegaEmbed(outputDiv, spec, embedOpt)\n",
       "        .catch(err => showError(`Javascript Error: ${err.message}<br>This usually means there's a typo in your chart specification. See the javascript console for the full traceback.`));\n",
       "    }\n",
       "\n",
       "    if(typeof define === \"function\" && define.amd) {\n",
       "      requirejs.config({paths});\n",
       "      require([\"vega-embed\"], displayChart, err => showError(`Error loading script: ${err.message}`));\n",
       "    } else if (typeof vegaEmbed === \"function\") {\n",
       "      displayChart(vegaEmbed);\n",
       "    } else {\n",
       "      loadScript(\"vega\")\n",
       "        .then(() => loadScript(\"vega-lite\"))\n",
       "        .then(() => loadScript(\"vega-embed\"))\n",
       "        .catch(showError)\n",
       "        .then(() => displayChart(vegaEmbed));\n",
       "    }\n",
       "  })({\"config\": {\"view\": {\"continuousWidth\": 400, \"continuousHeight\": 300}}, \"data\": {\"name\": \"data-db5e6822718d20a68a9d30d949457028\"}, \"mark\": \"bar\", \"encoding\": {\"x\": {\"type\": \"ordinal\", \"field\": \"Technologies\"}, \"y\": {\"type\": \"quantitative\", \"field\": \"Anzahl\"}}, \"title\": \"Technologien 2012\", \"$schema\": \"https://vega.github.io/schema/vega-lite/v4.8.1.json\", \"datasets\": {\"data-db5e6822718d20a68a9d30d949457028\": [{\"Technologies\": \"test case\", \"Anzahl\": 11}, {\"Technologies\": \"case study\", \"Anzahl\": 9}, {\"Technologies\": \"software asset\", \"Anzahl\": 6}, {\"Technologies\": \"test suite\", \"Anzahl\": 5}, {\"Technologies\": \"refactoring tool\", \"Anzahl\": 5}, {\"Technologies\": \"product line\", \"Anzahl\": 5}, {\"Technologies\": \"oracle problem\", \"Anzahl\": 5}, {\"Technologies\": \"application\", \"Anzahl\": 5}, {\"Technologies\": \"violation bug\", \"Anzahl\": 4}, {\"Technologies\": \"software project\", \"Anzahl\": 4}, {\"Technologies\": \"line code\", \"Anzahl\": 4}, {\"Technologies\": \"effort estimation\", \"Anzahl\": 4}, {\"Technologies\": \"business rule\", \"Anzahl\": 4}, {\"Technologies\": \"IEEE Software\", \"Anzahl\": 4}, {\"Technologies\": \"Domain Specific\", \"Anzahl\": 3}]}}, {\"mode\": \"vega-lite\"});\n",
       "</script>"
      ],
      "text/plain": [
       "alt.Chart(...)"
      ]
     },
     "execution_count": 29,
     "metadata": {},
     "output_type": "execute_result"
    }
   ],
   "source": [
    "year = 2012\n",
    "d = data_words[year].nlargest(anzahl_top_topics).sort_values(ascending=False)\n",
    "source = pd.DataFrame({'Technologies': d.index,\n",
    "                            'Anzahl': d})\n",
    "alt.Chart(source).mark_bar().encode(\n",
    "        x='Technologies:O',\n",
    "        y='Anzahl:Q'\n",
    "    ).properties(\n",
    "    title=f'Technologien {year}')"
   ]
  },
  {
   "cell_type": "markdown",
   "metadata": {},
   "source": [
    "### Balkendiagramm 2013"
   ]
  },
  {
   "cell_type": "code",
   "execution_count": 30,
   "metadata": {},
   "outputs": [
    {
     "data": {
      "text/html": [
       "\n",
       "<div id=\"altair-viz-d870f8f4383a4314afffff741a2722c5\"></div>\n",
       "<script type=\"text/javascript\">\n",
       "  (function(spec, embedOpt){\n",
       "    let outputDiv = document.currentScript.previousElementSibling;\n",
       "    if (outputDiv.id !== \"altair-viz-d870f8f4383a4314afffff741a2722c5\") {\n",
       "      outputDiv = document.getElementById(\"altair-viz-d870f8f4383a4314afffff741a2722c5\");\n",
       "    }\n",
       "    const paths = {\n",
       "      \"vega\": \"https://cdn.jsdelivr.net/npm//vega@5?noext\",\n",
       "      \"vega-lib\": \"https://cdn.jsdelivr.net/npm//vega-lib?noext\",\n",
       "      \"vega-lite\": \"https://cdn.jsdelivr.net/npm//vega-lite@4.8.1?noext\",\n",
       "      \"vega-embed\": \"https://cdn.jsdelivr.net/npm//vega-embed@6?noext\",\n",
       "    };\n",
       "\n",
       "    function loadScript(lib) {\n",
       "      return new Promise(function(resolve, reject) {\n",
       "        var s = document.createElement('script');\n",
       "        s.src = paths[lib];\n",
       "        s.async = true;\n",
       "        s.onload = () => resolve(paths[lib]);\n",
       "        s.onerror = () => reject(`Error loading script: ${paths[lib]}`);\n",
       "        document.getElementsByTagName(\"head\")[0].appendChild(s);\n",
       "      });\n",
       "    }\n",
       "\n",
       "    function showError(err) {\n",
       "      outputDiv.innerHTML = `<div class=\"error\" style=\"color:red;\">${err}</div>`;\n",
       "      throw err;\n",
       "    }\n",
       "\n",
       "    function displayChart(vegaEmbed) {\n",
       "      vegaEmbed(outputDiv, spec, embedOpt)\n",
       "        .catch(err => showError(`Javascript Error: ${err.message}<br>This usually means there's a typo in your chart specification. See the javascript console for the full traceback.`));\n",
       "    }\n",
       "\n",
       "    if(typeof define === \"function\" && define.amd) {\n",
       "      requirejs.config({paths});\n",
       "      require([\"vega-embed\"], displayChart, err => showError(`Error loading script: ${err.message}`));\n",
       "    } else if (typeof vegaEmbed === \"function\") {\n",
       "      displayChart(vegaEmbed);\n",
       "    } else {\n",
       "      loadScript(\"vega\")\n",
       "        .then(() => loadScript(\"vega-lite\"))\n",
       "        .then(() => loadScript(\"vega-embed\"))\n",
       "        .catch(showError)\n",
       "        .then(() => displayChart(vegaEmbed));\n",
       "    }\n",
       "  })({\"config\": {\"view\": {\"continuousWidth\": 400, \"continuousHeight\": 300}}, \"data\": {\"name\": \"data-b4357fa0db19b72745351713d64adab3\"}, \"mark\": \"bar\", \"encoding\": {\"x\": {\"type\": \"ordinal\", \"field\": \"Technologies\"}, \"y\": {\"type\": \"quantitative\", \"field\": \"Anzahl\"}}, \"title\": \"Technologien 2013\", \"$schema\": \"https://vega.github.io/schema/vega-lite/v4.8.1.json\", \"datasets\": {\"data-b4357fa0db19b72745351713d64adab3\": [{\"Technologies\": \"test case\", \"Anzahl\": 18}, {\"Technologies\": \"IEEE Software\", \"Anzahl\": 15}, {\"Technologies\": \"Forrest Shull\", \"Anzahl\": 9}, {\"Technologies\": \"web\", \"Anzahl\": 7}, {\"Technologies\": \"source code\", \"Anzahl\": 7}, {\"Technologies\": \"traceability link\", \"Anzahl\": 6}, {\"Technologies\": \"software project\", \"Anzahl\": 6}, {\"Technologies\": \"IR technique\", \"Anzahl\": 6}, {\"Technologies\": \"Editor Chief\", \"Anzahl\": 6}, {\"Technologies\": \"editor chief\", \"Anzahl\": 5}, {\"Technologies\": \"defect prediction\", \"Anzahl\": 5}, {\"Technologies\": \"chief Forrest\", \"Anzahl\": 5}, {\"Technologies\": \"case study\", \"Anzahl\": 5}, {\"Technologies\": \"Software editor\", \"Anzahl\": 5}, {\"Technologies\": \"NLP technique\", \"Anzahl\": 5}]}}, {\"mode\": \"vega-lite\"});\n",
       "</script>"
      ],
      "text/plain": [
       "alt.Chart(...)"
      ]
     },
     "execution_count": 30,
     "metadata": {},
     "output_type": "execute_result"
    }
   ],
   "source": [
    "year = 2013\n",
    "d = data_words[year].nlargest(anzahl_top_topics).sort_values(ascending=False)\n",
    "source = pd.DataFrame({'Technologies': d.index,\n",
    "                            'Anzahl': d})\n",
    "alt.Chart(source).mark_bar().encode(\n",
    "        x='Technologies:O',\n",
    "        y='Anzahl:Q'\n",
    "    ).properties(\n",
    "    title=f'Technologien {year}')"
   ]
  },
  {
   "cell_type": "markdown",
   "metadata": {},
   "source": [
    "### Balkendiagramm 2014"
   ]
  },
  {
   "cell_type": "code",
   "execution_count": 31,
   "metadata": {},
   "outputs": [
    {
     "data": {
      "text/html": [
       "\n",
       "<div id=\"altair-viz-84408398f82441e7a0ab066c9e2ca065\"></div>\n",
       "<script type=\"text/javascript\">\n",
       "  (function(spec, embedOpt){\n",
       "    let outputDiv = document.currentScript.previousElementSibling;\n",
       "    if (outputDiv.id !== \"altair-viz-84408398f82441e7a0ab066c9e2ca065\") {\n",
       "      outputDiv = document.getElementById(\"altair-viz-84408398f82441e7a0ab066c9e2ca065\");\n",
       "    }\n",
       "    const paths = {\n",
       "      \"vega\": \"https://cdn.jsdelivr.net/npm//vega@5?noext\",\n",
       "      \"vega-lib\": \"https://cdn.jsdelivr.net/npm//vega-lib?noext\",\n",
       "      \"vega-lite\": \"https://cdn.jsdelivr.net/npm//vega-lite@4.8.1?noext\",\n",
       "      \"vega-embed\": \"https://cdn.jsdelivr.net/npm//vega-embed@6?noext\",\n",
       "    };\n",
       "\n",
       "    function loadScript(lib) {\n",
       "      return new Promise(function(resolve, reject) {\n",
       "        var s = document.createElement('script');\n",
       "        s.src = paths[lib];\n",
       "        s.async = true;\n",
       "        s.onload = () => resolve(paths[lib]);\n",
       "        s.onerror = () => reject(`Error loading script: ${paths[lib]}`);\n",
       "        document.getElementsByTagName(\"head\")[0].appendChild(s);\n",
       "      });\n",
       "    }\n",
       "\n",
       "    function showError(err) {\n",
       "      outputDiv.innerHTML = `<div class=\"error\" style=\"color:red;\">${err}</div>`;\n",
       "      throw err;\n",
       "    }\n",
       "\n",
       "    function displayChart(vegaEmbed) {\n",
       "      vegaEmbed(outputDiv, spec, embedOpt)\n",
       "        .catch(err => showError(`Javascript Error: ${err.message}<br>This usually means there's a typo in your chart specification. See the javascript console for the full traceback.`));\n",
       "    }\n",
       "\n",
       "    if(typeof define === \"function\" && define.amd) {\n",
       "      requirejs.config({paths});\n",
       "      require([\"vega-embed\"], displayChart, err => showError(`Error loading script: ${err.message}`));\n",
       "    } else if (typeof vegaEmbed === \"function\") {\n",
       "      displayChart(vegaEmbed);\n",
       "    } else {\n",
       "      loadScript(\"vega\")\n",
       "        .then(() => loadScript(\"vega-lite\"))\n",
       "        .then(() => loadScript(\"vega-embed\"))\n",
       "        .catch(showError)\n",
       "        .then(() => displayChart(vegaEmbed));\n",
       "    }\n",
       "  })({\"config\": {\"view\": {\"continuousWidth\": 400, \"continuousHeight\": 300}}, \"data\": {\"name\": \"data-09eb439ef7a2a57d5b98a5b59c1e0a21\"}, \"mark\": \"bar\", \"encoding\": {\"x\": {\"type\": \"ordinal\", \"field\": \"Technologies\"}, \"y\": {\"type\": \"quantitative\", \"field\": \"Anzahl\"}}, \"title\": \"Technologien 2014\", \"$schema\": \"https://vega.github.io/schema/vega-lite/v4.8.1.json\", \"datasets\": {\"data-09eb439ef7a2a57d5b98a5b59c1e0a21\": [{\"Technologies\": \"software project\", \"Anzahl\": 9}, {\"Technologies\": \"programming language\", \"Anzahl\": 9}, {\"Technologies\": \"IEEE Software\", \"Anzahl\": 9}, {\"Technologies\": \"product line\", \"Anzahl\": 7}, {\"Technologies\": \"SPAG C\", \"Anzahl\": 7}, {\"Technologies\": \"test suite\", \"Anzahl\": 6}, {\"Technologies\": \"test case\", \"Anzahl\": 6}, {\"Technologies\": \"source code\", \"Anzahl\": 6}, {\"Technologies\": \"software product\", \"Anzahl\": 6}, {\"Technologies\": \"podcast author\", \"Anzahl\": 6}, {\"Technologies\": \"energy problem\", \"Anzahl\": 5}, {\"Technologies\": \"consistency maintenance\", \"Anzahl\": 5}, {\"Technologies\": \"code quality\", \"Anzahl\": 5}, {\"Technologies\": \"code clone\", \"Anzahl\": 5}, {\"Technologies\": \"business process\", \"Anzahl\": 5}]}}, {\"mode\": \"vega-lite\"});\n",
       "</script>"
      ],
      "text/plain": [
       "alt.Chart(...)"
      ]
     },
     "execution_count": 31,
     "metadata": {},
     "output_type": "execute_result"
    }
   ],
   "source": [
    "year = 2014\n",
    "d = data_words[year].nlargest(anzahl_top_topics).sort_values(ascending=False)\n",
    "source = pd.DataFrame({'Technologies': d.index,\n",
    "                            'Anzahl': d})\n",
    "alt.Chart(source).mark_bar().encode(\n",
    "        x='Technologies:O',\n",
    "        y='Anzahl:Q'\n",
    "    ).properties(\n",
    "    title=f'Technologien {year}')"
   ]
  },
  {
   "cell_type": "markdown",
   "metadata": {},
   "source": [
    "### Balkendiagramm 2015"
   ]
  },
  {
   "cell_type": "code",
   "execution_count": 32,
   "metadata": {},
   "outputs": [
    {
     "data": {
      "text/html": [
       "\n",
       "<div id=\"altair-viz-5b442bcfc3b74ef3a84a86d3a53d9c69\"></div>\n",
       "<script type=\"text/javascript\">\n",
       "  (function(spec, embedOpt){\n",
       "    let outputDiv = document.currentScript.previousElementSibling;\n",
       "    if (outputDiv.id !== \"altair-viz-5b442bcfc3b74ef3a84a86d3a53d9c69\") {\n",
       "      outputDiv = document.getElementById(\"altair-viz-5b442bcfc3b74ef3a84a86d3a53d9c69\");\n",
       "    }\n",
       "    const paths = {\n",
       "      \"vega\": \"https://cdn.jsdelivr.net/npm//vega@5?noext\",\n",
       "      \"vega-lib\": \"https://cdn.jsdelivr.net/npm//vega-lib?noext\",\n",
       "      \"vega-lite\": \"https://cdn.jsdelivr.net/npm//vega-lite@4.8.1?noext\",\n",
       "      \"vega-embed\": \"https://cdn.jsdelivr.net/npm//vega-embed@6?noext\",\n",
       "    };\n",
       "\n",
       "    function loadScript(lib) {\n",
       "      return new Promise(function(resolve, reject) {\n",
       "        var s = document.createElement('script');\n",
       "        s.src = paths[lib];\n",
       "        s.async = true;\n",
       "        s.onload = () => resolve(paths[lib]);\n",
       "        s.onerror = () => reject(`Error loading script: ${paths[lib]}`);\n",
       "        document.getElementsByTagName(\"head\")[0].appendChild(s);\n",
       "      });\n",
       "    }\n",
       "\n",
       "    function showError(err) {\n",
       "      outputDiv.innerHTML = `<div class=\"error\" style=\"color:red;\">${err}</div>`;\n",
       "      throw err;\n",
       "    }\n",
       "\n",
       "    function displayChart(vegaEmbed) {\n",
       "      vegaEmbed(outputDiv, spec, embedOpt)\n",
       "        .catch(err => showError(`Javascript Error: ${err.message}<br>This usually means there's a typo in your chart specification. See the javascript console for the full traceback.`));\n",
       "    }\n",
       "\n",
       "    if(typeof define === \"function\" && define.amd) {\n",
       "      requirejs.config({paths});\n",
       "      require([\"vega-embed\"], displayChart, err => showError(`Error loading script: ${err.message}`));\n",
       "    } else if (typeof vegaEmbed === \"function\") {\n",
       "      displayChart(vegaEmbed);\n",
       "    } else {\n",
       "      loadScript(\"vega\")\n",
       "        .then(() => loadScript(\"vega-lite\"))\n",
       "        .then(() => loadScript(\"vega-embed\"))\n",
       "        .catch(showError)\n",
       "        .then(() => displayChart(vegaEmbed));\n",
       "    }\n",
       "  })({\"config\": {\"view\": {\"continuousWidth\": 400, \"continuousHeight\": 300}}, \"data\": {\"name\": \"data-609303d87c201c7821934955d56c224a\"}, \"mark\": \"bar\", \"encoding\": {\"x\": {\"type\": \"ordinal\", \"field\": \"Technologies\"}, \"y\": {\"type\": \"quantitative\", \"field\": \"Anzahl\"}}, \"title\": \"Technologien 2015\", \"$schema\": \"https://vega.github.io/schema/vega-lite/v4.8.1.json\", \"datasets\": {\"data-609303d87c201c7821934955d56c224a\": [{\"Technologies\": \"test suite\", \"Anzahl\": 14}, {\"Technologies\": \"source code\", \"Anzahl\": 8}, {\"Technologies\": \"software process\", \"Anzahl\": 7}, {\"Technologies\": \"test case\", \"Anzahl\": 6}, {\"Technologies\": \"cohesion\", \"Anzahl\": 6}, {\"Technologies\": \"article issue\", \"Anzahl\": 6}, {\"Technologies\": \"web application\", \"Anzahl\": 5}, {\"Technologies\": \"web\", \"Anzahl\": 5}, {\"Technologies\": \"slice cohesion\", \"Anzahl\": 5}, {\"Technologies\": \"development team\", \"Anzahl\": 5}, {\"Technologies\": \"approach test\", \"Anzahl\": 5}, {\"Technologies\": \"cloud api\", \"Anzahl\": 4}, {\"Technologies\": \"Huang recording Requirements\", \"Anzahl\": 4}, {\"Technologies\": \"Engineering Radio\", \"Anzahl\": 4}, {\"Technologies\": \"Booch Computing\", \"Anzahl\": 4}]}}, {\"mode\": \"vega-lite\"});\n",
       "</script>"
      ],
      "text/plain": [
       "alt.Chart(...)"
      ]
     },
     "execution_count": 32,
     "metadata": {},
     "output_type": "execute_result"
    }
   ],
   "source": [
    "year = 2015\n",
    "d = data_words[year].nlargest(anzahl_top_topics).sort_values(ascending=False)\n",
    "source = pd.DataFrame({'Technologies': d.index,\n",
    "                            'Anzahl': d})\n",
    "alt.Chart(source).mark_bar().encode(\n",
    "        x='Technologies:O',\n",
    "        y='Anzahl:Q'\n",
    "    ).properties(\n",
    "    title=f'Technologien {year}')"
   ]
  },
  {
   "cell_type": "markdown",
   "metadata": {},
   "source": [
    "### Balkendiagramm 2016"
   ]
  },
  {
   "cell_type": "code",
   "execution_count": 33,
   "metadata": {},
   "outputs": [
    {
     "data": {
      "text/html": [
       "\n",
       "<div id=\"altair-viz-d7083c840ba74e05a1083f8ef1d2c74e\"></div>\n",
       "<script type=\"text/javascript\">\n",
       "  (function(spec, embedOpt){\n",
       "    let outputDiv = document.currentScript.previousElementSibling;\n",
       "    if (outputDiv.id !== \"altair-viz-d7083c840ba74e05a1083f8ef1d2c74e\") {\n",
       "      outputDiv = document.getElementById(\"altair-viz-d7083c840ba74e05a1083f8ef1d2c74e\");\n",
       "    }\n",
       "    const paths = {\n",
       "      \"vega\": \"https://cdn.jsdelivr.net/npm//vega@5?noext\",\n",
       "      \"vega-lib\": \"https://cdn.jsdelivr.net/npm//vega-lib?noext\",\n",
       "      \"vega-lite\": \"https://cdn.jsdelivr.net/npm//vega-lite@4.8.1?noext\",\n",
       "      \"vega-embed\": \"https://cdn.jsdelivr.net/npm//vega-embed@6?noext\",\n",
       "    };\n",
       "\n",
       "    function loadScript(lib) {\n",
       "      return new Promise(function(resolve, reject) {\n",
       "        var s = document.createElement('script');\n",
       "        s.src = paths[lib];\n",
       "        s.async = true;\n",
       "        s.onload = () => resolve(paths[lib]);\n",
       "        s.onerror = () => reject(`Error loading script: ${paths[lib]}`);\n",
       "        document.getElementsByTagName(\"head\")[0].appendChild(s);\n",
       "      });\n",
       "    }\n",
       "\n",
       "    function showError(err) {\n",
       "      outputDiv.innerHTML = `<div class=\"error\" style=\"color:red;\">${err}</div>`;\n",
       "      throw err;\n",
       "    }\n",
       "\n",
       "    function displayChart(vegaEmbed) {\n",
       "      vegaEmbed(outputDiv, spec, embedOpt)\n",
       "        .catch(err => showError(`Javascript Error: ${err.message}<br>This usually means there's a typo in your chart specification. See the javascript console for the full traceback.`));\n",
       "    }\n",
       "\n",
       "    if(typeof define === \"function\" && define.amd) {\n",
       "      requirejs.config({paths});\n",
       "      require([\"vega-embed\"], displayChart, err => showError(`Error loading script: ${err.message}`));\n",
       "    } else if (typeof vegaEmbed === \"function\") {\n",
       "      displayChart(vegaEmbed);\n",
       "    } else {\n",
       "      loadScript(\"vega\")\n",
       "        .then(() => loadScript(\"vega-lite\"))\n",
       "        .then(() => loadScript(\"vega-embed\"))\n",
       "        .catch(showError)\n",
       "        .then(() => displayChart(vegaEmbed));\n",
       "    }\n",
       "  })({\"config\": {\"view\": {\"continuousWidth\": 400, \"continuousHeight\": 300}}, \"data\": {\"name\": \"data-b7f7550c8547193fbf16c12cbcdf97a7\"}, \"mark\": \"bar\", \"encoding\": {\"x\": {\"type\": \"ordinal\", \"field\": \"Technologies\"}, \"y\": {\"type\": \"quantitative\", \"field\": \"Anzahl\"}}, \"title\": \"Technologien 2016\", \"$schema\": \"https://vega.github.io/schema/vega-lite/v4.8.1.json\", \"datasets\": {\"data-b7f7550c8547193fbf16c12cbcdf97a7\": [{\"Technologies\": \"test case\", \"Anzahl\": 20}, {\"Technologies\": \"Engineering\", \"Anzahl\": 9}, {\"Technologies\": \"software project\", \"Anzahl\": 7}, {\"Technologies\": \"software architect\", \"Anzahl\": 7}, {\"Technologies\": \"ad library\", \"Anzahl\": 7}, {\"Technologies\": \"Future Software\", \"Anzahl\": 7}, {\"Technologies\": \"test script\", \"Anzahl\": 6}, {\"Technologies\": \"podcast author\", \"Anzahl\": 6}, {\"Technologies\": \"issue\", \"Anzahl\": 5}, {\"Technologies\": \"fault detection\", \"Anzahl\": 5}, {\"Technologies\": \"exception handling\", \"Anzahl\": 5}, {\"Technologies\": \"development team\", \"Anzahl\": 5}, {\"Technologies\": \"defect prediction\", \"Anzahl\": 5}, {\"Technologies\": \"column\", \"Anzahl\": 5}, {\"Technologies\": \"IEEE Software\", \"Anzahl\": 5}]}}, {\"mode\": \"vega-lite\"});\n",
       "</script>"
      ],
      "text/plain": [
       "alt.Chart(...)"
      ]
     },
     "execution_count": 33,
     "metadata": {},
     "output_type": "execute_result"
    }
   ],
   "source": [
    "year = 2016\n",
    "d = data_words[year].nlargest(anzahl_top_topics).sort_values(ascending=False)\n",
    "source = pd.DataFrame({'Technologies': d.index,\n",
    "                            'Anzahl': d})\n",
    "alt.Chart(source).mark_bar().encode(\n",
    "        x='Technologies:O',\n",
    "        y='Anzahl:Q'\n",
    "    ).properties(\n",
    "    title=f'Technologien {year}')"
   ]
  },
  {
   "cell_type": "markdown",
   "metadata": {},
   "source": [
    "### Balkendiagramm 2017"
   ]
  },
  {
   "cell_type": "code",
   "execution_count": 34,
   "metadata": {},
   "outputs": [
    {
     "data": {
      "text/html": [
       "\n",
       "<div id=\"altair-viz-9408353eb3154b9f964fe8707c2178c5\"></div>\n",
       "<script type=\"text/javascript\">\n",
       "  (function(spec, embedOpt){\n",
       "    let outputDiv = document.currentScript.previousElementSibling;\n",
       "    if (outputDiv.id !== \"altair-viz-9408353eb3154b9f964fe8707c2178c5\") {\n",
       "      outputDiv = document.getElementById(\"altair-viz-9408353eb3154b9f964fe8707c2178c5\");\n",
       "    }\n",
       "    const paths = {\n",
       "      \"vega\": \"https://cdn.jsdelivr.net/npm//vega@5?noext\",\n",
       "      \"vega-lib\": \"https://cdn.jsdelivr.net/npm//vega-lib?noext\",\n",
       "      \"vega-lite\": \"https://cdn.jsdelivr.net/npm//vega-lite@4.8.1?noext\",\n",
       "      \"vega-embed\": \"https://cdn.jsdelivr.net/npm//vega-embed@6?noext\",\n",
       "    };\n",
       "\n",
       "    function loadScript(lib) {\n",
       "      return new Promise(function(resolve, reject) {\n",
       "        var s = document.createElement('script');\n",
       "        s.src = paths[lib];\n",
       "        s.async = true;\n",
       "        s.onload = () => resolve(paths[lib]);\n",
       "        s.onerror = () => reject(`Error loading script: ${paths[lib]}`);\n",
       "        document.getElementsByTagName(\"head\")[0].appendChild(s);\n",
       "      });\n",
       "    }\n",
       "\n",
       "    function showError(err) {\n",
       "      outputDiv.innerHTML = `<div class=\"error\" style=\"color:red;\">${err}</div>`;\n",
       "      throw err;\n",
       "    }\n",
       "\n",
       "    function displayChart(vegaEmbed) {\n",
       "      vegaEmbed(outputDiv, spec, embedOpt)\n",
       "        .catch(err => showError(`Javascript Error: ${err.message}<br>This usually means there's a typo in your chart specification. See the javascript console for the full traceback.`));\n",
       "    }\n",
       "\n",
       "    if(typeof define === \"function\" && define.amd) {\n",
       "      requirejs.config({paths});\n",
       "      require([\"vega-embed\"], displayChart, err => showError(`Error loading script: ${err.message}`));\n",
       "    } else if (typeof vegaEmbed === \"function\") {\n",
       "      displayChart(vegaEmbed);\n",
       "    } else {\n",
       "      loadScript(\"vega\")\n",
       "        .then(() => loadScript(\"vega-lite\"))\n",
       "        .then(() => loadScript(\"vega-embed\"))\n",
       "        .catch(showError)\n",
       "        .then(() => displayChart(vegaEmbed));\n",
       "    }\n",
       "  })({\"config\": {\"view\": {\"continuousWidth\": 400, \"continuousHeight\": 300}}, \"data\": {\"name\": \"data-620b96643ab3dda14f69cdf2a4f13016\"}, \"mark\": \"bar\", \"encoding\": {\"x\": {\"type\": \"ordinal\", \"field\": \"Technologies\"}, \"y\": {\"type\": \"quantitative\", \"field\": \"Anzahl\"}}, \"title\": \"Technologien 2017\", \"$schema\": \"https://vega.github.io/schema/vega-lite/v4.8.1.json\", \"datasets\": {\"data-620b96643ab3dda14f69cdf2a4f13016\": [{\"Technologies\": \"software project\", \"Anzahl\": 8}, {\"Technologies\": \"business value\", \"Anzahl\": 8}, {\"Technologies\": \"case study\", \"Anzahl\": 7}, {\"Technologies\": \"aggregation scheme\", \"Anzahl\": 7}, {\"Technologies\": \"App Store\", \"Anzahl\": 7}, {\"Technologies\": \"source project\", \"Anzahl\": 6}, {\"Technologies\": \"model transformation\", \"Anzahl\": 6}, {\"Technologies\": \"Engineering\", \"Anzahl\": 6}, {\"Technologies\": \"source code\", \"Anzahl\": 5}, {\"Technologies\": \"process\", \"Anzahl\": 5}, {\"Technologies\": \"defect prediction\", \"Anzahl\": 5}, {\"Technologies\": \"code review\", \"Anzahl\": 5}, {\"Technologies\": \"article issue\", \"Anzahl\": 5}, {\"Technologies\": \"analysis tool\", \"Anzahl\": 5}, {\"Technologies\": \"Stack Overflow\", \"Anzahl\": 5}]}}, {\"mode\": \"vega-lite\"});\n",
       "</script>"
      ],
      "text/plain": [
       "alt.Chart(...)"
      ]
     },
     "execution_count": 34,
     "metadata": {},
     "output_type": "execute_result"
    }
   ],
   "source": [
    "year = 2017\n",
    "d = data_words[year].nlargest(anzahl_top_topics).sort_values(ascending=False)\n",
    "source = pd.DataFrame({'Technologies': d.index,\n",
    "                            'Anzahl': d})\n",
    "alt.Chart(source).mark_bar().encode(\n",
    "        x='Technologies:O',\n",
    "        y='Anzahl:Q'\n",
    "    ).properties(\n",
    "    title=f'Technologien {year}')"
   ]
  },
  {
   "cell_type": "markdown",
   "metadata": {},
   "source": [
    "### Balkendiagramm 2018"
   ]
  },
  {
   "cell_type": "code",
   "execution_count": 35,
   "metadata": {},
   "outputs": [
    {
     "data": {
      "text/html": [
       "\n",
       "<div id=\"altair-viz-1b4b64e71a5d43cda769546bc32ba5b8\"></div>\n",
       "<script type=\"text/javascript\">\n",
       "  (function(spec, embedOpt){\n",
       "    let outputDiv = document.currentScript.previousElementSibling;\n",
       "    if (outputDiv.id !== \"altair-viz-1b4b64e71a5d43cda769546bc32ba5b8\") {\n",
       "      outputDiv = document.getElementById(\"altair-viz-1b4b64e71a5d43cda769546bc32ba5b8\");\n",
       "    }\n",
       "    const paths = {\n",
       "      \"vega\": \"https://cdn.jsdelivr.net/npm//vega@5?noext\",\n",
       "      \"vega-lib\": \"https://cdn.jsdelivr.net/npm//vega-lib?noext\",\n",
       "      \"vega-lite\": \"https://cdn.jsdelivr.net/npm//vega-lite@4.8.1?noext\",\n",
       "      \"vega-embed\": \"https://cdn.jsdelivr.net/npm//vega-embed@6?noext\",\n",
       "    };\n",
       "\n",
       "    function loadScript(lib) {\n",
       "      return new Promise(function(resolve, reject) {\n",
       "        var s = document.createElement('script');\n",
       "        s.src = paths[lib];\n",
       "        s.async = true;\n",
       "        s.onload = () => resolve(paths[lib]);\n",
       "        s.onerror = () => reject(`Error loading script: ${paths[lib]}`);\n",
       "        document.getElementsByTagName(\"head\")[0].appendChild(s);\n",
       "      });\n",
       "    }\n",
       "\n",
       "    function showError(err) {\n",
       "      outputDiv.innerHTML = `<div class=\"error\" style=\"color:red;\">${err}</div>`;\n",
       "      throw err;\n",
       "    }\n",
       "\n",
       "    function displayChart(vegaEmbed) {\n",
       "      vegaEmbed(outputDiv, spec, embedOpt)\n",
       "        .catch(err => showError(`Javascript Error: ${err.message}<br>This usually means there's a typo in your chart specification. See the javascript console for the full traceback.`));\n",
       "    }\n",
       "\n",
       "    if(typeof define === \"function\" && define.amd) {\n",
       "      requirejs.config({paths});\n",
       "      require([\"vega-embed\"], displayChart, err => showError(`Error loading script: ${err.message}`));\n",
       "    } else if (typeof vegaEmbed === \"function\") {\n",
       "      displayChart(vegaEmbed);\n",
       "    } else {\n",
       "      loadScript(\"vega\")\n",
       "        .then(() => loadScript(\"vega-lite\"))\n",
       "        .then(() => loadScript(\"vega-embed\"))\n",
       "        .catch(showError)\n",
       "        .then(() => displayChart(vegaEmbed));\n",
       "    }\n",
       "  })({\"config\": {\"view\": {\"continuousWidth\": 400, \"continuousHeight\": 300}}, \"data\": {\"name\": \"data-6aa48883f124a57b636541c1974648ee\"}, \"mark\": \"bar\", \"encoding\": {\"x\": {\"type\": \"ordinal\", \"field\": \"Technologies\"}, \"y\": {\"type\": \"quantitative\", \"field\": \"Anzahl\"}}, \"title\": \"Technologien 2018\", \"$schema\": \"https://vega.github.io/schema/vega-lite/v4.8.1.json\", \"datasets\": {\"data-6aa48883f124a57b636541c1974648ee\": [{\"Technologies\": \"theme issue\", \"Anzahl\": 17}, {\"Technologies\": \"article theme\", \"Anzahl\": 15}, {\"Technologies\": \"issue software\", \"Anzahl\": 13}, {\"Technologies\": \"engineering anniversary\", \"Anzahl\": 11}, {\"Technologies\": \"anniversary\", \"Anzahl\": 9}, {\"Technologies\": \"source code\", \"Anzahl\": 8}, {\"Technologies\": \"article issue\", \"Anzahl\": 8}, {\"Technologies\": \"program comprehension\", \"Anzahl\": 7}, {\"Technologies\": \"case study\", \"Anzahl\": 7}, {\"Technologies\": \"release engineering\", \"Anzahl\": 6}, {\"Technologies\": \"requirement engineering\", \"Anzahl\": 5}, {\"Technologies\": \"language query\", \"Anzahl\": 5}, {\"Technologies\": \"adaptive software\", \"Anzahl\": 5}, {\"Technologies\": \"Windows Linux\", \"Anzahl\": 5}, {\"Technologies\": \"Actionable Analytics\", \"Anzahl\": 5}]}}, {\"mode\": \"vega-lite\"});\n",
       "</script>"
      ],
      "text/plain": [
       "alt.Chart(...)"
      ]
     },
     "execution_count": 35,
     "metadata": {},
     "output_type": "execute_result"
    }
   ],
   "source": [
    "year = 2018\n",
    "d = data_words[year].nlargest(anzahl_top_topics).sort_values(ascending=False)\n",
    "source = pd.DataFrame({'Technologies': d.index,\n",
    "                            'Anzahl': d})\n",
    "alt.Chart(source).mark_bar().encode(\n",
    "        x='Technologies:O',\n",
    "        y='Anzahl:Q'\n",
    "    ).properties(\n",
    "    title=f'Technologien {year}')"
   ]
  },
  {
   "cell_type": "markdown",
   "metadata": {},
   "source": [
    "### Balkendiagramm 2019"
   ]
  },
  {
   "cell_type": "code",
   "execution_count": 36,
   "metadata": {},
   "outputs": [
    {
     "data": {
      "text/html": [
       "\n",
       "<div id=\"altair-viz-986f93aa04c544ddb99b51441ed8a2ae\"></div>\n",
       "<script type=\"text/javascript\">\n",
       "  (function(spec, embedOpt){\n",
       "    let outputDiv = document.currentScript.previousElementSibling;\n",
       "    if (outputDiv.id !== \"altair-viz-986f93aa04c544ddb99b51441ed8a2ae\") {\n",
       "      outputDiv = document.getElementById(\"altair-viz-986f93aa04c544ddb99b51441ed8a2ae\");\n",
       "    }\n",
       "    const paths = {\n",
       "      \"vega\": \"https://cdn.jsdelivr.net/npm//vega@5?noext\",\n",
       "      \"vega-lib\": \"https://cdn.jsdelivr.net/npm//vega-lib?noext\",\n",
       "      \"vega-lite\": \"https://cdn.jsdelivr.net/npm//vega-lite@4.8.1?noext\",\n",
       "      \"vega-embed\": \"https://cdn.jsdelivr.net/npm//vega-embed@6?noext\",\n",
       "    };\n",
       "\n",
       "    function loadScript(lib) {\n",
       "      return new Promise(function(resolve, reject) {\n",
       "        var s = document.createElement('script');\n",
       "        s.src = paths[lib];\n",
       "        s.async = true;\n",
       "        s.onload = () => resolve(paths[lib]);\n",
       "        s.onerror = () => reject(`Error loading script: ${paths[lib]}`);\n",
       "        document.getElementsByTagName(\"head\")[0].appendChild(s);\n",
       "      });\n",
       "    }\n",
       "\n",
       "    function showError(err) {\n",
       "      outputDiv.innerHTML = `<div class=\"error\" style=\"color:red;\">${err}</div>`;\n",
       "      throw err;\n",
       "    }\n",
       "\n",
       "    function displayChart(vegaEmbed) {\n",
       "      vegaEmbed(outputDiv, spec, embedOpt)\n",
       "        .catch(err => showError(`Javascript Error: ${err.message}<br>This usually means there's a typo in your chart specification. See the javascript console for the full traceback.`));\n",
       "    }\n",
       "\n",
       "    if(typeof define === \"function\" && define.amd) {\n",
       "      requirejs.config({paths});\n",
       "      require([\"vega-embed\"], displayChart, err => showError(`Error loading script: ${err.message}`));\n",
       "    } else if (typeof vegaEmbed === \"function\") {\n",
       "      displayChart(vegaEmbed);\n",
       "    } else {\n",
       "      loadScript(\"vega\")\n",
       "        .then(() => loadScript(\"vega-lite\"))\n",
       "        .then(() => loadScript(\"vega-embed\"))\n",
       "        .catch(showError)\n",
       "        .then(() => displayChart(vegaEmbed));\n",
       "    }\n",
       "  })({\"config\": {\"view\": {\"continuousWidth\": 400, \"continuousHeight\": 300}}, \"data\": {\"name\": \"data-caa090859ec5383a66827c9f80c21c0b\"}, \"mark\": \"bar\", \"encoding\": {\"x\": {\"type\": \"ordinal\", \"field\": \"Technologies\"}, \"y\": {\"type\": \"quantitative\", \"field\": \"Anzahl\"}}, \"title\": \"Technologien 2019\", \"$schema\": \"https://vega.github.io/schema/vega-lite/v4.8.1.json\", \"datasets\": {\"data-caa090859ec5383a66827c9f80c21c0b\": [{\"Technologies\": \"source code\", \"Anzahl\": 20}, {\"Technologies\": \"defect prediction\", \"Anzahl\": 17}, {\"Technologies\": \"test suite\", \"Anzahl\": 14}, {\"Technologies\": \"fault localization\", \"Anzahl\": 11}, {\"Technologies\": \"test case\", \"Anzahl\": 10}, {\"Technologies\": \"thousand\", \"Anzahl\": 8}, {\"Technologies\": \"prediction model\", \"Anzahl\": 8}, {\"Technologies\": \"bug report\", \"Anzahl\": 8}, {\"Technologies\": \"user review\", \"Anzahl\": 7}, {\"Technologies\": \"case study\", \"Anzahl\": 7}, {\"Technologies\": \"build breakage\", \"Anzahl\": 7}, {\"Technologies\": \"development method\", \"Anzahl\": 6}, {\"Technologies\": \"developer\", \"Anzahl\": 6}, {\"Technologies\": \"client package\", \"Anzahl\": 6}, {\"Technologies\": \"Stack Overflow\", \"Anzahl\": 6}]}}, {\"mode\": \"vega-lite\"});\n",
       "</script>"
      ],
      "text/plain": [
       "alt.Chart(...)"
      ]
     },
     "execution_count": 36,
     "metadata": {},
     "output_type": "execute_result"
    }
   ],
   "source": [
    "year = 2019\n",
    "d = data_words[year].nlargest(anzahl_top_topics).sort_values(ascending=False)\n",
    "source = pd.DataFrame({'Technologies': d.index,\n",
    "                            'Anzahl': d})\n",
    "alt.Chart(source).mark_bar().encode(\n",
    "        x='Technologies:O',\n",
    "        y='Anzahl:Q'\n",
    "    ).properties(\n",
    "    title=f'Technologien {year}')"
   ]
  },
  {
   "cell_type": "markdown",
   "metadata": {},
   "source": [
    "### Balkendiagramm 2020"
   ]
  },
  {
   "cell_type": "code",
   "execution_count": 37,
   "metadata": {},
   "outputs": [
    {
     "data": {
      "text/html": [
       "\n",
       "<div id=\"altair-viz-53bacec60cc64ec793133c0f94948606\"></div>\n",
       "<script type=\"text/javascript\">\n",
       "  (function(spec, embedOpt){\n",
       "    let outputDiv = document.currentScript.previousElementSibling;\n",
       "    if (outputDiv.id !== \"altair-viz-53bacec60cc64ec793133c0f94948606\") {\n",
       "      outputDiv = document.getElementById(\"altair-viz-53bacec60cc64ec793133c0f94948606\");\n",
       "    }\n",
       "    const paths = {\n",
       "      \"vega\": \"https://cdn.jsdelivr.net/npm//vega@5?noext\",\n",
       "      \"vega-lib\": \"https://cdn.jsdelivr.net/npm//vega-lib?noext\",\n",
       "      \"vega-lite\": \"https://cdn.jsdelivr.net/npm//vega-lite@4.8.1?noext\",\n",
       "      \"vega-embed\": \"https://cdn.jsdelivr.net/npm//vega-embed@6?noext\",\n",
       "    };\n",
       "\n",
       "    function loadScript(lib) {\n",
       "      return new Promise(function(resolve, reject) {\n",
       "        var s = document.createElement('script');\n",
       "        s.src = paths[lib];\n",
       "        s.async = true;\n",
       "        s.onload = () => resolve(paths[lib]);\n",
       "        s.onerror = () => reject(`Error loading script: ${paths[lib]}`);\n",
       "        document.getElementsByTagName(\"head\")[0].appendChild(s);\n",
       "      });\n",
       "    }\n",
       "\n",
       "    function showError(err) {\n",
       "      outputDiv.innerHTML = `<div class=\"error\" style=\"color:red;\">${err}</div>`;\n",
       "      throw err;\n",
       "    }\n",
       "\n",
       "    function displayChart(vegaEmbed) {\n",
       "      vegaEmbed(outputDiv, spec, embedOpt)\n",
       "        .catch(err => showError(`Javascript Error: ${err.message}<br>This usually means there's a typo in your chart specification. See the javascript console for the full traceback.`));\n",
       "    }\n",
       "\n",
       "    if(typeof define === \"function\" && define.amd) {\n",
       "      requirejs.config({paths});\n",
       "      require([\"vega-embed\"], displayChart, err => showError(`Error loading script: ${err.message}`));\n",
       "    } else if (typeof vegaEmbed === \"function\") {\n",
       "      displayChart(vegaEmbed);\n",
       "    } else {\n",
       "      loadScript(\"vega\")\n",
       "        .then(() => loadScript(\"vega-lite\"))\n",
       "        .then(() => loadScript(\"vega-embed\"))\n",
       "        .catch(showError)\n",
       "        .then(() => displayChart(vegaEmbed));\n",
       "    }\n",
       "  })({\"config\": {\"view\": {\"continuousWidth\": 400, \"continuousHeight\": 300}}, \"data\": {\"name\": \"data-2dc63b42e4852ddcdcfdf2f5aeac8c40\"}, \"mark\": \"bar\", \"encoding\": {\"x\": {\"type\": \"ordinal\", \"field\": \"Technologies\"}, \"y\": {\"type\": \"quantitative\", \"field\": \"Anzahl\"}}, \"title\": \"Technologien 2020\", \"$schema\": \"https://vega.github.io/schema/vega-lite/v4.8.1.json\", \"datasets\": {\"data-2dc63b42e4852ddcdcfdf2f5aeac8c40\": [{\"Technologies\": \"test case\", \"Anzahl\": 32}, {\"Technologies\": \"test suite\", \"Anzahl\": 19}, {\"Technologies\": \"case study\", \"Anzahl\": 17}, {\"Technologies\": \"source code\", \"Anzahl\": 16}, {\"Technologies\": \"defect prediction\", \"Anzahl\": 14}, {\"Technologies\": \"bug report\", \"Anzahl\": 14}, {\"Technologies\": \"code change\", \"Anzahl\": 13}, {\"Technologies\": \"code review\", \"Anzahl\": 11}, {\"Technologies\": \"Stack Overflow\", \"Anzahl\": 10}, {\"Technologies\": \"design pattern\", \"Anzahl\": 9}, {\"Technologies\": \"source project\", \"Anzahl\": 8}, {\"Technologies\": \"programming language\", \"Anzahl\": 8}, {\"Technologies\": \"defect model\", \"Anzahl\": 8}, {\"Technologies\": \"JIT defect\", \"Anzahl\": 8}, {\"Technologies\": \"Android app\", \"Anzahl\": 8}]}}, {\"mode\": \"vega-lite\"});\n",
       "</script>"
      ],
      "text/plain": [
       "alt.Chart(...)"
      ]
     },
     "execution_count": 37,
     "metadata": {},
     "output_type": "execute_result"
    }
   ],
   "source": [
    "year = 2020\n",
    "d = data_words[year].nlargest(anzahl_top_topics).sort_values(ascending=False)\n",
    "source = pd.DataFrame({'Technologies': d.index,\n",
    "                            'Anzahl': d})\n",
    "alt.Chart(source).mark_bar().encode(\n",
    "        x='Technologies:O',\n",
    "        y='Anzahl:Q'\n",
    "    ).properties(\n",
    "    title=f'Technologien {year}')"
   ]
  },
  {
   "cell_type": "markdown",
   "metadata": {},
   "source": [
    "### Balkendiagramm 2021"
   ]
  },
  {
   "cell_type": "code",
   "execution_count": 38,
   "metadata": {},
   "outputs": [
    {
     "data": {
      "text/html": [
       "\n",
       "<div id=\"altair-viz-374a9ac161be4a4bb2cd003bcb5a9e60\"></div>\n",
       "<script type=\"text/javascript\">\n",
       "  (function(spec, embedOpt){\n",
       "    let outputDiv = document.currentScript.previousElementSibling;\n",
       "    if (outputDiv.id !== \"altair-viz-374a9ac161be4a4bb2cd003bcb5a9e60\") {\n",
       "      outputDiv = document.getElementById(\"altair-viz-374a9ac161be4a4bb2cd003bcb5a9e60\");\n",
       "    }\n",
       "    const paths = {\n",
       "      \"vega\": \"https://cdn.jsdelivr.net/npm//vega@5?noext\",\n",
       "      \"vega-lib\": \"https://cdn.jsdelivr.net/npm//vega-lib?noext\",\n",
       "      \"vega-lite\": \"https://cdn.jsdelivr.net/npm//vega-lite@4.8.1?noext\",\n",
       "      \"vega-embed\": \"https://cdn.jsdelivr.net/npm//vega-embed@6?noext\",\n",
       "    };\n",
       "\n",
       "    function loadScript(lib) {\n",
       "      return new Promise(function(resolve, reject) {\n",
       "        var s = document.createElement('script');\n",
       "        s.src = paths[lib];\n",
       "        s.async = true;\n",
       "        s.onload = () => resolve(paths[lib]);\n",
       "        s.onerror = () => reject(`Error loading script: ${paths[lib]}`);\n",
       "        document.getElementsByTagName(\"head\")[0].appendChild(s);\n",
       "      });\n",
       "    }\n",
       "\n",
       "    function showError(err) {\n",
       "      outputDiv.innerHTML = `<div class=\"error\" style=\"color:red;\">${err}</div>`;\n",
       "      throw err;\n",
       "    }\n",
       "\n",
       "    function displayChart(vegaEmbed) {\n",
       "      vegaEmbed(outputDiv, spec, embedOpt)\n",
       "        .catch(err => showError(`Javascript Error: ${err.message}<br>This usually means there's a typo in your chart specification. See the javascript console for the full traceback.`));\n",
       "    }\n",
       "\n",
       "    if(typeof define === \"function\" && define.amd) {\n",
       "      requirejs.config({paths});\n",
       "      require([\"vega-embed\"], displayChart, err => showError(`Error loading script: ${err.message}`));\n",
       "    } else if (typeof vegaEmbed === \"function\") {\n",
       "      displayChart(vegaEmbed);\n",
       "    } else {\n",
       "      loadScript(\"vega\")\n",
       "        .then(() => loadScript(\"vega-lite\"))\n",
       "        .then(() => loadScript(\"vega-embed\"))\n",
       "        .catch(showError)\n",
       "        .then(() => displayChart(vegaEmbed));\n",
       "    }\n",
       "  })({\"config\": {\"view\": {\"continuousWidth\": 400, \"continuousHeight\": 300}}, \"data\": {\"name\": \"data-62118fa8b7660c31c18f957c8ab40975\"}, \"mark\": \"bar\", \"encoding\": {\"x\": {\"type\": \"ordinal\", \"field\": \"Technologies\"}, \"y\": {\"type\": \"quantitative\", \"field\": \"Anzahl\"}}, \"title\": \"Technologien 2021\", \"$schema\": \"https://vega.github.io/schema/vega-lite/v4.8.1.json\", \"datasets\": {\"data-62118fa8b7660c31c18f957c8ab40975\": [{\"Technologies\": \"Stack Overflow\", \"Anzahl\": 17}, {\"Technologies\": \"source code\", \"Anzahl\": 13}, {\"Technologies\": \"test case\", \"Anzahl\": 12}, {\"Technologies\": \"task process\", \"Anzahl\": 9}, {\"Technologies\": \"metamodel\", \"Anzahl\": 9}, {\"Technologies\": \"code snippet\", \"Anzahl\": 9}, {\"Technologies\": \"test suite\", \"Anzahl\": 8}, {\"Technologies\": \"source project\", \"Anzahl\": 8}, {\"Technologies\": \"case study\", \"Anzahl\": 8}, {\"Technologies\": \"software project\", \"Anzahl\": 7}, {\"Technologies\": \"process\", \"Anzahl\": 7}, {\"Technologies\": \"feature importance\", \"Anzahl\": 7}, {\"Technologies\": \"defect model\", \"Anzahl\": 6}, {\"Technologies\": \"code clone\", \"Anzahl\": 6}, {\"Technologies\": \"algorithm\", \"Anzahl\": 6}]}}, {\"mode\": \"vega-lite\"});\n",
       "</script>"
      ],
      "text/plain": [
       "alt.Chart(...)"
      ]
     },
     "execution_count": 38,
     "metadata": {},
     "output_type": "execute_result"
    }
   ],
   "source": [
    "year = 2021\n",
    "d = data_words[year].nlargest(anzahl_top_topics).sort_values(ascending=False)\n",
    "source = pd.DataFrame({'Technologies': d.index,\n",
    "                            'Anzahl': d})\n",
    "alt.Chart(source).mark_bar().encode(\n",
    "        x='Technologies:O',\n",
    "        y='Anzahl:Q'\n",
    "    ).properties(\n",
    "    title=f'Technologien {year}')"
   ]
  },
  {
   "cell_type": "markdown",
   "metadata": {},
   "source": [
    "\n"
   ]
  },
  {
   "cell_type": "markdown",
   "metadata": {},
   "source": [
    "## Liste erstellen"
   ]
  },
  {
   "cell_type": "code",
   "execution_count": 39,
   "metadata": {},
   "outputs": [],
   "source": [
    "words = data_words.sum(axis= 1).nlargest(10)"
   ]
  },
  {
   "cell_type": "code",
   "execution_count": 40,
   "metadata": {},
   "outputs": [],
   "source": [
    "b = data_words[data_words.index.isin(words.index)] "
   ]
  },
  {
   "cell_type": "code",
   "execution_count": 42,
   "metadata": {},
   "outputs": [
    {
     "data": {
      "text/html": [
       "<div>\n",
       "<style scoped>\n",
       "    .dataframe tbody tr th:only-of-type {\n",
       "        vertical-align: middle;\n",
       "    }\n",
       "\n",
       "    .dataframe tbody tr th {\n",
       "        vertical-align: top;\n",
       "    }\n",
       "\n",
       "    .dataframe thead th {\n",
       "        text-align: right;\n",
       "    }\n",
       "</style>\n",
       "<table border=\"1\" class=\"dataframe\">\n",
       "  <thead>\n",
       "    <tr style=\"text-align: right;\">\n",
       "      <th>year</th>\n",
       "      <th>2009</th>\n",
       "      <th>2010</th>\n",
       "      <th>2011</th>\n",
       "      <th>2012</th>\n",
       "      <th>2013</th>\n",
       "      <th>2014</th>\n",
       "      <th>2015</th>\n",
       "      <th>2016</th>\n",
       "      <th>2017</th>\n",
       "      <th>2018</th>\n",
       "      <th>2019</th>\n",
       "      <th>2020</th>\n",
       "      <th>2021</th>\n",
       "      <th>Summe</th>\n",
       "    </tr>\n",
       "  </thead>\n",
       "  <tbody>\n",
       "    <tr>\n",
       "      <th>IEEE Software</th>\n",
       "      <td>4</td>\n",
       "      <td>1</td>\n",
       "      <td>4</td>\n",
       "      <td>4</td>\n",
       "      <td>15</td>\n",
       "      <td>9</td>\n",
       "      <td>1</td>\n",
       "      <td>5</td>\n",
       "      <td>2</td>\n",
       "      <td>3</td>\n",
       "      <td>1</td>\n",
       "      <td>1</td>\n",
       "      <td>2</td>\n",
       "      <td>NaN</td>\n",
       "    </tr>\n",
       "    <tr>\n",
       "      <th>Stack Overflow</th>\n",
       "      <td>0</td>\n",
       "      <td>0</td>\n",
       "      <td>0</td>\n",
       "      <td>0</td>\n",
       "      <td>0</td>\n",
       "      <td>0</td>\n",
       "      <td>0</td>\n",
       "      <td>2</td>\n",
       "      <td>5</td>\n",
       "      <td>0</td>\n",
       "      <td>6</td>\n",
       "      <td>10</td>\n",
       "      <td>17</td>\n",
       "      <td>NaN</td>\n",
       "    </tr>\n",
       "    <tr>\n",
       "      <th>bug report</th>\n",
       "      <td>0</td>\n",
       "      <td>4</td>\n",
       "      <td>0</td>\n",
       "      <td>0</td>\n",
       "      <td>3</td>\n",
       "      <td>4</td>\n",
       "      <td>1</td>\n",
       "      <td>4</td>\n",
       "      <td>4</td>\n",
       "      <td>1</td>\n",
       "      <td>8</td>\n",
       "      <td>14</td>\n",
       "      <td>4</td>\n",
       "      <td>NaN</td>\n",
       "    </tr>\n",
       "    <tr>\n",
       "      <th>case study</th>\n",
       "      <td>9</td>\n",
       "      <td>5</td>\n",
       "      <td>6</td>\n",
       "      <td>9</td>\n",
       "      <td>5</td>\n",
       "      <td>4</td>\n",
       "      <td>3</td>\n",
       "      <td>4</td>\n",
       "      <td>7</td>\n",
       "      <td>7</td>\n",
       "      <td>7</td>\n",
       "      <td>17</td>\n",
       "      <td>8</td>\n",
       "      <td>NaN</td>\n",
       "    </tr>\n",
       "    <tr>\n",
       "      <th>defect prediction</th>\n",
       "      <td>0</td>\n",
       "      <td>0</td>\n",
       "      <td>1</td>\n",
       "      <td>0</td>\n",
       "      <td>5</td>\n",
       "      <td>1</td>\n",
       "      <td>0</td>\n",
       "      <td>5</td>\n",
       "      <td>5</td>\n",
       "      <td>4</td>\n",
       "      <td>17</td>\n",
       "      <td>14</td>\n",
       "      <td>1</td>\n",
       "      <td>NaN</td>\n",
       "    </tr>\n",
       "    <tr>\n",
       "      <th>programming language</th>\n",
       "      <td>2</td>\n",
       "      <td>2</td>\n",
       "      <td>5</td>\n",
       "      <td>2</td>\n",
       "      <td>1</td>\n",
       "      <td>9</td>\n",
       "      <td>1</td>\n",
       "      <td>2</td>\n",
       "      <td>3</td>\n",
       "      <td>2</td>\n",
       "      <td>5</td>\n",
       "      <td>8</td>\n",
       "      <td>4</td>\n",
       "      <td>NaN</td>\n",
       "    </tr>\n",
       "    <tr>\n",
       "      <th>software project</th>\n",
       "      <td>4</td>\n",
       "      <td>2</td>\n",
       "      <td>0</td>\n",
       "      <td>4</td>\n",
       "      <td>6</td>\n",
       "      <td>9</td>\n",
       "      <td>0</td>\n",
       "      <td>7</td>\n",
       "      <td>8</td>\n",
       "      <td>1</td>\n",
       "      <td>3</td>\n",
       "      <td>7</td>\n",
       "      <td>7</td>\n",
       "      <td>NaN</td>\n",
       "    </tr>\n",
       "    <tr>\n",
       "      <th>source code</th>\n",
       "      <td>2</td>\n",
       "      <td>0</td>\n",
       "      <td>3</td>\n",
       "      <td>2</td>\n",
       "      <td>7</td>\n",
       "      <td>6</td>\n",
       "      <td>8</td>\n",
       "      <td>4</td>\n",
       "      <td>5</td>\n",
       "      <td>8</td>\n",
       "      <td>20</td>\n",
       "      <td>16</td>\n",
       "      <td>13</td>\n",
       "      <td>NaN</td>\n",
       "    </tr>\n",
       "    <tr>\n",
       "      <th>test case</th>\n",
       "      <td>2</td>\n",
       "      <td>5</td>\n",
       "      <td>2</td>\n",
       "      <td>11</td>\n",
       "      <td>18</td>\n",
       "      <td>6</td>\n",
       "      <td>6</td>\n",
       "      <td>20</td>\n",
       "      <td>3</td>\n",
       "      <td>5</td>\n",
       "      <td>10</td>\n",
       "      <td>32</td>\n",
       "      <td>12</td>\n",
       "      <td>NaN</td>\n",
       "    </tr>\n",
       "    <tr>\n",
       "      <th>test suite</th>\n",
       "      <td>3</td>\n",
       "      <td>4</td>\n",
       "      <td>0</td>\n",
       "      <td>5</td>\n",
       "      <td>2</td>\n",
       "      <td>6</td>\n",
       "      <td>14</td>\n",
       "      <td>0</td>\n",
       "      <td>5</td>\n",
       "      <td>4</td>\n",
       "      <td>14</td>\n",
       "      <td>19</td>\n",
       "      <td>8</td>\n",
       "      <td>NaN</td>\n",
       "    </tr>\n",
       "  </tbody>\n",
       "</table>\n",
       "</div>"
      ],
      "text/plain": [
       "year                  2009  2010  2011  2012  2013  2014  2015  2016  2017  \\\n",
       "IEEE Software            4     1     4     4    15     9     1     5     2   \n",
       "Stack Overflow           0     0     0     0     0     0     0     2     5   \n",
       "bug report               0     4     0     0     3     4     1     4     4   \n",
       "case study               9     5     6     9     5     4     3     4     7   \n",
       "defect prediction        0     0     1     0     5     1     0     5     5   \n",
       "programming language     2     2     5     2     1     9     1     2     3   \n",
       "software project         4     2     0     4     6     9     0     7     8   \n",
       "source code              2     0     3     2     7     6     8     4     5   \n",
       "test case                2     5     2    11    18     6     6    20     3   \n",
       "test suite               3     4     0     5     2     6    14     0     5   \n",
       "\n",
       "year                  2018  2019  2020  2021  Summe  \n",
       "IEEE Software            3     1     1     2    NaN  \n",
       "Stack Overflow           0     6    10    17    NaN  \n",
       "bug report               1     8    14     4    NaN  \n",
       "case study               7     7    17     8    NaN  \n",
       "defect prediction        4    17    14     1    NaN  \n",
       "programming language     2     5     8     4    NaN  \n",
       "software project         1     3     7     7    NaN  \n",
       "source code              8    20    16    13    NaN  \n",
       "test case                5    10    32    12    NaN  \n",
       "test suite               4    14    19     8    NaN  "
      ]
     },
     "execution_count": 42,
     "metadata": {},
     "output_type": "execute_result"
    }
   ],
   "source": [
    "b"
   ]
  },
  {
   "cell_type": "markdown",
   "metadata": {},
   "source": [
    "## Liniendiagramm Technologien"
   ]
  },
  {
   "cell_type": "code",
   "execution_count": 43,
   "metadata": {},
   "outputs": [],
   "source": [
    "c = b.stack()\n",
    "c.name = 'Test'\n",
    "c.to_frame()\n",
    "d = c.index.to_frame()\n",
    "d = d.merge(c,left_index=True,right_index=True,how='inner')\n",
    "source = d.reset_index(drop=True)\n",
    "source.columns = ['Technologien','Jahre','Häufigkeit']\n",
    "\n",
    "source['Jahre'] = source['Jahre'].astype(str)"
   ]
  },
  {
   "cell_type": "code",
   "execution_count": 44,
   "metadata": {},
   "outputs": [
    {
     "data": {
      "text/html": [
       "\n",
       "<div id=\"altair-viz-f94090bd3c4e4ab19785cbea56c3974c\"></div>\n",
       "<script type=\"text/javascript\">\n",
       "  (function(spec, embedOpt){\n",
       "    let outputDiv = document.currentScript.previousElementSibling;\n",
       "    if (outputDiv.id !== \"altair-viz-f94090bd3c4e4ab19785cbea56c3974c\") {\n",
       "      outputDiv = document.getElementById(\"altair-viz-f94090bd3c4e4ab19785cbea56c3974c\");\n",
       "    }\n",
       "    const paths = {\n",
       "      \"vega\": \"https://cdn.jsdelivr.net/npm//vega@5?noext\",\n",
       "      \"vega-lib\": \"https://cdn.jsdelivr.net/npm//vega-lib?noext\",\n",
       "      \"vega-lite\": \"https://cdn.jsdelivr.net/npm//vega-lite@4.8.1?noext\",\n",
       "      \"vega-embed\": \"https://cdn.jsdelivr.net/npm//vega-embed@6?noext\",\n",
       "    };\n",
       "\n",
       "    function loadScript(lib) {\n",
       "      return new Promise(function(resolve, reject) {\n",
       "        var s = document.createElement('script');\n",
       "        s.src = paths[lib];\n",
       "        s.async = true;\n",
       "        s.onload = () => resolve(paths[lib]);\n",
       "        s.onerror = () => reject(`Error loading script: ${paths[lib]}`);\n",
       "        document.getElementsByTagName(\"head\")[0].appendChild(s);\n",
       "      });\n",
       "    }\n",
       "\n",
       "    function showError(err) {\n",
       "      outputDiv.innerHTML = `<div class=\"error\" style=\"color:red;\">${err}</div>`;\n",
       "      throw err;\n",
       "    }\n",
       "\n",
       "    function displayChart(vegaEmbed) {\n",
       "      vegaEmbed(outputDiv, spec, embedOpt)\n",
       "        .catch(err => showError(`Javascript Error: ${err.message}<br>This usually means there's a typo in your chart specification. See the javascript console for the full traceback.`));\n",
       "    }\n",
       "\n",
       "    if(typeof define === \"function\" && define.amd) {\n",
       "      requirejs.config({paths});\n",
       "      require([\"vega-embed\"], displayChart, err => showError(`Error loading script: ${err.message}`));\n",
       "    } else if (typeof vegaEmbed === \"function\") {\n",
       "      displayChart(vegaEmbed);\n",
       "    } else {\n",
       "      loadScript(\"vega\")\n",
       "        .then(() => loadScript(\"vega-lite\"))\n",
       "        .then(() => loadScript(\"vega-embed\"))\n",
       "        .catch(showError)\n",
       "        .then(() => displayChart(vegaEmbed));\n",
       "    }\n",
       "  })({\"config\": {\"view\": {\"continuousWidth\": 400, \"continuousHeight\": 300}}, \"data\": {\"name\": \"data-839f537fb5d4cd9e79bb58d7f0fd5cc2\"}, \"mark\": \"line\", \"encoding\": {\"color\": {\"type\": \"nominal\", \"field\": \"Technologien\"}, \"strokeDash\": {\"type\": \"nominal\", \"field\": \"Technologien\"}, \"x\": {\"type\": \"nominal\", \"field\": \"Jahre\"}, \"y\": {\"type\": \"quantitative\", \"field\": \"H\\u00e4ufigkeit\"}}, \"title\": \" Top 10 Technologien im Zeitverlauf\", \"$schema\": \"https://vega.github.io/schema/vega-lite/v4.8.1.json\", \"datasets\": {\"data-839f537fb5d4cd9e79bb58d7f0fd5cc2\": [{\"Technologien\": \"IEEE Software\", \"Jahre\": \"2009\", \"H\\u00e4ufigkeit\": 4.0}, {\"Technologien\": \"IEEE Software\", \"Jahre\": \"2010\", \"H\\u00e4ufigkeit\": 1.0}, {\"Technologien\": \"IEEE Software\", \"Jahre\": \"2011\", \"H\\u00e4ufigkeit\": 4.0}, {\"Technologien\": \"IEEE Software\", \"Jahre\": \"2012\", \"H\\u00e4ufigkeit\": 4.0}, {\"Technologien\": \"IEEE Software\", \"Jahre\": \"2013\", \"H\\u00e4ufigkeit\": 15.0}, {\"Technologien\": \"IEEE Software\", \"Jahre\": \"2014\", \"H\\u00e4ufigkeit\": 9.0}, {\"Technologien\": \"IEEE Software\", \"Jahre\": \"2015\", \"H\\u00e4ufigkeit\": 1.0}, {\"Technologien\": \"IEEE Software\", \"Jahre\": \"2016\", \"H\\u00e4ufigkeit\": 5.0}, {\"Technologien\": \"IEEE Software\", \"Jahre\": \"2017\", \"H\\u00e4ufigkeit\": 2.0}, {\"Technologien\": \"IEEE Software\", \"Jahre\": \"2018\", \"H\\u00e4ufigkeit\": 3.0}, {\"Technologien\": \"IEEE Software\", \"Jahre\": \"2019\", \"H\\u00e4ufigkeit\": 1.0}, {\"Technologien\": \"IEEE Software\", \"Jahre\": \"2020\", \"H\\u00e4ufigkeit\": 1.0}, {\"Technologien\": \"IEEE Software\", \"Jahre\": \"2021\", \"H\\u00e4ufigkeit\": 2.0}, {\"Technologien\": \"Stack Overflow\", \"Jahre\": \"2009\", \"H\\u00e4ufigkeit\": 0.0}, {\"Technologien\": \"Stack Overflow\", \"Jahre\": \"2010\", \"H\\u00e4ufigkeit\": 0.0}, {\"Technologien\": \"Stack Overflow\", \"Jahre\": \"2011\", \"H\\u00e4ufigkeit\": 0.0}, {\"Technologien\": \"Stack Overflow\", \"Jahre\": \"2012\", \"H\\u00e4ufigkeit\": 0.0}, {\"Technologien\": \"Stack Overflow\", \"Jahre\": \"2013\", \"H\\u00e4ufigkeit\": 0.0}, {\"Technologien\": \"Stack Overflow\", \"Jahre\": \"2014\", \"H\\u00e4ufigkeit\": 0.0}, {\"Technologien\": \"Stack Overflow\", \"Jahre\": \"2015\", \"H\\u00e4ufigkeit\": 0.0}, {\"Technologien\": \"Stack Overflow\", \"Jahre\": \"2016\", \"H\\u00e4ufigkeit\": 2.0}, {\"Technologien\": \"Stack Overflow\", \"Jahre\": \"2017\", \"H\\u00e4ufigkeit\": 5.0}, {\"Technologien\": \"Stack Overflow\", \"Jahre\": \"2018\", \"H\\u00e4ufigkeit\": 0.0}, {\"Technologien\": \"Stack Overflow\", \"Jahre\": \"2019\", \"H\\u00e4ufigkeit\": 6.0}, {\"Technologien\": \"Stack Overflow\", \"Jahre\": \"2020\", \"H\\u00e4ufigkeit\": 10.0}, {\"Technologien\": \"Stack Overflow\", \"Jahre\": \"2021\", \"H\\u00e4ufigkeit\": 17.0}, {\"Technologien\": \"bug report\", \"Jahre\": \"2009\", \"H\\u00e4ufigkeit\": 0.0}, {\"Technologien\": \"bug report\", \"Jahre\": \"2010\", \"H\\u00e4ufigkeit\": 4.0}, {\"Technologien\": \"bug report\", \"Jahre\": \"2011\", \"H\\u00e4ufigkeit\": 0.0}, {\"Technologien\": \"bug report\", \"Jahre\": \"2012\", \"H\\u00e4ufigkeit\": 0.0}, {\"Technologien\": \"bug report\", \"Jahre\": \"2013\", \"H\\u00e4ufigkeit\": 3.0}, {\"Technologien\": \"bug report\", \"Jahre\": \"2014\", \"H\\u00e4ufigkeit\": 4.0}, {\"Technologien\": \"bug report\", \"Jahre\": \"2015\", \"H\\u00e4ufigkeit\": 1.0}, {\"Technologien\": \"bug report\", \"Jahre\": \"2016\", \"H\\u00e4ufigkeit\": 4.0}, {\"Technologien\": \"bug report\", \"Jahre\": \"2017\", \"H\\u00e4ufigkeit\": 4.0}, {\"Technologien\": \"bug report\", \"Jahre\": \"2018\", \"H\\u00e4ufigkeit\": 1.0}, {\"Technologien\": \"bug report\", \"Jahre\": \"2019\", \"H\\u00e4ufigkeit\": 8.0}, {\"Technologien\": \"bug report\", \"Jahre\": \"2020\", \"H\\u00e4ufigkeit\": 14.0}, {\"Technologien\": \"bug report\", \"Jahre\": \"2021\", \"H\\u00e4ufigkeit\": 4.0}, {\"Technologien\": \"case study\", \"Jahre\": \"2009\", \"H\\u00e4ufigkeit\": 9.0}, {\"Technologien\": \"case study\", \"Jahre\": \"2010\", \"H\\u00e4ufigkeit\": 5.0}, {\"Technologien\": \"case study\", \"Jahre\": \"2011\", \"H\\u00e4ufigkeit\": 6.0}, {\"Technologien\": \"case study\", \"Jahre\": \"2012\", \"H\\u00e4ufigkeit\": 9.0}, {\"Technologien\": \"case study\", \"Jahre\": \"2013\", \"H\\u00e4ufigkeit\": 5.0}, {\"Technologien\": \"case study\", \"Jahre\": \"2014\", \"H\\u00e4ufigkeit\": 4.0}, {\"Technologien\": \"case study\", \"Jahre\": \"2015\", \"H\\u00e4ufigkeit\": 3.0}, {\"Technologien\": \"case study\", \"Jahre\": \"2016\", \"H\\u00e4ufigkeit\": 4.0}, {\"Technologien\": \"case study\", \"Jahre\": \"2017\", \"H\\u00e4ufigkeit\": 7.0}, {\"Technologien\": \"case study\", \"Jahre\": \"2018\", \"H\\u00e4ufigkeit\": 7.0}, {\"Technologien\": \"case study\", \"Jahre\": \"2019\", \"H\\u00e4ufigkeit\": 7.0}, {\"Technologien\": \"case study\", \"Jahre\": \"2020\", \"H\\u00e4ufigkeit\": 17.0}, {\"Technologien\": \"case study\", \"Jahre\": \"2021\", \"H\\u00e4ufigkeit\": 8.0}, {\"Technologien\": \"defect prediction\", \"Jahre\": \"2009\", \"H\\u00e4ufigkeit\": 0.0}, {\"Technologien\": \"defect prediction\", \"Jahre\": \"2010\", \"H\\u00e4ufigkeit\": 0.0}, {\"Technologien\": \"defect prediction\", \"Jahre\": \"2011\", \"H\\u00e4ufigkeit\": 1.0}, {\"Technologien\": \"defect prediction\", \"Jahre\": \"2012\", \"H\\u00e4ufigkeit\": 0.0}, {\"Technologien\": \"defect prediction\", \"Jahre\": \"2013\", \"H\\u00e4ufigkeit\": 5.0}, {\"Technologien\": \"defect prediction\", \"Jahre\": \"2014\", \"H\\u00e4ufigkeit\": 1.0}, {\"Technologien\": \"defect prediction\", \"Jahre\": \"2015\", \"H\\u00e4ufigkeit\": 0.0}, {\"Technologien\": \"defect prediction\", \"Jahre\": \"2016\", \"H\\u00e4ufigkeit\": 5.0}, {\"Technologien\": \"defect prediction\", \"Jahre\": \"2017\", \"H\\u00e4ufigkeit\": 5.0}, {\"Technologien\": \"defect prediction\", \"Jahre\": \"2018\", \"H\\u00e4ufigkeit\": 4.0}, {\"Technologien\": \"defect prediction\", \"Jahre\": \"2019\", \"H\\u00e4ufigkeit\": 17.0}, {\"Technologien\": \"defect prediction\", \"Jahre\": \"2020\", \"H\\u00e4ufigkeit\": 14.0}, {\"Technologien\": \"defect prediction\", \"Jahre\": \"2021\", \"H\\u00e4ufigkeit\": 1.0}, {\"Technologien\": \"programming language\", \"Jahre\": \"2009\", \"H\\u00e4ufigkeit\": 2.0}, {\"Technologien\": \"programming language\", \"Jahre\": \"2010\", \"H\\u00e4ufigkeit\": 2.0}, {\"Technologien\": \"programming language\", \"Jahre\": \"2011\", \"H\\u00e4ufigkeit\": 5.0}, {\"Technologien\": \"programming language\", \"Jahre\": \"2012\", \"H\\u00e4ufigkeit\": 2.0}, {\"Technologien\": \"programming language\", \"Jahre\": \"2013\", \"H\\u00e4ufigkeit\": 1.0}, {\"Technologien\": \"programming language\", \"Jahre\": \"2014\", \"H\\u00e4ufigkeit\": 9.0}, {\"Technologien\": \"programming language\", \"Jahre\": \"2015\", \"H\\u00e4ufigkeit\": 1.0}, {\"Technologien\": \"programming language\", \"Jahre\": \"2016\", \"H\\u00e4ufigkeit\": 2.0}, {\"Technologien\": \"programming language\", \"Jahre\": \"2017\", \"H\\u00e4ufigkeit\": 3.0}, {\"Technologien\": \"programming language\", \"Jahre\": \"2018\", \"H\\u00e4ufigkeit\": 2.0}, {\"Technologien\": \"programming language\", \"Jahre\": \"2019\", \"H\\u00e4ufigkeit\": 5.0}, {\"Technologien\": \"programming language\", \"Jahre\": \"2020\", \"H\\u00e4ufigkeit\": 8.0}, {\"Technologien\": \"programming language\", \"Jahre\": \"2021\", \"H\\u00e4ufigkeit\": 4.0}, {\"Technologien\": \"software project\", \"Jahre\": \"2009\", \"H\\u00e4ufigkeit\": 4.0}, {\"Technologien\": \"software project\", \"Jahre\": \"2010\", \"H\\u00e4ufigkeit\": 2.0}, {\"Technologien\": \"software project\", \"Jahre\": \"2011\", \"H\\u00e4ufigkeit\": 0.0}, {\"Technologien\": \"software project\", \"Jahre\": \"2012\", \"H\\u00e4ufigkeit\": 4.0}, {\"Technologien\": \"software project\", \"Jahre\": \"2013\", \"H\\u00e4ufigkeit\": 6.0}, {\"Technologien\": \"software project\", \"Jahre\": \"2014\", \"H\\u00e4ufigkeit\": 9.0}, {\"Technologien\": \"software project\", \"Jahre\": \"2015\", \"H\\u00e4ufigkeit\": 0.0}, {\"Technologien\": \"software project\", \"Jahre\": \"2016\", \"H\\u00e4ufigkeit\": 7.0}, {\"Technologien\": \"software project\", \"Jahre\": \"2017\", \"H\\u00e4ufigkeit\": 8.0}, {\"Technologien\": \"software project\", \"Jahre\": \"2018\", \"H\\u00e4ufigkeit\": 1.0}, {\"Technologien\": \"software project\", \"Jahre\": \"2019\", \"H\\u00e4ufigkeit\": 3.0}, {\"Technologien\": \"software project\", \"Jahre\": \"2020\", \"H\\u00e4ufigkeit\": 7.0}, {\"Technologien\": \"software project\", \"Jahre\": \"2021\", \"H\\u00e4ufigkeit\": 7.0}, {\"Technologien\": \"source code\", \"Jahre\": \"2009\", \"H\\u00e4ufigkeit\": 2.0}, {\"Technologien\": \"source code\", \"Jahre\": \"2010\", \"H\\u00e4ufigkeit\": 0.0}, {\"Technologien\": \"source code\", \"Jahre\": \"2011\", \"H\\u00e4ufigkeit\": 3.0}, {\"Technologien\": \"source code\", \"Jahre\": \"2012\", \"H\\u00e4ufigkeit\": 2.0}, {\"Technologien\": \"source code\", \"Jahre\": \"2013\", \"H\\u00e4ufigkeit\": 7.0}, {\"Technologien\": \"source code\", \"Jahre\": \"2014\", \"H\\u00e4ufigkeit\": 6.0}, {\"Technologien\": \"source code\", \"Jahre\": \"2015\", \"H\\u00e4ufigkeit\": 8.0}, {\"Technologien\": \"source code\", \"Jahre\": \"2016\", \"H\\u00e4ufigkeit\": 4.0}, {\"Technologien\": \"source code\", \"Jahre\": \"2017\", \"H\\u00e4ufigkeit\": 5.0}, {\"Technologien\": \"source code\", \"Jahre\": \"2018\", \"H\\u00e4ufigkeit\": 8.0}, {\"Technologien\": \"source code\", \"Jahre\": \"2019\", \"H\\u00e4ufigkeit\": 20.0}, {\"Technologien\": \"source code\", \"Jahre\": \"2020\", \"H\\u00e4ufigkeit\": 16.0}, {\"Technologien\": \"source code\", \"Jahre\": \"2021\", \"H\\u00e4ufigkeit\": 13.0}, {\"Technologien\": \"test case\", \"Jahre\": \"2009\", \"H\\u00e4ufigkeit\": 2.0}, {\"Technologien\": \"test case\", \"Jahre\": \"2010\", \"H\\u00e4ufigkeit\": 5.0}, {\"Technologien\": \"test case\", \"Jahre\": \"2011\", \"H\\u00e4ufigkeit\": 2.0}, {\"Technologien\": \"test case\", \"Jahre\": \"2012\", \"H\\u00e4ufigkeit\": 11.0}, {\"Technologien\": \"test case\", \"Jahre\": \"2013\", \"H\\u00e4ufigkeit\": 18.0}, {\"Technologien\": \"test case\", \"Jahre\": \"2014\", \"H\\u00e4ufigkeit\": 6.0}, {\"Technologien\": \"test case\", \"Jahre\": \"2015\", \"H\\u00e4ufigkeit\": 6.0}, {\"Technologien\": \"test case\", \"Jahre\": \"2016\", \"H\\u00e4ufigkeit\": 20.0}, {\"Technologien\": \"test case\", \"Jahre\": \"2017\", \"H\\u00e4ufigkeit\": 3.0}, {\"Technologien\": \"test case\", \"Jahre\": \"2018\", \"H\\u00e4ufigkeit\": 5.0}, {\"Technologien\": \"test case\", \"Jahre\": \"2019\", \"H\\u00e4ufigkeit\": 10.0}, {\"Technologien\": \"test case\", \"Jahre\": \"2020\", \"H\\u00e4ufigkeit\": 32.0}, {\"Technologien\": \"test case\", \"Jahre\": \"2021\", \"H\\u00e4ufigkeit\": 12.0}, {\"Technologien\": \"test suite\", \"Jahre\": \"2009\", \"H\\u00e4ufigkeit\": 3.0}, {\"Technologien\": \"test suite\", \"Jahre\": \"2010\", \"H\\u00e4ufigkeit\": 4.0}, {\"Technologien\": \"test suite\", \"Jahre\": \"2011\", \"H\\u00e4ufigkeit\": 0.0}, {\"Technologien\": \"test suite\", \"Jahre\": \"2012\", \"H\\u00e4ufigkeit\": 5.0}, {\"Technologien\": \"test suite\", \"Jahre\": \"2013\", \"H\\u00e4ufigkeit\": 2.0}, {\"Technologien\": \"test suite\", \"Jahre\": \"2014\", \"H\\u00e4ufigkeit\": 6.0}, {\"Technologien\": \"test suite\", \"Jahre\": \"2015\", \"H\\u00e4ufigkeit\": 14.0}, {\"Technologien\": \"test suite\", \"Jahre\": \"2016\", \"H\\u00e4ufigkeit\": 0.0}, {\"Technologien\": \"test suite\", \"Jahre\": \"2017\", \"H\\u00e4ufigkeit\": 5.0}, {\"Technologien\": \"test suite\", \"Jahre\": \"2018\", \"H\\u00e4ufigkeit\": 4.0}, {\"Technologien\": \"test suite\", \"Jahre\": \"2019\", \"H\\u00e4ufigkeit\": 14.0}, {\"Technologien\": \"test suite\", \"Jahre\": \"2020\", \"H\\u00e4ufigkeit\": 19.0}, {\"Technologien\": \"test suite\", \"Jahre\": \"2021\", \"H\\u00e4ufigkeit\": 8.0}]}}, {\"mode\": \"vega-lite\"});\n",
       "</script>"
      ],
      "text/plain": [
       "alt.Chart(...)"
      ]
     },
     "execution_count": 44,
     "metadata": {},
     "output_type": "execute_result"
    }
   ],
   "source": [
    "\n",
    "alt.Chart(source).mark_line().encode(\n",
    "    x='Jahre',\n",
    "    y='Häufigkeit',\n",
    "    color='Technologien',\n",
    "    strokeDash='Technologien',\n",
    ").properties(\n",
    "    title=f' Top 10 Technologien im Zeitverlauf')"
   ]
  },
  {
   "cell_type": "markdown",
   "metadata": {},
   "source": [
    "## Counter der einzelnen Wörter"
   ]
  },
  {
   "cell_type": "code",
   "execution_count": 45,
   "metadata": {},
   "outputs": [
    {
     "data": {
      "text/plain": [
       "[('software', 3055),\n",
       " ('system', 1580),\n",
       " ('model', 1419),\n",
       " ('approach', 1378),\n",
       " ('code', 1233),\n",
       " ('test', 1226),\n",
       " ('base', 1102),\n",
       " ('study', 1079),\n",
       " ('result', 1029),\n",
       " ('developer', 957),\n",
       " ('technique', 939),\n",
       " ('development', 879),\n",
       " ('project', 850),\n",
       " ('paper', 812),\n",
       " ('analysis', 766),\n",
       " ('propose', 761),\n",
       " ('process', 753),\n",
       " ('tool', 732),\n",
       " ('application', 726),\n",
       " ('design', 698),\n",
       " ('method', 695),\n",
       " ('program', 694),\n",
       " ('engineering', 686),\n",
       " ('provide', 682),\n",
       " ('time', 679),\n",
       " ('use', 644),\n",
       " ('case', 624),\n",
       " ('datum', 602),\n",
       " ('change', 587),\n",
       " ('source', 585),\n",
       " ('testing', 572),\n",
       " ('present', 558),\n",
       " ('problem', 551),\n",
       " ('research', 534),\n",
       " ('quality', 523),\n",
       " ('bug', 518),\n",
       " ('different', 513),\n",
       " ('work', 502),\n",
       " ('find', 501),\n",
       " ('requirement', 501),\n",
       " ('large', 500),\n",
       " ('user', 494),\n",
       " ('new', 491),\n",
       " ('support', 482),\n",
       " ('identify', 477),\n",
       " ('performance', 472),\n",
       " ('issue', 465),\n",
       " ('exist', 463),\n",
       " ('practice', 440),\n",
       " ('defect', 432),\n",
       " ('challenge', 421),\n",
       " ('language', 419),\n",
       " ('need', 410),\n",
       " ('improve', 409),\n",
       " ('evaluate', 405),\n",
       " ('state', 404),\n",
       " ('task', 404),\n",
       " ('set', 399),\n",
       " ('report', 391),\n",
       " ('information', 382),\n",
       " ('feature', 378),\n",
       " ('article', 373),\n",
       " ('fault', 370),\n",
       " ('Software', 368),\n",
       " ('high', 365),\n",
       " ('algorithm', 363),\n",
       " ('level', 360),\n",
       " ('service', 359),\n",
       " ('apply', 357),\n",
       " ('develop', 351),\n",
       " ('framework', 343),\n",
       " ('architecture', 342),\n",
       " ('generate', 342),\n",
       " ('help', 338),\n",
       " ('number', 332),\n",
       " ('open', 326),\n",
       " ('app', 325),\n",
       " ('percent', 321),\n",
       " ('require', 317),\n",
       " ('cost', 313),\n",
       " ('include', 313),\n",
       " ('domain', 312),\n",
       " ('product', 307),\n",
       " ('important', 305),\n",
       " ('impact', 304),\n",
       " ('prediction', 302),\n",
       " ('context', 300),\n",
       " ('effort', 295),\n",
       " ('component', 290),\n",
       " ('compare', 288),\n",
       " ('pattern', 287),\n",
       " ('build', 286),\n",
       " ('value', 284),\n",
       " ('detect', 284),\n",
       " ('evaluation', 283),\n",
       " ('perform', 283),\n",
       " ('empirical', 278),\n",
       " ('execution', 273),\n",
       " ('well', 268),\n",
       " ('increase', 266),\n",
       " ('real', 266),\n",
       " ('programming', 266),\n",
       " ('review', 265),\n",
       " ('metric', 265),\n",
       " ('show', 263),\n",
       " ('team', 262),\n",
       " ('address', 261),\n",
       " ('type', 260),\n",
       " ('web', 257),\n",
       " ('specific', 253),\n",
       " ('experiment', 251),\n",
       " ('effective', 251),\n",
       " ('discuss', 250),\n",
       " ('reduce', 250),\n",
       " ('way', 249),\n",
       " ('analyze', 249),\n",
       " ('term', 246),\n",
       " ('solution', 246),\n",
       " ('decision', 241),\n",
       " ('implement', 239),\n",
       " ('knowledge', 238),\n",
       " ('focus', 237),\n",
       " ('investigate', 237),\n",
       " ('achieve', 235),\n",
       " ('automatically', 235),\n",
       " ('consider', 234),\n",
       " ('implementation', 234),\n",
       " ('researcher', 233),\n",
       " ('behavior', 231),\n",
       " ('security', 231),\n",
       " ('api', 229),\n",
       " ('control', 228),\n",
       " ('automate', 228),\n",
       " ('good', 227),\n",
       " ('measure', 227),\n",
       " ('introduce', 224),\n",
       " ('order', 222),\n",
       " ('company', 221),\n",
       " ('refactoring', 220),\n",
       " ('conduct', 219),\n",
       " ('effectiveness', 218),\n",
       " ('learn', 217),\n",
       " ('detection', 216),\n",
       " ('relate', 215),\n",
       " ('describe', 215),\n",
       " ('activity', 215),\n",
       " ('specification', 215),\n",
       " ('understand', 213),\n",
       " ('i.e.', 212),\n",
       " ('scale', 212),\n",
       " ('failure', 211),\n",
       " ('e.g.', 211),\n",
       " ('search', 211),\n",
       " ('author', 208),\n",
       " ('suite', 208),\n",
       " ('practitioner', 207),\n",
       " ('class', 206),\n",
       " ('key', 204),\n",
       " ('generation', 204),\n",
       " ('property', 203),\n",
       " ('lead', 203),\n",
       " ('environment', 203),\n",
       " ('strategy', 203),\n",
       " ('experience', 200),\n",
       " ('complex', 199),\n",
       " ('engineer', 198),\n",
       " ('coverage', 195),\n",
       " ('define', 195),\n",
       " ('technology', 192),\n",
       " ('resource', 191),\n",
       " ('benefit', 190),\n",
       " ('size', 190),\n",
       " ('give', 190),\n",
       " ('call', 189),\n",
       " ('world', 188),\n",
       " ('release', 188),\n",
       " ('aim', 187),\n",
       " ('multiple', 186),\n",
       " ('constraint', 186),\n",
       " ('significant', 185),\n",
       " ('significantly', 184),\n",
       " ('dynamic', 184),\n",
       " ('input', 184),\n",
       " ('effect', 183),\n",
       " ('Engineering', 180),\n",
       " ('community', 180),\n",
       " ('demonstrate', 180),\n",
       " ('technical', 180),\n",
       " ('management', 179),\n",
       " ('finding', 179),\n",
       " ('produce', 179),\n",
       " ('allow', 178),\n",
       " ('art', 176),\n",
       " ('factor', 175),\n",
       " ('suggest', 173),\n",
       " ('novel', 171),\n",
       " ('goal', 170),\n",
       " ('organization', 170),\n",
       " ('drive', 169),\n",
       " ('human', 169)]"
      ]
     },
     "execution_count": 45,
     "metadata": {},
     "output_type": "execute_result"
    }
   ],
   "source": [
    "cnt.most_common(200)"
   ]
  }
 ],
 "metadata": {
  "kernelspec": {
   "display_name": "Python 3",
   "language": "python",
   "name": "python3"
  },
  "language_info": {
   "codemirror_mode": {
    "name": "ipython",
    "version": 3
   },
   "file_extension": ".py",
   "mimetype": "text/x-python",
   "name": "python",
   "nbconvert_exporter": "python",
   "pygments_lexer": "ipython3",
   "version": "3.8.5"
  }
 },
 "nbformat": 4,
 "nbformat_minor": 4
}
