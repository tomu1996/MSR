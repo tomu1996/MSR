{
 "cells": [
  {
   "cell_type": "code",
   "execution_count": 1,
   "metadata": {},
   "outputs": [],
   "source": [
    "import pandas as pd\n",
    "import numpy as np\n",
    "from collections import Counter\n",
    "import spacy\n",
    "from sklearn.feature_extraction.text import CountVectorizer\n",
    "from sklearn.metrics.pairwise import cosine_similarity"
   ]
  },
  {
   "cell_type": "code",
   "execution_count": 2,
   "metadata": {},
   "outputs": [],
   "source": [
    "# RQ1: Which technologies have been investigated in the last decade?"
   ]
  },
  {
   "cell_type": "code",
   "execution_count": 3,
   "metadata": {},
   "outputs": [
    {
     "data": {
      "text/html": [
       "<div>\n",
       "<style scoped>\n",
       "    .dataframe tbody tr th:only-of-type {\n",
       "        vertical-align: middle;\n",
       "    }\n",
       "\n",
       "    .dataframe tbody tr th {\n",
       "        vertical-align: top;\n",
       "    }\n",
       "\n",
       "    .dataframe thead th {\n",
       "        text-align: right;\n",
       "    }\n",
       "</style>\n",
       "<table border=\"1\" class=\"dataframe\">\n",
       "  <thead>\n",
       "    <tr style=\"text-align: right;\">\n",
       "      <th></th>\n",
       "      <th>Cites</th>\n",
       "      <th>Authors</th>\n",
       "      <th>Title</th>\n",
       "      <th>Year</th>\n",
       "      <th>Source</th>\n",
       "      <th>Publisher</th>\n",
       "      <th>ArticleURL</th>\n",
       "      <th>CitesURL</th>\n",
       "      <th>GSRank</th>\n",
       "      <th>QueryDate</th>\n",
       "      <th>...</th>\n",
       "      <th>Volume</th>\n",
       "      <th>Issue</th>\n",
       "      <th>StartPage</th>\n",
       "      <th>EndPage</th>\n",
       "      <th>ECC</th>\n",
       "      <th>CitesPerYear</th>\n",
       "      <th>CitesPerAuthor</th>\n",
       "      <th>AuthorCount</th>\n",
       "      <th>Age</th>\n",
       "      <th>Abstract</th>\n",
       "    </tr>\n",
       "  </thead>\n",
       "  <tbody>\n",
       "    <tr>\n",
       "      <th>0</th>\n",
       "      <td>32</td>\n",
       "      <td>U Nikula, C Jurvanen, O Gotel, DC Gause</td>\n",
       "      <td>Empirical validation of the Classic Change Cur...</td>\n",
       "      <td>2010</td>\n",
       "      <td>… and Software Technology</td>\n",
       "      <td>Elsevier</td>\n",
       "      <td>https://www.sciencedirect.com/science/article/...</td>\n",
       "      <td>https://scholar.google.com/scholar?cites=37599...</td>\n",
       "      <td>1</td>\n",
       "      <td>2021-05-11 13:43:02</td>\n",
       "      <td>...</td>\n",
       "      <td>NaN</td>\n",
       "      <td>NaN</td>\n",
       "      <td>NaN</td>\n",
       "      <td>NaN</td>\n",
       "      <td>32</td>\n",
       "      <td>2.91</td>\n",
       "      <td>8</td>\n",
       "      <td>4</td>\n",
       "      <td>11</td>\n",
       "      <td>Context New processes, tools, and practices ar...</td>\n",
       "    </tr>\n",
       "    <tr>\n",
       "      <th>1</th>\n",
       "      <td>97</td>\n",
       "      <td>C Lebeuf, MA Storey, A Zagalsky</td>\n",
       "      <td>Software bots</td>\n",
       "      <td>2017</td>\n",
       "      <td>IEEE Software</td>\n",
       "      <td>ieeexplore.ieee.org</td>\n",
       "      <td>https://ieeexplore.ieee.org/abstract/document/...</td>\n",
       "      <td>https://scholar.google.com/scholar?cites=15111...</td>\n",
       "      <td>2</td>\n",
       "      <td>2021-05-11 13:43:02</td>\n",
       "      <td>...</td>\n",
       "      <td>NaN</td>\n",
       "      <td>NaN</td>\n",
       "      <td>NaN</td>\n",
       "      <td>NaN</td>\n",
       "      <td>97</td>\n",
       "      <td>24.25</td>\n",
       "      <td>32</td>\n",
       "      <td>3</td>\n",
       "      <td>4</td>\n",
       "      <td>… Editor: Christof Ebert Vector Consulting Ser...</td>\n",
       "    </tr>\n",
       "    <tr>\n",
       "      <th>2</th>\n",
       "      <td>34</td>\n",
       "      <td>SM Ogle, L Buendia, K Butterbach-Bahl…</td>\n",
       "      <td>Advancing national greenhouse gas inventories ...</td>\n",
       "      <td>2013</td>\n",
       "      <td>Environmental …</td>\n",
       "      <td>iopscience.iop.org</td>\n",
       "      <td>https://iopscience.iop.org/article/10.1088/174...</td>\n",
       "      <td>https://scholar.google.com/scholar?cites=33541...</td>\n",
       "      <td>3</td>\n",
       "      <td>2021-05-11 13:43:02</td>\n",
       "      <td>...</td>\n",
       "      <td>NaN</td>\n",
       "      <td>NaN</td>\n",
       "      <td>NaN</td>\n",
       "      <td>NaN</td>\n",
       "      <td>34</td>\n",
       "      <td>4.25</td>\n",
       "      <td>9</td>\n",
       "      <td>4</td>\n",
       "      <td>8</td>\n",
       "      <td>Developing countries face many challenges when...</td>\n",
       "    </tr>\n",
       "    <tr>\n",
       "      <th>3</th>\n",
       "      <td>2691</td>\n",
       "      <td>B Kitchenham, OP Brereton, D Budgen…</td>\n",
       "      <td>Systematic literature reviews in software engi...</td>\n",
       "      <td>2009</td>\n",
       "      <td>… and software technology</td>\n",
       "      <td>Elsevier</td>\n",
       "      <td>https://www.sciencedirect.com/science/article/...</td>\n",
       "      <td>https://scholar.google.com/scholar?cites=14563...</td>\n",
       "      <td>4</td>\n",
       "      <td>2021-05-11 13:43:02</td>\n",
       "      <td>...</td>\n",
       "      <td>NaN</td>\n",
       "      <td>NaN</td>\n",
       "      <td>NaN</td>\n",
       "      <td>NaN</td>\n",
       "      <td>2691</td>\n",
       "      <td>224.25</td>\n",
       "      <td>673</td>\n",
       "      <td>4</td>\n",
       "      <td>12</td>\n",
       "      <td>Background In 2004 the concept of evidence-bas...</td>\n",
       "    </tr>\n",
       "    <tr>\n",
       "      <th>4</th>\n",
       "      <td>558</td>\n",
       "      <td>A Brem, KI Voigt</td>\n",
       "      <td>Integration of market pull and technology push...</td>\n",
       "      <td>2009</td>\n",
       "      <td>Technovation</td>\n",
       "      <td>Elsevier</td>\n",
       "      <td>https://www.sciencedirect.com/science/article/...</td>\n",
       "      <td>https://scholar.google.com/scholar?cites=78811...</td>\n",
       "      <td>5</td>\n",
       "      <td>2021-05-11 13:43:02</td>\n",
       "      <td>...</td>\n",
       "      <td>NaN</td>\n",
       "      <td>NaN</td>\n",
       "      <td>NaN</td>\n",
       "      <td>NaN</td>\n",
       "      <td>558</td>\n",
       "      <td>46.50</td>\n",
       "      <td>279</td>\n",
       "      <td>2</td>\n",
       "      <td>12</td>\n",
       "      <td>Within the framework of this paper, an extensi...</td>\n",
       "    </tr>\n",
       "  </tbody>\n",
       "</table>\n",
       "<p>5 rows × 24 columns</p>\n",
       "</div>"
      ],
      "text/plain": [
       "   Cites                                  Authors  \\\n",
       "0     32  U Nikula, C Jurvanen, O Gotel, DC Gause   \n",
       "1     97          C Lebeuf, MA Storey, A Zagalsky   \n",
       "2     34   SM Ogle, L Buendia, K Butterbach-Bahl…   \n",
       "3   2691     B Kitchenham, OP Brereton, D Budgen…   \n",
       "4    558                         A Brem, KI Voigt   \n",
       "\n",
       "                                               Title  Year  \\\n",
       "0  Empirical validation of the Classic Change Cur...  2010   \n",
       "1                                      Software bots  2017   \n",
       "2  Advancing national greenhouse gas inventories ...  2013   \n",
       "3  Systematic literature reviews in software engi...  2009   \n",
       "4  Integration of market pull and technology push...  2009   \n",
       "\n",
       "                      Source            Publisher  \\\n",
       "0  … and Software Technology             Elsevier   \n",
       "1              IEEE Software  ieeexplore.ieee.org   \n",
       "2            Environmental …   iopscience.iop.org   \n",
       "3  … and software technology             Elsevier   \n",
       "4               Technovation             Elsevier   \n",
       "\n",
       "                                          ArticleURL  \\\n",
       "0  https://www.sciencedirect.com/science/article/...   \n",
       "1  https://ieeexplore.ieee.org/abstract/document/...   \n",
       "2  https://iopscience.iop.org/article/10.1088/174...   \n",
       "3  https://www.sciencedirect.com/science/article/...   \n",
       "4  https://www.sciencedirect.com/science/article/...   \n",
       "\n",
       "                                            CitesURL  GSRank  \\\n",
       "0  https://scholar.google.com/scholar?cites=37599...       1   \n",
       "1  https://scholar.google.com/scholar?cites=15111...       2   \n",
       "2  https://scholar.google.com/scholar?cites=33541...       3   \n",
       "3  https://scholar.google.com/scholar?cites=14563...       4   \n",
       "4  https://scholar.google.com/scholar?cites=78811...       5   \n",
       "\n",
       "             QueryDate  ... Volume  Issue  StartPage  EndPage   ECC  \\\n",
       "0  2021-05-11 13:43:02  ...    NaN    NaN        NaN      NaN    32   \n",
       "1  2021-05-11 13:43:02  ...    NaN    NaN        NaN      NaN    97   \n",
       "2  2021-05-11 13:43:02  ...    NaN    NaN        NaN      NaN    34   \n",
       "3  2021-05-11 13:43:02  ...    NaN    NaN        NaN      NaN  2691   \n",
       "4  2021-05-11 13:43:02  ...    NaN    NaN        NaN      NaN   558   \n",
       "\n",
       "   CitesPerYear  CitesPerAuthor  AuthorCount  Age  \\\n",
       "0          2.91               8            4   11   \n",
       "1         24.25              32            3    4   \n",
       "2          4.25               9            4    8   \n",
       "3        224.25             673            4   12   \n",
       "4         46.50             279            2   12   \n",
       "\n",
       "                                            Abstract  \n",
       "0  Context New processes, tools, and practices ar...  \n",
       "1  … Editor: Christof Ebert Vector Consulting Ser...  \n",
       "2  Developing countries face many challenges when...  \n",
       "3  Background In 2004 the concept of evidence-bas...  \n",
       "4  Within the framework of this paper, an extensi...  \n",
       "\n",
       "[5 rows x 24 columns]"
      ]
     },
     "execution_count": 3,
     "metadata": {},
     "output_type": "execute_result"
    }
   ],
   "source": [
    "data = pd.read_csv('./data/500st.csv')\n",
    "data.head()"
   ]
  },
  {
   "cell_type": "code",
   "execution_count": 4,
   "metadata": {},
   "outputs": [],
   "source": [
    "def CreateTermDocMatrix(column):\n",
    "        \n",
    "    count_vectorizer = CountVectorizer(stop_words='english',ngram_range = (1,2))\n",
    "    sparse_matrix = count_vectorizer.fit_transform(data[column].values.astype('U'))\n",
    "\n",
    "    doc_term_matrix = sparse_matrix.todense()\n",
    "    df = pd.DataFrame(doc_term_matrix, columns=count_vectorizer.get_feature_names())\n",
    "    df['PublishingYear'] = data['Year']\n",
    "    returndf = df.groupby('PublishingYear').sum().transpose()\n",
    "    return returndf"
   ]
  },
  {
   "cell_type": "code",
   "execution_count": 5,
   "metadata": {},
   "outputs": [],
   "source": [
    "def ShowWord(data,word):\n",
    "    d = data.loc[word]\n",
    "    d.plot.bar()"
   ]
  },
  {
   "cell_type": "code",
   "execution_count": 6,
   "metadata": {},
   "outputs": [
    {
     "name": "stdout",
     "output_type": "stream",
     "text": [
      "PublishingYear        2009  2010  2011  2012  2013  2014  2015  2016  2017  \\\n",
      "christof                 0     0     0     0     2     2     3     0     7   \n",
      "christof ebert           0     0     0     0     2     2     3     0     7   \n",
      "context                  2     8     8     4     9    15    16     5     6   \n",
      "development             18    15    12    29    15    16    10     8     8   \n",
      "ebert                    0     0     0     2     2     2     3     0     7   \n",
      "software               106   103    88   136    96    90    85    52    42   \n",
      "software development    15     9     6    14    11    13     6     4     6   \n",
      "software technology     23    26    26    35    18    17    13     4    13   \n",
      "technology              65    56    51    74    43    47    35    26    20   \n",
      "\n",
      "PublishingYear        2018  2019  2020  2021  \n",
      "christof                 0     0     0     0  \n",
      "christof ebert           0     0     0     0  \n",
      "context                  6     1     1     1  \n",
      "development              1     2     0     0  \n",
      "ebert                    0     0     0     0  \n",
      "software                22     9     4     1  \n",
      "software development     1     1     0     0  \n",
      "software technology      1     3     1     0  \n",
      "technology               8     5     1     0  \n"
     ]
    },
    {
     "data": {
      "text/plain": [
       "(9, 13)"
      ]
     },
     "execution_count": 6,
     "metadata": {},
     "output_type": "execute_result"
    },
    {
     "data": {
      "image/png": "[encoded data removed]",
      "text/plain": [
       "<Figure size 432x288 with 1 Axes>"
      ]
     },
     "metadata": {
      "needs_background": "light"
     },
     "output_type": "display_data"
    }
   ],
   "source": [
    "#Untersuchung Abstract\n",
    "\n",
    "abstract = CreateTermDocMatrix('Abstract')\n",
    "\n",
    "b = abstract.loc[abstract[2017] > 5] \n",
    "\n",
    "b.plot.bar()\n",
    "print(b)\n",
    "b.shape\n"
   ]
  },
  {
   "cell_type": "code",
   "execution_count": 7,
   "metadata": {},
   "outputs": [
    {
     "name": "stdout",
     "output_type": "stream",
     "text": [
      "PublishingYear        2009  2010  2011  2012  2013  2014  2015  2016  2017  \\\n",
      "development              9    15     8    16    10    15     6     4     6   \n",
      "software                58    59    49    67    54    58    48    36    18   \n",
      "software development     7    12     4    15     9    12     5     3     6   \n",
      "\n",
      "PublishingYear        2018  2019  2020  2021  \n",
      "development              3     1     0     0  \n",
      "software                12     7     1     1  \n",
      "software development     3     1     0     0  \n"
     ]
    },
    {
     "data": {
      "text/plain": [
       "(3, 13)"
      ]
     },
     "execution_count": 7,
     "metadata": {},
     "output_type": "execute_result"
    },
    {
     "data": {
      "image/png": "[encoded data removed]",
      "text/plain": [
       "<Figure size 432x288 with 1 Axes>"
      ]
     },
     "metadata": {
      "needs_background": "light"
     },
     "output_type": "display_data"
    }
   ],
   "source": [
    "#Untersuchung Title\n",
    "title = CreateTermDocMatrix('Title')\n",
    "\n",
    "b = title.loc[title[2017] > 5] \n",
    "\n",
    "b.plot.bar()\n",
    "print(b)\n",
    "b.shape\n"
   ]
  },
  {
   "cell_type": "code",
   "execution_count": 8,
   "metadata": {},
   "outputs": [
    {
     "data": {
      "image/png": "[encoded data removed]",
      "text/plain": [
       "<Figure size 432x288 with 1 Axes>"
      ]
     },
     "metadata": {
      "needs_background": "light"
     },
     "output_type": "display_data"
    }
   ],
   "source": [
    "#Einzelnes Wort anzeigen\n",
    "abstract = CreateTermDocMatrix('Abstract')\n",
    "ShowWord(abstract,'software')"
   ]
  }
 ],
 "metadata": {
  "kernelspec": {
   "display_name": "Python 3",
   "language": "python",
   "name": "python3"
  },
  "language_info": {
   "codemirror_mode": {
    "name": "ipython",
    "version": 3
   },
   "file_extension": ".py",
   "mimetype": "text/x-python",
   "name": "python",
   "nbconvert_exporter": "python",
   "pygments_lexer": "ipython3",
   "version": "3.8.5"
  }
 },
 "nbformat": 4,
 "nbformat_minor": 4
}
