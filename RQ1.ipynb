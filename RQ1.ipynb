{
 "cells": [
  {
   "cell_type": "code",
   "execution_count": 1,
   "metadata": {},
   "outputs": [],
   "source": [
    "import pandas as pd\n",
    "import numpy as np\n",
    "from collections import Counter\n",
    "import spacy\n",
    "from sklearn.feature_extraction.text import CountVectorizer\n",
    "from sklearn.metrics.pairwise import cosine_similarity"
   ]
  },
  {
   "cell_type": "code",
   "execution_count": 2,
   "metadata": {},
   "outputs": [],
   "source": [
    "# RQ1: Which technologies have been investigated in the last decade?"
   ]
  },
  {
   "cell_type": "code",
   "execution_count": 3,
   "metadata": {},
   "outputs": [
    {
     "data": {
      "text/html": [
       "<div>\n",
       "<style scoped>\n",
       "    .dataframe tbody tr th:only-of-type {\n",
       "        vertical-align: middle;\n",
       "    }\n",
       "\n",
       "    .dataframe tbody tr th {\n",
       "        vertical-align: top;\n",
       "    }\n",
       "\n",
       "    .dataframe thead th {\n",
       "        text-align: right;\n",
       "    }\n",
       "</style>\n",
       "<table border=\"1\" class=\"dataframe\">\n",
       "  <thead>\n",
       "    <tr style=\"text-align: right;\">\n",
       "      <th></th>\n",
       "      <th>title</th>\n",
       "      <th>year</th>\n",
       "      <th>abstract</th>\n",
       "    </tr>\n",
       "  </thead>\n",
       "  <tbody>\n",
       "    <tr>\n",
       "      <th>0</th>\n",
       "      <td>Is an Athletic Approach the Future of Software...</td>\n",
       "      <td>2016</td>\n",
       "      <td>Traditional software engineering education app...</td>\n",
       "    </tr>\n",
       "    <tr>\n",
       "      <th>1</th>\n",
       "      <td>What Do We Know about Knowledge Management? Pr...</td>\n",
       "      <td>2009</td>\n",
       "      <td>There have been many claims about knowledge ma...</td>\n",
       "    </tr>\n",
       "    <tr>\n",
       "      <th>2</th>\n",
       "      <td>Global Software Engineering: An Industry Persp...</td>\n",
       "      <td>2016</td>\n",
       "      <td>Professional software products and IT systems ...</td>\n",
       "    </tr>\n",
       "    <tr>\n",
       "      <th>3</th>\n",
       "      <td>Advancing Software Engineering Professional Ed...</td>\n",
       "      <td>2011</td>\n",
       "      <td>The paper mentions that a reference curriculum...</td>\n",
       "    </tr>\n",
       "    <tr>\n",
       "      <th>4</th>\n",
       "      <td>Improving the State of Automotive Software Eng...</td>\n",
       "      <td>2017</td>\n",
       "      <td>The automotive industry is fundamentally chang...</td>\n",
       "    </tr>\n",
       "  </tbody>\n",
       "</table>\n",
       "</div>"
      ],
      "text/plain": [
       "                                               title  year  \\\n",
       "0  Is an Athletic Approach the Future of Software...  2016   \n",
       "1  What Do We Know about Knowledge Management? Pr...  2009   \n",
       "2  Global Software Engineering: An Industry Persp...  2016   \n",
       "3  Advancing Software Engineering Professional Ed...  2011   \n",
       "4  Improving the State of Automotive Software Eng...  2017   \n",
       "\n",
       "                                            abstract  \n",
       "0  Traditional software engineering education app...  \n",
       "1  There have been many claims about knowledge ma...  \n",
       "2  Professional software products and IT systems ...  \n",
       "3  The paper mentions that a reference curriculum...  \n",
       "4  The automotive industry is fundamentally chang...  "
      ]
     },
     "execution_count": 3,
     "metadata": {},
     "output_type": "execute_result"
    }
   ],
   "source": [
    "#Datene einlesen\n",
    "data = pd.read_csv('./data/data.csv',usecols = ['Document Title','Abstract','Publication Year'])\n",
    "data.columns = ['title','year','abstract']\n",
    "\n",
    "data.head()"
   ]
  },
  {
   "cell_type": "code",
   "execution_count": null,
   "metadata": {},
   "outputs": [],
   "source": []
  },
  {
   "cell_type": "code",
   "execution_count": 4,
   "metadata": {},
   "outputs": [
    {
     "data": {
      "text/plain": [
       "Index(['title', 'year', 'abstract'], dtype='object')"
      ]
     },
     "execution_count": 4,
     "metadata": {},
     "output_type": "execute_result"
    }
   ],
   "source": [
    "data.columns\n"
   ]
  },
  {
   "cell_type": "code",
   "execution_count": 5,
   "metadata": {},
   "outputs": [
    {
     "data": {
      "text/plain": [
       "title       2292\n",
       "year        2292\n",
       "abstract    2276\n",
       "dtype: int64"
      ]
     },
     "execution_count": 5,
     "metadata": {},
     "output_type": "execute_result"
    }
   ],
   "source": [
    "data.count()"
   ]
  },
  {
   "cell_type": "markdown",
   "metadata": {},
   "source": [
    "## Funktion für die TermDokumentenMatrix"
   ]
  },
  {
   "cell_type": "code",
   "execution_count": 6,
   "metadata": {},
   "outputs": [],
   "source": [
    "def CreateTermDocMatrix(column):\n",
    "        \n",
    "    count_vectorizer = CountVectorizer(stop_words='english',ngram_range = (2,2),dtype=np.int32)\n",
    "    sparse_matrix = count_vectorizer.fit_transform(data[column].values.astype('U'))\n",
    "\n",
    "    doc_term_matrix = sparse_matrix.todense()\n",
    "    df = pd.DataFrame(doc_term_matrix, columns=count_vectorizer.get_feature_names(), dtype=np.int32)\n",
    "    df['year'] = data['year']\n",
    "    returndf = df.groupby('year').sum().transpose().astype('int32')\n",
    "    return returndf"
   ]
  },
  {
   "cell_type": "code",
   "execution_count": 7,
   "metadata": {},
   "outputs": [],
   "source": [
    "def ShowWord(data,word):\n",
    "    d = data.loc[word]\n",
    "    d.plot.bar()"
   ]
  },
  {
   "cell_type": "code",
   "execution_count": 8,
   "metadata": {},
   "outputs": [],
   "source": [
    "def SpaltenEntf(data):\n",
    "    y = []\n",
    "    for item in data.columns:\n",
    "        y = data.columns\n",
    "\n",
    "\n",
    "    for index in range(len(y)):\n",
    "        x = y[index]\n",
    "        if x in stopwords or x.isnumeric():\n",
    "            del data[y[index]]\n",
    "    return data"
   ]
  },
  {
   "cell_type": "markdown",
   "metadata": {},
   "source": [
    "## Erstellen der TermDokumentenmatrix"
   ]
  },
  {
   "cell_type": "code",
   "execution_count": 9,
   "metadata": {},
   "outputs": [],
   "source": [
    "\n",
    "#abstract = CreateTermDocMatrix('abstract')"
   ]
  },
  {
   "cell_type": "code",
   "execution_count": 10,
   "metadata": {},
   "outputs": [],
   "source": [
    "#b = abstract.loc[abstract[2009] > 15] "
   ]
  },
  {
   "cell_type": "code",
   "execution_count": 11,
   "metadata": {},
   "outputs": [],
   "source": [
    "#b.plot.bar()\n",
    "#print(b)"
   ]
  },
  {
   "cell_type": "code",
   "execution_count": 12,
   "metadata": {},
   "outputs": [],
   "source": [
    "from collections import Counter\n",
    "#cnt = Counter()\n",
    "\n",
    "#for abstract in data['Abstract']:\n",
    "#    if type(abstract) is str:\n",
    "#        wordlist = abstract.split(' ')\n",
    "#        for word in wordlist:\n",
    "#            cnt[word] += 1\n",
    "        \n",
    "#cnt.most_common(30)"
   ]
  },
  {
   "cell_type": "code",
   "execution_count": 13,
   "metadata": {},
   "outputs": [],
   "source": [
    "#data[2019].count()"
   ]
  },
  {
   "cell_type": "code",
   "execution_count": 14,
   "metadata": {},
   "outputs": [],
   "source": [
    "#for abstract in data.itertuples():\n",
    "#    print(abstract[1])\n",
    "#    print(abstract[2])\n",
    "#    print(abstract[3])"
   ]
  },
  {
   "cell_type": "code",
   "execution_count": null,
   "metadata": {},
   "outputs": [],
   "source": []
  },
  {
   "cell_type": "code",
   "execution_count": null,
   "metadata": {},
   "outputs": [],
   "source": []
  },
  {
   "cell_type": "code",
   "execution_count": 15,
   "metadata": {},
   "outputs": [],
   "source": [
    "#Untersuchung Title\n",
    "#title = CreateTermDocMatrix('abstract')\n",
    "\n",
    "#print(title)\n",
    "#title = SpaltenEntf(title)\n",
    "#print(title)\n",
    "\n",
    "#b = title.loc[title[2017] > 10] \n",
    "\n",
    "#b.plot.bar()\n",
    "#print(b)\n",
    "#b.shape"
   ]
  },
  {
   "cell_type": "code",
   "execution_count": 16,
   "metadata": {},
   "outputs": [],
   "source": [
    "#import spacy\n",
    "#from spacy.symbols import NOUN\n",
    "#from collections import Counter\n",
    "\n",
    "\n",
    "#nlp = spacy.load(\"en_core_web_sm\")\n",
    "\n",
    "#cnt = Counter()\n",
    "#tokenlist = []\n",
    "#i = 1\n",
    "\n",
    "#for columns in data.itertuples():\n",
    "\n",
    "#    text = columns[1] #1 = title 2 = year 3 = abstract\n",
    "    #print(type(abstract))\n",
    "    # Verarbeite den Text\n",
    "#    if type(text) is str:\n",
    "#        doc = nlp(text)\n",
    "\n",
    "#        for noun_phrase in list(doc.noun_chunks):\n",
    "#             noun_phrase.merge(noun_phrase.root.tag_, noun_phrase.root.lemma_, noun_phrase.root.ent_type_)\n",
    "\n",
    "#        [(token.text,token.pos_) for token in doc]"
   ]
  },
  {
   "cell_type": "code",
   "execution_count": 17,
   "metadata": {},
   "outputs": [],
   "source": [
    "from matplotlib import pyplot as plt\n",
    "years = []\n",
    "\n",
    "#Balkendiagramm\n",
    "#plt.bar(range(len(years)),anzah)\n",
    "\n",
    "#Titel\n",
    "#plt.title(\"Toller Plot\")\n",
    "#plt.ylabel(\"# of awards\")\n",
    "\n",
    "#plt.xticks(range(len(years)),years)\n",
    "#plt.show()"
   ]
  },
  {
   "cell_type": "code",
   "execution_count": 18,
   "metadata": {},
   "outputs": [],
   "source": [
    "#def filter_spans(span):\n",
    "#    return span"
   ]
  },
  {
   "cell_type": "markdown",
   "metadata": {},
   "source": [
    "## Module importieren"
   ]
  },
  {
   "cell_type": "code",
   "execution_count": 19,
   "metadata": {},
   "outputs": [],
   "source": [
    "import spacy\n",
    "from spacy.symbols import NOUN\n",
    "from spacy.matcher import Matcher\n",
    "from collections import Counter\n",
    "from spacy.util import filter_spans"
   ]
  },
  {
   "cell_type": "markdown",
   "metadata": {},
   "source": [
    "## NLP Model laden"
   ]
  },
  {
   "cell_type": "code",
   "execution_count": 20,
   "metadata": {},
   "outputs": [],
   "source": [
    "nlp = spacy.load(\"en_core_web_sm\")"
   ]
  },
  {
   "cell_type": "code",
   "execution_count": null,
   "metadata": {},
   "outputs": [],
   "source": []
  },
  {
   "cell_type": "markdown",
   "metadata": {},
   "source": [
    "## Counter und Matcher initialisieren"
   ]
  },
  {
   "cell_type": "code",
   "execution_count": 21,
   "metadata": {},
   "outputs": [],
   "source": [
    "matcher = Matcher(nlp.vocab)\n",
    "words = Counter()\n",
    "words_chunk = Counter()"
   ]
  },
  {
   "cell_type": "markdown",
   "metadata": {},
   "source": [
    "## Pattern festlegen und dem Matcher hinzufügen"
   ]
  },
  {
   "cell_type": "code",
   "execution_count": 22,
   "metadata": {},
   "outputs": [],
   "source": [
    "pattern_test = [{'POS': 'NOUN'},\n",
    "                {'POS': 'NOUN'}]\n",
    "\n",
    "pattern_exmaple = [{'POS': 'ADJ', 'OP': '?'},\n",
    "                   {'OP': '+', 'POS': 'NOUN'},\n",
    "                   {'POS': 'NOUN', 'OP': '?'}]"
   ]
  },
  {
   "cell_type": "code",
   "execution_count": 23,
   "metadata": {},
   "outputs": [],
   "source": [
    "matcher.add(\"match_test\", [pattern_test])\n",
    "matcher.add(\"match_example\", [pattern_exmaple])"
   ]
  },
  {
   "cell_type": "markdown",
   "metadata": {},
   "source": [
    "\n"
   ]
  },
  {
   "cell_type": "code",
   "execution_count": 24,
   "metadata": {},
   "outputs": [],
   "source": [
    "for columns in data.itertuples():\n",
    "    \n",
    "    text = columns[3] #1 = title 2 = year 3 = abstract\n",
    "    # Verarbeite den Text\n",
    "    if type(text) is str:\n",
    "        doc = nlp(text)\n",
    "\n",
    "\n",
    "    matches = matcher(doc)\n",
    "    sp  = [doc[match[1]:match[2]] for match in matches] \n",
    "\n",
    "    filtered = filter_spans(sp)\n",
    "    with doc.retokenize() as retokenizer:\n",
    "        for s in filtered:\n",
    "            retokenizer.merge(s, attrs = {\"POS\": \"NOUN\"})\n",
    "    [(token.pos_, token.text) for token in doc]\n",
    "        \n",
    "    for token in doc:\n",
    "        # Greife auf den Text, die Wortart und die Dependenzrelation des Tokens zu\n",
    "        token_text = token.text\n",
    "        token_pos = token.pos_\n",
    "        token_dep = token.dep_\n",
    "        token_ent = token.ent_type_\n",
    "\n",
    "\n",
    "        if token.pos == NOUN:\n",
    "            if not token.is_stop:\n",
    "                words[token_text] += 1"
   ]
  },
  {
   "cell_type": "code",
   "execution_count": null,
   "metadata": {},
   "outputs": [],
   "source": []
  },
  {
   "cell_type": "code",
   "execution_count": null,
   "metadata": {},
   "outputs": [],
   "source": []
  },
  {
   "cell_type": "code",
   "execution_count": 25,
   "metadata": {},
   "outputs": [
    {
     "data": {
      "text/plain": [
       "[('paper', 712),\n",
       " ('approach', 634),\n",
       " ('developers', 580),\n",
       " ('results', 458),\n",
       " ('software', 365),\n",
       " ('code', 317),\n",
       " ('article', 314),\n",
       " ('percent', 279),\n",
       " ('system', 267),\n",
       " ('model', 266),\n",
       " ('time', 259),\n",
       " ('%', 256),\n",
       " ('techniques', 241),\n",
       " ('data', 235),\n",
       " ('systems', 234),\n",
       " ('state', 208),\n",
       " ('set', 207),\n",
       " ('software engineering', 198),\n",
       " ('number', 193),\n",
       " ('performance', 192),\n",
       " ('study', 188),\n",
       " ('analysis', 185),\n",
       " ('tools', 185),\n",
       " ('work', 181),\n",
       " ('problem', 177),\n",
       " ('effectiveness', 171),\n",
       " ('framework', 171),\n",
       " ('models', 171),\n",
       " ('development', 169),\n",
       " ('terms', 169),\n",
       " ('method', 167),\n",
       " ('researchers', 163),\n",
       " ('approaches', 162),\n",
       " ('projects', 161),\n",
       " ('users', 160),\n",
       " ('use', 158),\n",
       " ('quality', 153),\n",
       " ('process', 152),\n",
       " ('practitioners', 151),\n",
       " ('application', 149),\n",
       " ('applications', 148),\n",
       " ('technique', 148),\n",
       " ('tool', 147),\n",
       " ('context', 144),\n",
       " ('research', 143),\n",
       " ('challenges', 138),\n",
       " ('requirements', 138),\n",
       " ('methods', 132),\n",
       " ('order', 130),\n",
       " ('issue', 129),\n",
       " ('programs', 128),\n",
       " ('testing', 127),\n",
       " ('knowledge', 126),\n",
       " ('findings', 126),\n",
       " ('information', 125),\n",
       " ('changes', 124),\n",
       " ('design', 123),\n",
       " ('practice', 119),\n",
       " ('experiments', 118),\n",
       " ('software development', 118),\n",
       " ('bugs', 118),\n",
       " ('source code', 117),\n",
       " ('impact', 116),\n",
       " ('project', 115),\n",
       " ('test cases', 113),\n",
       " ('evaluation', 109),\n",
       " ('apps', 108),\n",
       " ('cost', 106),\n",
       " ('program', 106),\n",
       " ('software systems', 105),\n",
       " ('test', 105),\n",
       " ('Web', 102),\n",
       " ('architecture', 100),\n",
       " ('problems', 97),\n",
       " ('features', 96),\n",
       " ('faults', 92),\n",
       " ('benefits', 90),\n",
       " ('need', 90),\n",
       " ('end', 87),\n",
       " ('years', 87),\n",
       " ('example', 87),\n",
       " ('service', 87),\n",
       " ('complexity', 86),\n",
       " ('addition', 85),\n",
       " ('practices', 84),\n",
       " ('way', 84),\n",
       " ('defects', 84),\n",
       " ('column', 83),\n",
       " ('literature', 83),\n",
       " ('algorithms', 83),\n",
       " ('implementation', 83),\n",
       " ('case study', 83),\n",
       " ('level', 83),\n",
       " ('companies', 81),\n",
       " ('authors', 80),\n",
       " ('metrics', 80),\n",
       " ('components', 79),\n",
       " ('algorithm', 79),\n",
       " ('patterns', 79),\n",
       " ('tests', 79)]"
      ]
     },
     "execution_count": 25,
     "metadata": {},
     "output_type": "execute_result"
    }
   ],
   "source": [
    "words.most_common(100)"
   ]
  },
  {
   "cell_type": "code",
   "execution_count": null,
   "metadata": {},
   "outputs": [],
   "source": []
  },
  {
   "cell_type": "code",
   "execution_count": null,
   "metadata": {},
   "outputs": [],
   "source": []
  }
 ],
 "metadata": {
  "kernelspec": {
   "display_name": "Python 3",
   "language": "python",
   "name": "python3"
  },
  "language_info": {
   "codemirror_mode": {
    "name": "ipython",
    "version": 3
   },
   "file_extension": ".py",
   "mimetype": "text/x-python",
   "name": "python",
   "nbconvert_exporter": "python",
   "pygments_lexer": "ipython3",
   "version": "3.8.5"
  }
 },
 "nbformat": 4,
 "nbformat_minor": 4
}
