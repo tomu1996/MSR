{
 "cells": [
  {
   "cell_type": "code",
   "execution_count": 1,
   "metadata": {},
   "outputs": [],
   "source": [
    "import pandas as pd\n",
    "import numpy as np\n",
    "from collections import Counter\n",
    "import spacy\n",
    "from sklearn.feature_extraction.text import CountVectorizer\n",
    "from sklearn.metrics.pairwise import cosine_similarity"
   ]
  },
  {
   "cell_type": "code",
   "execution_count": 2,
   "metadata": {},
   "outputs": [],
   "source": [
    "# RQ1: Which technologies have been investigated in the last decade?"
   ]
  },
  {
   "cell_type": "code",
   "execution_count": 3,
   "metadata": {},
   "outputs": [],
   "source": [
    "data = pd.read_csv('./data/PoPCites2.csv')"
   ]
  },
  {
   "cell_type": "code",
   "execution_count": 4,
   "metadata": {},
   "outputs": [],
   "source": [
    "def CreateTermDocMatrix(data):\n",
    "    documents = []\n",
    "\n",
    "    for text in data['Abstract']:\n",
    "        documents.append(text)\n",
    "\n",
    "\n",
    "    count_vectorizer = CountVectorizer(stop_words='english')\n",
    "    #count_vectorizer = CountVectorizer()\n",
    "    sparse_matrix = count_vectorizer.fit_transform(documents)\n",
    "\n",
    "    doc_term_matrix = sparse_matrix.todense()\n",
    "    df = pd.DataFrame(doc_term_matrix, columns=count_vectorizer.get_feature_names())\n",
    "    df['PublishingYear'] = data['Year']\n",
    "    returndf = df.groupby('PublishingYear').sum()\n",
    "    return returndf"
   ]
  },
  {
   "cell_type": "code",
   "execution_count": null,
   "metadata": {},
   "outputs": [
    {
     "name": "stdout",
     "output_type": "stream",
     "text": [
      "<class 'pandas.core.frame.DataFrame'>\n",
      "Int64Index: 4 entries, 2017 to 2020\n",
      "Columns: 1669 entries, 12 to young\n",
      "dtypes: int64(1669)\n",
      "memory usage: 52.2 KB\n",
      "                12  14  15  17  1951  1960s  1968  1970s  1989  1990  ...  \\\n",
      "PublishingYear                                                        ...   \n",
      "2017             0   1   0   0     0      0     0      0     0     0  ...   \n",
      "2018             0   0   0   0     0      1     1      1     1     2  ...   \n",
      "2019             1   0   0   0     0      0     0      1     0     0  ...   \n",
      "2020             0   0   1   1     1      0     1      0     0     0  ...   \n",
      "\n",
      "                workers  working  world  worldwide  write  writing  year  \\\n",
      "PublishingYear                                                             \n",
      "2017                  1        2      2          0      2        1     3   \n",
      "2018                  0        0      1          0      0        0     1   \n",
      "2019                  0        0      3          2      0        0     0   \n",
      "2020                  0        0      1          0      0        0     0   \n",
      "\n",
      "                years  yields  young  \n",
      "PublishingYear                        \n",
      "2017                6       0      1  \n",
      "2018                6       0      0  \n",
      "2019                3       1      0  \n",
      "2020                2       0      0  \n",
      "\n",
      "[4 rows x 1669 columns]\n",
      "Fertig!\n"
     ]
    }
   ],
   "source": [
    "#abstract['PublishingYear'] == year\n",
    "\n",
    "abstract = CreateTermDocMatrix(data)\n",
    "abstract.info()\n",
    "print(abstract)\n",
    "\n",
    "yeardata = abstract.loc[2017]\n",
    "\n",
    "for year in range(2017,2020,1):\n",
    "    yeardata = abstract.loc[year]\n",
    "    #yeardata = abstract.loc['2017']\n",
    "    #print(yeardata)\n",
    "    yeardata.plot.bar()\n",
    "    \n",
    "print('Fertig!')"
   ]
  }
 ],
 "metadata": {
  "kernelspec": {
   "display_name": "Python 3",
   "language": "python",
   "name": "python3"
  },
  "language_info": {
   "codemirror_mode": {
    "name": "ipython",
    "version": 3
   },
   "file_extension": ".py",
   "mimetype": "text/x-python",
   "name": "python",
   "nbconvert_exporter": "python",
   "pygments_lexer": "ipython3",
   "version": "3.8.5"
  }
 },
 "nbformat": 4,
 "nbformat_minor": 4
}
