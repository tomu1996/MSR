{
 "cells": [
  {
   "cell_type": "code",
   "execution_count": 1,
   "metadata": {},
   "outputs": [],
   "source": [
    "import pandas as pd\n",
    "import numpy as np\n",
    "from collections import Counter\n",
    "import spacy\n",
    "from sklearn.feature_extraction.text import CountVectorizer\n",
    "from sklearn.metrics.pairwise import cosine_similarity"
   ]
  },
  {
   "cell_type": "code",
   "execution_count": 2,
   "metadata": {},
   "outputs": [],
   "source": [
    "# RQ1: Which technologies have been investigated in the last decade?"
   ]
  },
  {
   "cell_type": "code",
   "execution_count": 3,
   "metadata": {},
   "outputs": [
    {
     "data": {
      "text/html": [
       "<div>\n",
       "<style scoped>\n",
       "    .dataframe tbody tr th:only-of-type {\n",
       "        vertical-align: middle;\n",
       "    }\n",
       "\n",
       "    .dataframe tbody tr th {\n",
       "        vertical-align: top;\n",
       "    }\n",
       "\n",
       "    .dataframe thead th {\n",
       "        text-align: right;\n",
       "    }\n",
       "</style>\n",
       "<table border=\"1\" class=\"dataframe\">\n",
       "  <thead>\n",
       "    <tr style=\"text-align: right;\">\n",
       "      <th></th>\n",
       "      <th>Cites</th>\n",
       "      <th>Authors</th>\n",
       "      <th>Title</th>\n",
       "      <th>Year</th>\n",
       "      <th>Source</th>\n",
       "      <th>Publisher</th>\n",
       "      <th>ArticleURL</th>\n",
       "      <th>CitesURL</th>\n",
       "      <th>GSRank</th>\n",
       "      <th>QueryDate</th>\n",
       "      <th>...</th>\n",
       "      <th>Volume</th>\n",
       "      <th>Issue</th>\n",
       "      <th>StartPage</th>\n",
       "      <th>EndPage</th>\n",
       "      <th>ECC</th>\n",
       "      <th>CitesPerYear</th>\n",
       "      <th>CitesPerAuthor</th>\n",
       "      <th>AuthorCount</th>\n",
       "      <th>Age</th>\n",
       "      <th>Abstract</th>\n",
       "    </tr>\n",
       "  </thead>\n",
       "  <tbody>\n",
       "    <tr>\n",
       "      <th>0</th>\n",
       "      <td>7653</td>\n",
       "      <td>C Wohlin, P Runeson, M Höst, MC Ohlsson, B Reg...</td>\n",
       "      <td>Experimentation in software engineering</td>\n",
       "      <td>2012</td>\n",
       "      <td>NaN</td>\n",
       "      <td>books.google.com</td>\n",
       "      <td>https://books.google.com/books?hl=en&amp;lr=&amp;id=QP...</td>\n",
       "      <td>https://scholar.google.com/scholar?cites=11975...</td>\n",
       "      <td>1</td>\n",
       "      <td>2021-05-11 13:03:30</td>\n",
       "      <td>...</td>\n",
       "      <td>NaN</td>\n",
       "      <td>NaN</td>\n",
       "      <td>NaN</td>\n",
       "      <td>NaN</td>\n",
       "      <td>7653</td>\n",
       "      <td>850.33</td>\n",
       "      <td>1276</td>\n",
       "      <td>6</td>\n",
       "      <td>9</td>\n",
       "      <td>Like other sciences and engineering discipline...</td>\n",
       "    </tr>\n",
       "    <tr>\n",
       "      <th>1</th>\n",
       "      <td>441</td>\n",
       "      <td>R Mall</td>\n",
       "      <td>Fundamentals of software engineering</td>\n",
       "      <td>2018</td>\n",
       "      <td>NaN</td>\n",
       "      <td>books.google.com</td>\n",
       "      <td>https://books.google.com/books?hl=en&amp;lr=&amp;id=-J...</td>\n",
       "      <td>https://scholar.google.com/scholar?cites=22762...</td>\n",
       "      <td>2</td>\n",
       "      <td>2021-05-11 13:03:30</td>\n",
       "      <td>...</td>\n",
       "      <td>NaN</td>\n",
       "      <td>NaN</td>\n",
       "      <td>NaN</td>\n",
       "      <td>NaN</td>\n",
       "      <td>441</td>\n",
       "      <td>147.00</td>\n",
       "      <td>441</td>\n",
       "      <td>1</td>\n",
       "      <td>3</td>\n",
       "      <td>This new edition of the book, is restructured ...</td>\n",
       "    </tr>\n",
       "    <tr>\n",
       "      <th>2</th>\n",
       "      <td>698</td>\n",
       "      <td>P Jalote</td>\n",
       "      <td>An integrated approach to software engineering</td>\n",
       "      <td>2012</td>\n",
       "      <td>NaN</td>\n",
       "      <td>books.google.com</td>\n",
       "      <td>https://books.google.com/books?hl=en&amp;lr=&amp;id=Hi...</td>\n",
       "      <td>https://scholar.google.com/scholar?cites=65505...</td>\n",
       "      <td>3</td>\n",
       "      <td>2021-05-11 13:03:30</td>\n",
       "      <td>...</td>\n",
       "      <td>NaN</td>\n",
       "      <td>NaN</td>\n",
       "      <td>NaN</td>\n",
       "      <td>NaN</td>\n",
       "      <td>698</td>\n",
       "      <td>77.56</td>\n",
       "      <td>698</td>\n",
       "      <td>1</td>\n",
       "      <td>9</td>\n",
       "      <td>A lot has changed in the fast-moving area of s...</td>\n",
       "    </tr>\n",
       "    <tr>\n",
       "      <th>3</th>\n",
       "      <td>1051</td>\n",
       "      <td>N Juristo, AM Moreno</td>\n",
       "      <td>Basics of software engineering experimentation</td>\n",
       "      <td>2013</td>\n",
       "      <td>NaN</td>\n",
       "      <td>books.google.com</td>\n",
       "      <td>https://books.google.com/books?hl=en&amp;lr=&amp;id=iJ...</td>\n",
       "      <td>https://scholar.google.com/scholar?cites=81867...</td>\n",
       "      <td>4</td>\n",
       "      <td>2021-05-11 13:03:30</td>\n",
       "      <td>...</td>\n",
       "      <td>NaN</td>\n",
       "      <td>NaN</td>\n",
       "      <td>NaN</td>\n",
       "      <td>NaN</td>\n",
       "      <td>1051</td>\n",
       "      <td>131.38</td>\n",
       "      <td>526</td>\n",
       "      <td>2</td>\n",
       "      <td>8</td>\n",
       "      <td>Basics of Software Engineering Experimentation...</td>\n",
       "    </tr>\n",
       "    <tr>\n",
       "      <th>4</th>\n",
       "      <td>491</td>\n",
       "      <td>NMA Munassar, A Govardhan</td>\n",
       "      <td>A comparison between five models of software e...</td>\n",
       "      <td>2010</td>\n",
       "      <td>International Journal of Computer Science …</td>\n",
       "      <td>Citeseer</td>\n",
       "      <td>http://citeseerx.ist.psu.edu/viewdoc/download?...</td>\n",
       "      <td>https://scholar.google.com/scholar?cites=70840...</td>\n",
       "      <td>5</td>\n",
       "      <td>2021-05-11 13:03:30</td>\n",
       "      <td>...</td>\n",
       "      <td>NaN</td>\n",
       "      <td>NaN</td>\n",
       "      <td>NaN</td>\n",
       "      <td>NaN</td>\n",
       "      <td>491</td>\n",
       "      <td>44.64</td>\n",
       "      <td>246</td>\n",
       "      <td>2</td>\n",
       "      <td>11</td>\n",
       "      <td>This research deals with a vital and important...</td>\n",
       "    </tr>\n",
       "  </tbody>\n",
       "</table>\n",
       "<p>5 rows × 24 columns</p>\n",
       "</div>"
      ],
      "text/plain": [
       "   Cites                                            Authors  \\\n",
       "0   7653  C Wohlin, P Runeson, M Höst, MC Ohlsson, B Reg...   \n",
       "1    441                                             R Mall   \n",
       "2    698                                           P Jalote   \n",
       "3   1051                               N Juristo, AM Moreno   \n",
       "4    491                          NMA Munassar, A Govardhan   \n",
       "\n",
       "                                               Title  Year  \\\n",
       "0            Experimentation in software engineering  2012   \n",
       "1               Fundamentals of software engineering  2018   \n",
       "2     An integrated approach to software engineering  2012   \n",
       "3     Basics of software engineering experimentation  2013   \n",
       "4  A comparison between five models of software e...  2010   \n",
       "\n",
       "                                        Source         Publisher  \\\n",
       "0                                          NaN  books.google.com   \n",
       "1                                          NaN  books.google.com   \n",
       "2                                          NaN  books.google.com   \n",
       "3                                          NaN  books.google.com   \n",
       "4  International Journal of Computer Science …          Citeseer   \n",
       "\n",
       "                                          ArticleURL  \\\n",
       "0  https://books.google.com/books?hl=en&lr=&id=QP...   \n",
       "1  https://books.google.com/books?hl=en&lr=&id=-J...   \n",
       "2  https://books.google.com/books?hl=en&lr=&id=Hi...   \n",
       "3  https://books.google.com/books?hl=en&lr=&id=iJ...   \n",
       "4  http://citeseerx.ist.psu.edu/viewdoc/download?...   \n",
       "\n",
       "                                            CitesURL  GSRank  \\\n",
       "0  https://scholar.google.com/scholar?cites=11975...       1   \n",
       "1  https://scholar.google.com/scholar?cites=22762...       2   \n",
       "2  https://scholar.google.com/scholar?cites=65505...       3   \n",
       "3  https://scholar.google.com/scholar?cites=81867...       4   \n",
       "4  https://scholar.google.com/scholar?cites=70840...       5   \n",
       "\n",
       "             QueryDate  ... Volume  Issue  StartPage  EndPage   ECC  \\\n",
       "0  2021-05-11 13:03:30  ...    NaN    NaN        NaN      NaN  7653   \n",
       "1  2021-05-11 13:03:30  ...    NaN    NaN        NaN      NaN   441   \n",
       "2  2021-05-11 13:03:30  ...    NaN    NaN        NaN      NaN   698   \n",
       "3  2021-05-11 13:03:30  ...    NaN    NaN        NaN      NaN  1051   \n",
       "4  2021-05-11 13:03:30  ...    NaN    NaN        NaN      NaN   491   \n",
       "\n",
       "   CitesPerYear  CitesPerAuthor  AuthorCount  Age  \\\n",
       "0        850.33            1276            6    9   \n",
       "1        147.00             441            1    3   \n",
       "2         77.56             698            1    9   \n",
       "3        131.38             526            2    8   \n",
       "4         44.64             246            2   11   \n",
       "\n",
       "                                            Abstract  \n",
       "0  Like other sciences and engineering discipline...  \n",
       "1  This new edition of the book, is restructured ...  \n",
       "2  A lot has changed in the fast-moving area of s...  \n",
       "3  Basics of Software Engineering Experimentation...  \n",
       "4  This research deals with a vital and important...  \n",
       "\n",
       "[5 rows x 24 columns]"
      ]
     },
     "execution_count": 3,
     "metadata": {},
     "output_type": "execute_result"
    }
   ],
   "source": [
    "data = pd.read_csv('./data/500se.csv')\n",
    "data.head()"
   ]
  },
  {
   "cell_type": "code",
   "execution_count": 4,
   "metadata": {},
   "outputs": [],
   "source": [
    "def CreateTermDocMatrix(column):\n",
    "        \n",
    "    count_vectorizer = CountVectorizer(stop_words='english',ngram_range = (1,2))\n",
    "    sparse_matrix = count_vectorizer.fit_transform(data[column].values.astype('U'))\n",
    "\n",
    "    doc_term_matrix = sparse_matrix.todense()\n",
    "    df = pd.DataFrame(doc_term_matrix, columns=count_vectorizer.get_feature_names())\n",
    "    df['PublishingYear'] = data['Year']\n",
    "    returndf = df.groupby('PublishingYear').sum().transpose()\n",
    "    return returndf"
   ]
  },
  {
   "cell_type": "code",
   "execution_count": 5,
   "metadata": {},
   "outputs": [],
   "source": [
    "def ShowWord(data,word):\n",
    "    d = data.loc[word]\n",
    "    d.plot.bar()"
   ]
  },
  {
   "cell_type": "code",
   "execution_count": 6,
   "metadata": {},
   "outputs": [],
   "source": [
    "def SpaltenEntf(data):\n",
    "    y = []\n",
    "    for item in data.columns:\n",
    "        y = data.columns\n",
    "\n",
    "\n",
    "    for index in range(len(y)):\n",
    "        x = y[index]\n",
    "        if x in stopwords or x.isnumeric():\n",
    "            del data[y[index]]\n",
    "    return data"
   ]
  },
  {
   "cell_type": "code",
   "execution_count": 7,
   "metadata": {},
   "outputs": [
    {
     "name": "stdout",
     "output_type": "stream",
     "text": [
      "PublishingYear        2009  2010  2011  2012  2013  2014  2015  2016  2017  \\\n",
      "challenges               6     4     8     3     3     5     1     1     7   \n",
      "development             19    24    14    13    15     5    13    11     8   \n",
      "engineering             52    69    57    46    61    35    31    36    17   \n",
      "software               102   134    92    80    92    66    59    62    39   \n",
      "software development     8    15     7     9     7     2     9     6     6   \n",
      "software engineering    37    64    50    39    55    31    28    32    13   \n",
      "\n",
      "PublishingYear        2018  2019  2020  2021  \n",
      "challenges               0     0     0     0  \n",
      "development              4     1     1     3  \n",
      "engineering             19     1     2     1  \n",
      "software                25     3     2     5  \n",
      "software development     2     0     0     3  \n",
      "software engineering    15     1     2     1  \n"
     ]
    },
    {
     "data": {
      "text/plain": [
       "(6, 13)"
      ]
     },
     "execution_count": 7,
     "metadata": {},
     "output_type": "execute_result"
    },
    {
     "data": {
      "image/png": "[encoded data removed]",
      "text/plain": [
       "<Figure size 432x288 with 1 Axes>"
      ]
     },
     "metadata": {
      "needs_background": "light"
     },
     "output_type": "display_data"
    }
   ],
   "source": [
    "#Untersuchung Abstract\n",
    "\n",
    "abstract = CreateTermDocMatrix('Abstract')\n",
    "\n",
    "b = abstract.loc[abstract[2017] > 5] \n",
    "\n",
    "b.plot.bar()\n",
    "print(b)\n",
    "b.shape\n"
   ]
  },
  {
   "cell_type": "code",
   "execution_count": 8,
   "metadata": {},
   "outputs": [
    {
     "name": "stdout",
     "output_type": "stream",
     "text": [
      "PublishingYear        2009  2010  2011  2012  2013  2014  2015  2016  2017  \\\n",
      "engineering             57    43    41    34    41    32    38    27    19   \n",
      "software                69    76    68    52    58    46    48    36    27   \n",
      "software engineering    42    38    39    28    40    28    38    24    16   \n",
      "\n",
      "PublishingYear        2018  2019  2020  2021  \n",
      "engineering             14     3     2     2  \n",
      "software                19     3     2     2  \n",
      "software engineering    12     3     2     2  \n"
     ]
    },
    {
     "data": {
      "image/png": "[encoded data removed]",
      "text/plain": [
       "<Figure size 432x288 with 1 Axes>"
      ]
     },
     "metadata": {
      "needs_background": "light"
     },
     "output_type": "display_data"
    }
   ],
   "source": [
    "#Untersuchung Title\n",
    "title = CreateTermDocMatrix('Title')\n",
    "\n",
    "#print(title)\n",
    "#title = SpaltenEntf(title)\n",
    "#print(title)\n",
    "\n",
    "b = title.loc[title[2017] > 5] \n",
    "\n",
    "b.plot.bar()\n",
    "print(b)\n",
    "#b.shape\n"
   ]
  },
  {
   "cell_type": "code",
   "execution_count": 9,
   "metadata": {},
   "outputs": [
    {
     "data": {
      "image/png": "[encoded data removed]",
      "text/plain": [
       "<Figure size 432x288 with 1 Axes>"
      ]
     },
     "metadata": {
      "needs_background": "light"
     },
     "output_type": "display_data"
    }
   ],
   "source": [
    "#Einzelnes Wort anzeigen\n",
    "abstract = CreateTermDocMatrix('Abstract')\n",
    "ShowWord(abstract,'software')"
   ]
  },
  {
   "cell_type": "code",
   "execution_count": null,
   "metadata": {},
   "outputs": [],
   "source": []
  }
 ],
 "metadata": {
  "kernelspec": {
   "display_name": "Python 3",
   "language": "python",
   "name": "python3"
  },
  "language_info": {
   "codemirror_mode": {
    "name": "ipython",
    "version": 3
   },
   "file_extension": ".py",
   "mimetype": "text/x-python",
   "name": "python",
   "nbconvert_exporter": "python",
   "pygments_lexer": "ipython3",
   "version": "3.8.5"
  }
 },
 "nbformat": 4,
 "nbformat_minor": 4
}
