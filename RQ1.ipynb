{
 "cells": [
  {
   "cell_type": "code",
   "execution_count": 1,
   "metadata": {},
   "outputs": [],
   "source": [
    "import pandas as pd\n",
    "import numpy as np\n",
    "from collections import Counter\n",
    "import spacy\n",
    "from sklearn.feature_extraction.text import CountVectorizer\n",
    "from sklearn.metrics.pairwise import cosine_similarity"
   ]
  },
  {
   "cell_type": "code",
   "execution_count": 2,
   "metadata": {},
   "outputs": [],
   "source": [
    "# RQ1: Which technologies have been investigated in the last decade?"
   ]
  },
  {
   "cell_type": "code",
   "execution_count": 3,
   "metadata": {},
   "outputs": [
    {
     "name": "stdout",
     "output_type": "stream",
     "text": [
      "<class 'pandas.core.frame.DataFrame'>\n",
      "RangeIndex: 1946 entries, 0 to 1945\n",
      "Data columns (total 30 columns):\n",
      " #   Column                       Non-Null Count  Dtype  \n",
      "---  ------                       --------------  -----  \n",
      " 0   Document Title               1946 non-null   object \n",
      " 1   Authors                      1804 non-null   object \n",
      " 2   Author Affiliations          1784 non-null   object \n",
      " 3   Publication Title            1946 non-null   object \n",
      " 4   Date Added To Xplore         1946 non-null   object \n",
      " 5   Publication Year             1946 non-null   int64  \n",
      " 6   Volume                       652 non-null    float64\n",
      " 7   Issue                        652 non-null    float64\n",
      " 8   Start Page                   1946 non-null   object \n",
      " 9   End Page                     1944 non-null   object \n",
      " 10  Abstract                     1933 non-null   object \n",
      " 11  ISSN                         652 non-null    object \n",
      " 12  ISBNs                        1294 non-null   object \n",
      " 13  DOI                          1946 non-null   object \n",
      " 14  Funding Information          0 non-null      float64\n",
      " 15  PDF Link                     1946 non-null   object \n",
      " 16  Author Keywords              511 non-null    object \n",
      " 17  IEEE Terms                   1769 non-null   object \n",
      " 18  INSPEC Controlled Terms      1712 non-null   object \n",
      " 19  INSPEC Non-Controlled Terms  1712 non-null   object \n",
      " 20  Mesh_Terms                   0 non-null      float64\n",
      " 21  Article Citation Count       979 non-null    float64\n",
      " 22  Patent Citation Count        85 non-null     float64\n",
      " 23  Reference Count              1727 non-null   float64\n",
      " 24  License                      0 non-null      float64\n",
      " 25  Online Date                  1946 non-null   object \n",
      " 26  Issue Date                   0 non-null      float64\n",
      " 27  Meeting Date                 0 non-null      float64\n",
      " 28  Publisher                    1946 non-null   object \n",
      " 29  Document Identifier          1946 non-null   object \n",
      "dtypes: float64(10), int64(1), object(19)\n",
      "memory usage: 456.2+ KB\n"
     ]
    }
   ],
   "source": [
    "data = pd.read_csv('./data/export1.csv')\n",
    "data.info()"
   ]
  },
  {
   "cell_type": "code",
   "execution_count": 4,
   "metadata": {},
   "outputs": [],
   "source": [
    "def CreateTermDocMatrix(column):\n",
    "        \n",
    "    count_vectorizer = CountVectorizer(stop_words='english',ngram_range = (1,2))\n",
    "    sparse_matrix = count_vectorizer.fit_transform(data[column].values.astype('U'))\n",
    "\n",
    "    doc_term_matrix = sparse_matrix.todense()\n",
    "    df = pd.DataFrame(doc_term_matrix, columns=count_vectorizer.get_feature_names())\n",
    "    df['PublishingYear'] = data['Year']\n",
    "    returndf = df.groupby('PublishingYear').sum().transpose()\n",
    "    return returndf"
   ]
  },
  {
   "cell_type": "code",
   "execution_count": 5,
   "metadata": {},
   "outputs": [],
   "source": [
    "def ShowWord(data,word):\n",
    "    d = data.loc[word]\n",
    "    d.plot.bar()"
   ]
  },
  {
   "cell_type": "code",
   "execution_count": 6,
   "metadata": {},
   "outputs": [],
   "source": [
    "def SpaltenEntf(data):\n",
    "    y = []\n",
    "    for item in data.columns:\n",
    "        y = data.columns\n",
    "\n",
    "\n",
    "    for index in range(len(y)):\n",
    "        x = y[index]\n",
    "        if x in stopwords or x.isnumeric():\n",
    "            del data[y[index]]\n",
    "    return data"
   ]
  },
  {
   "cell_type": "code",
   "execution_count": 7,
   "metadata": {},
   "outputs": [],
   "source": [
    "#Untersuchung Abstract\n",
    "\n",
    "#abstract = CreateTermDocMatrix('Abstract')\n",
    "\n",
    "#b = abstract.loc[abstract[2017] > 5] \n",
    "\n",
    "#b.plot.bar()\n",
    "#print(b)"
   ]
  },
  {
   "cell_type": "code",
   "execution_count": 8,
   "metadata": {},
   "outputs": [],
   "source": [
    "#Untersuchung Title\n",
    "#title = CreateTermDocMatrix('Title')\n",
    "\n",
    "#print(title)\n",
    "#title = SpaltenEntf(title)\n",
    "#print(title)\n",
    "\n",
    "#b = title.loc[title[2017] > 5] \n",
    "\n",
    "#b.plot.bar()\n",
    "#print(b)\n",
    "#b.shape"
   ]
  },
  {
   "cell_type": "code",
   "execution_count": 9,
   "metadata": {},
   "outputs": [],
   "source": [
    "#Einzelnes Wort anzeigen\n",
    "#abstract = CreateTermDocMatrix('Abstract')\n",
    "#ShowWord(abstract,'software')"
   ]
  },
  {
   "cell_type": "code",
   "execution_count": 10,
   "metadata": {},
   "outputs": [
    {
     "data": {
      "text/plain": [
       "Index(['Document Title', 'Authors', 'Author Affiliations', 'Publication Title',\n",
       "       'Date Added To Xplore', 'Publication Year', 'Volume', 'Issue',\n",
       "       'Start Page', 'End Page', 'Abstract', 'ISSN', 'ISBNs', 'DOI',\n",
       "       'Funding Information', 'PDF Link', 'Author Keywords', 'IEEE Terms',\n",
       "       'INSPEC Controlled Terms', 'INSPEC Non-Controlled Terms', 'Mesh_Terms',\n",
       "       'Article Citation Count', 'Patent Citation Count', 'Reference Count',\n",
       "       'License', 'Online Date', 'Issue Date', 'Meeting Date', 'Publisher',\n",
       "       'Document Identifier'],\n",
       "      dtype='object')"
      ]
     },
     "execution_count": 10,
     "metadata": {},
     "output_type": "execute_result"
    }
   ],
   "source": [
    "data.columns"
   ]
  }
 ],
 "metadata": {
  "kernelspec": {
   "display_name": "Python 3",
   "language": "python",
   "name": "python3"
  },
  "language_info": {
   "codemirror_mode": {
    "name": "ipython",
    "version": 3
   },
   "file_extension": ".py",
   "mimetype": "text/x-python",
   "name": "python",
   "nbconvert_exporter": "python",
   "pygments_lexer": "ipython3",
   "version": "3.8.5"
  }
 },
 "nbformat": 4,
 "nbformat_minor": 4
}
