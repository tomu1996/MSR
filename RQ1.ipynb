{
 "cells": [
  {
   "cell_type": "markdown",
   "metadata": {},
   "source": [
    "# RQ1: Which technologies have been investigated in the last decade?"
   ]
  },
  {
   "cell_type": "markdown",
   "metadata": {},
   "source": [
    "## Module importieren"
   ]
  },
  {
   "cell_type": "code",
   "execution_count": 1,
   "metadata": {},
   "outputs": [],
   "source": [
    "import pandas as pd\n",
    "import altair as alt\n",
    "import numpy as np\n",
    "from collections import Counter\n",
    "import spacy\n",
    "from sklearn.feature_extraction.text import CountVectorizer\n",
    "from sklearn.feature_extraction.text import TfidfTransformer\n",
    "from sklearn.metrics.pairwise import cosine_similarity\n",
    "from spacy.symbols import NOUN,X,VERB,ADJ,SYM,NUM\n",
    "from spacy.matcher import Matcher\n",
    "from spacy.util import filter_spans"
   ]
  },
  {
   "cell_type": "markdown",
   "metadata": {},
   "source": [
    "## Daten einlesen\n",
    "In diesem Block werden die Daten in eine Pandas DataFrame geladen. Anschließend werden die Spalten zur besseren Übersichtlichkeit umbenannt."
   ]
  },
  {
   "cell_type": "code",
   "execution_count": 2,
   "metadata": {},
   "outputs": [],
   "source": [
    "#Datene einlesen\n",
    "data = pd.read_csv('./data/data.csv',usecols = ['Unnamed: 0','Document Title','Abstract','Publication Year'])\n",
    "data.columns = ['index','title','year','abstract']\n",
    "data.index = data['index']\n",
    "\n",
    "data.drop([\"index\"], axis = 1, inplace = True)\n"
   ]
  },
  {
   "cell_type": "markdown",
   "metadata": {},
   "source": [
    "## NLP Model laden"
   ]
  },
  {
   "cell_type": "code",
   "execution_count": 3,
   "metadata": {},
   "outputs": [],
   "source": [
    "nlp = spacy.load(\"en_core_web_sm\")"
   ]
  },
  {
   "cell_type": "markdown",
   "metadata": {},
   "source": [
    "## Matcher initialisieren"
   ]
  },
  {
   "cell_type": "code",
   "execution_count": 4,
   "metadata": {},
   "outputs": [],
   "source": [
    "matcher = Matcher(nlp.vocab)"
   ]
  },
  {
   "cell_type": "markdown",
   "metadata": {},
   "source": [
    "## Pattern festlegen und dem Matcher hinzufügen"
   ]
  },
  {
   "cell_type": "code",
   "execution_count": 5,
   "metadata": {},
   "outputs": [],
   "source": [
    "pattern_noun_propn = [{'POS': 'PROPN', 'OP': '?'},\n",
    "                      {'POS': 'NOUN'},\n",
    "                      {'POS': 'PROPN', 'OP': '?'}]"
   ]
  },
  {
   "cell_type": "code",
   "execution_count": 6,
   "metadata": {},
   "outputs": [],
   "source": [
    "pattern_nouns = [{'POS': 'NOUN'},\n",
    "                 {'POS': 'NOUN'}]"
   ]
  },
  {
   "cell_type": "code",
   "execution_count": 7,
   "metadata": {},
   "outputs": [],
   "source": [
    "pattern_propn = [{'POS': 'PROPN'},\n",
    "                 {'POS': 'PROPN'}]"
   ]
  },
  {
   "cell_type": "code",
   "execution_count": 8,
   "metadata": {},
   "outputs": [],
   "source": [
    "pattern_adj_noun = [{'POS': 'ADJ'},\n",
    "                    {'POS': 'NOUN'}]"
   ]
  },
  {
   "cell_type": "code",
   "execution_count": 9,
   "metadata": {},
   "outputs": [],
   "source": [
    "pattern_verb_verb = [{'POS': 'VERB'},\n",
    "                    {'POS': 'VERB'}]"
   ]
  },
  {
   "cell_type": "code",
   "execution_count": 10,
   "metadata": {},
   "outputs": [],
   "source": [
    "#pattern_test = [{'POS': 'ADJ', 'OP': '?'},\n",
    "#                {'POS': 'NOUN'},\n",
    "#                {'POS': 'NOUN'}]\n",
    "\n",
    "pattern_exmaple = [{'POS': 'ADJ', 'OP': '?'},\n",
    "                   {'OP': '+', 'POS': 'NOUN'},\n",
    "                   {'POS': 'NOUN', 'OP': '?'}]"
   ]
  },
  {
   "cell_type": "code",
   "execution_count": 11,
   "metadata": {},
   "outputs": [],
   "source": [
    "matcher.add(\"match_propn\", [pattern_propn])\n",
    "matcher.add(\"match_noun_propn\", [pattern_noun_propn])\n",
    "matcher.add(\"match_nouns\", [pattern_nouns])\n",
    "matcher.add(\"match_adj_noun\", [pattern_adj_noun])\n",
    "matcher.add(\"match_verb_verb\", [pattern_verb_verb])"
   ]
  },
  {
   "cell_type": "markdown",
   "metadata": {},
   "source": [
    "## Funktion für die TermDokumentenMatrix"
   ]
  },
  {
   "cell_type": "code",
   "execution_count": 12,
   "metadata": {},
   "outputs": [],
   "source": [
    "def CreateTermDocMatrix(column):\n",
    "        \n",
    "    #stop_words='english',ngram_range = (1,2),preprocessor = my_preprocessor, \n",
    "    count_vectorizer = CountVectorizer(preprocessor = my_preprocessor,  tokenizer = Retokenize,dtype=np.int32)\n",
    "    sparse_matrix = count_vectorizer.fit_transform(data[column].values.astype('U'))\n",
    "\n",
    "    doc_term_matrix = sparse_matrix.todense()\n",
    "    df = pd.DataFrame(doc_term_matrix, columns=count_vectorizer.get_feature_names(), dtype=np.int32)\n",
    "    df['year'] = data['year']\n",
    "    returndf = df.groupby('year').sum().transpose().astype('int32')\n",
    "    return returndf"
   ]
  },
  {
   "cell_type": "code",
   "execution_count": 13,
   "metadata": {},
   "outputs": [],
   "source": [
    "def ShowWord(data,word):\n",
    "    d = data.loc[word]\n",
    "    d.plot.bar()"
   ]
  },
  {
   "cell_type": "code",
   "execution_count": 14,
   "metadata": {},
   "outputs": [],
   "source": [
    "def Retokenize(text):\n",
    "    doc = nlp(text)\n",
    "\n",
    "    matches = matcher(doc)\n",
    "    sp  = [doc[match[1]:match[2]] for match in matches] \n",
    "\n",
    "    filtered = filter_spans(sp)\n",
    "    with doc.retokenize() as retokenizer:\n",
    "        for s in filtered:\n",
    "            retokenizer.merge(s, attrs = {\"POS\": \"NOUN\"})\n",
    "    return [(token.text,token.pos_) for token in doc]"
   ]
  },
  {
   "cell_type": "code",
   "execution_count": 15,
   "metadata": {},
   "outputs": [],
   "source": [
    "def my_postprocessor(token):\n",
    "    \n",
    "    if not token.is_digit:\n",
    "        if not token.is_punct:\n",
    "            if not token.like_num:\n",
    "                if not token.is_stop:\n",
    "                    if not token.is_space:\n",
    "                        if token.pos != X:\n",
    "                            if token.pos != VERB:\n",
    "                                if token.pos != ADJ:\n",
    "                                    if token.pos != SYM:\n",
    "                                        if token.pos != NUM:\n",
    "                                            return token\n",
    "    return result\n",
    "        "
   ]
  },
  {
   "cell_type": "code",
   "execution_count": 16,
   "metadata": {},
   "outputs": [],
   "source": [
    "def my_preprocessor(text):\n",
    "    result = ''\n",
    "    doc = nlp(str(text))\n",
    "    \n",
    "    for token in doc:\n",
    "        if not token.is_digit:\n",
    "            if not token.is_punct:\n",
    "                if not token.like_num:\n",
    "                    if not token.is_stop:\n",
    "                        if not token.is_space:\n",
    "                            if token.pos != X:\n",
    "                                if token.pos != VERB:\n",
    "                                    if token.pos != ADJ:\n",
    "                                        if token.pos != SYM:\n",
    "                                            if token.pos != NUM:\n",
    "                                                result += token.lemma_\n",
    "        if len(result) != 0:\n",
    "            if result[-1] != ' ':\n",
    "                result += ' '\n",
    "    return result"
   ]
  },
  {
   "cell_type": "markdown",
   "metadata": {},
   "source": [
    "## Term Dokumenten Matrix erstellen"
   ]
  },
  {
   "cell_type": "code",
   "execution_count": 17,
   "metadata": {},
   "outputs": [],
   "source": [
    "abstract = CreateTermDocMatrix('abstract')"
   ]
  },
  {
   "cell_type": "code",
   "execution_count": 18,
   "metadata": {},
   "outputs": [],
   "source": [
    "tfidf =TfidfTransformer()"
   ]
  },
  {
   "cell_type": "code",
   "execution_count": 19,
   "metadata": {},
   "outputs": [
    {
     "data": {
      "text/plain": [
       "<13x37992 sparse matrix of type '<class 'numpy.float64'>'\n",
       "\twith 50409 stored elements in Compressed Sparse Row format>"
      ]
     },
     "execution_count": 19,
     "metadata": {},
     "output_type": "execute_result"
    }
   ],
   "source": [
    "tfidf.fit_transform(abstract.transpose())"
   ]
  },
  {
   "cell_type": "code",
   "execution_count": 20,
   "metadata": {},
   "outputs": [
    {
     "data": {
      "text/plain": [
       "array([2.54044504, 2.94591015, 2.94591015, ..., 2.94591015, 2.94591015,\n",
       "       2.94591015])"
      ]
     },
     "execution_count": 20,
     "metadata": {},
     "output_type": "execute_result"
    }
   ],
   "source": [
    "tfidf.idf_"
   ]
  },
  {
   "cell_type": "markdown",
   "metadata": {},
   "source": [
    "## Top 5 Themen"
   ]
  },
  {
   "cell_type": "code",
   "execution_count": 21,
   "metadata": {},
   "outputs": [],
   "source": [
    "stopwords = ['set', 'system','metric','result']"
   ]
  },
  {
   "cell_type": "code",
   "execution_count": 22,
   "metadata": {},
   "outputs": [],
   "source": [
    "anzahl_top_topics = 20"
   ]
  },
  {
   "cell_type": "code",
   "execution_count": 23,
   "metadata": {},
   "outputs": [],
   "source": [
    "data_words = abstract.drop(stopwords, axis = 0)\n",
    "#data_words = abstract"
   ]
  },
  {
   "cell_type": "code",
   "execution_count": 24,
   "metadata": {},
   "outputs": [
    {
     "name": "stdout",
     "output_type": "stream",
     "text": [
      "(software development, NOUN)    24\n",
      "(software engineering, NOUN)    18\n",
      "(result, VERB)                  14\n",
      "(software system, NOUN)         14\n",
      "(system, NOUN)                  11\n",
      "(directly, ADV)                  9\n",
      "(respectively, ADV)              8\n",
      "(set, VERB)                      8\n",
      "(IEEE Software, NOUN)            7\n",
      "(case study, NOUN)               7\n",
      "(defect, VERB)                   7\n",
      "(engineering, NOUN)              7\n",
      "(generally, ADV)                 7\n",
      "(process, NOUN)                  7\n",
      "(software, NOUN)                 7\n",
      "(automatically, ADV)             6\n",
      "(test suite, NOUN)               6\n",
      "(ERP implementation, NOUN)       5\n",
      "(article, NOUN)                  5\n",
      "(carefully, ADV)                 5\n",
      "Name: 2009, dtype: int32\n",
      "--------------------------------------------\n",
      "(set, VERB)                      23\n",
      "(automatically, ADV)             16\n",
      "(result, VERB)                   14\n",
      "(product line, NOUN)             12\n",
      "(software development, NOUN)     12\n",
      "(software system, NOUN)          10\n",
      "(software engineering, NOUN)      9\n",
      "(widely, ADV)                     9\n",
      "(software product, NOUN)          8\n",
      "(system, NOUN)                    8\n",
      "(software architecture, NOUN)     7\n",
      "(test case, NOUN)                 7\n",
      "(fully, ADV)                      6\n",
      "(increasingly, ADV)               6\n",
      "(need, VERB)                      6\n",
      "(process, NOUN)                   6\n",
      "(software, NOUN)                  6\n",
      "(application, NOUN)               5\n",
      "(case study, NOUN)                5\n",
      "(e.g., ADV)                       5\n",
      "Name: 2010, dtype: int32\n",
      "--------------------------------------------\n",
      "(result, VERB)                   20\n",
      "(software system, NOUN)          12\n",
      "(automatically, ADV)             10\n",
      "(system, NOUN)                   10\n",
      "(setting, VERB)                   9\n",
      "(software development, NOUN)      9\n",
      "(model, NOUN)                     8\n",
      "(need, VERB)                      8\n",
      "(software engineering, NOUN)      8\n",
      "(use, VERB)                       8\n",
      "(approach, NOUN)                  7\n",
      "(case study, NOUN)                7\n",
      "(finally, ADV)                    7\n",
      "(software architecture, NOUN)     6\n",
      "(software component, NOUN)        6\n",
      "(widely, ADV)                     6\n",
      "(finding, VERB)                   5\n",
      "(significantly, ADV)              5\n",
      "(understanding, VERB)             5\n",
      "(IEEE Software, NOUN)             4\n",
      "Name: 2011, dtype: int32\n",
      "--------------------------------------------\n",
      "(result, VERB)                  19\n",
      "(software engineering, NOUN)    17\n",
      "(significantly, ADV)            15\n",
      "(software development, NOUN)    14\n",
      "(application, NOUN)             13\n",
      "(set, VERB)                     13\n",
      "(widely, ADV)                   13\n",
      "(need, VERB)                    10\n",
      "(software system, NOUN)         10\n",
      "(system, NOUN)                  10\n",
      "(automatically, ADV)             9\n",
      "(e.g., ADV)                      9\n",
      "(highly, ADV)                    9\n",
      "(model, NOUN)                    9\n",
      "(approach, VERB)                 8\n",
      "(refactoring, VERB)              8\n",
      "(use, VERB)                      8\n",
      "(effectively, ADV)               7\n",
      "(furthermore, ADV)               7\n",
      "(increasingly, ADV)              7\n",
      "Name: 2012, dtype: int32\n",
      "--------------------------------------------\n",
      "(result, VERB)                  33\n",
      "(test case, NOUN)               24\n",
      "(software system, NOUN)         20\n",
      "(software engineering, NOUN)    18\n",
      "(system, NOUN)                  17\n",
      "(set, VERB)                     16\n",
      "(software development, NOUN)    16\n",
      "(IEEE Software, NOUN)           13\n",
      "(use, VERB)                     13\n",
      "(approach, NOUN)                11\n",
      "(automatically, ADV)            11\n",
      "(need, VERB)                    11\n",
      "(significantly, ADV)            11\n",
      "(setting, VERB)                 10\n",
      "(software, NOUN)                10\n",
      "(technique, NOUN)               10\n",
      "(refactoring, VERB)              9\n",
      "(Forrest Shull, NOUN)            8\n",
      "(Software Engineering, NOUN)     8\n",
      "(e.g., ADV)                      8\n",
      "Name: 2013, dtype: int32\n",
      "--------------------------------------------\n",
      "(result, VERB)                  16\n",
      "(automatically, ADV)            14\n",
      "(set, VERB)                     14\n",
      "(software development, NOUN)    14\n",
      "(software system, NOUN)         13\n",
      "(need, VERB)                    11\n",
      "(highly, ADV)                   10\n",
      "(software engineering, NOUN)    10\n",
      "(use, VERB)                     10\n",
      "(approach, NOUN)                 9\n",
      "(effectively, ADV)               9\n",
      "(IEEE Software, NOUN)            8\n",
      "(increasingly, ADV)              8\n",
      "(significantly, ADV)             8\n",
      "(approach, VERB)                 7\n",
      "(especially, ADV)                7\n",
      "(model, NOUN)                    7\n",
      "(programming language, NOUN)     7\n",
      "(software, NOUN)                 7\n",
      "(software quality, NOUN)         7\n",
      "Name: 2014, dtype: int32\n",
      "--------------------------------------------\n",
      "(result, VERB)                  26\n",
      "(need, VERB)                    25\n",
      "(set, VERB)                     18\n",
      "(automatically, ADV)            17\n",
      "(refactoring, VERB)             14\n",
      "(software engineering, NOUN)    13\n",
      "(software system, NOUN)         13\n",
      "(approach, NOUN)                11\n",
      "(finally, ADV)                  11\n",
      "(article, NOUN)                 10\n",
      "(significantly, ADV)            10\n",
      "(software, NOUN)                 9\n",
      "(source code, NOUN)              9\n",
      "(test oracle, NOUN)              9\n",
      "(test suite, NOUN)               9\n",
      "(highly, ADV)                    8\n",
      "(method, NOUN)                   8\n",
      "(software development, NOUN)     8\n",
      "(specifically, ADV)              8\n",
      "(code, NOUN)                     7\n",
      "Name: 2015, dtype: int32\n",
      "--------------------------------------------\n",
      "(result, VERB)                  24\n",
      "(software development, NOUN)    20\n",
      "(software engineering, NOUN)    20\n",
      "(need, VERB)                    16\n",
      "(automatically, ADV)            15\n",
      "(test case, NOUN)               15\n",
      "(system, NOUN)                  14\n",
      "(set, VERB)                     13\n",
      "(approach, VERB)                12\n",
      "(significantly, ADV)            12\n",
      "(Software Engineering, NOUN)    10\n",
      "(bound, VERB)                   10\n",
      "(Engineering, PROPN)             9\n",
      "(development, NOUN)              8\n",
      "(effectively, ADV)               8\n",
      "(manually, ADV)                  8\n",
      "(software architect, NOUN)       8\n",
      "(source code, NOUN)              8\n",
      "(state art, NOUN)                8\n",
      "(article, NOUN)                  7\n",
      "Name: 2016, dtype: int32\n",
      "--------------------------------------------\n",
      "(result, VERB)                  23\n",
      "(software engineering, NOUN)    15\n",
      "(significantly, ADV)            13\n",
      "(automatically, ADV)            11\n",
      "(approach, VERB)                10\n",
      "(finding, VERB)                 10\n",
      "(problem, NOUN)                 10\n",
      "(set, VERB)                     10\n",
      "(software development, NOUN)    10\n",
      "(aggregation scheme, NOUN)       9\n",
      "(approach, NOUN)                 9\n",
      "(case study, NOUN)               8\n",
      "(effectively, ADV)               8\n",
      "(model transformation, NOUN)     8\n",
      "(software, NOUN)                 8\n",
      "(state art, NOUN)                8\n",
      "(system, NOUN)                   8\n",
      "(usability defect, NOUN)         8\n",
      "(well, ADV)                      8\n",
      "(widely, ADV)                    8\n",
      "Name: 2017, dtype: int32\n",
      "--------------------------------------------\n",
      "(software engineering, NOUN)    30\n",
      "(result, VERB)                  26\n",
      "(set, VERB)                     24\n",
      "(theme issue, NOUN)             17\n",
      "(automatically, ADV)            16\n",
      "(e.g., ADV)                     16\n",
      "(article, NOUN)                 15\n",
      "(article theme, NOUN)           15\n",
      "(issue, VERB)                   13\n",
      "(refactoring, VERB)             13\n",
      "(modeling, VERB)                12\n",
      "(previously, ADV)               12\n",
      "(software, NOUN)                12\n",
      "(software development, NOUN)    12\n",
      "(source code, NOUN)             12\n",
      "(anniversary, NOUN)             11\n",
      "(approach, VERB)                11\n",
      "(issue software, NOUN)          11\n",
      "(use, VERB)                     11\n",
      "(Software Engineering, NOUN)    10\n",
      "Name: 2018, dtype: int32\n",
      "--------------------------------------------\n",
      "(result, VERB)                  53\n",
      "(automatically, ADV)            29\n",
      "(e.g., ADV)                     26\n",
      "(significantly, ADV)            25\n",
      "(set, VERB)                     24\n",
      "(need, VERB)                    23\n",
      "(software engineering, NOUN)    23\n",
      "(source code, NOUN)             22\n",
      "(state art, NOUN)               20\n",
      "(widely, ADV)                   20\n",
      "(software system, NOUN)         18\n",
      "(technique, NOUN)               17\n",
      "(learning, VERB)                16\n",
      "(setting, VERB)                 15\n",
      "(software development, NOUN)    15\n",
      "(specifically, ADV)             15\n",
      "(case study, NOUN)              14\n",
      "(manually, ADV)                 14\n",
      "(commonly, ADV)                 13\n",
      "(defect prediction, NOUN)       13\n",
      "Name: 2019, dtype: int32\n",
      "--------------------------------------------\n",
      "(result, VERB)                  62\n",
      "(e.g., ADV)                     59\n",
      "(automatically, ADV)            51\n",
      "(significantly, ADV)            38\n",
      "(state art, NOUN)               34\n",
      "(software engineering, NOUN)    31\n",
      "(set, VERB)                     30\n",
      "(approach, NOUN)                25\n",
      "(software system, NOUN)         25\n",
      "(source code, NOUN)             24\n",
      "(test case, NOUN)               24\n",
      "(finding, VERB)                 22\n",
      "(use, VERB)                     22\n",
      "(highly, ADV)                   21\n",
      "(manually, ADV)                 20\n",
      "(software, NOUN)                20\n",
      "(finally, ADV)                  19\n",
      "(system, NOUN)                  19\n",
      "(need, VERB)                    18\n",
      "(refactoring, VERB)             18\n",
      "Name: 2020, dtype: int32\n",
      "--------------------------------------------\n",
      "(result, VERB)                  34\n",
      "(automatically, ADV)            30\n",
      "(e.g., ADV)                     30\n",
      "(software engineering, NOUN)    25\n",
      "(significantly, ADV)            24\n",
      "(finding, VERB)                 21\n",
      "(set, VERB)                     20\n",
      "(Stack Overflow, NOUN)          16\n",
      "(test case, NOUN)               16\n",
      "(study, NOUN)                   15\n",
      "(system, NOUN)                  15\n",
      "(commonly, ADV)                 14\n",
      "(finally, ADV)                  14\n",
      "(manually, ADV)                 13\n",
      "(widely, ADV)                   13\n",
      "(commit, VERB)                  12\n",
      "(highly, ADV)                   12\n",
      "(learning, VERB)                12\n",
      "(source code, NOUN)             12\n",
      "(code, NOUN)                    11\n",
      "Name: 2021, dtype: int32\n",
      "--------------------------------------------\n"
     ]
    }
   ],
   "source": [
    "for year in range(2009, 2022,1):\n",
    "    d = data_words[year].nlargest(anzahl_top_topics)\n",
    "    print(d)\n",
    "    print('--------------------------------------------')\n",
    "    \n",
    "\n",
    "\n",
    "\n",
    "   \n"
   ]
  },
  {
   "cell_type": "markdown",
   "metadata": {},
   "source": [
    "## Balkendiagramme erstellen"
   ]
  },
  {
   "cell_type": "markdown",
   "metadata": {},
   "source": [
    "### Balkendiagramm 2009"
   ]
  },
  {
   "cell_type": "code",
   "execution_count": 25,
   "metadata": {},
   "outputs": [
    {
     "data": {
      "text/html": [
       "\n",
       "<div id=\"altair-viz-84d9f2d4c5f0498398533a458c79d37c\"></div>\n",
       "<script type=\"text/javascript\">\n",
       "  (function(spec, embedOpt){\n",
       "    let outputDiv = document.currentScript.previousElementSibling;\n",
       "    if (outputDiv.id !== \"altair-viz-84d9f2d4c5f0498398533a458c79d37c\") {\n",
       "      outputDiv = document.getElementById(\"altair-viz-84d9f2d4c5f0498398533a458c79d37c\");\n",
       "    }\n",
       "    const paths = {\n",
       "      \"vega\": \"https://cdn.jsdelivr.net/npm//vega@5?noext\",\n",
       "      \"vega-lib\": \"https://cdn.jsdelivr.net/npm//vega-lib?noext\",\n",
       "      \"vega-lite\": \"https://cdn.jsdelivr.net/npm//vega-lite@4.8.1?noext\",\n",
       "      \"vega-embed\": \"https://cdn.jsdelivr.net/npm//vega-embed@6?noext\",\n",
       "    };\n",
       "\n",
       "    function loadScript(lib) {\n",
       "      return new Promise(function(resolve, reject) {\n",
       "        var s = document.createElement('script');\n",
       "        s.src = paths[lib];\n",
       "        s.async = true;\n",
       "        s.onload = () => resolve(paths[lib]);\n",
       "        s.onerror = () => reject(`Error loading script: ${paths[lib]}`);\n",
       "        document.getElementsByTagName(\"head\")[0].appendChild(s);\n",
       "      });\n",
       "    }\n",
       "\n",
       "    function showError(err) {\n",
       "      outputDiv.innerHTML = `<div class=\"error\" style=\"color:red;\">${err}</div>`;\n",
       "      throw err;\n",
       "    }\n",
       "\n",
       "    function displayChart(vegaEmbed) {\n",
       "      vegaEmbed(outputDiv, spec, embedOpt)\n",
       "        .catch(err => showError(`Javascript Error: ${err.message}<br>This usually means there's a typo in your chart specification. See the javascript console for the full traceback.`));\n",
       "    }\n",
       "\n",
       "    if(typeof define === \"function\" && define.amd) {\n",
       "      requirejs.config({paths});\n",
       "      require([\"vega-embed\"], displayChart, err => showError(`Error loading script: ${err.message}`));\n",
       "    } else if (typeof vegaEmbed === \"function\") {\n",
       "      displayChart(vegaEmbed);\n",
       "    } else {\n",
       "      loadScript(\"vega\")\n",
       "        .then(() => loadScript(\"vega-lite\"))\n",
       "        .then(() => loadScript(\"vega-embed\"))\n",
       "        .catch(showError)\n",
       "        .then(() => displayChart(vegaEmbed));\n",
       "    }\n",
       "  })({\"config\": {\"view\": {\"continuousWidth\": 400, \"continuousHeight\": 300}}, \"data\": {\"name\": \"data-5bf411b2e6342500daaafe2365f8bbbd\"}, \"mark\": \"bar\", \"encoding\": {\"x\": {\"type\": \"ordinal\", \"field\": \"Technologies\"}, \"y\": {\"type\": \"quantitative\", \"field\": \"Anzahl\"}}, \"title\": \"Technologien 2009\", \"$schema\": \"https://vega.github.io/schema/vega-lite/v4.8.1.json\", \"datasets\": {\"data-5bf411b2e6342500daaafe2365f8bbbd\": [{\"Technologies\": [\"software development\", \"NOUN\"], \"Anzahl\": 24}, {\"Technologies\": [\"software engineering\", \"NOUN\"], \"Anzahl\": 18}, {\"Technologies\": [\"result\", \"VERB\"], \"Anzahl\": 14}, {\"Technologies\": [\"software system\", \"NOUN\"], \"Anzahl\": 14}, {\"Technologies\": [\"system\", \"NOUN\"], \"Anzahl\": 11}, {\"Technologies\": [\"directly\", \"ADV\"], \"Anzahl\": 9}, {\"Technologies\": [\"respectively\", \"ADV\"], \"Anzahl\": 8}, {\"Technologies\": [\"set\", \"VERB\"], \"Anzahl\": 8}, {\"Technologies\": [\"IEEE Software\", \"NOUN\"], \"Anzahl\": 7}, {\"Technologies\": [\"case study\", \"NOUN\"], \"Anzahl\": 7}, {\"Technologies\": [\"defect\", \"VERB\"], \"Anzahl\": 7}, {\"Technologies\": [\"engineering\", \"NOUN\"], \"Anzahl\": 7}, {\"Technologies\": [\"generally\", \"ADV\"], \"Anzahl\": 7}, {\"Technologies\": [\"process\", \"NOUN\"], \"Anzahl\": 7}, {\"Technologies\": [\"software\", \"NOUN\"], \"Anzahl\": 7}, {\"Technologies\": [\"automatically\", \"ADV\"], \"Anzahl\": 6}, {\"Technologies\": [\"test suite\", \"NOUN\"], \"Anzahl\": 6}, {\"Technologies\": [\"article\", \"NOUN\"], \"Anzahl\": 5}, {\"Technologies\": [\"ERP implementation\", \"NOUN\"], \"Anzahl\": 5}, {\"Technologies\": [\"carefully\", \"ADV\"], \"Anzahl\": 5}]}}, {\"mode\": \"vega-lite\"});\n",
       "</script>"
      ],
      "text/plain": [
       "alt.Chart(...)"
      ]
     },
     "execution_count": 25,
     "metadata": {},
     "output_type": "execute_result"
    }
   ],
   "source": [
    "year = 2009\n",
    "d = data_words[year].nlargest(anzahl_top_topics).sort_values(ascending=False)\n",
    "source = pd.DataFrame({'Technologies': d.index,\n",
    "                            'Anzahl': d})\n",
    "alt.Chart(source).mark_bar().encode(\n",
    "        x='Technologies:O',\n",
    "        y='Anzahl:Q'\n",
    "    ).properties(\n",
    "    title=f'Technologien {year}')"
   ]
  },
  {
   "cell_type": "markdown",
   "metadata": {},
   "source": [
    "### Balkendiagramm 2010"
   ]
  },
  {
   "cell_type": "code",
   "execution_count": 26,
   "metadata": {},
   "outputs": [
    {
     "data": {
      "text/html": [
       "\n",
       "<div id=\"altair-viz-f6607254aeb14712971f61356f8d35cf\"></div>\n",
       "<script type=\"text/javascript\">\n",
       "  (function(spec, embedOpt){\n",
       "    let outputDiv = document.currentScript.previousElementSibling;\n",
       "    if (outputDiv.id !== \"altair-viz-f6607254aeb14712971f61356f8d35cf\") {\n",
       "      outputDiv = document.getElementById(\"altair-viz-f6607254aeb14712971f61356f8d35cf\");\n",
       "    }\n",
       "    const paths = {\n",
       "      \"vega\": \"https://cdn.jsdelivr.net/npm//vega@5?noext\",\n",
       "      \"vega-lib\": \"https://cdn.jsdelivr.net/npm//vega-lib?noext\",\n",
       "      \"vega-lite\": \"https://cdn.jsdelivr.net/npm//vega-lite@4.8.1?noext\",\n",
       "      \"vega-embed\": \"https://cdn.jsdelivr.net/npm//vega-embed@6?noext\",\n",
       "    };\n",
       "\n",
       "    function loadScript(lib) {\n",
       "      return new Promise(function(resolve, reject) {\n",
       "        var s = document.createElement('script');\n",
       "        s.src = paths[lib];\n",
       "        s.async = true;\n",
       "        s.onload = () => resolve(paths[lib]);\n",
       "        s.onerror = () => reject(`Error loading script: ${paths[lib]}`);\n",
       "        document.getElementsByTagName(\"head\")[0].appendChild(s);\n",
       "      });\n",
       "    }\n",
       "\n",
       "    function showError(err) {\n",
       "      outputDiv.innerHTML = `<div class=\"error\" style=\"color:red;\">${err}</div>`;\n",
       "      throw err;\n",
       "    }\n",
       "\n",
       "    function displayChart(vegaEmbed) {\n",
       "      vegaEmbed(outputDiv, spec, embedOpt)\n",
       "        .catch(err => showError(`Javascript Error: ${err.message}<br>This usually means there's a typo in your chart specification. See the javascript console for the full traceback.`));\n",
       "    }\n",
       "\n",
       "    if(typeof define === \"function\" && define.amd) {\n",
       "      requirejs.config({paths});\n",
       "      require([\"vega-embed\"], displayChart, err => showError(`Error loading script: ${err.message}`));\n",
       "    } else if (typeof vegaEmbed === \"function\") {\n",
       "      displayChart(vegaEmbed);\n",
       "    } else {\n",
       "      loadScript(\"vega\")\n",
       "        .then(() => loadScript(\"vega-lite\"))\n",
       "        .then(() => loadScript(\"vega-embed\"))\n",
       "        .catch(showError)\n",
       "        .then(() => displayChart(vegaEmbed));\n",
       "    }\n",
       "  })({\"config\": {\"view\": {\"continuousWidth\": 400, \"continuousHeight\": 300}}, \"data\": {\"name\": \"data-36489a3d51d690218d6063d1e7309fd6\"}, \"mark\": \"bar\", \"encoding\": {\"x\": {\"type\": \"ordinal\", \"field\": \"Technologies\"}, \"y\": {\"type\": \"quantitative\", \"field\": \"Anzahl\"}}, \"title\": \"Technologien 2010\", \"$schema\": \"https://vega.github.io/schema/vega-lite/v4.8.1.json\", \"datasets\": {\"data-36489a3d51d690218d6063d1e7309fd6\": [{\"Technologies\": [\"set\", \"VERB\"], \"Anzahl\": 23}, {\"Technologies\": [\"automatically\", \"ADV\"], \"Anzahl\": 16}, {\"Technologies\": [\"result\", \"VERB\"], \"Anzahl\": 14}, {\"Technologies\": [\"product line\", \"NOUN\"], \"Anzahl\": 12}, {\"Technologies\": [\"software development\", \"NOUN\"], \"Anzahl\": 12}, {\"Technologies\": [\"software system\", \"NOUN\"], \"Anzahl\": 10}, {\"Technologies\": [\"software engineering\", \"NOUN\"], \"Anzahl\": 9}, {\"Technologies\": [\"widely\", \"ADV\"], \"Anzahl\": 9}, {\"Technologies\": [\"software product\", \"NOUN\"], \"Anzahl\": 8}, {\"Technologies\": [\"system\", \"NOUN\"], \"Anzahl\": 8}, {\"Technologies\": [\"software architecture\", \"NOUN\"], \"Anzahl\": 7}, {\"Technologies\": [\"test case\", \"NOUN\"], \"Anzahl\": 7}, {\"Technologies\": [\"fully\", \"ADV\"], \"Anzahl\": 6}, {\"Technologies\": [\"increasingly\", \"ADV\"], \"Anzahl\": 6}, {\"Technologies\": [\"need\", \"VERB\"], \"Anzahl\": 6}, {\"Technologies\": [\"process\", \"NOUN\"], \"Anzahl\": 6}, {\"Technologies\": [\"software\", \"NOUN\"], \"Anzahl\": 6}, {\"Technologies\": [\"case study\", \"NOUN\"], \"Anzahl\": 5}, {\"Technologies\": [\"application\", \"NOUN\"], \"Anzahl\": 5}, {\"Technologies\": [\"e.g.\", \"ADV\"], \"Anzahl\": 5}]}}, {\"mode\": \"vega-lite\"});\n",
       "</script>"
      ],
      "text/plain": [
       "alt.Chart(...)"
      ]
     },
     "execution_count": 26,
     "metadata": {},
     "output_type": "execute_result"
    }
   ],
   "source": [
    "year = 2010\n",
    "d = data_words[year].nlargest(anzahl_top_topics).sort_values(ascending=False)\n",
    "source = pd.DataFrame({'Technologies': d.index,\n",
    "                            'Anzahl': d})\n",
    "alt.Chart(source).mark_bar().encode(\n",
    "        x='Technologies:O',\n",
    "        y='Anzahl:Q'\n",
    "    ).properties(\n",
    "    title=f'Technologien {year}')"
   ]
  },
  {
   "cell_type": "markdown",
   "metadata": {},
   "source": [
    "## Balkendiagramm 2011"
   ]
  },
  {
   "cell_type": "code",
   "execution_count": 27,
   "metadata": {},
   "outputs": [
    {
     "data": {
      "text/html": [
       "\n",
       "<div id=\"altair-viz-4dd95425c1e749df85ded49c822f53bf\"></div>\n",
       "<script type=\"text/javascript\">\n",
       "  (function(spec, embedOpt){\n",
       "    let outputDiv = document.currentScript.previousElementSibling;\n",
       "    if (outputDiv.id !== \"altair-viz-4dd95425c1e749df85ded49c822f53bf\") {\n",
       "      outputDiv = document.getElementById(\"altair-viz-4dd95425c1e749df85ded49c822f53bf\");\n",
       "    }\n",
       "    const paths = {\n",
       "      \"vega\": \"https://cdn.jsdelivr.net/npm//vega@5?noext\",\n",
       "      \"vega-lib\": \"https://cdn.jsdelivr.net/npm//vega-lib?noext\",\n",
       "      \"vega-lite\": \"https://cdn.jsdelivr.net/npm//vega-lite@4.8.1?noext\",\n",
       "      \"vega-embed\": \"https://cdn.jsdelivr.net/npm//vega-embed@6?noext\",\n",
       "    };\n",
       "\n",
       "    function loadScript(lib) {\n",
       "      return new Promise(function(resolve, reject) {\n",
       "        var s = document.createElement('script');\n",
       "        s.src = paths[lib];\n",
       "        s.async = true;\n",
       "        s.onload = () => resolve(paths[lib]);\n",
       "        s.onerror = () => reject(`Error loading script: ${paths[lib]}`);\n",
       "        document.getElementsByTagName(\"head\")[0].appendChild(s);\n",
       "      });\n",
       "    }\n",
       "\n",
       "    function showError(err) {\n",
       "      outputDiv.innerHTML = `<div class=\"error\" style=\"color:red;\">${err}</div>`;\n",
       "      throw err;\n",
       "    }\n",
       "\n",
       "    function displayChart(vegaEmbed) {\n",
       "      vegaEmbed(outputDiv, spec, embedOpt)\n",
       "        .catch(err => showError(`Javascript Error: ${err.message}<br>This usually means there's a typo in your chart specification. See the javascript console for the full traceback.`));\n",
       "    }\n",
       "\n",
       "    if(typeof define === \"function\" && define.amd) {\n",
       "      requirejs.config({paths});\n",
       "      require([\"vega-embed\"], displayChart, err => showError(`Error loading script: ${err.message}`));\n",
       "    } else if (typeof vegaEmbed === \"function\") {\n",
       "      displayChart(vegaEmbed);\n",
       "    } else {\n",
       "      loadScript(\"vega\")\n",
       "        .then(() => loadScript(\"vega-lite\"))\n",
       "        .then(() => loadScript(\"vega-embed\"))\n",
       "        .catch(showError)\n",
       "        .then(() => displayChart(vegaEmbed));\n",
       "    }\n",
       "  })({\"config\": {\"view\": {\"continuousWidth\": 400, \"continuousHeight\": 300}}, \"data\": {\"name\": \"data-d8cff84d2efc10619c56df4c14aec80c\"}, \"mark\": \"bar\", \"encoding\": {\"x\": {\"type\": \"ordinal\", \"field\": \"Technologies\"}, \"y\": {\"type\": \"quantitative\", \"field\": \"Anzahl\"}}, \"title\": \"Technologien 2011\", \"$schema\": \"https://vega.github.io/schema/vega-lite/v4.8.1.json\", \"datasets\": {\"data-d8cff84d2efc10619c56df4c14aec80c\": [{\"Technologies\": [\"result\", \"VERB\"], \"Anzahl\": 20}, {\"Technologies\": [\"software system\", \"NOUN\"], \"Anzahl\": 12}, {\"Technologies\": [\"automatically\", \"ADV\"], \"Anzahl\": 10}, {\"Technologies\": [\"system\", \"NOUN\"], \"Anzahl\": 10}, {\"Technologies\": [\"setting\", \"VERB\"], \"Anzahl\": 9}, {\"Technologies\": [\"software development\", \"NOUN\"], \"Anzahl\": 9}, {\"Technologies\": [\"software engineering\", \"NOUN\"], \"Anzahl\": 8}, {\"Technologies\": [\"model\", \"NOUN\"], \"Anzahl\": 8}, {\"Technologies\": [\"need\", \"VERB\"], \"Anzahl\": 8}, {\"Technologies\": [\"use\", \"VERB\"], \"Anzahl\": 8}, {\"Technologies\": [\"approach\", \"NOUN\"], \"Anzahl\": 7}, {\"Technologies\": [\"case study\", \"NOUN\"], \"Anzahl\": 7}, {\"Technologies\": [\"finally\", \"ADV\"], \"Anzahl\": 7}, {\"Technologies\": [\"software architecture\", \"NOUN\"], \"Anzahl\": 6}, {\"Technologies\": [\"software component\", \"NOUN\"], \"Anzahl\": 6}, {\"Technologies\": [\"widely\", \"ADV\"], \"Anzahl\": 6}, {\"Technologies\": [\"understanding\", \"VERB\"], \"Anzahl\": 5}, {\"Technologies\": [\"finding\", \"VERB\"], \"Anzahl\": 5}, {\"Technologies\": [\"significantly\", \"ADV\"], \"Anzahl\": 5}, {\"Technologies\": [\"IEEE Software\", \"NOUN\"], \"Anzahl\": 4}]}}, {\"mode\": \"vega-lite\"});\n",
       "</script>"
      ],
      "text/plain": [
       "alt.Chart(...)"
      ]
     },
     "execution_count": 27,
     "metadata": {},
     "output_type": "execute_result"
    }
   ],
   "source": [
    "year = 2011\n",
    "d = data_words[year].nlargest(anzahl_top_topics).sort_values(ascending=False)\n",
    "source = pd.DataFrame({'Technologies': d.index,\n",
    "                            'Anzahl': d})\n",
    "alt.Chart(source).mark_bar().encode(\n",
    "        x='Technologies:O',\n",
    "        y='Anzahl:Q'\n",
    "    ).properties(\n",
    "    title=f'Technologien {year}')"
   ]
  },
  {
   "cell_type": "markdown",
   "metadata": {},
   "source": [
    "### Balkendiagramm 2012"
   ]
  },
  {
   "cell_type": "code",
   "execution_count": 28,
   "metadata": {},
   "outputs": [
    {
     "data": {
      "text/html": [
       "\n",
       "<div id=\"altair-viz-9b62ca7a026b4f2d9525e58957e51777\"></div>\n",
       "<script type=\"text/javascript\">\n",
       "  (function(spec, embedOpt){\n",
       "    let outputDiv = document.currentScript.previousElementSibling;\n",
       "    if (outputDiv.id !== \"altair-viz-9b62ca7a026b4f2d9525e58957e51777\") {\n",
       "      outputDiv = document.getElementById(\"altair-viz-9b62ca7a026b4f2d9525e58957e51777\");\n",
       "    }\n",
       "    const paths = {\n",
       "      \"vega\": \"https://cdn.jsdelivr.net/npm//vega@5?noext\",\n",
       "      \"vega-lib\": \"https://cdn.jsdelivr.net/npm//vega-lib?noext\",\n",
       "      \"vega-lite\": \"https://cdn.jsdelivr.net/npm//vega-lite@4.8.1?noext\",\n",
       "      \"vega-embed\": \"https://cdn.jsdelivr.net/npm//vega-embed@6?noext\",\n",
       "    };\n",
       "\n",
       "    function loadScript(lib) {\n",
       "      return new Promise(function(resolve, reject) {\n",
       "        var s = document.createElement('script');\n",
       "        s.src = paths[lib];\n",
       "        s.async = true;\n",
       "        s.onload = () => resolve(paths[lib]);\n",
       "        s.onerror = () => reject(`Error loading script: ${paths[lib]}`);\n",
       "        document.getElementsByTagName(\"head\")[0].appendChild(s);\n",
       "      });\n",
       "    }\n",
       "\n",
       "    function showError(err) {\n",
       "      outputDiv.innerHTML = `<div class=\"error\" style=\"color:red;\">${err}</div>`;\n",
       "      throw err;\n",
       "    }\n",
       "\n",
       "    function displayChart(vegaEmbed) {\n",
       "      vegaEmbed(outputDiv, spec, embedOpt)\n",
       "        .catch(err => showError(`Javascript Error: ${err.message}<br>This usually means there's a typo in your chart specification. See the javascript console for the full traceback.`));\n",
       "    }\n",
       "\n",
       "    if(typeof define === \"function\" && define.amd) {\n",
       "      requirejs.config({paths});\n",
       "      require([\"vega-embed\"], displayChart, err => showError(`Error loading script: ${err.message}`));\n",
       "    } else if (typeof vegaEmbed === \"function\") {\n",
       "      displayChart(vegaEmbed);\n",
       "    } else {\n",
       "      loadScript(\"vega\")\n",
       "        .then(() => loadScript(\"vega-lite\"))\n",
       "        .then(() => loadScript(\"vega-embed\"))\n",
       "        .catch(showError)\n",
       "        .then(() => displayChart(vegaEmbed));\n",
       "    }\n",
       "  })({\"config\": {\"view\": {\"continuousWidth\": 400, \"continuousHeight\": 300}}, \"data\": {\"name\": \"data-d6226b7b66784ee487914f83b287ff3d\"}, \"mark\": \"bar\", \"encoding\": {\"x\": {\"type\": \"ordinal\", \"field\": \"Technologies\"}, \"y\": {\"type\": \"quantitative\", \"field\": \"Anzahl\"}}, \"title\": \"Technologien 2012\", \"$schema\": \"https://vega.github.io/schema/vega-lite/v4.8.1.json\", \"datasets\": {\"data-d6226b7b66784ee487914f83b287ff3d\": [{\"Technologies\": [\"result\", \"VERB\"], \"Anzahl\": 19}, {\"Technologies\": [\"software engineering\", \"NOUN\"], \"Anzahl\": 17}, {\"Technologies\": [\"significantly\", \"ADV\"], \"Anzahl\": 15}, {\"Technologies\": [\"software development\", \"NOUN\"], \"Anzahl\": 14}, {\"Technologies\": [\"application\", \"NOUN\"], \"Anzahl\": 13}, {\"Technologies\": [\"set\", \"VERB\"], \"Anzahl\": 13}, {\"Technologies\": [\"widely\", \"ADV\"], \"Anzahl\": 13}, {\"Technologies\": [\"software system\", \"NOUN\"], \"Anzahl\": 10}, {\"Technologies\": [\"need\", \"VERB\"], \"Anzahl\": 10}, {\"Technologies\": [\"system\", \"NOUN\"], \"Anzahl\": 10}, {\"Technologies\": [\"automatically\", \"ADV\"], \"Anzahl\": 9}, {\"Technologies\": [\"e.g.\", \"ADV\"], \"Anzahl\": 9}, {\"Technologies\": [\"highly\", \"ADV\"], \"Anzahl\": 9}, {\"Technologies\": [\"model\", \"NOUN\"], \"Anzahl\": 9}, {\"Technologies\": [\"approach\", \"VERB\"], \"Anzahl\": 8}, {\"Technologies\": [\"refactoring\", \"VERB\"], \"Anzahl\": 8}, {\"Technologies\": [\"use\", \"VERB\"], \"Anzahl\": 8}, {\"Technologies\": [\"furthermore\", \"ADV\"], \"Anzahl\": 7}, {\"Technologies\": [\"effectively\", \"ADV\"], \"Anzahl\": 7}, {\"Technologies\": [\"increasingly\", \"ADV\"], \"Anzahl\": 7}]}}, {\"mode\": \"vega-lite\"});\n",
       "</script>"
      ],
      "text/plain": [
       "alt.Chart(...)"
      ]
     },
     "execution_count": 28,
     "metadata": {},
     "output_type": "execute_result"
    }
   ],
   "source": [
    "year = 2012\n",
    "d = data_words[year].nlargest(anzahl_top_topics).sort_values(ascending=False)\n",
    "source = pd.DataFrame({'Technologies': d.index,\n",
    "                            'Anzahl': d})\n",
    "alt.Chart(source).mark_bar().encode(\n",
    "        x='Technologies:O',\n",
    "        y='Anzahl:Q'\n",
    "    ).properties(\n",
    "    title=f'Technologien {year}')"
   ]
  },
  {
   "cell_type": "markdown",
   "metadata": {},
   "source": [
    "### Balkendiagramm 2013"
   ]
  },
  {
   "cell_type": "code",
   "execution_count": 29,
   "metadata": {},
   "outputs": [
    {
     "data": {
      "text/html": [
       "\n",
       "<div id=\"altair-viz-54366a319a4e4582a41ba4310d71f434\"></div>\n",
       "<script type=\"text/javascript\">\n",
       "  (function(spec, embedOpt){\n",
       "    let outputDiv = document.currentScript.previousElementSibling;\n",
       "    if (outputDiv.id !== \"altair-viz-54366a319a4e4582a41ba4310d71f434\") {\n",
       "      outputDiv = document.getElementById(\"altair-viz-54366a319a4e4582a41ba4310d71f434\");\n",
       "    }\n",
       "    const paths = {\n",
       "      \"vega\": \"https://cdn.jsdelivr.net/npm//vega@5?noext\",\n",
       "      \"vega-lib\": \"https://cdn.jsdelivr.net/npm//vega-lib?noext\",\n",
       "      \"vega-lite\": \"https://cdn.jsdelivr.net/npm//vega-lite@4.8.1?noext\",\n",
       "      \"vega-embed\": \"https://cdn.jsdelivr.net/npm//vega-embed@6?noext\",\n",
       "    };\n",
       "\n",
       "    function loadScript(lib) {\n",
       "      return new Promise(function(resolve, reject) {\n",
       "        var s = document.createElement('script');\n",
       "        s.src = paths[lib];\n",
       "        s.async = true;\n",
       "        s.onload = () => resolve(paths[lib]);\n",
       "        s.onerror = () => reject(`Error loading script: ${paths[lib]}`);\n",
       "        document.getElementsByTagName(\"head\")[0].appendChild(s);\n",
       "      });\n",
       "    }\n",
       "\n",
       "    function showError(err) {\n",
       "      outputDiv.innerHTML = `<div class=\"error\" style=\"color:red;\">${err}</div>`;\n",
       "      throw err;\n",
       "    }\n",
       "\n",
       "    function displayChart(vegaEmbed) {\n",
       "      vegaEmbed(outputDiv, spec, embedOpt)\n",
       "        .catch(err => showError(`Javascript Error: ${err.message}<br>This usually means there's a typo in your chart specification. See the javascript console for the full traceback.`));\n",
       "    }\n",
       "\n",
       "    if(typeof define === \"function\" && define.amd) {\n",
       "      requirejs.config({paths});\n",
       "      require([\"vega-embed\"], displayChart, err => showError(`Error loading script: ${err.message}`));\n",
       "    } else if (typeof vegaEmbed === \"function\") {\n",
       "      displayChart(vegaEmbed);\n",
       "    } else {\n",
       "      loadScript(\"vega\")\n",
       "        .then(() => loadScript(\"vega-lite\"))\n",
       "        .then(() => loadScript(\"vega-embed\"))\n",
       "        .catch(showError)\n",
       "        .then(() => displayChart(vegaEmbed));\n",
       "    }\n",
       "  })({\"config\": {\"view\": {\"continuousWidth\": 400, \"continuousHeight\": 300}}, \"data\": {\"name\": \"data-159507aa6bfe51a158527892294c392d\"}, \"mark\": \"bar\", \"encoding\": {\"x\": {\"type\": \"ordinal\", \"field\": \"Technologies\"}, \"y\": {\"type\": \"quantitative\", \"field\": \"Anzahl\"}}, \"title\": \"Technologien 2013\", \"$schema\": \"https://vega.github.io/schema/vega-lite/v4.8.1.json\", \"datasets\": {\"data-159507aa6bfe51a158527892294c392d\": [{\"Technologies\": [\"result\", \"VERB\"], \"Anzahl\": 33}, {\"Technologies\": [\"test case\", \"NOUN\"], \"Anzahl\": 24}, {\"Technologies\": [\"software system\", \"NOUN\"], \"Anzahl\": 20}, {\"Technologies\": [\"software engineering\", \"NOUN\"], \"Anzahl\": 18}, {\"Technologies\": [\"system\", \"NOUN\"], \"Anzahl\": 17}, {\"Technologies\": [\"set\", \"VERB\"], \"Anzahl\": 16}, {\"Technologies\": [\"software development\", \"NOUN\"], \"Anzahl\": 16}, {\"Technologies\": [\"use\", \"VERB\"], \"Anzahl\": 13}, {\"Technologies\": [\"IEEE Software\", \"NOUN\"], \"Anzahl\": 13}, {\"Technologies\": [\"approach\", \"NOUN\"], \"Anzahl\": 11}, {\"Technologies\": [\"automatically\", \"ADV\"], \"Anzahl\": 11}, {\"Technologies\": [\"need\", \"VERB\"], \"Anzahl\": 11}, {\"Technologies\": [\"significantly\", \"ADV\"], \"Anzahl\": 11}, {\"Technologies\": [\"setting\", \"VERB\"], \"Anzahl\": 10}, {\"Technologies\": [\"software\", \"NOUN\"], \"Anzahl\": 10}, {\"Technologies\": [\"technique\", \"NOUN\"], \"Anzahl\": 10}, {\"Technologies\": [\"refactoring\", \"VERB\"], \"Anzahl\": 9}, {\"Technologies\": [\"Software Engineering\", \"NOUN\"], \"Anzahl\": 8}, {\"Technologies\": [\"Forrest Shull\", \"NOUN\"], \"Anzahl\": 8}, {\"Technologies\": [\"e.g.\", \"ADV\"], \"Anzahl\": 8}]}}, {\"mode\": \"vega-lite\"});\n",
       "</script>"
      ],
      "text/plain": [
       "alt.Chart(...)"
      ]
     },
     "execution_count": 29,
     "metadata": {},
     "output_type": "execute_result"
    }
   ],
   "source": [
    "year = 2013\n",
    "d = data_words[year].nlargest(anzahl_top_topics).sort_values(ascending=False)\n",
    "source = pd.DataFrame({'Technologies': d.index,\n",
    "                            'Anzahl': d})\n",
    "alt.Chart(source).mark_bar().encode(\n",
    "        x='Technologies:O',\n",
    "        y='Anzahl:Q'\n",
    "    ).properties(\n",
    "    title=f'Technologien {year}')"
   ]
  },
  {
   "cell_type": "markdown",
   "metadata": {},
   "source": [
    "### Balkendiagramm 2014"
   ]
  },
  {
   "cell_type": "code",
   "execution_count": 30,
   "metadata": {},
   "outputs": [
    {
     "data": {
      "text/html": [
       "\n",
       "<div id=\"altair-viz-1a890eb520ff4b859c5a645429df8fa8\"></div>\n",
       "<script type=\"text/javascript\">\n",
       "  (function(spec, embedOpt){\n",
       "    let outputDiv = document.currentScript.previousElementSibling;\n",
       "    if (outputDiv.id !== \"altair-viz-1a890eb520ff4b859c5a645429df8fa8\") {\n",
       "      outputDiv = document.getElementById(\"altair-viz-1a890eb520ff4b859c5a645429df8fa8\");\n",
       "    }\n",
       "    const paths = {\n",
       "      \"vega\": \"https://cdn.jsdelivr.net/npm//vega@5?noext\",\n",
       "      \"vega-lib\": \"https://cdn.jsdelivr.net/npm//vega-lib?noext\",\n",
       "      \"vega-lite\": \"https://cdn.jsdelivr.net/npm//vega-lite@4.8.1?noext\",\n",
       "      \"vega-embed\": \"https://cdn.jsdelivr.net/npm//vega-embed@6?noext\",\n",
       "    };\n",
       "\n",
       "    function loadScript(lib) {\n",
       "      return new Promise(function(resolve, reject) {\n",
       "        var s = document.createElement('script');\n",
       "        s.src = paths[lib];\n",
       "        s.async = true;\n",
       "        s.onload = () => resolve(paths[lib]);\n",
       "        s.onerror = () => reject(`Error loading script: ${paths[lib]}`);\n",
       "        document.getElementsByTagName(\"head\")[0].appendChild(s);\n",
       "      });\n",
       "    }\n",
       "\n",
       "    function showError(err) {\n",
       "      outputDiv.innerHTML = `<div class=\"error\" style=\"color:red;\">${err}</div>`;\n",
       "      throw err;\n",
       "    }\n",
       "\n",
       "    function displayChart(vegaEmbed) {\n",
       "      vegaEmbed(outputDiv, spec, embedOpt)\n",
       "        .catch(err => showError(`Javascript Error: ${err.message}<br>This usually means there's a typo in your chart specification. See the javascript console for the full traceback.`));\n",
       "    }\n",
       "\n",
       "    if(typeof define === \"function\" && define.amd) {\n",
       "      requirejs.config({paths});\n",
       "      require([\"vega-embed\"], displayChart, err => showError(`Error loading script: ${err.message}`));\n",
       "    } else if (typeof vegaEmbed === \"function\") {\n",
       "      displayChart(vegaEmbed);\n",
       "    } else {\n",
       "      loadScript(\"vega\")\n",
       "        .then(() => loadScript(\"vega-lite\"))\n",
       "        .then(() => loadScript(\"vega-embed\"))\n",
       "        .catch(showError)\n",
       "        .then(() => displayChart(vegaEmbed));\n",
       "    }\n",
       "  })({\"config\": {\"view\": {\"continuousWidth\": 400, \"continuousHeight\": 300}}, \"data\": {\"name\": \"data-d88a001cac4d5b473019f10123ac51bb\"}, \"mark\": \"bar\", \"encoding\": {\"x\": {\"type\": \"ordinal\", \"field\": \"Technologies\"}, \"y\": {\"type\": \"quantitative\", \"field\": \"Anzahl\"}}, \"title\": \"Technologien 2014\", \"$schema\": \"https://vega.github.io/schema/vega-lite/v4.8.1.json\", \"datasets\": {\"data-d88a001cac4d5b473019f10123ac51bb\": [{\"Technologies\": [\"result\", \"VERB\"], \"Anzahl\": 16}, {\"Technologies\": [\"automatically\", \"ADV\"], \"Anzahl\": 14}, {\"Technologies\": [\"set\", \"VERB\"], \"Anzahl\": 14}, {\"Technologies\": [\"software development\", \"NOUN\"], \"Anzahl\": 14}, {\"Technologies\": [\"software system\", \"NOUN\"], \"Anzahl\": 13}, {\"Technologies\": [\"need\", \"VERB\"], \"Anzahl\": 11}, {\"Technologies\": [\"use\", \"VERB\"], \"Anzahl\": 10}, {\"Technologies\": [\"highly\", \"ADV\"], \"Anzahl\": 10}, {\"Technologies\": [\"software engineering\", \"NOUN\"], \"Anzahl\": 10}, {\"Technologies\": [\"approach\", \"NOUN\"], \"Anzahl\": 9}, {\"Technologies\": [\"effectively\", \"ADV\"], \"Anzahl\": 9}, {\"Technologies\": [\"IEEE Software\", \"NOUN\"], \"Anzahl\": 8}, {\"Technologies\": [\"increasingly\", \"ADV\"], \"Anzahl\": 8}, {\"Technologies\": [\"significantly\", \"ADV\"], \"Anzahl\": 8}, {\"Technologies\": [\"software\", \"NOUN\"], \"Anzahl\": 7}, {\"Technologies\": [\"approach\", \"VERB\"], \"Anzahl\": 7}, {\"Technologies\": [\"especially\", \"ADV\"], \"Anzahl\": 7}, {\"Technologies\": [\"model\", \"NOUN\"], \"Anzahl\": 7}, {\"Technologies\": [\"programming language\", \"NOUN\"], \"Anzahl\": 7}, {\"Technologies\": [\"software quality\", \"NOUN\"], \"Anzahl\": 7}]}}, {\"mode\": \"vega-lite\"});\n",
       "</script>"
      ],
      "text/plain": [
       "alt.Chart(...)"
      ]
     },
     "execution_count": 30,
     "metadata": {},
     "output_type": "execute_result"
    }
   ],
   "source": [
    "year = 2014\n",
    "d = data_words[year].nlargest(anzahl_top_topics).sort_values(ascending=False)\n",
    "source = pd.DataFrame({'Technologies': d.index,\n",
    "                            'Anzahl': d})\n",
    "alt.Chart(source).mark_bar().encode(\n",
    "        x='Technologies:O',\n",
    "        y='Anzahl:Q'\n",
    "    ).properties(\n",
    "    title=f'Technologien {year}')"
   ]
  },
  {
   "cell_type": "markdown",
   "metadata": {},
   "source": [
    "### Balkendiagramm 2015"
   ]
  },
  {
   "cell_type": "code",
   "execution_count": 31,
   "metadata": {},
   "outputs": [
    {
     "data": {
      "text/html": [
       "\n",
       "<div id=\"altair-viz-2c71ba9c56744f0c8f16e9bab96be02f\"></div>\n",
       "<script type=\"text/javascript\">\n",
       "  (function(spec, embedOpt){\n",
       "    let outputDiv = document.currentScript.previousElementSibling;\n",
       "    if (outputDiv.id !== \"altair-viz-2c71ba9c56744f0c8f16e9bab96be02f\") {\n",
       "      outputDiv = document.getElementById(\"altair-viz-2c71ba9c56744f0c8f16e9bab96be02f\");\n",
       "    }\n",
       "    const paths = {\n",
       "      \"vega\": \"https://cdn.jsdelivr.net/npm//vega@5?noext\",\n",
       "      \"vega-lib\": \"https://cdn.jsdelivr.net/npm//vega-lib?noext\",\n",
       "      \"vega-lite\": \"https://cdn.jsdelivr.net/npm//vega-lite@4.8.1?noext\",\n",
       "      \"vega-embed\": \"https://cdn.jsdelivr.net/npm//vega-embed@6?noext\",\n",
       "    };\n",
       "\n",
       "    function loadScript(lib) {\n",
       "      return new Promise(function(resolve, reject) {\n",
       "        var s = document.createElement('script');\n",
       "        s.src = paths[lib];\n",
       "        s.async = true;\n",
       "        s.onload = () => resolve(paths[lib]);\n",
       "        s.onerror = () => reject(`Error loading script: ${paths[lib]}`);\n",
       "        document.getElementsByTagName(\"head\")[0].appendChild(s);\n",
       "      });\n",
       "    }\n",
       "\n",
       "    function showError(err) {\n",
       "      outputDiv.innerHTML = `<div class=\"error\" style=\"color:red;\">${err}</div>`;\n",
       "      throw err;\n",
       "    }\n",
       "\n",
       "    function displayChart(vegaEmbed) {\n",
       "      vegaEmbed(outputDiv, spec, embedOpt)\n",
       "        .catch(err => showError(`Javascript Error: ${err.message}<br>This usually means there's a typo in your chart specification. See the javascript console for the full traceback.`));\n",
       "    }\n",
       "\n",
       "    if(typeof define === \"function\" && define.amd) {\n",
       "      requirejs.config({paths});\n",
       "      require([\"vega-embed\"], displayChart, err => showError(`Error loading script: ${err.message}`));\n",
       "    } else if (typeof vegaEmbed === \"function\") {\n",
       "      displayChart(vegaEmbed);\n",
       "    } else {\n",
       "      loadScript(\"vega\")\n",
       "        .then(() => loadScript(\"vega-lite\"))\n",
       "        .then(() => loadScript(\"vega-embed\"))\n",
       "        .catch(showError)\n",
       "        .then(() => displayChart(vegaEmbed));\n",
       "    }\n",
       "  })({\"config\": {\"view\": {\"continuousWidth\": 400, \"continuousHeight\": 300}}, \"data\": {\"name\": \"data-e5ab0028efce6775c98895b83b30a89e\"}, \"mark\": \"bar\", \"encoding\": {\"x\": {\"type\": \"ordinal\", \"field\": \"Technologies\"}, \"y\": {\"type\": \"quantitative\", \"field\": \"Anzahl\"}}, \"title\": \"Technologien 2015\", \"$schema\": \"https://vega.github.io/schema/vega-lite/v4.8.1.json\", \"datasets\": {\"data-e5ab0028efce6775c98895b83b30a89e\": [{\"Technologies\": [\"result\", \"VERB\"], \"Anzahl\": 26}, {\"Technologies\": [\"need\", \"VERB\"], \"Anzahl\": 25}, {\"Technologies\": [\"set\", \"VERB\"], \"Anzahl\": 18}, {\"Technologies\": [\"automatically\", \"ADV\"], \"Anzahl\": 17}, {\"Technologies\": [\"refactoring\", \"VERB\"], \"Anzahl\": 14}, {\"Technologies\": [\"software engineering\", \"NOUN\"], \"Anzahl\": 13}, {\"Technologies\": [\"software system\", \"NOUN\"], \"Anzahl\": 13}, {\"Technologies\": [\"finally\", \"ADV\"], \"Anzahl\": 11}, {\"Technologies\": [\"approach\", \"NOUN\"], \"Anzahl\": 11}, {\"Technologies\": [\"article\", \"NOUN\"], \"Anzahl\": 10}, {\"Technologies\": [\"significantly\", \"ADV\"], \"Anzahl\": 10}, {\"Technologies\": [\"software\", \"NOUN\"], \"Anzahl\": 9}, {\"Technologies\": [\"source code\", \"NOUN\"], \"Anzahl\": 9}, {\"Technologies\": [\"test oracle\", \"NOUN\"], \"Anzahl\": 9}, {\"Technologies\": [\"test suite\", \"NOUN\"], \"Anzahl\": 9}, {\"Technologies\": [\"specifically\", \"ADV\"], \"Anzahl\": 8}, {\"Technologies\": [\"highly\", \"ADV\"], \"Anzahl\": 8}, {\"Technologies\": [\"method\", \"NOUN\"], \"Anzahl\": 8}, {\"Technologies\": [\"software development\", \"NOUN\"], \"Anzahl\": 8}, {\"Technologies\": [\"code\", \"NOUN\"], \"Anzahl\": 7}]}}, {\"mode\": \"vega-lite\"});\n",
       "</script>"
      ],
      "text/plain": [
       "alt.Chart(...)"
      ]
     },
     "execution_count": 31,
     "metadata": {},
     "output_type": "execute_result"
    }
   ],
   "source": [
    "year = 2015\n",
    "d = data_words[year].nlargest(anzahl_top_topics).sort_values(ascending=False)\n",
    "source = pd.DataFrame({'Technologies': d.index,\n",
    "                            'Anzahl': d})\n",
    "alt.Chart(source).mark_bar().encode(\n",
    "        x='Technologies:O',\n",
    "        y='Anzahl:Q'\n",
    "    ).properties(\n",
    "    title=f'Technologien {year}')"
   ]
  },
  {
   "cell_type": "markdown",
   "metadata": {},
   "source": [
    "### Balkendiagramm 2016"
   ]
  },
  {
   "cell_type": "code",
   "execution_count": 32,
   "metadata": {},
   "outputs": [
    {
     "data": {
      "text/html": [
       "\n",
       "<div id=\"altair-viz-237a0d64a5a144938706456960bb93aa\"></div>\n",
       "<script type=\"text/javascript\">\n",
       "  (function(spec, embedOpt){\n",
       "    let outputDiv = document.currentScript.previousElementSibling;\n",
       "    if (outputDiv.id !== \"altair-viz-237a0d64a5a144938706456960bb93aa\") {\n",
       "      outputDiv = document.getElementById(\"altair-viz-237a0d64a5a144938706456960bb93aa\");\n",
       "    }\n",
       "    const paths = {\n",
       "      \"vega\": \"https://cdn.jsdelivr.net/npm//vega@5?noext\",\n",
       "      \"vega-lib\": \"https://cdn.jsdelivr.net/npm//vega-lib?noext\",\n",
       "      \"vega-lite\": \"https://cdn.jsdelivr.net/npm//vega-lite@4.8.1?noext\",\n",
       "      \"vega-embed\": \"https://cdn.jsdelivr.net/npm//vega-embed@6?noext\",\n",
       "    };\n",
       "\n",
       "    function loadScript(lib) {\n",
       "      return new Promise(function(resolve, reject) {\n",
       "        var s = document.createElement('script');\n",
       "        s.src = paths[lib];\n",
       "        s.async = true;\n",
       "        s.onload = () => resolve(paths[lib]);\n",
       "        s.onerror = () => reject(`Error loading script: ${paths[lib]}`);\n",
       "        document.getElementsByTagName(\"head\")[0].appendChild(s);\n",
       "      });\n",
       "    }\n",
       "\n",
       "    function showError(err) {\n",
       "      outputDiv.innerHTML = `<div class=\"error\" style=\"color:red;\">${err}</div>`;\n",
       "      throw err;\n",
       "    }\n",
       "\n",
       "    function displayChart(vegaEmbed) {\n",
       "      vegaEmbed(outputDiv, spec, embedOpt)\n",
       "        .catch(err => showError(`Javascript Error: ${err.message}<br>This usually means there's a typo in your chart specification. See the javascript console for the full traceback.`));\n",
       "    }\n",
       "\n",
       "    if(typeof define === \"function\" && define.amd) {\n",
       "      requirejs.config({paths});\n",
       "      require([\"vega-embed\"], displayChart, err => showError(`Error loading script: ${err.message}`));\n",
       "    } else if (typeof vegaEmbed === \"function\") {\n",
       "      displayChart(vegaEmbed);\n",
       "    } else {\n",
       "      loadScript(\"vega\")\n",
       "        .then(() => loadScript(\"vega-lite\"))\n",
       "        .then(() => loadScript(\"vega-embed\"))\n",
       "        .catch(showError)\n",
       "        .then(() => displayChart(vegaEmbed));\n",
       "    }\n",
       "  })({\"config\": {\"view\": {\"continuousWidth\": 400, \"continuousHeight\": 300}}, \"data\": {\"name\": \"data-5bec3db1ffc6310dfbdcec8dee33831f\"}, \"mark\": \"bar\", \"encoding\": {\"x\": {\"type\": \"ordinal\", \"field\": \"Technologies\"}, \"y\": {\"type\": \"quantitative\", \"field\": \"Anzahl\"}}, \"title\": \"Technologien 2016\", \"$schema\": \"https://vega.github.io/schema/vega-lite/v4.8.1.json\", \"datasets\": {\"data-5bec3db1ffc6310dfbdcec8dee33831f\": [{\"Technologies\": [\"result\", \"VERB\"], \"Anzahl\": 24}, {\"Technologies\": [\"software development\", \"NOUN\"], \"Anzahl\": 20}, {\"Technologies\": [\"software engineering\", \"NOUN\"], \"Anzahl\": 20}, {\"Technologies\": [\"need\", \"VERB\"], \"Anzahl\": 16}, {\"Technologies\": [\"automatically\", \"ADV\"], \"Anzahl\": 15}, {\"Technologies\": [\"test case\", \"NOUN\"], \"Anzahl\": 15}, {\"Technologies\": [\"system\", \"NOUN\"], \"Anzahl\": 14}, {\"Technologies\": [\"set\", \"VERB\"], \"Anzahl\": 13}, {\"Technologies\": [\"approach\", \"VERB\"], \"Anzahl\": 12}, {\"Technologies\": [\"significantly\", \"ADV\"], \"Anzahl\": 12}, {\"Technologies\": [\"Software Engineering\", \"NOUN\"], \"Anzahl\": 10}, {\"Technologies\": [\"bound\", \"VERB\"], \"Anzahl\": 10}, {\"Technologies\": [\"Engineering\", \"PROPN\"], \"Anzahl\": 9}, {\"Technologies\": [\"state art\", \"NOUN\"], \"Anzahl\": 8}, {\"Technologies\": [\"development\", \"NOUN\"], \"Anzahl\": 8}, {\"Technologies\": [\"effectively\", \"ADV\"], \"Anzahl\": 8}, {\"Technologies\": [\"manually\", \"ADV\"], \"Anzahl\": 8}, {\"Technologies\": [\"software architect\", \"NOUN\"], \"Anzahl\": 8}, {\"Technologies\": [\"source code\", \"NOUN\"], \"Anzahl\": 8}, {\"Technologies\": [\"article\", \"NOUN\"], \"Anzahl\": 7}]}}, {\"mode\": \"vega-lite\"});\n",
       "</script>"
      ],
      "text/plain": [
       "alt.Chart(...)"
      ]
     },
     "execution_count": 32,
     "metadata": {},
     "output_type": "execute_result"
    }
   ],
   "source": [
    "year = 2016\n",
    "d = data_words[year].nlargest(anzahl_top_topics).sort_values(ascending=False)\n",
    "source = pd.DataFrame({'Technologies': d.index,\n",
    "                            'Anzahl': d})\n",
    "alt.Chart(source).mark_bar().encode(\n",
    "        x='Technologies:O',\n",
    "        y='Anzahl:Q'\n",
    "    ).properties(\n",
    "    title=f'Technologien {year}')"
   ]
  },
  {
   "cell_type": "markdown",
   "metadata": {},
   "source": [
    "### Balkendiagramm 2017"
   ]
  },
  {
   "cell_type": "code",
   "execution_count": 33,
   "metadata": {},
   "outputs": [
    {
     "data": {
      "text/html": [
       "\n",
       "<div id=\"altair-viz-ecdf87ea575c495fb46916091f113d4d\"></div>\n",
       "<script type=\"text/javascript\">\n",
       "  (function(spec, embedOpt){\n",
       "    let outputDiv = document.currentScript.previousElementSibling;\n",
       "    if (outputDiv.id !== \"altair-viz-ecdf87ea575c495fb46916091f113d4d\") {\n",
       "      outputDiv = document.getElementById(\"altair-viz-ecdf87ea575c495fb46916091f113d4d\");\n",
       "    }\n",
       "    const paths = {\n",
       "      \"vega\": \"https://cdn.jsdelivr.net/npm//vega@5?noext\",\n",
       "      \"vega-lib\": \"https://cdn.jsdelivr.net/npm//vega-lib?noext\",\n",
       "      \"vega-lite\": \"https://cdn.jsdelivr.net/npm//vega-lite@4.8.1?noext\",\n",
       "      \"vega-embed\": \"https://cdn.jsdelivr.net/npm//vega-embed@6?noext\",\n",
       "    };\n",
       "\n",
       "    function loadScript(lib) {\n",
       "      return new Promise(function(resolve, reject) {\n",
       "        var s = document.createElement('script');\n",
       "        s.src = paths[lib];\n",
       "        s.async = true;\n",
       "        s.onload = () => resolve(paths[lib]);\n",
       "        s.onerror = () => reject(`Error loading script: ${paths[lib]}`);\n",
       "        document.getElementsByTagName(\"head\")[0].appendChild(s);\n",
       "      });\n",
       "    }\n",
       "\n",
       "    function showError(err) {\n",
       "      outputDiv.innerHTML = `<div class=\"error\" style=\"color:red;\">${err}</div>`;\n",
       "      throw err;\n",
       "    }\n",
       "\n",
       "    function displayChart(vegaEmbed) {\n",
       "      vegaEmbed(outputDiv, spec, embedOpt)\n",
       "        .catch(err => showError(`Javascript Error: ${err.message}<br>This usually means there's a typo in your chart specification. See the javascript console for the full traceback.`));\n",
       "    }\n",
       "\n",
       "    if(typeof define === \"function\" && define.amd) {\n",
       "      requirejs.config({paths});\n",
       "      require([\"vega-embed\"], displayChart, err => showError(`Error loading script: ${err.message}`));\n",
       "    } else if (typeof vegaEmbed === \"function\") {\n",
       "      displayChart(vegaEmbed);\n",
       "    } else {\n",
       "      loadScript(\"vega\")\n",
       "        .then(() => loadScript(\"vega-lite\"))\n",
       "        .then(() => loadScript(\"vega-embed\"))\n",
       "        .catch(showError)\n",
       "        .then(() => displayChart(vegaEmbed));\n",
       "    }\n",
       "  })({\"config\": {\"view\": {\"continuousWidth\": 400, \"continuousHeight\": 300}}, \"data\": {\"name\": \"data-1df473cd74da16a74f06aee69629a882\"}, \"mark\": \"bar\", \"encoding\": {\"x\": {\"type\": \"ordinal\", \"field\": \"Technologies\"}, \"y\": {\"type\": \"quantitative\", \"field\": \"Anzahl\"}}, \"title\": \"Technologien 2017\", \"$schema\": \"https://vega.github.io/schema/vega-lite/v4.8.1.json\", \"datasets\": {\"data-1df473cd74da16a74f06aee69629a882\": [{\"Technologies\": [\"result\", \"VERB\"], \"Anzahl\": 23}, {\"Technologies\": [\"software engineering\", \"NOUN\"], \"Anzahl\": 15}, {\"Technologies\": [\"significantly\", \"ADV\"], \"Anzahl\": 13}, {\"Technologies\": [\"automatically\", \"ADV\"], \"Anzahl\": 11}, {\"Technologies\": [\"software development\", \"NOUN\"], \"Anzahl\": 10}, {\"Technologies\": [\"approach\", \"VERB\"], \"Anzahl\": 10}, {\"Technologies\": [\"finding\", \"VERB\"], \"Anzahl\": 10}, {\"Technologies\": [\"problem\", \"NOUN\"], \"Anzahl\": 10}, {\"Technologies\": [\"set\", \"VERB\"], \"Anzahl\": 10}, {\"Technologies\": [\"aggregation scheme\", \"NOUN\"], \"Anzahl\": 9}, {\"Technologies\": [\"approach\", \"NOUN\"], \"Anzahl\": 9}, {\"Technologies\": [\"well\", \"ADV\"], \"Anzahl\": 8}, {\"Technologies\": [\"case study\", \"NOUN\"], \"Anzahl\": 8}, {\"Technologies\": [\"effectively\", \"ADV\"], \"Anzahl\": 8}, {\"Technologies\": [\"model transformation\", \"NOUN\"], \"Anzahl\": 8}, {\"Technologies\": [\"software\", \"NOUN\"], \"Anzahl\": 8}, {\"Technologies\": [\"state art\", \"NOUN\"], \"Anzahl\": 8}, {\"Technologies\": [\"system\", \"NOUN\"], \"Anzahl\": 8}, {\"Technologies\": [\"usability defect\", \"NOUN\"], \"Anzahl\": 8}, {\"Technologies\": [\"widely\", \"ADV\"], \"Anzahl\": 8}]}}, {\"mode\": \"vega-lite\"});\n",
       "</script>"
      ],
      "text/plain": [
       "alt.Chart(...)"
      ]
     },
     "execution_count": 33,
     "metadata": {},
     "output_type": "execute_result"
    }
   ],
   "source": [
    "year = 2017\n",
    "d = data_words[year].nlargest(anzahl_top_topics).sort_values(ascending=False)\n",
    "source = pd.DataFrame({'Technologies': d.index,\n",
    "                            'Anzahl': d})\n",
    "alt.Chart(source).mark_bar().encode(\n",
    "        x='Technologies:O',\n",
    "        y='Anzahl:Q'\n",
    "    ).properties(\n",
    "    title=f'Technologien {year}')"
   ]
  },
  {
   "cell_type": "markdown",
   "metadata": {},
   "source": [
    "### Balkendiagramm 2018"
   ]
  },
  {
   "cell_type": "code",
   "execution_count": 34,
   "metadata": {},
   "outputs": [
    {
     "data": {
      "text/html": [
       "\n",
       "<div id=\"altair-viz-2face9a0329a4429858163b9b7f6dc48\"></div>\n",
       "<script type=\"text/javascript\">\n",
       "  (function(spec, embedOpt){\n",
       "    let outputDiv = document.currentScript.previousElementSibling;\n",
       "    if (outputDiv.id !== \"altair-viz-2face9a0329a4429858163b9b7f6dc48\") {\n",
       "      outputDiv = document.getElementById(\"altair-viz-2face9a0329a4429858163b9b7f6dc48\");\n",
       "    }\n",
       "    const paths = {\n",
       "      \"vega\": \"https://cdn.jsdelivr.net/npm//vega@5?noext\",\n",
       "      \"vega-lib\": \"https://cdn.jsdelivr.net/npm//vega-lib?noext\",\n",
       "      \"vega-lite\": \"https://cdn.jsdelivr.net/npm//vega-lite@4.8.1?noext\",\n",
       "      \"vega-embed\": \"https://cdn.jsdelivr.net/npm//vega-embed@6?noext\",\n",
       "    };\n",
       "\n",
       "    function loadScript(lib) {\n",
       "      return new Promise(function(resolve, reject) {\n",
       "        var s = document.createElement('script');\n",
       "        s.src = paths[lib];\n",
       "        s.async = true;\n",
       "        s.onload = () => resolve(paths[lib]);\n",
       "        s.onerror = () => reject(`Error loading script: ${paths[lib]}`);\n",
       "        document.getElementsByTagName(\"head\")[0].appendChild(s);\n",
       "      });\n",
       "    }\n",
       "\n",
       "    function showError(err) {\n",
       "      outputDiv.innerHTML = `<div class=\"error\" style=\"color:red;\">${err}</div>`;\n",
       "      throw err;\n",
       "    }\n",
       "\n",
       "    function displayChart(vegaEmbed) {\n",
       "      vegaEmbed(outputDiv, spec, embedOpt)\n",
       "        .catch(err => showError(`Javascript Error: ${err.message}<br>This usually means there's a typo in your chart specification. See the javascript console for the full traceback.`));\n",
       "    }\n",
       "\n",
       "    if(typeof define === \"function\" && define.amd) {\n",
       "      requirejs.config({paths});\n",
       "      require([\"vega-embed\"], displayChart, err => showError(`Error loading script: ${err.message}`));\n",
       "    } else if (typeof vegaEmbed === \"function\") {\n",
       "      displayChart(vegaEmbed);\n",
       "    } else {\n",
       "      loadScript(\"vega\")\n",
       "        .then(() => loadScript(\"vega-lite\"))\n",
       "        .then(() => loadScript(\"vega-embed\"))\n",
       "        .catch(showError)\n",
       "        .then(() => displayChart(vegaEmbed));\n",
       "    }\n",
       "  })({\"config\": {\"view\": {\"continuousWidth\": 400, \"continuousHeight\": 300}}, \"data\": {\"name\": \"data-9226b1ae324eb89dd4cb90e5977f0955\"}, \"mark\": \"bar\", \"encoding\": {\"x\": {\"type\": \"ordinal\", \"field\": \"Technologies\"}, \"y\": {\"type\": \"quantitative\", \"field\": \"Anzahl\"}}, \"title\": \"Technologien 2018\", \"$schema\": \"https://vega.github.io/schema/vega-lite/v4.8.1.json\", \"datasets\": {\"data-9226b1ae324eb89dd4cb90e5977f0955\": [{\"Technologies\": [\"software engineering\", \"NOUN\"], \"Anzahl\": 30}, {\"Technologies\": [\"result\", \"VERB\"], \"Anzahl\": 26}, {\"Technologies\": [\"set\", \"VERB\"], \"Anzahl\": 24}, {\"Technologies\": [\"theme issue\", \"NOUN\"], \"Anzahl\": 17}, {\"Technologies\": [\"automatically\", \"ADV\"], \"Anzahl\": 16}, {\"Technologies\": [\"e.g.\", \"ADV\"], \"Anzahl\": 16}, {\"Technologies\": [\"article\", \"NOUN\"], \"Anzahl\": 15}, {\"Technologies\": [\"article theme\", \"NOUN\"], \"Anzahl\": 15}, {\"Technologies\": [\"issue\", \"VERB\"], \"Anzahl\": 13}, {\"Technologies\": [\"refactoring\", \"VERB\"], \"Anzahl\": 13}, {\"Technologies\": [\"modeling\", \"VERB\"], \"Anzahl\": 12}, {\"Technologies\": [\"previously\", \"ADV\"], \"Anzahl\": 12}, {\"Technologies\": [\"software\", \"NOUN\"], \"Anzahl\": 12}, {\"Technologies\": [\"software development\", \"NOUN\"], \"Anzahl\": 12}, {\"Technologies\": [\"source code\", \"NOUN\"], \"Anzahl\": 12}, {\"Technologies\": [\"use\", \"VERB\"], \"Anzahl\": 11}, {\"Technologies\": [\"anniversary\", \"NOUN\"], \"Anzahl\": 11}, {\"Technologies\": [\"approach\", \"VERB\"], \"Anzahl\": 11}, {\"Technologies\": [\"issue software\", \"NOUN\"], \"Anzahl\": 11}, {\"Technologies\": [\"Software Engineering\", \"NOUN\"], \"Anzahl\": 10}]}}, {\"mode\": \"vega-lite\"});\n",
       "</script>"
      ],
      "text/plain": [
       "alt.Chart(...)"
      ]
     },
     "execution_count": 34,
     "metadata": {},
     "output_type": "execute_result"
    }
   ],
   "source": [
    "year = 2018\n",
    "d = data_words[year].nlargest(anzahl_top_topics).sort_values(ascending=False)\n",
    "source = pd.DataFrame({'Technologies': d.index,\n",
    "                            'Anzahl': d})\n",
    "alt.Chart(source).mark_bar().encode(\n",
    "        x='Technologies:O',\n",
    "        y='Anzahl:Q'\n",
    "    ).properties(\n",
    "    title=f'Technologien {year}')"
   ]
  },
  {
   "cell_type": "markdown",
   "metadata": {},
   "source": [
    "### Balkendiagramm 2019"
   ]
  },
  {
   "cell_type": "code",
   "execution_count": 35,
   "metadata": {},
   "outputs": [
    {
     "data": {
      "text/html": [
       "\n",
       "<div id=\"altair-viz-033e9b1022454d50927328c8273e63f2\"></div>\n",
       "<script type=\"text/javascript\">\n",
       "  (function(spec, embedOpt){\n",
       "    let outputDiv = document.currentScript.previousElementSibling;\n",
       "    if (outputDiv.id !== \"altair-viz-033e9b1022454d50927328c8273e63f2\") {\n",
       "      outputDiv = document.getElementById(\"altair-viz-033e9b1022454d50927328c8273e63f2\");\n",
       "    }\n",
       "    const paths = {\n",
       "      \"vega\": \"https://cdn.jsdelivr.net/npm//vega@5?noext\",\n",
       "      \"vega-lib\": \"https://cdn.jsdelivr.net/npm//vega-lib?noext\",\n",
       "      \"vega-lite\": \"https://cdn.jsdelivr.net/npm//vega-lite@4.8.1?noext\",\n",
       "      \"vega-embed\": \"https://cdn.jsdelivr.net/npm//vega-embed@6?noext\",\n",
       "    };\n",
       "\n",
       "    function loadScript(lib) {\n",
       "      return new Promise(function(resolve, reject) {\n",
       "        var s = document.createElement('script');\n",
       "        s.src = paths[lib];\n",
       "        s.async = true;\n",
       "        s.onload = () => resolve(paths[lib]);\n",
       "        s.onerror = () => reject(`Error loading script: ${paths[lib]}`);\n",
       "        document.getElementsByTagName(\"head\")[0].appendChild(s);\n",
       "      });\n",
       "    }\n",
       "\n",
       "    function showError(err) {\n",
       "      outputDiv.innerHTML = `<div class=\"error\" style=\"color:red;\">${err}</div>`;\n",
       "      throw err;\n",
       "    }\n",
       "\n",
       "    function displayChart(vegaEmbed) {\n",
       "      vegaEmbed(outputDiv, spec, embedOpt)\n",
       "        .catch(err => showError(`Javascript Error: ${err.message}<br>This usually means there's a typo in your chart specification. See the javascript console for the full traceback.`));\n",
       "    }\n",
       "\n",
       "    if(typeof define === \"function\" && define.amd) {\n",
       "      requirejs.config({paths});\n",
       "      require([\"vega-embed\"], displayChart, err => showError(`Error loading script: ${err.message}`));\n",
       "    } else if (typeof vegaEmbed === \"function\") {\n",
       "      displayChart(vegaEmbed);\n",
       "    } else {\n",
       "      loadScript(\"vega\")\n",
       "        .then(() => loadScript(\"vega-lite\"))\n",
       "        .then(() => loadScript(\"vega-embed\"))\n",
       "        .catch(showError)\n",
       "        .then(() => displayChart(vegaEmbed));\n",
       "    }\n",
       "  })({\"config\": {\"view\": {\"continuousWidth\": 400, \"continuousHeight\": 300}}, \"data\": {\"name\": \"data-4fd900fa1ade120306d21d9549198cd7\"}, \"mark\": \"bar\", \"encoding\": {\"x\": {\"type\": \"ordinal\", \"field\": \"Technologies\"}, \"y\": {\"type\": \"quantitative\", \"field\": \"Anzahl\"}}, \"title\": \"Technologien 2019\", \"$schema\": \"https://vega.github.io/schema/vega-lite/v4.8.1.json\", \"datasets\": {\"data-4fd900fa1ade120306d21d9549198cd7\": [{\"Technologies\": [\"result\", \"VERB\"], \"Anzahl\": 53}, {\"Technologies\": [\"automatically\", \"ADV\"], \"Anzahl\": 29}, {\"Technologies\": [\"e.g.\", \"ADV\"], \"Anzahl\": 26}, {\"Technologies\": [\"significantly\", \"ADV\"], \"Anzahl\": 25}, {\"Technologies\": [\"set\", \"VERB\"], \"Anzahl\": 24}, {\"Technologies\": [\"need\", \"VERB\"], \"Anzahl\": 23}, {\"Technologies\": [\"software engineering\", \"NOUN\"], \"Anzahl\": 23}, {\"Technologies\": [\"source code\", \"NOUN\"], \"Anzahl\": 22}, {\"Technologies\": [\"state art\", \"NOUN\"], \"Anzahl\": 20}, {\"Technologies\": [\"widely\", \"ADV\"], \"Anzahl\": 20}, {\"Technologies\": [\"software system\", \"NOUN\"], \"Anzahl\": 18}, {\"Technologies\": [\"technique\", \"NOUN\"], \"Anzahl\": 17}, {\"Technologies\": [\"learning\", \"VERB\"], \"Anzahl\": 16}, {\"Technologies\": [\"setting\", \"VERB\"], \"Anzahl\": 15}, {\"Technologies\": [\"software development\", \"NOUN\"], \"Anzahl\": 15}, {\"Technologies\": [\"specifically\", \"ADV\"], \"Anzahl\": 15}, {\"Technologies\": [\"case study\", \"NOUN\"], \"Anzahl\": 14}, {\"Technologies\": [\"manually\", \"ADV\"], \"Anzahl\": 14}, {\"Technologies\": [\"commonly\", \"ADV\"], \"Anzahl\": 13}, {\"Technologies\": [\"defect prediction\", \"NOUN\"], \"Anzahl\": 13}]}}, {\"mode\": \"vega-lite\"});\n",
       "</script>"
      ],
      "text/plain": [
       "alt.Chart(...)"
      ]
     },
     "execution_count": 35,
     "metadata": {},
     "output_type": "execute_result"
    }
   ],
   "source": [
    "year = 2019\n",
    "d = data_words[year].nlargest(anzahl_top_topics).sort_values(ascending=False)\n",
    "source = pd.DataFrame({'Technologies': d.index,\n",
    "                            'Anzahl': d})\n",
    "alt.Chart(source).mark_bar().encode(\n",
    "        x='Technologies:O',\n",
    "        y='Anzahl:Q'\n",
    "    ).properties(\n",
    "    title=f'Technologien {year}')"
   ]
  },
  {
   "cell_type": "markdown",
   "metadata": {},
   "source": [
    "### Balkendiagramm 2020"
   ]
  },
  {
   "cell_type": "code",
   "execution_count": 36,
   "metadata": {},
   "outputs": [
    {
     "data": {
      "text/html": [
       "\n",
       "<div id=\"altair-viz-bb8b6bc602a94762bc5bba1196e4f80c\"></div>\n",
       "<script type=\"text/javascript\">\n",
       "  (function(spec, embedOpt){\n",
       "    let outputDiv = document.currentScript.previousElementSibling;\n",
       "    if (outputDiv.id !== \"altair-viz-bb8b6bc602a94762bc5bba1196e4f80c\") {\n",
       "      outputDiv = document.getElementById(\"altair-viz-bb8b6bc602a94762bc5bba1196e4f80c\");\n",
       "    }\n",
       "    const paths = {\n",
       "      \"vega\": \"https://cdn.jsdelivr.net/npm//vega@5?noext\",\n",
       "      \"vega-lib\": \"https://cdn.jsdelivr.net/npm//vega-lib?noext\",\n",
       "      \"vega-lite\": \"https://cdn.jsdelivr.net/npm//vega-lite@4.8.1?noext\",\n",
       "      \"vega-embed\": \"https://cdn.jsdelivr.net/npm//vega-embed@6?noext\",\n",
       "    };\n",
       "\n",
       "    function loadScript(lib) {\n",
       "      return new Promise(function(resolve, reject) {\n",
       "        var s = document.createElement('script');\n",
       "        s.src = paths[lib];\n",
       "        s.async = true;\n",
       "        s.onload = () => resolve(paths[lib]);\n",
       "        s.onerror = () => reject(`Error loading script: ${paths[lib]}`);\n",
       "        document.getElementsByTagName(\"head\")[0].appendChild(s);\n",
       "      });\n",
       "    }\n",
       "\n",
       "    function showError(err) {\n",
       "      outputDiv.innerHTML = `<div class=\"error\" style=\"color:red;\">${err}</div>`;\n",
       "      throw err;\n",
       "    }\n",
       "\n",
       "    function displayChart(vegaEmbed) {\n",
       "      vegaEmbed(outputDiv, spec, embedOpt)\n",
       "        .catch(err => showError(`Javascript Error: ${err.message}<br>This usually means there's a typo in your chart specification. See the javascript console for the full traceback.`));\n",
       "    }\n",
       "\n",
       "    if(typeof define === \"function\" && define.amd) {\n",
       "      requirejs.config({paths});\n",
       "      require([\"vega-embed\"], displayChart, err => showError(`Error loading script: ${err.message}`));\n",
       "    } else if (typeof vegaEmbed === \"function\") {\n",
       "      displayChart(vegaEmbed);\n",
       "    } else {\n",
       "      loadScript(\"vega\")\n",
       "        .then(() => loadScript(\"vega-lite\"))\n",
       "        .then(() => loadScript(\"vega-embed\"))\n",
       "        .catch(showError)\n",
       "        .then(() => displayChart(vegaEmbed));\n",
       "    }\n",
       "  })({\"config\": {\"view\": {\"continuousWidth\": 400, \"continuousHeight\": 300}}, \"data\": {\"name\": \"data-2fd2a82cb07315f9ca1b11c251dd7f30\"}, \"mark\": \"bar\", \"encoding\": {\"x\": {\"type\": \"ordinal\", \"field\": \"Technologies\"}, \"y\": {\"type\": \"quantitative\", \"field\": \"Anzahl\"}}, \"title\": \"Technologien 2020\", \"$schema\": \"https://vega.github.io/schema/vega-lite/v4.8.1.json\", \"datasets\": {\"data-2fd2a82cb07315f9ca1b11c251dd7f30\": [{\"Technologies\": [\"result\", \"VERB\"], \"Anzahl\": 62}, {\"Technologies\": [\"e.g.\", \"ADV\"], \"Anzahl\": 59}, {\"Technologies\": [\"automatically\", \"ADV\"], \"Anzahl\": 51}, {\"Technologies\": [\"significantly\", \"ADV\"], \"Anzahl\": 38}, {\"Technologies\": [\"state art\", \"NOUN\"], \"Anzahl\": 34}, {\"Technologies\": [\"software engineering\", \"NOUN\"], \"Anzahl\": 31}, {\"Technologies\": [\"set\", \"VERB\"], \"Anzahl\": 30}, {\"Technologies\": [\"software system\", \"NOUN\"], \"Anzahl\": 25}, {\"Technologies\": [\"approach\", \"NOUN\"], \"Anzahl\": 25}, {\"Technologies\": [\"source code\", \"NOUN\"], \"Anzahl\": 24}, {\"Technologies\": [\"test case\", \"NOUN\"], \"Anzahl\": 24}, {\"Technologies\": [\"finding\", \"VERB\"], \"Anzahl\": 22}, {\"Technologies\": [\"use\", \"VERB\"], \"Anzahl\": 22}, {\"Technologies\": [\"highly\", \"ADV\"], \"Anzahl\": 21}, {\"Technologies\": [\"manually\", \"ADV\"], \"Anzahl\": 20}, {\"Technologies\": [\"software\", \"NOUN\"], \"Anzahl\": 20}, {\"Technologies\": [\"finally\", \"ADV\"], \"Anzahl\": 19}, {\"Technologies\": [\"system\", \"NOUN\"], \"Anzahl\": 19}, {\"Technologies\": [\"need\", \"VERB\"], \"Anzahl\": 18}, {\"Technologies\": [\"refactoring\", \"VERB\"], \"Anzahl\": 18}]}}, {\"mode\": \"vega-lite\"});\n",
       "</script>"
      ],
      "text/plain": [
       "alt.Chart(...)"
      ]
     },
     "execution_count": 36,
     "metadata": {},
     "output_type": "execute_result"
    }
   ],
   "source": [
    "year = 2020\n",
    "d = data_words[year].nlargest(anzahl_top_topics).sort_values(ascending=False)\n",
    "source = pd.DataFrame({'Technologies': d.index,\n",
    "                            'Anzahl': d})\n",
    "alt.Chart(source).mark_bar().encode(\n",
    "        x='Technologies:O',\n",
    "        y='Anzahl:Q'\n",
    "    ).properties(\n",
    "    title=f'Technologien {year}')"
   ]
  },
  {
   "cell_type": "markdown",
   "metadata": {},
   "source": [
    "### Balkendiagramm 2021"
   ]
  },
  {
   "cell_type": "code",
   "execution_count": 37,
   "metadata": {},
   "outputs": [
    {
     "data": {
      "text/html": [
       "\n",
       "<div id=\"altair-viz-414d176ef0d148b6b01408d1dc4551a8\"></div>\n",
       "<script type=\"text/javascript\">\n",
       "  (function(spec, embedOpt){\n",
       "    let outputDiv = document.currentScript.previousElementSibling;\n",
       "    if (outputDiv.id !== \"altair-viz-414d176ef0d148b6b01408d1dc4551a8\") {\n",
       "      outputDiv = document.getElementById(\"altair-viz-414d176ef0d148b6b01408d1dc4551a8\");\n",
       "    }\n",
       "    const paths = {\n",
       "      \"vega\": \"https://cdn.jsdelivr.net/npm//vega@5?noext\",\n",
       "      \"vega-lib\": \"https://cdn.jsdelivr.net/npm//vega-lib?noext\",\n",
       "      \"vega-lite\": \"https://cdn.jsdelivr.net/npm//vega-lite@4.8.1?noext\",\n",
       "      \"vega-embed\": \"https://cdn.jsdelivr.net/npm//vega-embed@6?noext\",\n",
       "    };\n",
       "\n",
       "    function loadScript(lib) {\n",
       "      return new Promise(function(resolve, reject) {\n",
       "        var s = document.createElement('script');\n",
       "        s.src = paths[lib];\n",
       "        s.async = true;\n",
       "        s.onload = () => resolve(paths[lib]);\n",
       "        s.onerror = () => reject(`Error loading script: ${paths[lib]}`);\n",
       "        document.getElementsByTagName(\"head\")[0].appendChild(s);\n",
       "      });\n",
       "    }\n",
       "\n",
       "    function showError(err) {\n",
       "      outputDiv.innerHTML = `<div class=\"error\" style=\"color:red;\">${err}</div>`;\n",
       "      throw err;\n",
       "    }\n",
       "\n",
       "    function displayChart(vegaEmbed) {\n",
       "      vegaEmbed(outputDiv, spec, embedOpt)\n",
       "        .catch(err => showError(`Javascript Error: ${err.message}<br>This usually means there's a typo in your chart specification. See the javascript console for the full traceback.`));\n",
       "    }\n",
       "\n",
       "    if(typeof define === \"function\" && define.amd) {\n",
       "      requirejs.config({paths});\n",
       "      require([\"vega-embed\"], displayChart, err => showError(`Error loading script: ${err.message}`));\n",
       "    } else if (typeof vegaEmbed === \"function\") {\n",
       "      displayChart(vegaEmbed);\n",
       "    } else {\n",
       "      loadScript(\"vega\")\n",
       "        .then(() => loadScript(\"vega-lite\"))\n",
       "        .then(() => loadScript(\"vega-embed\"))\n",
       "        .catch(showError)\n",
       "        .then(() => displayChart(vegaEmbed));\n",
       "    }\n",
       "  })({\"config\": {\"view\": {\"continuousWidth\": 400, \"continuousHeight\": 300}}, \"data\": {\"name\": \"data-ea71a43421da0063e12222576a918b2b\"}, \"mark\": \"bar\", \"encoding\": {\"x\": {\"type\": \"ordinal\", \"field\": \"Technologies\"}, \"y\": {\"type\": \"quantitative\", \"field\": \"Anzahl\", \"sort\": \"x\"}}, \"title\": \"Technologien 2021\", \"$schema\": \"https://vega.github.io/schema/vega-lite/v4.8.1.json\", \"datasets\": {\"data-ea71a43421da0063e12222576a918b2b\": [{\"Technologies\": [\"result\", \"VERB\"], \"Anzahl\": 34}, {\"Technologies\": [\"automatically\", \"ADV\"], \"Anzahl\": 30}, {\"Technologies\": [\"e.g.\", \"ADV\"], \"Anzahl\": 30}, {\"Technologies\": [\"software engineering\", \"NOUN\"], \"Anzahl\": 25}, {\"Technologies\": [\"significantly\", \"ADV\"], \"Anzahl\": 24}, {\"Technologies\": [\"finding\", \"VERB\"], \"Anzahl\": 21}, {\"Technologies\": [\"set\", \"VERB\"], \"Anzahl\": 20}, {\"Technologies\": [\"test case\", \"NOUN\"], \"Anzahl\": 16}, {\"Technologies\": [\"Stack Overflow\", \"NOUN\"], \"Anzahl\": 16}, {\"Technologies\": [\"study\", \"NOUN\"], \"Anzahl\": 15}, {\"Technologies\": [\"system\", \"NOUN\"], \"Anzahl\": 15}, {\"Technologies\": [\"commonly\", \"ADV\"], \"Anzahl\": 14}, {\"Technologies\": [\"finally\", \"ADV\"], \"Anzahl\": 14}, {\"Technologies\": [\"manually\", \"ADV\"], \"Anzahl\": 13}, {\"Technologies\": [\"widely\", \"ADV\"], \"Anzahl\": 13}, {\"Technologies\": [\"source code\", \"NOUN\"], \"Anzahl\": 12}, {\"Technologies\": [\"commit\", \"VERB\"], \"Anzahl\": 12}, {\"Technologies\": [\"highly\", \"ADV\"], \"Anzahl\": 12}, {\"Technologies\": [\"learning\", \"VERB\"], \"Anzahl\": 12}, {\"Technologies\": [\"code\", \"NOUN\"], \"Anzahl\": 11}]}}, {\"mode\": \"vega-lite\"});\n",
       "</script>"
      ],
      "text/plain": [
       "alt.Chart(...)"
      ]
     },
     "execution_count": 37,
     "metadata": {},
     "output_type": "execute_result"
    }
   ],
   "source": [
    "year = 2021\n",
    "d = data_words[year].nlargest(anzahl_top_topics).sort_values(ascending=False)\n",
    "source = pd.DataFrame({'Technologies': d.index,\n",
    "                            'Anzahl': d})\n",
    "alt.Chart(source).mark_bar().encode(\n",
    "        #x='Technologies:O',\n",
    "        alt.X('Technologies:O'),\n",
    "        alt.Y('Anzahl:Q', sort='x')\n",
    "        #y='Anzahl:Q'\n",
    "    ).properties(\n",
    "    title=f'Technologien {year}')"
   ]
  },
  {
   "cell_type": "markdown",
   "metadata": {},
   "source": [
    "\n"
   ]
  },
  {
   "cell_type": "code",
   "execution_count": 38,
   "metadata": {},
   "outputs": [],
   "source": [
    "#for columns in data.itertuples():\n",
    "#    text = columns[3] #1 = title 2 = year 3 = abstract\n",
    "    # Verarbeite den Text\n",
    "#    if type(text) is str:\n",
    "#            doc = nlp(text)\n",
    "    \n",
    "#    matches = matcher(doc)\n",
    "#    sp  = [doc[match[1]:match[2]] for match in matches]\n",
    "#    filtered = filter_spans(sp)\n",
    "#    with doc.retokenize() as retokenizer:\n",
    "#        for s in filtered:\n",
    "#            retokenizer.merge(s, attrs = {\"POS\": \"NOUN\"})\n",
    "#    [(token.pos_, token.text) for token in doc]\n",
    "\n",
    "#    for token in doc:\n",
    "        # Greife auf den Text, die Wortart und die Dependenzrelation des Tokens zu\n",
    "#        token_text = token.text\n",
    "#        token_pos = token.pos_\n",
    "#        token_dep = token.dep_\n",
    "#        token_ent = token.ent_type_\n",
    "\n",
    "#        if token.pos == NOUN:\n",
    "#            if not token.is_stop:\n",
    "#                words[token_text] += 1\n",
    "                                          "
   ]
  },
  {
   "cell_type": "markdown",
   "metadata": {},
   "source": [
    "## Wörter darstellen"
   ]
  },
  {
   "cell_type": "code",
   "execution_count": 39,
   "metadata": {},
   "outputs": [
    {
     "name": "stdout",
     "output_type": "stream",
     "text": [
      "<class 'pandas.core.series.Series'>\n"
     ]
    }
   ],
   "source": [
    "print(type(abstract.sum(axis = 0)))"
   ]
  },
  {
   "cell_type": "markdown",
   "metadata": {},
   "source": [
    "## Liste erstellen"
   ]
  },
  {
   "cell_type": "code",
   "execution_count": null,
   "metadata": {},
   "outputs": [],
   "source": []
  },
  {
   "cell_type": "code",
   "execution_count": 40,
   "metadata": {},
   "outputs": [],
   "source": [
    "#words = abstract.sum(axis= 1).nlargest(20)"
   ]
  },
  {
   "cell_type": "code",
   "execution_count": 41,
   "metadata": {},
   "outputs": [],
   "source": [
    "#b = abstract[abstract.index.isin(words.index)] "
   ]
  },
  {
   "cell_type": "code",
   "execution_count": 42,
   "metadata": {},
   "outputs": [],
   "source": [
    "#b"
   ]
  },
  {
   "cell_type": "code",
   "execution_count": null,
   "metadata": {},
   "outputs": [],
   "source": []
  },
  {
   "cell_type": "code",
   "execution_count": 43,
   "metadata": {},
   "outputs": [],
   "source": [
    "#print(cosine_similarity(b))"
   ]
  }
 ],
 "metadata": {
  "kernelspec": {
   "display_name": "Python 3",
   "language": "python",
   "name": "python3"
  },
  "language_info": {
   "codemirror_mode": {
    "name": "ipython",
    "version": 3
   },
   "file_extension": ".py",
   "mimetype": "text/x-python",
   "name": "python",
   "nbconvert_exporter": "python",
   "pygments_lexer": "ipython3",
   "version": "3.8.5"
  }
 },
 "nbformat": 4,
 "nbformat_minor": 4
}
