{
 "cells": [
  {
   "cell_type": "markdown",
   "metadata": {},
   "source": [
    "# RQ1: Which technologies have been investigated in the last decade?"
   ]
  },
  {
   "cell_type": "markdown",
   "metadata": {},
   "source": [
    "## Module importieren"
   ]
  },
  {
   "cell_type": "code",
   "execution_count": 1,
   "metadata": {},
   "outputs": [],
   "source": [
    "import pandas as pd\n",
    "import numpy as np\n",
    "from collections import Counter\n",
    "import spacy\n",
    "from sklearn.feature_extraction.text import CountVectorizer\n",
    "from sklearn.metrics.pairwise import cosine_similarity\n",
    "from spacy.symbols import NOUN\n",
    "from spacy.matcher import Matcher\n",
    "from spacy.util import filter_spans"
   ]
  },
  {
   "cell_type": "markdown",
   "metadata": {},
   "source": [
    "## Daten einlesen\n",
    "In diesem Block werden die Daten in eine Pandas DataFrame geladen. Anschließend werden die Spalten zur besseren Übersichtlichkeit umbenannt."
   ]
  },
  {
   "cell_type": "code",
   "execution_count": 2,
   "metadata": {},
   "outputs": [
    {
     "data": {
      "text/html": [
       "<div>\n",
       "<style scoped>\n",
       "    .dataframe tbody tr th:only-of-type {\n",
       "        vertical-align: middle;\n",
       "    }\n",
       "\n",
       "    .dataframe tbody tr th {\n",
       "        vertical-align: top;\n",
       "    }\n",
       "\n",
       "    .dataframe thead th {\n",
       "        text-align: right;\n",
       "    }\n",
       "</style>\n",
       "<table border=\"1\" class=\"dataframe\">\n",
       "  <thead>\n",
       "    <tr style=\"text-align: right;\">\n",
       "      <th></th>\n",
       "      <th>title</th>\n",
       "      <th>abstract</th>\n",
       "    </tr>\n",
       "    <tr>\n",
       "      <th>year</th>\n",
       "      <th></th>\n",
       "      <th></th>\n",
       "    </tr>\n",
       "  </thead>\n",
       "  <tbody>\n",
       "    <tr>\n",
       "      <th>2009</th>\n",
       "      <td>139</td>\n",
       "      <td>139</td>\n",
       "    </tr>\n",
       "    <tr>\n",
       "      <th>2010</th>\n",
       "      <td>132</td>\n",
       "      <td>131</td>\n",
       "    </tr>\n",
       "    <tr>\n",
       "      <th>2011</th>\n",
       "      <td>114</td>\n",
       "      <td>114</td>\n",
       "    </tr>\n",
       "    <tr>\n",
       "      <th>2012</th>\n",
       "      <td>159</td>\n",
       "      <td>159</td>\n",
       "    </tr>\n",
       "    <tr>\n",
       "      <th>2013</th>\n",
       "      <td>149</td>\n",
       "      <td>149</td>\n",
       "    </tr>\n",
       "    <tr>\n",
       "      <th>2014</th>\n",
       "      <td>137</td>\n",
       "      <td>137</td>\n",
       "    </tr>\n",
       "    <tr>\n",
       "      <th>2015</th>\n",
       "      <td>171</td>\n",
       "      <td>171</td>\n",
       "    </tr>\n",
       "    <tr>\n",
       "      <th>2016</th>\n",
       "      <td>186</td>\n",
       "      <td>186</td>\n",
       "    </tr>\n",
       "    <tr>\n",
       "      <th>2017</th>\n",
       "      <td>174</td>\n",
       "      <td>174</td>\n",
       "    </tr>\n",
       "    <tr>\n",
       "      <th>2018</th>\n",
       "      <td>180</td>\n",
       "      <td>180</td>\n",
       "    </tr>\n",
       "    <tr>\n",
       "      <th>2019</th>\n",
       "      <td>217</td>\n",
       "      <td>217</td>\n",
       "    </tr>\n",
       "    <tr>\n",
       "      <th>2020</th>\n",
       "      <td>253</td>\n",
       "      <td>253</td>\n",
       "    </tr>\n",
       "    <tr>\n",
       "      <th>2021</th>\n",
       "      <td>154</td>\n",
       "      <td>154</td>\n",
       "    </tr>\n",
       "  </tbody>\n",
       "</table>\n",
       "</div>"
      ],
      "text/plain": [
       "      title  abstract\n",
       "year                 \n",
       "2009    139       139\n",
       "2010    132       131\n",
       "2011    114       114\n",
       "2012    159       159\n",
       "2013    149       149\n",
       "2014    137       137\n",
       "2015    171       171\n",
       "2016    186       186\n",
       "2017    174       174\n",
       "2018    180       180\n",
       "2019    217       217\n",
       "2020    253       253\n",
       "2021    154       154"
      ]
     },
     "execution_count": 2,
     "metadata": {},
     "output_type": "execute_result"
    }
   ],
   "source": [
    "#Datene einlesen\n",
    "data = pd.read_csv('./data/data.csv',usecols = ['Unnamed: 0','Document Title','Abstract','Publication Year'])\n",
    "data.columns = ['index','title','year','abstract']\n",
    "data.index = data['index']\n",
    "\n",
    "data.drop([\"index\"], axis = 1, inplace = True)\n",
    "\n",
    "data.head()\n",
    "\n",
    "data.groupby('year').count()"
   ]
  },
  {
   "cell_type": "markdown",
   "metadata": {},
   "source": [
    "## Funktion für die TermDokumentenMatrix"
   ]
  },
  {
   "cell_type": "code",
   "execution_count": 3,
   "metadata": {},
   "outputs": [],
   "source": [
    "def CreateTermDocMatrix(column):\n",
    "        \n",
    "    count_vectorizer = CountVectorizer(stop_words='english',ngram_range = (1,2),dtype=np.int32)\n",
    "    sparse_matrix = count_vectorizer.fit_transform(data[column].values.astype('U'))\n",
    "\n",
    "    doc_term_matrix = sparse_matrix.todense()\n",
    "    df = pd.DataFrame(doc_term_matrix, columns=count_vectorizer.get_feature_names(), dtype=np.int32)\n",
    "    df['year'] = data['year']\n",
    "    returndf = df.groupby('year').sum().transpose().astype('int32')\n",
    "    return returndf"
   ]
  },
  {
   "cell_type": "code",
   "execution_count": 4,
   "metadata": {},
   "outputs": [],
   "source": [
    "def ShowWord(data,word):\n",
    "    d = data.loc[word]\n",
    "    d.plot.bar()"
   ]
  },
  {
   "cell_type": "code",
   "execution_count": 5,
   "metadata": {},
   "outputs": [],
   "source": [
    "def SpaltenEntf(data):\n",
    "    y = []\n",
    "    for item in data.columns:\n",
    "        y = data.columns\n",
    "\n",
    "\n",
    "    for index in range(len(y)):\n",
    "        x = y[index]\n",
    "        if x in stopwords or x.isnumeric():\n",
    "            del data[y[index]]\n",
    "    return data"
   ]
  },
  {
   "cell_type": "markdown",
   "metadata": {},
   "source": [
    "## Erstellen der TermDokumentenmatrix"
   ]
  },
  {
   "cell_type": "code",
   "execution_count": 6,
   "metadata": {},
   "outputs": [],
   "source": [
    "def Retokenize(text):\n",
    "    # Verarbeite den Text\n",
    "    if type(text) is str:\n",
    "        doc = nlp(text)\n",
    "\n",
    "\n",
    "    matches = matcher(doc)\n",
    "    sp  = [doc[match[1]:match[2]] for match in matches] \n",
    "\n",
    "    filtered = filter_spans(sp)\n",
    "    with doc.retokenize() as retokenizer:\n",
    "        for s in filtered:\n",
    "            retokenizer.merge(s, attrs = {\"POS\": \"NOUN\"})\n",
    "    [(token.pos_, token.text) for token in doc]\n",
    "        \n",
    "    #Returns spacy doc\n",
    "    return doc\n",
    "                \n",
    "        "
   ]
  },
  {
   "cell_type": "code",
   "execution_count": 7,
   "metadata": {},
   "outputs": [],
   "source": [
    "from matplotlib import pyplot as plt\n",
    "years = []\n",
    "\n",
    "#Balkendiagramm\n",
    "#plt.bar(range(len(years)),anzah)\n",
    "\n",
    "#Titel\n",
    "#plt.title(\"Toller Plot\")\n",
    "#plt.ylabel(\"# of awards\")\n",
    "\n",
    "#plt.xticks(range(len(years)),years)\n",
    "#plt.show()"
   ]
  },
  {
   "cell_type": "markdown",
   "metadata": {},
   "source": []
  },
  {
   "cell_type": "code",
   "execution_count": null,
   "metadata": {},
   "outputs": [],
   "source": []
  },
  {
   "cell_type": "markdown",
   "metadata": {},
   "source": [
    "## NLP Model laden"
   ]
  },
  {
   "cell_type": "code",
   "execution_count": 8,
   "metadata": {},
   "outputs": [],
   "source": [
    "nlp = spacy.load(\"en_core_web_sm\")"
   ]
  },
  {
   "cell_type": "code",
   "execution_count": null,
   "metadata": {},
   "outputs": [],
   "source": []
  },
  {
   "cell_type": "markdown",
   "metadata": {},
   "source": [
    "## Counter und Matcher initialisieren"
   ]
  },
  {
   "cell_type": "code",
   "execution_count": 9,
   "metadata": {},
   "outputs": [],
   "source": [
    "matcher = Matcher(nlp.vocab)\n",
    "words = Counter()\n",
    "words_chunk = Counter()"
   ]
  },
  {
   "cell_type": "markdown",
   "metadata": {},
   "source": [
    "## Pattern festlegen und dem Matcher hinzufügen"
   ]
  },
  {
   "cell_type": "code",
   "execution_count": 10,
   "metadata": {},
   "outputs": [],
   "source": [
    "pattern_test = [{'POS': 'NOUN'},\n",
    "                {'POS': 'NOUN'}]\n",
    "\n",
    "pattern_exmaple = [{'POS': 'ADJ', 'OP': '?'},\n",
    "                   {'OP': '+', 'POS': 'NOUN'},\n",
    "                   {'POS': 'NOUN', 'OP': '?'}]"
   ]
  },
  {
   "cell_type": "code",
   "execution_count": 11,
   "metadata": {},
   "outputs": [],
   "source": [
    "matcher.add(\"match_test\", [pattern_test])\n",
    "matcher.add(\"match_example\", [pattern_exmaple])"
   ]
  },
  {
   "cell_type": "markdown",
   "metadata": {},
   "source": [
    "\n"
   ]
  },
  {
   "cell_type": "code",
   "execution_count": 12,
   "metadata": {},
   "outputs": [],
   "source": [
    "for columns in data.itertuples():\n",
    "    text = columns[3] #1 = title 2 = year 3 = abstract\n",
    "    # Verarbeite den Text\n",
    "    if type(text) is str:\n",
    "            doc = nlp(text)\n",
    "    \n",
    "    matches = matcher(doc)\n",
    "    sp  = [doc[match[1]:match[2]] for match in matches]\n",
    "    filtered = filter_spans(sp)\n",
    "    with doc.retokenize() as retokenizer:\n",
    "        for s in filtered:\n",
    "            retokenizer.merge(s, attrs = {\"POS\": \"NOUN\"})\n",
    "    [(token.pos_, token.text) for token in doc]\n",
    "\n",
    "    for token in doc:\n",
    "        # Greife auf den Text, die Wortart und die Dependenzrelation des Tokens zu\n",
    "        token_text = token.text\n",
    "        token_pos = token.pos_\n",
    "        token_dep = token.dep_\n",
    "        token_ent = token.ent_type_\n",
    "\n",
    "        if token.pos == NOUN:\n",
    "            if not token.is_stop:\n",
    "                words[token_text] += 1\n",
    "                                          "
   ]
  },
  {
   "cell_type": "markdown",
   "metadata": {},
   "source": [
    "## Wörter darstellen"
   ]
  },
  {
   "cell_type": "code",
   "execution_count": 13,
   "metadata": {},
   "outputs": [
    {
     "data": {
      "text/plain": [
       "[('paper', 708),\n",
       " ('approach', 634),\n",
       " ('developers', 580),\n",
       " ('results', 458),\n",
       " ('software', 364),\n",
       " ('code', 317),\n",
       " ('article', 310),\n",
       " ('percent', 279),\n",
       " ('system', 267),\n",
       " ('model', 266),\n",
       " ('time', 259),\n",
       " ('%', 256),\n",
       " ('techniques', 241),\n",
       " ('data', 235),\n",
       " ('systems', 234),\n",
       " ('state', 208),\n",
       " ('set', 207),\n",
       " ('software engineering', 197),\n",
       " ('number', 193),\n",
       " ('performance', 192),\n",
       " ('study', 188),\n",
       " ('analysis', 185),\n",
       " ('tools', 185),\n",
       " ('work', 181),\n",
       " ('problem', 177),\n",
       " ('effectiveness', 171),\n",
       " ('framework', 171),\n",
       " ('models', 171),\n",
       " ('development', 169),\n",
       " ('terms', 169),\n",
       " ('method', 167),\n",
       " ('researchers', 163),\n",
       " ('approaches', 162),\n",
       " ('projects', 161),\n",
       " ('users', 160),\n",
       " ('use', 158),\n",
       " ('quality', 153),\n",
       " ('process', 152),\n",
       " ('practitioners', 151),\n",
       " ('application', 149),\n",
       " ('technique', 148),\n",
       " ('applications', 147),\n",
       " ('tool', 147),\n",
       " ('context', 144),\n",
       " ('research', 142),\n",
       " ('challenges', 138),\n",
       " ('requirements', 138),\n",
       " ('methods', 132),\n",
       " ('order', 130),\n",
       " ('programs', 128),\n",
       " ('testing', 127),\n",
       " ('knowledge', 126),\n",
       " ('findings', 126),\n",
       " ('information', 125),\n",
       " ('changes', 124),\n",
       " ('design', 123),\n",
       " ('practice', 119),\n",
       " ('experiments', 118),\n",
       " ('bugs', 118),\n",
       " ('software development', 117),\n",
       " ('source code', 117),\n",
       " ('impact', 116),\n",
       " ('project', 115),\n",
       " ('test cases', 113),\n",
       " ('evaluation', 109),\n",
       " ('apps', 108),\n",
       " ('cost', 106),\n",
       " ('program', 106),\n",
       " ('software systems', 105),\n",
       " ('test', 105),\n",
       " ('issue', 103),\n",
       " ('Web', 100),\n",
       " ('problems', 97),\n",
       " ('architecture', 97),\n",
       " ('features', 96),\n",
       " ('faults', 92),\n",
       " ('benefits', 90),\n",
       " ('need', 89),\n",
       " ('end', 87),\n",
       " ('years', 87),\n",
       " ('example', 87),\n",
       " ('complexity', 86),\n",
       " ('addition', 85),\n",
       " ('service', 85),\n",
       " ('practices', 84),\n",
       " ('way', 84),\n",
       " ('defects', 84),\n",
       " ('column', 83),\n",
       " ('literature', 83),\n",
       " ('algorithms', 83),\n",
       " ('implementation', 83),\n",
       " ('case study', 83),\n",
       " ('level', 83),\n",
       " ('companies', 81),\n",
       " ('metrics', 80),\n",
       " ('components', 79),\n",
       " ('algorithm', 79),\n",
       " ('patterns', 79),\n",
       " ('tests', 79),\n",
       " ('authors', 78)]"
      ]
     },
     "execution_count": 13,
     "metadata": {},
     "output_type": "execute_result"
    }
   ],
   "source": [
    "words.most_common(100)"
   ]
  },
  {
   "cell_type": "markdown",
   "metadata": {},
   "source": [
    "## Liste erstellen"
   ]
  },
  {
   "cell_type": "code",
   "execution_count": 14,
   "metadata": {},
   "outputs": [],
   "source": [
    "l = list(words.most_common(30))\n",
    "wordlist = []\n",
    "for x in l:\n",
    "    wordlist.append(x[0])\n"
   ]
  },
  {
   "cell_type": "code",
   "execution_count": 15,
   "metadata": {},
   "outputs": [],
   "source": [
    "words = pd.Series(wordlist,dtype=str)"
   ]
  },
  {
   "cell_type": "code",
   "execution_count": 16,
   "metadata": {},
   "outputs": [],
   "source": [
    "abstract = CreateTermDocMatrix('abstract')"
   ]
  },
  {
   "cell_type": "code",
   "execution_count": 17,
   "metadata": {},
   "outputs": [],
   "source": [
    "b = abstract[abstract.index.isin(words)]"
   ]
  },
  {
   "cell_type": "code",
   "execution_count": 18,
   "metadata": {},
   "outputs": [
    {
     "data": {
      "text/html": [
       "<div>\n",
       "<style scoped>\n",
       "    .dataframe tbody tr th:only-of-type {\n",
       "        vertical-align: middle;\n",
       "    }\n",
       "\n",
       "    .dataframe tbody tr th {\n",
       "        vertical-align: top;\n",
       "    }\n",
       "\n",
       "    .dataframe thead th {\n",
       "        text-align: right;\n",
       "    }\n",
       "</style>\n",
       "<table border=\"1\" class=\"dataframe\">\n",
       "  <thead>\n",
       "    <tr style=\"text-align: right;\">\n",
       "      <th>year</th>\n",
       "      <th>2009</th>\n",
       "      <th>2010</th>\n",
       "      <th>2011</th>\n",
       "      <th>2012</th>\n",
       "      <th>2013</th>\n",
       "      <th>2014</th>\n",
       "      <th>2015</th>\n",
       "      <th>2016</th>\n",
       "      <th>2017</th>\n",
       "      <th>2018</th>\n",
       "      <th>2019</th>\n",
       "      <th>2020</th>\n",
       "      <th>2021</th>\n",
       "    </tr>\n",
       "  </thead>\n",
       "  <tbody>\n",
       "    <tr>\n",
       "      <th>analysis</th>\n",
       "      <td>36</td>\n",
       "      <td>32</td>\n",
       "      <td>22</td>\n",
       "      <td>36</td>\n",
       "      <td>54</td>\n",
       "      <td>31</td>\n",
       "      <td>52</td>\n",
       "      <td>51</td>\n",
       "      <td>53</td>\n",
       "      <td>49</td>\n",
       "      <td>102</td>\n",
       "      <td>130</td>\n",
       "      <td>61</td>\n",
       "    </tr>\n",
       "    <tr>\n",
       "      <th>approach</th>\n",
       "      <td>36</td>\n",
       "      <td>35</td>\n",
       "      <td>31</td>\n",
       "      <td>68</td>\n",
       "      <td>87</td>\n",
       "      <td>68</td>\n",
       "      <td>75</td>\n",
       "      <td>75</td>\n",
       "      <td>85</td>\n",
       "      <td>82</td>\n",
       "      <td>111</td>\n",
       "      <td>181</td>\n",
       "      <td>60</td>\n",
       "    </tr>\n",
       "    <tr>\n",
       "      <th>article</th>\n",
       "      <td>22</td>\n",
       "      <td>7</td>\n",
       "      <td>10</td>\n",
       "      <td>13</td>\n",
       "      <td>8</td>\n",
       "      <td>13</td>\n",
       "      <td>37</td>\n",
       "      <td>36</td>\n",
       "      <td>23</td>\n",
       "      <td>90</td>\n",
       "      <td>27</td>\n",
       "      <td>21</td>\n",
       "      <td>8</td>\n",
       "    </tr>\n",
       "    <tr>\n",
       "      <th>code</th>\n",
       "      <td>40</td>\n",
       "      <td>31</td>\n",
       "      <td>34</td>\n",
       "      <td>58</td>\n",
       "      <td>60</td>\n",
       "      <td>65</td>\n",
       "      <td>90</td>\n",
       "      <td>62</td>\n",
       "      <td>79</td>\n",
       "      <td>87</td>\n",
       "      <td>168</td>\n",
       "      <td>275</td>\n",
       "      <td>167</td>\n",
       "    </tr>\n",
       "    <tr>\n",
       "      <th>data</th>\n",
       "      <td>36</td>\n",
       "      <td>28</td>\n",
       "      <td>17</td>\n",
       "      <td>36</td>\n",
       "      <td>91</td>\n",
       "      <td>38</td>\n",
       "      <td>48</td>\n",
       "      <td>87</td>\n",
       "      <td>56</td>\n",
       "      <td>60</td>\n",
       "      <td>92</td>\n",
       "      <td>113</td>\n",
       "      <td>57</td>\n",
       "    </tr>\n",
       "  </tbody>\n",
       "</table>\n",
       "</div>"
      ],
      "text/plain": [
       "year      2009  2010  2011  2012  2013  2014  2015  2016  2017  2018  2019  \\\n",
       "analysis    36    32    22    36    54    31    52    51    53    49   102   \n",
       "approach    36    35    31    68    87    68    75    75    85    82   111   \n",
       "article     22     7    10    13     8    13    37    36    23    90    27   \n",
       "code        40    31    34    58    60    65    90    62    79    87   168   \n",
       "data        36    28    17    36    91    38    48    87    56    60    92   \n",
       "\n",
       "year      2020  2021  \n",
       "analysis   130    61  \n",
       "approach   181    60  \n",
       "article     21     8  \n",
       "code       275   167  \n",
       "data       113    57  "
      ]
     },
     "execution_count": 18,
     "metadata": {},
     "output_type": "execute_result"
    }
   ],
   "source": [
    "b.head()"
   ]
  },
  {
   "cell_type": "markdown",
   "metadata": {},
   "source": [
    "## Balkendiagramm erstellen"
   ]
  },
  {
   "cell_type": "code",
   "execution_count": 19,
   "metadata": {},
   "outputs": [
    {
     "data": {
      "text/html": [
       "\n",
       "<div id=\"altair-viz-5839edf9ca734b03b81bb87e8e6d57e1\"></div>\n",
       "<script type=\"text/javascript\">\n",
       "  (function(spec, embedOpt){\n",
       "    let outputDiv = document.currentScript.previousElementSibling;\n",
       "    if (outputDiv.id !== \"altair-viz-5839edf9ca734b03b81bb87e8e6d57e1\") {\n",
       "      outputDiv = document.getElementById(\"altair-viz-5839edf9ca734b03b81bb87e8e6d57e1\");\n",
       "    }\n",
       "    const paths = {\n",
       "      \"vega\": \"https://cdn.jsdelivr.net/npm//vega@5?noext\",\n",
       "      \"vega-lib\": \"https://cdn.jsdelivr.net/npm//vega-lib?noext\",\n",
       "      \"vega-lite\": \"https://cdn.jsdelivr.net/npm//vega-lite@4.8.1?noext\",\n",
       "      \"vega-embed\": \"https://cdn.jsdelivr.net/npm//vega-embed@6?noext\",\n",
       "    };\n",
       "\n",
       "    function loadScript(lib) {\n",
       "      return new Promise(function(resolve, reject) {\n",
       "        var s = document.createElement('script');\n",
       "        s.src = paths[lib];\n",
       "        s.async = true;\n",
       "        s.onload = () => resolve(paths[lib]);\n",
       "        s.onerror = () => reject(`Error loading script: ${paths[lib]}`);\n",
       "        document.getElementsByTagName(\"head\")[0].appendChild(s);\n",
       "      });\n",
       "    }\n",
       "\n",
       "    function showError(err) {\n",
       "      outputDiv.innerHTML = `<div class=\"error\" style=\"color:red;\">${err}</div>`;\n",
       "      throw err;\n",
       "    }\n",
       "\n",
       "    function displayChart(vegaEmbed) {\n",
       "      vegaEmbed(outputDiv, spec, embedOpt)\n",
       "        .catch(err => showError(`Javascript Error: ${err.message}<br>This usually means there's a typo in your chart specification. See the javascript console for the full traceback.`));\n",
       "    }\n",
       "\n",
       "    if(typeof define === \"function\" && define.amd) {\n",
       "      requirejs.config({paths});\n",
       "      require([\"vega-embed\"], displayChart, err => showError(`Error loading script: ${err.message}`));\n",
       "    } else if (typeof vegaEmbed === \"function\") {\n",
       "      displayChart(vegaEmbed);\n",
       "    } else {\n",
       "      loadScript(\"vega\")\n",
       "        .then(() => loadScript(\"vega-lite\"))\n",
       "        .then(() => loadScript(\"vega-embed\"))\n",
       "        .catch(showError)\n",
       "        .then(() => displayChart(vegaEmbed));\n",
       "    }\n",
       "  })({\"config\": {\"view\": {\"continuousWidth\": 400, \"continuousHeight\": 300}}, \"data\": {\"name\": \"data-13ce3ce4d18f7fbbee6872b2922ac854\"}, \"mark\": \"bar\", \"encoding\": {\"x\": {\"type\": \"nominal\", \"field\": \"Technologies\"}, \"y\": {\"type\": \"quantitative\", \"field\": \"Anzahl\"}}, \"$schema\": \"https://vega.github.io/schema/vega-lite/v4.8.1.json\", \"datasets\": {\"data-13ce3ce4d18f7fbbee6872b2922ac854\": [{\"Technologies\": \"analysis\", \"Anzahl\": 130}, {\"Technologies\": \"approach\", \"Anzahl\": 181}, {\"Technologies\": \"article\", \"Anzahl\": 21}, {\"Technologies\": \"code\", \"Anzahl\": 275}, {\"Technologies\": \"data\", \"Anzahl\": 113}, {\"Technologies\": \"developers\", \"Anzahl\": 176}, {\"Technologies\": \"development\", \"Anzahl\": 85}, {\"Technologies\": \"effectiveness\", \"Anzahl\": 37}, {\"Technologies\": \"framework\", \"Anzahl\": 43}, {\"Technologies\": \"model\", \"Anzahl\": 112}, {\"Technologies\": \"models\", \"Anzahl\": 108}, {\"Technologies\": \"number\", \"Anzahl\": 50}, {\"Technologies\": \"paper\", \"Anzahl\": 117}, {\"Technologies\": \"percent\", \"Anzahl\": 36}, {\"Technologies\": \"performance\", \"Anzahl\": 75}, {\"Technologies\": \"problem\", \"Anzahl\": 43}, {\"Technologies\": \"results\", \"Anzahl\": 142}, {\"Technologies\": \"set\", \"Anzahl\": 55}, {\"Technologies\": \"software\", \"Anzahl\": 397}, {\"Technologies\": \"software engineering\", \"Anzahl\": 58}, {\"Technologies\": \"state\", \"Anzahl\": 63}, {\"Technologies\": \"study\", \"Anzahl\": 125}, {\"Technologies\": \"systems\", \"Anzahl\": 134}, {\"Technologies\": \"techniques\", \"Anzahl\": 118}, {\"Technologies\": \"terms\", \"Anzahl\": 46}, {\"Technologies\": \"time\", \"Anzahl\": 84}, {\"Technologies\": \"tools\", \"Anzahl\": 66}, {\"Technologies\": \"work\", \"Anzahl\": 68}]}}, {\"mode\": \"vega-lite\"});\n",
       "</script>"
      ],
      "text/plain": [
       "alt.Chart(...)"
      ]
     },
     "execution_count": 19,
     "metadata": {},
     "output_type": "execute_result"
    }
   ],
   "source": [
    "import altair as alt\n",
    "import pandas as pd\n",
    "\n",
    "source = pd.DataFrame({'Technologies': b.index,\n",
    "                       'Anzahl': b[2020]})\n",
    "\n",
    "\n",
    "\n",
    "alt.Chart(source).mark_bar().encode(\n",
    "    x='Technologies',\n",
    "    y='Anzahl'\n",
    ")\n"
   ]
  },
  {
   "cell_type": "code",
   "execution_count": 20,
   "metadata": {},
   "outputs": [
    {
     "name": "stdout",
     "output_type": "stream",
     "text": [
      "[[1.         0.97457953 0.96381905 0.96065878 0.95612381 0.96129787\n",
      "  0.93543892 0.97223078 0.92357871 0.93716621 0.90585318 0.84858464\n",
      "  0.83470676]\n",
      " [0.97457953 1.         0.97205403 0.97219981 0.9773309  0.97511477\n",
      "  0.94352211 0.96673778 0.93122312 0.93175637 0.93300216 0.89175613\n",
      "  0.86567515]\n",
      " [0.96381905 0.97205403 1.         0.967786   0.96802619 0.97574919\n",
      "  0.9451868  0.94777819 0.93684867 0.91762867 0.9202447  0.88909336\n",
      "  0.87805141]\n",
      " [0.96065878 0.97219981 0.967786   1.         0.98372409 0.98153987\n",
      "  0.97227948 0.97109538 0.96314053 0.95707416 0.95694217 0.92771964\n",
      "  0.90213432]\n",
      " [0.95612381 0.9773309  0.96802619 0.98372409 1.         0.98355007\n",
      "  0.96950285 0.98001043 0.964651   0.9511494  0.95601118 0.92423234\n",
      "  0.89500272]\n",
      " [0.96129787 0.97511477 0.97574919 0.98153987 0.98355007 1.\n",
      "  0.98066979 0.97613089 0.97897029 0.95839582 0.9631255  0.93814365\n",
      "  0.9146306 ]\n",
      " [0.93543892 0.94352211 0.9451868  0.97227948 0.96950285 0.98066979\n",
      "  1.         0.97107916 0.9829192  0.97365355 0.97709448 0.96137032\n",
      "  0.93649824]\n",
      " [0.97223078 0.96673778 0.94777819 0.97109538 0.98001043 0.97613089\n",
      "  0.97107916 1.         0.96401145 0.97274468 0.94945305 0.90346165\n",
      "  0.87996946]\n",
      " [0.92357871 0.93122312 0.93684867 0.96314053 0.964651   0.97897029\n",
      "  0.9829192  0.96401145 1.         0.96318181 0.97586569 0.96170087\n",
      "  0.94119039]\n",
      " [0.93716621 0.93175637 0.91762867 0.95707416 0.9511494  0.95839582\n",
      "  0.97365355 0.97274468 0.96318181 1.         0.9482724  0.91193661\n",
      "  0.8933333 ]\n",
      " [0.90585318 0.93300216 0.9202447  0.95694217 0.95601118 0.9631255\n",
      "  0.97709448 0.94945305 0.97586569 0.9482724  1.         0.98352441\n",
      "  0.97016219]\n",
      " [0.84858464 0.89175613 0.88909336 0.92771964 0.92423234 0.93814365\n",
      "  0.96137032 0.90346165 0.96170087 0.91193661 0.98352441 1.\n",
      "  0.98185433]\n",
      " [0.83470676 0.86567515 0.87805141 0.90213432 0.89500272 0.9146306\n",
      "  0.93649824 0.87996946 0.94119039 0.8933333  0.97016219 0.98185433\n",
      "  1.        ]]\n"
     ]
    }
   ],
   "source": [
    "print(cosine_similarity(b.transpose()))"
   ]
  }
 ],
 "metadata": {
  "kernelspec": {
   "display_name": "Python 3",
   "language": "python",
   "name": "python3"
  },
  "language_info": {
   "codemirror_mode": {
    "name": "ipython",
    "version": 3
   },
   "file_extension": ".py",
   "mimetype": "text/x-python",
   "name": "python",
   "nbconvert_exporter": "python",
   "pygments_lexer": "ipython3",
   "version": "3.8.5"
  }
 },
 "nbformat": 4,
 "nbformat_minor": 4
}
