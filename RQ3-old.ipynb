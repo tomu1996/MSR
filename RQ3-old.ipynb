{
 "cells": [
  {
   "cell_type": "code",
   "execution_count": 1,
   "metadata": {},
   "outputs": [],
   "source": [
    "import pandas as pd\n",
    "import numpy as np\n",
    "from collections import Counter\n",
    "import spacy\n",
    "import datetime\n",
    "from sklearn.feature_extraction.text import TfidfVectorizer\n",
    "from sklearn.feature_extraction import DictVectorizer\n",
    "from sklearn.feature_extraction.text import CountVectorizer\n",
    "from sklearn.feature_extraction.text import TfidfTransformer\n",
    "from sklearn.metrics.pairwise import cosine_similarity"
   ]
  },
  {
   "cell_type": "code",
   "execution_count": 2,
   "metadata": {},
   "outputs": [],
   "source": [
    "# RQ3: How stable is the community working on the topics (new authors emerging, authors staying on for the whole time,\n",
    "# or authors “leaving” the area)?"
   ]
  },
  {
   "cell_type": "code",
   "execution_count": 3,
   "metadata": {},
   "outputs": [],
   "source": [
    "def CreateTermDocMatrix(column):\n",
    "\n",
    "    count_vectorizer = CountVectorizer(stop_words='english')\n",
    "    #count_vectorizer = CountVectorizer()\n",
    "    sparse_matrix = count_vectorizer.fit_transform(data[column].values.astype('U'))\n",
    "\n",
    "    doc_term_matrix = sparse_matrix.todense()\n",
    "    df = pd.DataFrame(doc_term_matrix, columns=count_vectorizer.get_feature_names())\n",
    "    df['PublishingYear'] = data['Year']\n",
    "    returndf = df.groupby('PublishingYear').sum().transpose()\n",
    "    return returndf"
   ]
  },
  {
   "cell_type": "code",
   "execution_count": 4,
   "metadata": {},
   "outputs": [],
   "source": [
    "#data['count'] = 1\n",
    "#data.reset_index().drop_duplicates(subset='Authors',keep='last').set_index('Authors')\n",
    "#df = data.pivot(index='Authors', columns='Year', values='count')\n",
    "#df"
   ]
  },
  {
   "cell_type": "code",
   "execution_count": 9,
   "metadata": {},
   "outputs": [
    {
     "data": {
      "text/html": [
       "<div>\n",
       "<style scoped>\n",
       "    .dataframe tbody tr th:only-of-type {\n",
       "        vertical-align: middle;\n",
       "    }\n",
       "\n",
       "    .dataframe tbody tr th {\n",
       "        vertical-align: top;\n",
       "    }\n",
       "\n",
       "    .dataframe thead th {\n",
       "        text-align: right;\n",
       "    }\n",
       "</style>\n",
       "<table border=\"1\" class=\"dataframe\">\n",
       "  <thead>\n",
       "    <tr style=\"text-align: right;\">\n",
       "      <th></th>\n",
       "      <th>Authors</th>\n",
       "      <th>Publication Year</th>\n",
       "    </tr>\n",
       "  </thead>\n",
       "  <tbody>\n",
       "    <tr>\n",
       "      <th>0</th>\n",
       "      <td>T. Dingsøyr; F. O. Bjørnson; F. Shull</td>\n",
       "      <td>2009</td>\n",
       "    </tr>\n",
       "    <tr>\n",
       "      <th>1</th>\n",
       "      <td>G. Li; H. Dong; Q. Zheng; M. Zhou; Y. Guo</td>\n",
       "      <td>2009</td>\n",
       "    </tr>\n",
       "    <tr>\n",
       "      <th>2</th>\n",
       "      <td>M. Ardis; P. Bourque; T. Hilburn; K. Lasfer; S...</td>\n",
       "      <td>2011</td>\n",
       "    </tr>\n",
       "    <tr>\n",
       "      <th>3</th>\n",
       "      <td>O. Hazzan</td>\n",
       "      <td>2010</td>\n",
       "    </tr>\n",
       "    <tr>\n",
       "      <th>4</th>\n",
       "      <td>P. Johnson; M. Ekstedt; I. Jacobson</td>\n",
       "      <td>2012</td>\n",
       "    </tr>\n",
       "  </tbody>\n",
       "</table>\n",
       "</div>"
      ],
      "text/plain": [
       "                                             Authors  Publication Year\n",
       "0              T. Dingsøyr; F. O. Bjørnson; F. Shull              2009\n",
       "1          G. Li; H. Dong; Q. Zheng; M. Zhou; Y. Guo              2009\n",
       "2  M. Ardis; P. Bourque; T. Hilburn; K. Lasfer; S...              2011\n",
       "3                                          O. Hazzan              2010\n",
       "4                P. Johnson; M. Ekstedt; I. Jacobson              2012"
      ]
     },
     "execution_count": 9,
     "metadata": {},
     "output_type": "execute_result"
    }
   ],
   "source": [
    "data = pd.read_csv('./data/data.csv',dtype={'Abstract': str}, usecols = ['Authors','Publication Year'])\n",
    "data.head()"
   ]
  },
  {
   "cell_type": "code",
   "execution_count": 10,
   "metadata": {},
   "outputs": [],
   "source": [
    "test = {}\n",
    "\n",
    "words = Counter()\n",
    "#data[data['Publication Year'] == year]\n",
    "for year in range(2009,2021,1):\n",
    "    for columns in data[data['Publication Year'] == year].itertuples():\n",
    "\n",
    "        text = columns[1] #\n",
    "        if type(text) is str:\n",
    "            for topic in text.split(';'):\n",
    "                words[topic] += 1\n",
    "\n",
    "        test[year] = words\n",
    "\n",
    "    words = Counter()"
   ]
  },
  {
   "cell_type": "code",
   "execution_count": 11,
   "metadata": {},
   "outputs": [
    {
     "data": {
      "text/plain": [
       "[(' Y. Li', 27),\n",
       " (' X. Li', 20),\n",
       " (' X. Zhang', 20),\n",
       " (' Y. Zhang', 19),\n",
       " ('X. Wang', 18),\n",
       " (' J. Wang', 18),\n",
       " (' Z. Wang', 16),\n",
       " (' J. Zhang', 16),\n",
       " (' H. Zhang', 15),\n",
       " (' Y. Liu', 15),\n",
       " ('J. Li', 15),\n",
       " (' J. Liu', 15),\n",
       " (' C. Wang', 14),\n",
       " (' Y. Wang', 14),\n",
       " ('Y. Wang', 14),\n",
       " (' H. Li', 14),\n",
       " ('Z. Wang', 13),\n",
       " (' Y. Zhao', 13),\n",
       " (' X. Wang', 13),\n",
       " ('Y. Zhang', 13),\n",
       " (' J. Li', 13),\n",
       " (' H. Liu', 12),\n",
       " ('J. Zhang', 12),\n",
       " (' Y. Chen', 12),\n",
       " (' Z. Zhang', 12),\n",
       " (' L. Zhang', 12),\n",
       " ('X. Li', 12),\n",
       " (' C. Zhang', 12),\n",
       " (' L. Li', 12),\n",
       " (' X. Yang', 11),\n",
       " (' Y. Yang', 11),\n",
       " (' H. Wang', 11),\n",
       " (' S. Zhang', 10),\n",
       " (' X. Wu', 10),\n",
       " (' Z. Li', 10),\n",
       " ('H. Wang', 10),\n",
       " (' Y. Sun', 10),\n",
       " ('S. Li', 9),\n",
       " ('J. Wang', 9),\n",
       " (' Z. Wu', 9),\n",
       " (' S. Wang', 9),\n",
       " ('Z. Li', 9),\n",
       " (' B. Wang', 9),\n",
       " (' L. Wang', 9),\n",
       " ('Y. Liu', 9),\n",
       " ('J. Liu', 9),\n",
       " (' W. Zhang', 8),\n",
       " (' H. Xu', 8),\n",
       " (' S. Liu', 8),\n",
       " (' X. Liu', 8),\n",
       " (' J. Chen', 8),\n",
       " ('Y. Li', 8),\n",
       " (' D. Wang', 8),\n",
       " (' Y. Song', 8),\n",
       " (' J. Wu', 8),\n",
       " (' T. Liu', 7),\n",
       " (' F. Liu', 7),\n",
       " (' Y. Wu', 7),\n",
       " (' Z. Chen', 7),\n",
       " (' X. Song', 7),\n",
       " (' X. Chen', 7),\n",
       " (' L. Liu', 7),\n",
       " (' M. Zhang', 7),\n",
       " (' C. Li', 7),\n",
       " ('S. Wang', 7),\n",
       " (' T. Zhang', 7),\n",
       " (' S. Yang', 7),\n",
       " (' Y. Jin', 7),\n",
       " (' C. Wu', 7),\n",
       " ('Y. Zhao', 7),\n",
       " ('G. Li', 6),\n",
       " (' J. Yu', 6),\n",
       " (' M. Jiang', 6),\n",
       " (' C. Chen', 6),\n",
       " ('W. Liu', 6),\n",
       " (' L. Xu', 6),\n",
       " ('H. Liu', 6),\n",
       " (' J. Xie', 6),\n",
       " (' J. Zhao', 6),\n",
       " (' Z. Zhou', 6)]"
      ]
     },
     "execution_count": 11,
     "metadata": {},
     "output_type": "execute_result"
    }
   ],
   "source": [
    "test[2009].most_common(80)"
   ]
  },
  {
   "cell_type": "code",
   "execution_count": 6,
   "metadata": {},
   "outputs": [],
   "source": [
    "def CreateTermDocMatrix(column):\n",
    "        \n",
    "    count_vectorizer = CountVectorizer(stop_words='english',ngram_range = (1,2))\n",
    "    sparse_matrix = count_vectorizer.fit_transform(data[column].values.astype('U'))\n",
    "\n",
    "    doc_term_matrix = sparse_matrix.todense()\n",
    "    df = pd.DataFrame(doc_term_matrix, columns=count_vectorizer.get_feature_names())\n",
    "    df['year'] = data['Publication Year']\n",
    "    returndf = df.groupby('year').sum().transpose()\n",
    "    return returndf"
   ]
  },
  {
   "cell_type": "code",
   "execution_count": null,
   "metadata": {},
   "outputs": [],
   "source": []
  }
 ],
 "metadata": {
  "kernelspec": {
   "display_name": "Python 3",
   "language": "python",
   "name": "python3"
  },
  "language_info": {
   "codemirror_mode": {
    "name": "ipython",
    "version": 3
   },
   "file_extension": ".py",
   "mimetype": "text/x-python",
   "name": "python",
   "nbconvert_exporter": "python",
   "pygments_lexer": "ipython3",
   "version": "3.9.5"
  }
 },
 "nbformat": 4,
 "nbformat_minor": 4
}
