{
 "cells": [
  {
   "cell_type": "code",
   "execution_count": 18,
   "metadata": {},
   "outputs": [],
   "source": [
    "import pandas as pd\n",
    "import numpy as np\n",
    "from collections import Counter\n",
    "import spacy\n",
    "import datetime\n",
    "from sklearn.feature_extraction.text import TfidfVectorizer\n",
    "from sklearn.feature_extraction import DictVectorizer\n",
    "from sklearn.feature_extraction.text import CountVectorizer\n",
    "from sklearn.feature_extraction.text import TfidfTransformer\n",
    "from sklearn.metrics.pairwise import cosine_similarity"
   ]
  },
  {
   "cell_type": "code",
   "execution_count": 19,
   "metadata": {},
   "outputs": [],
   "source": [
    "# RQ3: How stable is the community working on the topics (new authors emerging, authors staying on for the whole time,\n",
    "# or authors “leaving” the area)?"
   ]
  },
  {
   "cell_type": "code",
   "execution_count": null,
   "metadata": {},
   "outputs": [],
   "source": []
  },
  {
   "cell_type": "code",
   "execution_count": 20,
   "metadata": {},
   "outputs": [],
   "source": [
    "def CreateTermDocMatrix(column):\n",
    "\n",
    "    count_vectorizer = CountVectorizer(stop_words='english')\n",
    "    #count_vectorizer = CountVectorizer()\n",
    "    sparse_matrix = count_vectorizer.fit_transform(data[column].values.astype('U'))\n",
    "\n",
    "    doc_term_matrix = sparse_matrix.todense()\n",
    "    df = pd.DataFrame(doc_term_matrix, columns=count_vectorizer.get_feature_names())\n",
    "    df['PublishingYear'] = data['Year']\n",
    "    returndf = df.groupby('PublishingYear').sum().transpose()\n",
    "    return returndf"
   ]
  },
  {
   "cell_type": "code",
   "execution_count": null,
   "metadata": {},
   "outputs": [],
   "source": []
  },
  {
   "cell_type": "code",
   "execution_count": 21,
   "metadata": {},
   "outputs": [],
   "source": [
    "#data['count'] = 1\n",
    "#data.reset_index().drop_duplicates(subset='Authors',keep='last').set_index('Authors')\n",
    "#df = data.pivot(index='Authors', columns='Year', values='count')\n",
    "#df"
   ]
  },
  {
   "cell_type": "code",
   "execution_count": 36,
   "metadata": {},
   "outputs": [
    {
     "data": {
      "text/html": [
       "<div>\n",
       "<style scoped>\n",
       "    .dataframe tbody tr th:only-of-type {\n",
       "        vertical-align: middle;\n",
       "    }\n",
       "\n",
       "    .dataframe tbody tr th {\n",
       "        vertical-align: top;\n",
       "    }\n",
       "\n",
       "    .dataframe thead th {\n",
       "        text-align: right;\n",
       "    }\n",
       "</style>\n",
       "<table border=\"1\" class=\"dataframe\">\n",
       "  <thead>\n",
       "    <tr style=\"text-align: right;\">\n",
       "      <th></th>\n",
       "      <th>Authors</th>\n",
       "      <th>Publication Year</th>\n",
       "    </tr>\n",
       "  </thead>\n",
       "  <tbody>\n",
       "    <tr>\n",
       "      <th>0</th>\n",
       "      <td>T. Dingsøyr; F. O. Bjørnson; F. Shull</td>\n",
       "      <td>2009</td>\n",
       "    </tr>\n",
       "    <tr>\n",
       "      <th>1</th>\n",
       "      <td>G. Li; H. Dong; Q. Zheng; M. Zhou; Y. Guo</td>\n",
       "      <td>2009</td>\n",
       "    </tr>\n",
       "    <tr>\n",
       "      <th>2</th>\n",
       "      <td>M. Ardis; P. Bourque; T. Hilburn; K. Lasfer; S...</td>\n",
       "      <td>2011</td>\n",
       "    </tr>\n",
       "    <tr>\n",
       "      <th>3</th>\n",
       "      <td>O. Hazzan</td>\n",
       "      <td>2010</td>\n",
       "    </tr>\n",
       "    <tr>\n",
       "      <th>4</th>\n",
       "      <td>P. Johnson; M. Ekstedt; I. Jacobson</td>\n",
       "      <td>2012</td>\n",
       "    </tr>\n",
       "  </tbody>\n",
       "</table>\n",
       "</div>"
      ],
      "text/plain": [
       "                                             Authors  Publication Year\n",
       "0              T. Dingsøyr; F. O. Bjørnson; F. Shull              2009\n",
       "1          G. Li; H. Dong; Q. Zheng; M. Zhou; Y. Guo              2009\n",
       "2  M. Ardis; P. Bourque; T. Hilburn; K. Lasfer; S...              2011\n",
       "3                                          O. Hazzan              2010\n",
       "4                P. Johnson; M. Ekstedt; I. Jacobson              2012"
      ]
     },
     "execution_count": 36,
     "metadata": {},
     "output_type": "execute_result"
    }
   ],
   "source": [
    "data = pd.read_csv('./data/data.csv',dtype={'Abstract': str}, usecols = ['Authors','Publication Year'])\n",
    "data.head()"
   ]
  },
  {
   "cell_type": "code",
   "execution_count": 24,
   "metadata": {},
   "outputs": [],
   "source": [
    "def CreateTermDocMatrix(column):\n",
    "        \n",
    "    count_vectorizer = CountVectorizer(stop_words='english',ngram_range = (1,2))\n",
    "    sparse_matrix = count_vectorizer.fit_transform(data[column].values.astype('U'))\n",
    "\n",
    "    doc_term_matrix = sparse_matrix.todense()\n",
    "    df = pd.DataFrame(doc_term_matrix, columns=count_vectorizer.get_feature_names())\n",
    "    df['year'] = data['Publication Year']\n",
    "    returndf = df.groupby('year').sum().transpose()\n",
    "    return returndf"
   ]
  },
  {
   "cell_type": "code",
   "execution_count": 46,
   "metadata": {},
   "outputs": [
    {
     "name": "stdout",
     "output_type": "stream",
     "text": [
      "[(' Y. Li', 27), (' X. Li', 20), (' X. Zhang', 20), (' Y. Zhang', 19), ('X. Wang', 18), (' J. Wang', 18), (' Z. Wang', 16), (' J. Zhang', 16), (' H. Zhang', 15), (' Y. Liu', 15), ('J. Li', 15), (' J. Liu', 15), (' C. Wang', 14), (' Y. Wang', 14), ('Y. Wang', 14), (' H. Li', 14), ('Z. Wang', 13), (' Y. Zhao', 13), (' X. Wang', 13), ('Y. Zhang', 13), (' J. Li', 13), (' H. Liu', 12), ('J. Zhang', 12), (' Y. Chen', 12), (' Z. Zhang', 12), (' L. Zhang', 12), ('X. Li', 12), (' C. Zhang', 12), (' L. Li', 12), (' X. Yang', 11), (' Y. Yang', 11), (' H. Wang', 11), (' S. Zhang', 10), (' X. Wu', 10), (' Z. Li', 10), ('H. Wang', 10), (' Y. Sun', 10), ('S. Li', 9), ('J. Wang', 9), (' Z. Wu', 9)]\n",
      "[('B. Nuseibeh', 5), ('H. Erdogmus', 4), (' F. Shull', 3), ('N. Maiden', 3), ('D. Spinellis', 2), ('M. Harman', 2), (' M. J. Harrold', 2), (' D. S. Rosenblum', 2), ('G. Booch', 2), (' F. Raimondi', 2), (' L. C. Briand', 2), ('P. Clements', 2), ('O. Hazzan', 1), ('F. Lanubile', 1), (' C. Ebert', 1), (' R. Prikladnicki', 1), (' A. Vizcaíno', 1), ('S. MacDonell', 1), (' M. Shepperd', 1), (' B. Kitchenham', 1), (' E. Mendes', 1), ('J. White', 1), (' B. Doughtery', 1), (' D. C. Schmidt', 1), ('M. Robillard', 1), (' R. Walker', 1), (' T. Zimmermann', 1), ('C. G. von Wangenheim', 1), (' J. C. R. Hauck', 1), (' A. Zoucas', 1), (' C. F. Salviano', 1), (' F. McCaffery', 1), ('J. Antunes', 1), (' N. Neves', 1), (' M. Correia', 1), (' P. Verissimo', 1), (' R. Neves', 1), ('R. Prikladnicki', 1), (' J. L. N. Audy', 1), ('N. Pettersson', 1)]\n",
      "[('F. Shull', 7), (' C. Ebert', 4), ('F. Buschmann', 3), ('G. Booch', 3), (' C. Wohlin', 2), ('I. Crnkovic', 2), (' T. H. Tse', 2), (' M. Di Penta', 2), ('L. Baresi', 2), (' M. Harman', 2), ('N. Maiden', 2), (' A. M. Memon', 2), (' X. Wang', 2), ('B. Nuseibeh', 2), ('M. Ardis', 1), (' P. Bourque', 1), (' T. Hilburn', 1), (' K. Lasfer', 1), (' S. Lucero', 1), (' J. McDonald', 1), (' A. Pyster', 1), (' M. Shaw', 1), ('D. Èmite', 1), (' J. Stafford', 1), (' C. Szyperski', 1), ('T. Y. Chen', 1), (' Z. Q. Zhou', 1), ('O. Gotel', 1), (' S. Morris', 1), ('R. L. Glass', 1), (' I. Vessey', 1), ('R. Calinescu', 1), (' L. Grunske', 1), (' M. Kwiatkowska', 1), (' R. Mirandola', 1), (' G. Tamburrelli', 1), ('S. Mouchawrab', 1), (' L. C. Briand', 1), (' Y. Labiche', 1), (' S. Guinea', 1)]\n",
      "[('F. Shull', 6), (' L. Briand', 3), ('A. Arcuri', 3), (' C. Ebert', 2), ('C. Zhang', 2), ('C. Le Goues', 2), (' W. Weimer', 2), ('M. Tribastone', 2), (' S. Gilmore', 2), (' J. Hillston', 2), (' M. P. Papazoglou', 2), (' C. F. Kemerer', 2), (' M. Storey', 2), (' I. Ozkaya', 2), ('E. Kocaguneli', 2), (' T. Menzies', 2), (' J. W. Keung', 2), ('G. Casale', 2), ('C. Ebert', 2), (' D. Krishnamurthy', 2), (' J. Rolia', 2), (' A. Bener', 2), (' W. Binder', 2), (' T. Gorschek', 2), (' R. Feldt', 2), (' F. Tip', 2), (' O. Nierstrasz', 2), (' C. Zhang', 2), ('E. Murphy-Hill', 2), (' A. P. Black', 2), (' L. Zhang', 2), (' A. Zeller', 2), ('P. Johnson', 1), (' M. Ekstedt', 1), (' I. Jacobson', 1), ('R. Prikladnicki', 1), (' S. Marczak', 1), (' E. Carmel', 1), ('S. L. Lim', 1), (' A. Finkelstein', 1)]\n",
      "[('F. Shull', 6), ('T. Menzies', 5), ('B. Nuseibeh', 5), (' P. Runeson', 3), (' S. Kim', 3), (' T. Zimmermann', 3), (' T. Dybå', 2), (' G. Antoniol', 2), (' Y. Guéhéneuc', 2), (' J. Hosking', 2), ('R. Hoda', 2), (' H. Zhang', 2), (' T. Xie', 2), (' S. Malek', 2), (' A. Arcuri', 2), (' P. Lago', 2), (' J. Keung', 2), (' D. Notkin', 2), (' J. Cleland-Huang', 2), (' J. Sun', 2), (' T. Miller', 2), ('L. Carnevali', 2), (' E. Vicario', 2), (' D. Cotroneo', 2), (' A. E. Hassan', 2), (' A. Mockus', 2), (' T. Menzies', 2), ('B. Littlewood', 2), (' A. Povyakalo', 2), (' S. Uchitel', 2), (' J. Kramer', 2), (' D. Cok', 2), ('A. Begel', 2), (' J. Bosch', 2), (' M. Storey', 2), ('F. Lanubile', 1), (' F. Calefato', 1), (' C. Ebert', 1), ('A. Fox', 1), (' D. Patterson', 1)]\n",
      "[('F. Shull', 6), ('D. Spinellis', 4), (' P. Abrahamsson', 3), ('J. Cleland-Huang', 3), ('G. Booch', 3), (' P. Avgeriou', 2), (' A. Porter', 2), (' G. Stevens', 2), ('X. Wang', 2), ('N. Ramasubbu', 2), ('Q. He', 2), (' H. Jin', 2), (' Y. Yang', 2), (' K. Ostermann', 2), (' R. Oliveto', 2), (' C. Cadar', 2), (' Z. Duan', 2), (' J. Klein', 2), (' Y. Le Traon', 2), (' M. Nagappan', 2), (' B. Adams', 2), (' T. Berger', 2), (' S. Dienst', 2), (' A. E. Hassan', 2), ('L. Tratt', 2), (' A. Welc', 2), ('C. N. Bull', 1), (' J. Whittle', 1), ('M. Galster', 1), (' D. Weyns', 1), (' D. Tofan', 1), (' B. Michalik', 1), ('C. Song', 1), (' J. S. Foster', 1), ('W. Kessentini', 1), (' M. Kessentini', 1), (' H. Sahraoui', 1), (' S. Bechikh', 1), (' A. Ouni', 1), ('A. T. Misirli', 1)]\n",
      "[('G. J. Holzmann', 6), ('G. Booch', 6), ('D. Spinellis', 6), ('J. Cleland-Huang', 3), (' A. E. Hassan', 3), (' M. D. Penta', 3), (' R. Oliveto', 3), ('C. Ebert', 3), (' M. Staats', 3), (' Y. Brun', 3), (' W. F. Opdyke', 2), (' B. Fitzgerald', 2), (' L. Hatton', 2), (' A. Zeller', 2), ('M. Keeling', 2), ('E. Woods', 2), (' X. Xu', 2), (' L. Bass', 2), ('M. Leppänen', 2), (' S. Mäkinen', 2), (' T. Männistö', 2), (' X. Wang', 2), (' M. P. Robillard', 2), (' K. Czarnecki', 2), ('E. Murphy-Hill', 2), (' C. Bird', 2), (' M. Harman', 2), (' S. Yoo', 2), (' M. Nagappan', 2), (' G. Samarthyam', 2), ('M. Autili', 2), (' S. Dustdar', 2), (' P. Pelliccione', 2), (' A. Tang', 2), (' G. Gallardo', 2), (' D. Poshyvanyk', 2), (' V. Issarny', 2), (' S. Kim', 2), ('G. Gay', 2), (' M. Whalen', 2)]\n",
      "[(' A. E. Hassan', 6), ('G. J. Holzmann', 5), ('G. Booch', 5), ('D. Spinellis', 5), (' R. Prikladnicki', 4), (' B. Adams', 4), (' M. Nagappan', 4), ('C. Ebert', 3), (' N. Juristo', 3), (' C. Ebert', 3), (' Q. Lu', 3), (' B. Penzenstadler', 3), (' L. L. Minku', 3), ('J. C. Carver', 3), ('E. Woods', 3), ('J. Cleland-Huang', 3), (' I. Ozkaya', 2), (' T. Gorschek', 2), (' A. Hindle', 2), (' R. Kazman', 2), (' Y. Liu', 2), (' C. Pautasso', 2), (' O. Zimmermann', 2), (' E. S. de Almeida', 2), (' J. Voas', 2), (' S. Szalai', 2), ('P. Louridas', 2), ('I. J. Mojica Ruiz', 2), (' T. Berger', 2), (' S. Dienst', 2), (' C. Lassenius', 2), (' J. C. Carver', 2), (' A. Mockus', 2), (' M. van Genuchten', 2), (' Z. Chen', 2), (' T. Xie', 2), (' D. S. Rosenblum', 2), (' J. Liu', 2), (' R. Mirandola', 2), (' S. Kim', 2)]\n",
      "[('J. C. Carver', 6), ('D. Spinellis', 6), ('G. J. Holzmann', 5), (' M. Harman', 4), (' A. E. Hassan', 4), ('C. Ebert', 4), (' R. Prikladnicki', 3), (' S. McIntosh', 3), ('X. Larrucea', 3), (' R. Capilla', 3), (' M. Oivo', 2), ('S. Beecham', 2), (' T. Clear', 2), (' J. Barr', 2), (' J. Noll', 2), (' Y. Jia', 2), (' Y. Zhang', 2), (' F. Wu', 2), (' E. Shihab', 2), (' W. Shang', 2), (' M. Monperrus', 2), (' X. Zhang', 2), (' A. Serebrenik', 2), (' X. Wang', 2), (' B. Penzenstadler', 2), (' A. Yamashita', 2), (' C. Bird', 2), (' G. Bavota', 2), (' M. D. Penta', 2), (' R. Oliveto', 2), (' S. Counsell', 2), ('V. Garousi', 2), ('C. Pautasso', 2), (' O. Zimmermann', 2), (' M. Amundsen', 2), (' J. Lewis', 2), (' N. Josuttis', 2), ('J. E. Hannay', 2), (' H. C. Benestad', 2), (' K. Strand', 2)]\n",
      "[('D. Spinellis', 6), (' T. Menzies', 5), ('M. Kersten', 4), (' C. Bird', 4), (' N. Medvidović', 4), ('G. J. Holzmann', 4), ('J. C. Carver', 3), (' T. Zimmermann', 3), (' A. Serebrenik', 3), (' T. Gorschek', 3), (' G. Antoniol', 2), ('G. Mathew', 2), (' M. Shaw', 2), (' R. Capilla', 2), (' A. Valdezate', 2), ('H. Erdogmus', 2), ('T. Menzies', 2), (' K. Wnuk', 2), ('C. Ebert', 2), (' J. Grundy', 2), (' M. Storey', 2), ('N. Black', 2), (' L. Tan', 2), ('R. Prikladnicki', 2), (' X. Franch', 2), ('Y. Wang', 2), ('M. Waterman', 2), (' C. Ebert', 2), (' D. Weyns', 2), (' N. A. Kraft', 2), (' C. McMillan', 2), (' A. E. Hassan', 2), (' F. Khomh', 2), (' M. Harman', 2), (' R. Gheyi', 2), (' M. Ribeiro', 2), (' O. Zimmermann', 2), (' T. Mikkonen', 2), ('S. Gregory', 2), ('J. Carver', 2)]\n",
      "[(' D. Lo', 11), (' X. Xia', 10), (' A. E. Hassan', 8), (' T. Menzies', 6), ('G. Fairbanks', 6), (' M. Harman', 6), (' L. Zhang', 6), ('I. Ozkaya', 6), (' S. Wang', 5), (' Y. Zhang', 5), (' C. Bird', 4), (' T. Zimmermann', 4), (' G. C. Murphy', 4), (' Z. Xing', 4), (' Y. Liu', 4), (' N. Juristo', 3), (' A. Serebrenik', 3), (' C. Chen', 3), (' R. Oliveto', 3), ('J. Zhang', 3), (' D. Hao', 3), (' J. Chen', 3), (' A. Roychoudhury', 3), (' Z. Yang', 3), (' A. Panichella', 3), (' M. Monperrus', 3), (' S. Vegas', 2), (' R. Torkar', 2), ('Z. Wan', 2), (' E. Kalliamvakou', 2), ('J. C. Carver', 2), ('L. Hatton', 2), ('C. Ebert', 2), (' P. Lago', 2), (' G. Ruhe', 2), ('D. Izquierdo', 2), (' G. Robles', 2), (' E. Bodden', 2), (' M. Mezini', 2), (' J. Petke', 2)]\n",
      "[(' A. E. Hassan', 12), (' X. Xia', 11), (' D. Lo', 10), (' T. Chen', 7), (' T. Menzies', 7), (' T. Zimmermann', 6), (' J. Grundy', 6), (' L. Zhang', 6), (' W. Shang', 4), (' M. Kessentini', 4), (' Y. Liu', 4), (' B. Adams', 4), (' H. Liu', 4), (' X. Wang', 4), ('V. Garousi', 3), (' B. Turhan', 3), ('M. Li', 3), (' S. R. Vergilio', 3), (' D. Wu', 3), (' Z. Huang', 3), (' N. Juristo', 3), (' M. Harman', 3), (' G. C. Murphy', 3), (' H. Jiang', 3), (' X. Li', 3), (' K. Matsumoto', 3), (' T. Xie', 3), (' S. Apel', 3), (' D. Poshyvanyk', 3), (' Y. Yang', 3), (' X. Chen', 3), (' J. Zhu', 3), (' S. McIntosh', 3), ('Y. Jiang', 3), (' S. Wang', 3), ('W. Wang', 3), (' Y. Pei', 3), (' C. Nie', 3), (' B. Fitzgerald', 3), ('I. Ozkaya', 3)]\n"
     ]
    }
   ],
   "source": [
    "test = {}\n",
    "\n",
    "words = Counter()\n",
    "#data[data['Publication Year'] == year]\n",
    "for year in range(2009,2021,1):\n",
    "    for columns in data[data['Publication Year'] == year].itertuples():\n",
    "\n",
    "        text = columns[1] #\n",
    "        if type(text) is str:\n",
    "            for topic in text.split(';'):\n",
    "                words[topic] += 1\n",
    "\n",
    "        test[year] = words\n",
    "\n",
    "    print(words.most_common(40))\n",
    "    words = Counter()"
   ]
  },
  {
   "cell_type": "code",
   "execution_count": null,
   "metadata": {},
   "outputs": [],
   "source": []
  }
 ],
 "metadata": {
  "kernelspec": {
   "display_name": "Python 3",
   "language": "python",
   "name": "python3"
  },
  "language_info": {
   "codemirror_mode": {
    "name": "ipython",
    "version": 3
   },
   "file_extension": ".py",
   "mimetype": "text/x-python",
   "name": "python",
   "nbconvert_exporter": "python",
   "pygments_lexer": "ipython3",
   "version": "3.9.5"
  }
 },
 "nbformat": 4,
 "nbformat_minor": 4
}
