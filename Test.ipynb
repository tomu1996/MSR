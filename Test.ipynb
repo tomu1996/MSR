{
 "cells": [
  {
   "cell_type": "code",
   "execution_count": 1,
   "id": "advised-yorkshire",
   "metadata": {},
   "outputs": [
    {
     "data": {
      "text/plain": [
       "2"
      ]
     },
     "execution_count": 1,
     "metadata": {},
     "output_type": "execute_result"
    }
   ],
   "source": [
    "1+1"
   ]
  },
  {
   "cell_type": "code",
   "execution_count": 2,
   "id": "numeric-wages",
   "metadata": {},
   "outputs": [
    {
     "data": {
      "text/plain": [
       "True"
      ]
     },
     "execution_count": 2,
     "metadata": {},
     "output_type": "execute_result"
    }
   ],
   "source": [
    "x = [1,2,3]\n",
    "y = [1,2,3]\n",
    "z = x\n",
    "z is x"
   ]
  },
  {
   "cell_type": "code",
   "execution_count": 3,
   "id": "ordinary-annotation",
   "metadata": {},
   "outputs": [
    {
     "data": {
      "text/plain": [
       "False"
      ]
     },
     "execution_count": 3,
     "metadata": {},
     "output_type": "execute_result"
    }
   ],
   "source": [
    "z is y"
   ]
  },
  {
   "cell_type": "code",
   "execution_count": 4,
   "id": "committed-saudi",
   "metadata": {},
   "outputs": [
    {
     "data": {
      "text/plain": [
       "True"
      ]
     },
     "execution_count": 4,
     "metadata": {},
     "output_type": "execute_result"
    }
   ],
   "source": [
    "z == y"
   ]
  },
  {
   "cell_type": "code",
   "execution_count": 5,
   "id": "respected-isolation",
   "metadata": {},
   "outputs": [
    {
     "data": {
      "text/plain": [
       "1632470503728"
      ]
     },
     "execution_count": 5,
     "metadata": {},
     "output_type": "execute_result"
    }
   ],
   "source": [
    "a = 'Auto'\n",
    "b = a\n",
    "id(a)"
   ]
  },
  {
   "cell_type": "code",
   "execution_count": 6,
   "id": "handmade-frost",
   "metadata": {},
   "outputs": [
    {
     "data": {
      "text/plain": [
       "1632470503728"
      ]
     },
     "execution_count": 6,
     "metadata": {},
     "output_type": "execute_result"
    }
   ],
   "source": [
    "id(b)"
   ]
  },
  {
   "cell_type": "code",
   "execution_count": 7,
   "id": "tutorial-maldives",
   "metadata": {},
   "outputs": [],
   "source": [
    "b = 'Mofa'"
   ]
  },
  {
   "cell_type": "code",
   "execution_count": 8,
   "id": "complicated-sailing",
   "metadata": {},
   "outputs": [
    {
     "name": "stdout",
     "output_type": "stream",
     "text": [
      "Auto\n"
     ]
    }
   ],
   "source": [
    "print(a)"
   ]
  },
  {
   "cell_type": "code",
   "execution_count": 9,
   "id": "voluntary-internet",
   "metadata": {},
   "outputs": [
    {
     "data": {
      "text/plain": [
       "1632471408112"
      ]
     },
     "execution_count": 9,
     "metadata": {},
     "output_type": "execute_result"
    }
   ],
   "source": [
    "id(a)\n",
    "id(b)"
   ]
  },
  {
   "cell_type": "code",
   "execution_count": 10,
   "id": "sacred-tunnel",
   "metadata": {},
   "outputs": [
    {
     "data": {
      "text/plain": [
       "1632470503728"
      ]
     },
     "execution_count": 10,
     "metadata": {},
     "output_type": "execute_result"
    }
   ],
   "source": [
    "id(a)"
   ]
  },
  {
   "cell_type": "code",
   "execution_count": 11,
   "id": "embedded-seven",
   "metadata": {},
   "outputs": [
    {
     "data": {
      "text/plain": [
       "1632471408112"
      ]
     },
     "execution_count": 11,
     "metadata": {},
     "output_type": "execute_result"
    }
   ],
   "source": [
    "id(b)"
   ]
  },
  {
   "cell_type": "code",
   "execution_count": 12,
   "id": "introductory-imagination",
   "metadata": {},
   "outputs": [],
   "source": [
    "\n",
    "\n",
    "n =np()\n",
    "n."
   ]
  },
  {
   "cell_type": "code",
   "execution_count": 15,
   "id": "pharmaceutical-wilderness",
   "metadata": {},
   "outputs": [
    {
     "data": {
      "text/plain": [
       "0.30102999566398114"
      ]
     },
     "execution_count": 15,
     "metadata": {},
     "output_type": "execute_result"
    }
   ],
   "source": [
    "from math import log\n",
    "log(2,10)"
   ]
  },
  {
   "cell_type": "code",
   "execution_count": 16,
   "id": "western-nickel",
   "metadata": {},
   "outputs": [],
   "source": [
    "import numpy as np\n",
    "from sklearn.cluster import KMeans"
   ]
  },
  {
   "cell_type": "code",
   "execution_count": 17,
   "id": "negative-techno",
   "metadata": {},
   "outputs": [
    {
     "data": {
      "text/plain": [
       "'o'"
      ]
     },
     "execution_count": 17,
     "metadata": {},
     "output_type": "execute_result"
    }
   ],
   "source": [
    "satz = 'Python ist cool.'\n",
    "satz[4]"
   ]
  },
  {
   "cell_type": "code",
   "execution_count": 18,
   "id": "pleased-yacht",
   "metadata": {},
   "outputs": [
    {
     "data": {
      "text/plain": [
       "'l'"
      ]
     },
     "execution_count": 18,
     "metadata": {},
     "output_type": "execute_result"
    }
   ],
   "source": [
    "satz[-2]"
   ]
  },
  {
   "cell_type": "code",
   "execution_count": 19,
   "id": "wooden-effort",
   "metadata": {},
   "outputs": [
    {
     "data": {
      "text/plain": [
       "'cool'"
      ]
     },
     "execution_count": 19,
     "metadata": {},
     "output_type": "execute_result"
    }
   ],
   "source": [
    "satz[11:15]"
   ]
  },
  {
   "cell_type": "code",
   "execution_count": 20,
   "id": "increased-concentrate",
   "metadata": {},
   "outputs": [
    {
     "data": {
      "text/plain": [
       "' ist cool.'"
      ]
     },
     "execution_count": 20,
     "metadata": {},
     "output_type": "execute_result"
    }
   ],
   "source": [
    "satz[6:]"
   ]
  },
  {
   "cell_type": "code",
   "execution_count": 22,
   "id": "indian-progressive",
   "metadata": {},
   "outputs": [
    {
     "data": {
      "text/plain": [
       "['Hannes', 'Sabine', 'Erna']"
      ]
     },
     "execution_count": 22,
     "metadata": {},
     "output_type": "execute_result"
    }
   ],
   "source": [
    "Namen = ['Julia','Stefan','Hannes','Sabine','Erna','Christian','Julia','Hannes']\n",
    "Namen[2:5]"
   ]
  },
  {
   "cell_type": "code",
   "execution_count": 24,
   "id": "threaded-brand",
   "metadata": {},
   "outputs": [],
   "source": [
    "Namen.append('Monika')\n",
    "Namen.append('Erna')"
   ]
  },
  {
   "cell_type": "code",
   "execution_count": 26,
   "id": "plastic-engagement",
   "metadata": {},
   "outputs": [],
   "source": [
    "Namen2 = ['Mona','Dirk','Nadine']\n",
    "Namen.extend(Namen2)"
   ]
  },
  {
   "cell_type": "code",
   "execution_count": 27,
   "id": "innocent-dubai",
   "metadata": {},
   "outputs": [
    {
     "data": {
      "text/plain": [
       "'Nadine'"
      ]
     },
     "execution_count": 27,
     "metadata": {},
     "output_type": "execute_result"
    }
   ],
   "source": [
    "Namen.pop()"
   ]
  },
  {
   "cell_type": "code",
   "execution_count": 32,
   "id": "confused-blast",
   "metadata": {},
   "outputs": [
    {
     "name": "stdout",
     "output_type": "stream",
     "text": [
      "Julia Stefan Hannes Sabine Erna Christian Julia Hannes Monika Erna Mona Dirk \n"
     ]
    }
   ],
   "source": [
    "s = ''\n",
    "for x in Namen:\n",
    "    s = s + str(x) + ' ' \n",
    "    \n",
    "print(s)"
   ]
  },
  {
   "cell_type": "code",
   "execution_count": 43,
   "id": "simple-patrol",
   "metadata": {},
   "outputs": [
    {
     "name": "stdout",
     "output_type": "stream",
     "text": [
      "Stefan\n",
      "Sabine\n",
      "Monika\n",
      "Mona\n",
      "Julia\n",
      "Julia\n",
      "Hannes\n",
      "Hannes\n",
      "Erna\n",
      "Erna\n",
      "Dirk\n",
      "Christian\n"
     ]
    }
   ],
   "source": [
    "Namen.sort(reverse=True)\n",
    "for x in Namen:\n",
    "    print(x)"
   ]
  },
  {
   "cell_type": "code",
   "execution_count": 47,
   "id": "thrown-little",
   "metadata": {},
   "outputs": [
    {
     "name": "stdout",
     "output_type": "stream",
     "text": [
      "Stefan Sabine Monika Mona Julia Julia Hannes Hannes Erna Erna Dirk Christian\n"
     ]
    }
   ],
   "source": [
    "s = \" \".join(Namen)\n",
    "print(s)"
   ]
  },
  {
   "cell_type": "code",
   "execution_count": 45,
   "id": "heated-laptop",
   "metadata": {},
   "outputs": [
    {
     "data": {
      "text/plain": [
       "1632534449280"
      ]
     },
     "execution_count": 45,
     "metadata": {},
     "output_type": "execute_result"
    }
   ],
   "source": [
    "namen_kopie = Namen[:]\n",
    "id(namen_kopie)"
   ]
  },
  {
   "cell_type": "code",
   "execution_count": 46,
   "id": "worthy-homeless",
   "metadata": {},
   "outputs": [
    {
     "data": {
      "text/plain": [
       "1632501134016"
      ]
     },
     "execution_count": 46,
     "metadata": {},
     "output_type": "execute_result"
    }
   ],
   "source": [
    "id(Namen)"
   ]
  },
  {
   "cell_type": "code",
   "execution_count": 49,
   "id": "surface-philadelphia",
   "metadata": {},
   "outputs": [
    {
     "name": "stdout",
     "output_type": "stream",
     "text": [
      "6\n"
     ]
    }
   ],
   "source": [
    "tup = (1,4,6,7)\n",
    "print(tup[2])"
   ]
  },
  {
   "cell_type": "code",
   "execution_count": 52,
   "id": "micro-berry",
   "metadata": {},
   "outputs": [],
   "source": [
    "a,b,c,d = tup"
   ]
  },
  {
   "cell_type": "code",
   "execution_count": 53,
   "id": "spoken-welcome",
   "metadata": {},
   "outputs": [
    {
     "data": {
      "text/plain": [
       "(['Auto', 'Bus'], ['Schiff', 'Fähre'])"
      ]
     },
     "execution_count": 53,
     "metadata": {},
     "output_type": "execute_result"
    }
   ],
   "source": [
    "vehicle = (['Auto','Bus'],['Boot','Fähre'])\n",
    "vehicle[1][0] = 'Schiff'\n",
    "vehicle"
   ]
  },
  {
   "cell_type": "code",
   "execution_count": null,
   "id": "civil-praise",
   "metadata": {},
   "outputs": [],
   "source": []
  }
 ],
 "metadata": {
  "kernelspec": {
   "display_name": "Python 3",
   "language": "python",
   "name": "python3"
  },
  "language_info": {
   "codemirror_mode": {
    "name": "ipython",
    "version": 3
   },
   "file_extension": ".py",
   "mimetype": "text/x-python",
   "name": "python",
   "nbconvert_exporter": "python",
   "pygments_lexer": "ipython3",
   "version": "3.9.2"
  }
 },
 "nbformat": 4,
 "nbformat_minor": 5
}
